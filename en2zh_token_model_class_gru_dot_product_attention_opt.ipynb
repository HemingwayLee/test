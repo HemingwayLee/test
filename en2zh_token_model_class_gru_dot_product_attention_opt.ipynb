{
 "cells": [
  {
   "cell_type": "markdown",
   "id": "b1cf075c",
   "metadata": {},
   "source": [
    "# There are some tips to learn\n",
    "## It is actually harder to learn compare to vanilla seq2seq\n",
    "* Add dropout\n",
    "  * because we are adding some more layers\n",
    "* Remove `initial_state=hidden`, get all information purely from attention layers\n",
    "* Add `clipnorm`\n",
    "* Change `learning_rate` is the most important thing"
   ]
  },
  {
   "cell_type": "code",
   "execution_count": 1,
   "id": "21042544",
   "metadata": {},
   "outputs": [
    {
     "name": "stdout",
     "output_type": "stream",
     "text": [
      "CrowdFlowerAnnotations.txt  Flickr8k.token.txt\t       machine_translation\r\n",
      "ExpertAnnotations.txt\t    Flickr_8k.devImages.txt    readme.txt\r\n",
      "Flicker8k_smaller\t    Flickr_8k.testImages.txt\r\n",
      "Flickr8k.lemma.token.txt    Flickr_8k.trainImages.txt\r\n"
     ]
    }
   ],
   "source": [
    "! ls ../../data/"
   ]
  },
  {
   "cell_type": "code",
   "execution_count": 2,
   "id": "85f989fb",
   "metadata": {},
   "outputs": [
    {
     "name": "stdout",
     "output_type": "stream",
     "text": [
      "Collecting jieba\n",
      "  Downloading jieba-0.42.1.tar.gz (19.2 MB)\n",
      "\u001b[2K     \u001b[90m━━━━━━━━━━━━━━━━━━━━━━━━━━━━━━━━━━━━━━━━\u001b[0m \u001b[32m19.2/19.2 MB\u001b[0m \u001b[31m2.8 MB/s\u001b[0m eta \u001b[36m0:00:00\u001b[0m00:01\u001b[0m00:01\u001b[0m\n",
      "\u001b[?25h  Preparing metadata (setup.py) ... \u001b[?25ldone\n",
      "\u001b[?25hBuilding wheels for collected packages: jieba\n",
      "  Building wheel for jieba (setup.py) ... \u001b[?25ldone\n",
      "\u001b[?25h  Created wheel for jieba: filename=jieba-0.42.1-py3-none-any.whl size=19314477 sha256=ed27d19a84f32bfb6048db6e791987820e2c52697ae582f47ab1202f2dc61d03\n",
      "  Stored in directory: /root/.cache/pip/wheels/24/aa/17/5bc7c72e9a37990a9620cc3aad0acad1564dcff6dbc2359de3\n",
      "Successfully built jieba\n",
      "Installing collected packages: jieba\n",
      "Successfully installed jieba-0.42.1\n",
      "\u001b[33mWARNING: Running pip as the 'root' user can result in broken permissions and conflicting behaviour with the system package manager. It is recommended to use a virtual environment instead: https://pip.pypa.io/warnings/venv\u001b[0m\u001b[33m\n",
      "\u001b[0m\n",
      "\u001b[1m[\u001b[0m\u001b[34;49mnotice\u001b[0m\u001b[1;39;49m]\u001b[0m\u001b[39;49m A new release of pip is available: \u001b[0m\u001b[31;49m23.0.1\u001b[0m\u001b[39;49m -> \u001b[0m\u001b[32;49m24.0\u001b[0m\n",
      "\u001b[1m[\u001b[0m\u001b[34;49mnotice\u001b[0m\u001b[1;39;49m]\u001b[0m\u001b[39;49m To update, run: \u001b[0m\u001b[32;49mpip install --upgrade pip\u001b[0m\n"
     ]
    }
   ],
   "source": [
    "! pip3 install jieba"
   ]
  },
  {
   "cell_type": "code",
   "execution_count": 1,
   "id": "3fedb172",
   "metadata": {},
   "outputs": [
    {
     "name": "stderr",
     "output_type": "stream",
     "text": [
      "2025-06-25 13:54:48.276819: W tensorflow/stream_executor/platform/default/dso_loader.cc:60] Could not load dynamic library 'libcudart.so.11.0'; dlerror: libcudart.so.11.0: cannot open shared object file: No such file or directory\n",
      "2025-06-25 13:54:48.276927: I tensorflow/stream_executor/cuda/cudart_stub.cc:29] Ignore above cudart dlerror if you do not have a GPU set up on your machine.\n",
      "Building prefix dict from the default dictionary ...\n",
      "Loading model from cache /tmp/jieba.cache\n",
      "Loading model cost 1.176 seconds.\n",
      "Prefix dict has been built successfully.\n"
     ]
    },
    {
     "name": "stdout",
     "output_type": "stream",
     "text": [
      "Number of samples: 2000\n",
      "Number of unique input tokens: 2165\n",
      "Number of unique output tokens: 3198\n",
      "Max sequence length for inputs: 19\n",
      "Max sequence length for outputs: 21\n",
      "\n",
      "input data set:\n",
      "[['i', 'sometimes', 'still', 'think', 'about', 'her'], ['if', 'i', 'had', 'one', 'million', 'yen', 'now', 'i', 'would', 'buy', 'a', 'car'], ['the', 'time', 'has', 'come', 'when', 'i', 'must', 'tell', 'you', 'the', 'truth'], [\"it's\", 'already', 'nine', \"o'clock\"], ['come', 'along', 'with', 'us'], ['there', 'was', 'a', 'castle', 'here', 'many', 'years', 'ago'], ['his', 'words', 'gave', 'me', 'hope'], ['i', 'wish', 'i', 'were', 'a', 'good', 'singer'], ['\"he\\'d', 'like', 'to', 'have', 'a', 'coffee', 'after', 'work\"', '\"i', 'would', 'too\"'], [\"you're\", 'welcome']]\n",
      "\n",
      "target data set:\n",
      "[['\\t', '有', '時候', '，', '我', '還是', '會', '想起', '她', '。', '\\n'], ['\\t', '如果', '我', '现在', '有', '100', '万日元', '，', '我会', '买', '辆车', '。', '\\n'], ['\\t', '現在', '是', '我', '必須', '告訴', '你', '真相', '的', '時候', '了', '。', '\\n'], ['\\t', '已经', '9', '点', '了', '。', '\\n'], ['\\t', '跟', '我們', '一起', '來', '吧', '。', '\\n'], ['\\t', '许多年', '前', '这里', '有', '一座', '城堡', '。', '\\n'], ['\\t', '他', '的', '話給', '了', '我', '希望', '。', '\\n'], ['\\t', '但愿', '我', '是', '一个', '好', '歌手', '。', '\\n'], ['\\t', '\"', '他', '想', '在', '下班', '後', '喝杯', '咖啡', '。', '\"', ' ', '\"', '我', '也', '想', '。', '\"', '\\n'], ['\\t', '您', '不必', '感谢', '我', '。', '\\n']]\n"
     ]
    }
   ],
   "source": [
    "from tensorflow.keras.models import Model\n",
    "from tensorflow.keras.layers import Input, GRU, Dense, Layer, Dropout\n",
    "import numpy as np\n",
    "import random\n",
    "import jieba\n",
    "\n",
    "batch_size = 16  \n",
    "epochs = 15  \n",
    "latent_dim = 128  # Latent dimensionality of the encoding space.\n",
    "num_samples = 2000  # Number of samples to train on.\n",
    "data_path = '../../data/machine_translation/cmn.txt'\n",
    "\n",
    "input_texts = []\n",
    "target_texts = []\n",
    "input_tokens = set()\n",
    "target_tokens = set()\n",
    "with open(data_path, 'r', encoding='utf-8') as f:\n",
    "    lines = f.read().split('\\n')\n",
    "\n",
    "# for line in lines[: min(num_samples, len(lines) - 1)]:\n",
    "for line in random.sample(lines, num_samples):\n",
    "    input_text, target_text = line.split('\\t')\n",
    "    \n",
    "    # We use \"\\t\" as the \"start sequence\" and \"\\n\" as \"end sequence\"\n",
    "    target_text = '\\t' + target_text + '\\n'\n",
    "    \n",
    "    tmp = []\n",
    "    for token in input_text.split(\" \"):\n",
    "        token = token.replace(\",\", \"\").replace(\".\", \"\").replace(\"?\", \"\").lower()\n",
    "        tmp.append(token)\n",
    "        if token not in input_tokens:\n",
    "            input_tokens.add(token)\n",
    "    input_texts.append(tmp)\n",
    "    \n",
    "    tmp = []\n",
    "    for token in jieba.cut(target_text, cut_all=False):\n",
    "        tmp.append(token)\n",
    "        if token not in target_tokens:\n",
    "            target_tokens.add(token)\n",
    "    target_texts.append(tmp)\n",
    "\n",
    "input_tokens = list(input_tokens)\n",
    "target_tokens = list(target_tokens)\n",
    "num_encoder_tokens = len(input_tokens)\n",
    "num_decoder_tokens = len(target_tokens)\n",
    "max_encoder_seq_length = max([len(txt) for txt in input_texts])\n",
    "max_decoder_seq_length = max([len(txt) for txt in target_texts])\n",
    "\n",
    "print('Number of samples:', len(input_texts))\n",
    "print('Number of unique input tokens:', num_encoder_tokens)\n",
    "print('Number of unique output tokens:', num_decoder_tokens)\n",
    "print('Max sequence length for inputs:', max_encoder_seq_length)\n",
    "print('Max sequence length for outputs:', max_decoder_seq_length)\n",
    "\n",
    "print(\"\\ninput data set:\")\n",
    "print(input_texts[:10])\n",
    "print(\"\\ntarget data set:\")\n",
    "print(target_texts[:10])"
   ]
  },
  {
   "cell_type": "code",
   "execution_count": 2,
   "id": "dc89d239",
   "metadata": {},
   "outputs": [
    {
     "name": "stdout",
     "output_type": "stream",
     "text": [
      "\n",
      "input index:\n",
      "{'classmate': 0, 'relax': 1, 'blog': 2, 'usual': 3, 'nearest': 4, 'recently': 5, 'each': 6, 'dogs': 7, 'rope': 8, 'pond': 9, 'pizza': 10, 'mail': 11, 'shop': 12, 'walked': 13, 'finding': 14, 'bread': 15, 'fortunately': 16, 'me': 17, 'say': 18, 'sunday': 19, 'late': 20, 'vienna': 21, 'formed': 22, 'artists': 23, 'kite': 24, 'facebook': 25, 'making': 26, \"he's\": 27, 'season': 28, 'anger': 29, 'taxi': 30, 'french': 31, 'note': 32, 'luck': 33, 'rocket': 34, 'press': 35, 'very': 36, 'begins': 37, 'count': 38, 'vacation': 39, 'later': 40, 'bucket': 41, 'sunny': 42, 'box': 43, 'its': 44, 'limitless': 45, 'paper': 46, 'gain': 47, 'continue': 48, 'made': 49, 'speaker': 50, 'italy': 51, 'security': 52, 'arrogant': 53, 'grow': 54, 'meals': 55, 'cab': 56, 'using': 57, 'moon': 58, 'impatient': 59, 'head': 60, 'missing': 61, 'vowed': 62, 'actress': 63, 'explode': 64, 'pleasures': 65, 'smoking': 66, 'survived': 67, \"dad's\": 68, 'hungry': 69, 'under': 70, 'talked': 71, 'boils': 72, 'completely': 73, 'tongue': 74, 'mount': 75, 'piano': 76, 'monster': 77, 'pass': 78, 'pictures': 79, 'shut': 80, \"tom's\": 81, 'painting': 82, 'books': 83, 'officers': 84, 'wake': 85, 'pair': 86, 'here': 87, 'were': 88, 'quality': 89, 'study': 90, 'turns': 91, 'garden': 92, 'lively': 93, 'admission': 94, 'period': 95, 'popular': 96, 'arabic': 97, 'step': 98, 'stuff': 99, 'soviet': 100, 'dangerous': 101, 'strictly': 102, 'useful': 103, 'one': 104, 'waited': 105, 'window': 106, 'remember': 107, 'please': 108, 'piece': 109, 'minute': 110, 'mobile': 111, 'silver': 112, \"wasn't\": 113, 'stood': 114, 'just': 115, \"they'll\": 116, 'book': 117, 'really': 118, 'front': 119, 'finished': 120, 'part': 121, 'vat': 122, 'climate': 123, 'cloudy': 124, 'parts': 125, 'was': 126, 'request': 127, 'breakfast': 128, 'chess': 129, 'sister': 130, 'apple': 131, 'still': 132, 'opinions': 133, '6': 134, 'red': 135, 'speaking': 136, 'form': 137, 'by': 138, 'pay': 139, 'takes': 140, 'saying': 141, 'clothes': 142, 'sciences': 143, 'suggestions': 144, 'task': 145, 'appreciate': 146, 'winter': 147, 'knees': 148, 'usually': 149, 'good': 150, 'double': 151, 'knock': 152, 'kind': 153, '90%': 154, 'woke': 155, 'hit': 156, 'huge': 157, 'cancer': 158, 'positive': 159, 'collecting': 160, 'big': 161, 'across': 162, 'launched': 163, 'information': 164, 'club': 165, 'looking': 166, 'tea': 167, 'resort': 168, 'if': 169, '100-meter': 170, 'rebuilding': 171, 'names': 172, 'rice': 173, 'became': 174, 'jobs': 175, 'fought': 176, 'illustrated': 177, 'million': 178, 'where': 179, 'complain': 180, 'fruit': 181, 'top': 182, \"don't\": 183, 'excuses': 184, 'reporter': 185, 'quits': 186, '4000': 187, 'booklet': 188, 'nice': 189, 'noted': 190, 'reason': 191, 'climbed': 192, 'ignoring': 193, 'daily': 194, 'halloween': 195, 'partners': 196, 'everybody': 197, 'consider': 198, 'promised': 199, 'brazil': 200, 'okay': 201, 'comments': 202, \"hotel's\": 203, 'first-year': 204, 'approach': 205, 'sat': 206, 'hospital': 207, 'those': 208, 'closed': 209, 'look': 210, 'permission': 211, 'obey': 212, 'smell': 213, 'better': 214, 'bath': 215, 'surprised': 216, 'cherry': 217, 'sweet': 218, 'orchestra': 219, 'fun': 220, 'exam': 221, 'chocolates': 222, 'cried': 223, 'touch': 224, 'carry': 225, 'members': 226, 'set': 227, 'anymore': 228, 'nowadays': 229, 'service': 230, 'way': 231, 'fax': 232, 'friend': 233, 'difficult': 234, 'shame': 235, 'ok': 236, 'phone': 237, 'bumped': 238, 'bill': 239, 'divorced': 240, 'prime': 241, 'future': 242, 'apart': 243, 'rules': 244, 'beside': 245, 'smallpox': 246, 'amplifier': 247, 'voice': 248, 'sobbing': 249, 'boiled': 250, 'flying': 251, 'ships': 252, 'as': 253, 'fresh': 254, 'done!': 255, 'then': 256, 'wealth': 257, 'dishes': 258, 'teams': 259, 'protection': 260, 'leftovers': 261, 'sleeves': 262, 'check': 263, 'fee': 264, 'this': 265, 'blushed': 266, 'threw': 267, 'producers': 268, 'music': 269, 'race': 270, 'returned': 271, 'meadow': 272, 'africa': 273, 'cows': 274, 'would': 275, 'saudi': 276, 'movies': 277, 'fly': 278, 'forward': 279, 'earlier': 280, 'decided': 281, 'injured': 282, 'relaxed': 283, 'side': 284, 'hesitate': 285, 'united': 286, 'yesterday': 287, 'spoke': 288, 'lives': 289, 'sing': 290, 'puzzle': 291, 'cycling': 292, 'wind!': 293, 'possible': 294, 'trouble': 295, 'sundays': 296, '\"will': 297, 'ran': 298, 'today': 299, 'flew': 300, 'lose': 301, 'success': 302, 'burglar': 303, 'raced': 304, 'bring': 305, 'planning': 306, 'present': 307, 'criticism': 308, 'strange!': 309, 'tin': 310, 'your': 311, 'badly': 312, 'lie': 313, 'brothers': 314, \"you'll\": 315, 'work\"': 316, 'store': 317, 'speech': 318, 'short': 319, 'discovery': 320, 'fireworks': 321, 'opened': 322, 'milk': 323, 'oh!': 324, 'ourselves': 325, 'bridge': 326, 'scrambled': 327, 'likes': 328, 'means': 329, 'sympathy': 330, 'last': 331, 'sensitive': 332, 'hamburgers': 333, 'oranges': 334, 'capital': 335, 'october': 336, 'considered': 337, 'ban': 338, 'wood': 339, 'karaoke': 340, \"won't\": 341, 'part-time': 342, 'workday': 343, 'got': 344, 'drinking': 345, 'cds': 346, 'model': 347, 'too': 348, 'built-in': 349, 'cool': 350, 'becomes': 351, 'maruzen': 352, 'clothing': 353, 'ashamed': 354, 'anytime': 355, 'home': 356, 'seen': 357, \"door's\": 358, 'lawyers': 359, 'read': 360, 'times': 361, 'limitations': 362, 'eggs': 363, 'housework': 364, 'prices': 365, 'not\"': 366, 'joke': 367, 'choose': 368, 'waved': 369, 'chairs': 370, 'suspect': 371, 'suit': 372, 'situation': 373, \"where're\": 374, 'anybody': 375, 'earn': 376, 'number': 377, 'sleep': 378, 'planet': 379, 'soup': 380, 'hear': 381, 'sky': 382, 'disable': 383, 'dish': 384, 'pregnant': 385, 'lying': 386, 'cats': 387, 'answer': 388, \"phone's\": 389, 'eat': 390, 'broccoli': 391, 'whisky': 392, 'spent': 393, 'temper': 394, 'hokkaido': 395, 'shake': 396, 'knows': 397, 'second': 398, 'legal': 399, 'soon': 400, 'let': 401, 'pens': 402, 'mother': 403, 'blamed': 404, 'america': 405, 'airplane': 406, 'why': 407, 'loses': 408, 'mailing': 409, \"you're\": 410, 'accepted': 411, 'imports': 412, 'asking': 413, 'lot': 414, 'depart': 415, 'people': 416, 'eyes': 417, 'magazines': 418, 'keeps': 419, 'crash': 420, 'table': 421, 'draw': 422, 'laughs': 423, 'dialog': 424, 'lecture': 425, 'fast': 426, 'symphony': 427, 'imperative': 428, 'quarter': 429, 'materials': 430, 'thought': 431, 'overslept': 432, 'asked': 433, 'clear': 434, 'enjoyed': 435, 'quit': 436, 'composition': 437, \"teacher's\": 438, 'delicious': 439, 'glass': 440, 'beer': 441, 'turned': 442, 'accept': 443, 'warned': 444, 'ill': 445, 'minutes': 446, 'who': 447, 'kidnappers': 448, 'two': 449, 'collection': 450, 'spread': 451, 'ceremonies': 452, 'carried': 453, 'paint': 454, 'proud': 455, 'baseball': 456, 'bed': 457, 'seem': 458, 'coal': 459, 'argue': 460, 'accidental': 461, 'bad-looking': 462, 'order': 463, 'decision': 464, 'aimed': 465, 'consult': 466, 'producer': 467, 'broke': 468, 'death': 469, 'take': 470, 'weeks': 471, 'refused': 472, 'cold': 473, 'exhausted': 474, 'house': 475, 'capitals': 476, 'gave': 477, \"wife's\": 478, 'apology': 479, 'busy': 480, 'adding': 481, 'newspaper': 482, 'fed': 483, 'crying': 484, 'airlines': 485, 'sad': 486, 'desks': 487, 'enough': 488, 'universal': 489, 'abundant': 490, 'things': 491, 'online': 492, 'tomatoes': 493, 'heard': 494, 'natural': 495, 'loved': 496, 'on': 497, 'long': 498, 'nagasaki': 499, 'robbed': 500, 'per': 501, 'which': 502, 'hiding': 503, 'hilton': 504, 'thinking': 505, 'listen': 506, 'affairs': 507, 'native': 508, 'five': 509, 'bike': 510, 'painful': 511, 'advice': 512, 'grandson': 513, 'realized': 514, 'upon': 515, 'brushing': 516, 'worst': 517, 'explain': 518, 'act': 519, 'czech': 520, 'skating': 521, 'over': 522, 'shortest': 523, 'attitude': 524, 'roller': 525, 'wants': 526, 'restless': 527, 'other': 528, 'gotten': 529, 'job': 530, 'discarded': 531, 'wednesday': 532, 'fooled': 533, 'enjoy': 534, 'rock': 535, 'class': 536, 'generally': 537, 'games': 538, 'crowd': 539, 'studied': 540, 'done': 541, 'harder': 542, \"doesn't\": 543, 'bloom': 544, 'detail': 545, 'makes': 546, 'dozen': 547, 'prohibited': 548, 'reliable': 549, 'bending': 550, 'mine': 551, 'slept': 552, 'both': 553, 'daughter': 554, 'nieces': 555, 'directly': 556, 'conclusion': 557, 'translate': 558, 'check-in': 559, 'survival': 560, 'confessed': 561, 'spoken': 562, 'assistant': 563, 'juice': 564, 'forget': 565, 'europe': 566, 'mood': 567, 'born': 568, 'thousand': 569, 'truth': 570, 'hole': 571, 'forearmed': 572, 'playing': 573, 'beholder': 574, 'itchy': 575, 'malaysia': 576, 'reach': 577, 'going': 578, 'needed': 579, 'depend': 580, 'certainly': 581, 'trying': 582, 'rowing': 583, 'entrance': 584, 'fine': 585, 'fond': 586, 'next': 587, 'satisfied': 588, 'youth': 589, 'least': 590, 'someone': 591, 'salt': 592, 'most': 593, 'german': 594, 'mice': 595, 'sales': 596, 'zealand': 597, 'original': 598, 'throat': 599, 'summer': 600, 'genius': 601, \"friends'\": 602, 'wondering': 603, 'trap': 604, 'initials': 605, 'tidy': 606, 'supper': 607, 'fell': 608, 'disturb': 609, 'embassy': 610, 'foreigners': 611, 'wife': 612, 'resigning': 613, 'pose': 614, 'remarkable': 615, 'told': 616, 'solution': 617, '100': 618, 'hanging': 619, 'picks': 620, 'case': 621, 'song': 622, 'medicine': 623, 'see': 624, 'business!': 625, 'according': 626, 'chinese': 627, 'foreign': 628, 'will': 629, 'enter': 630, 'permitted': 631, 'hopeless': 632, 'going!': 633, 'again': 634, 'everything': 635, 'sumo': 636, 'fishing': 637, 'away': 638, 'locked': 639, 'wall': 640, 'union': 641, 'man': 642, 'society': 643, 'watching': 644, 'ends': 645, 'truck': 646, 'you!': 647, \"mary's\": 648, 'hearing': 649, 'army': 650, 'yet': 651, 'dog': 652, 'month': 653, 'marriage': 654, 'straight': 655, 'glasses': 656, 'teach': 657, 'thanked': 658, 'roses': 659, 'tooth': 660, 'stand': 661, 'whose': 662, 'she': 663, \"one's\": 664, 'food': 665, 'candy': 666, 'open': 667, 'time': 668, 'spanish': 669, 'bag': 670, 'cleaned': 671, 'mary': 672, 'till': 673, 'tourist': 674, 'conform': 675, 'calendar': 676, 'tone': 677, 'than': 678, 'comes': 679, 'underwear': 680, 'meet': 681, \"we're\": 682, 'gasoline': 683, 'these': 684, 'skiing': 685, 'market': 686, 'guts': 687, 'material': 688, 'american': 689, 'participate': 690, 'korea': 691, 'past': 692, 'arabia': 693, 'be': 694, 'real': 695, 'follows': 696, 'nor': 697, 'oscar': 698, 'around': 699, 'deceive': 700, 'cake': 701, 'sings': 702, 'graduated': 703, 'boy': 704, 'emotions': 705, 'buy': 706, 'hello': 707, 'immediately': 708, 'boring': 709, 'true': 710, 'venice': 711, 'theater': 712, 'apologies': 713, 'soccer': 714, 'guys': 715, 'tobacco': 716, 'park': 717, 'record': 718, 'ticket': 719, 'picture': 720, 'drowsy': 721, 'wanted': 722, 'back': 723, 'taller': 724, 'bottle': 725, \"let's\": 726, 'soon!': 727, 'young': 728, 'except': 729, 'egg': 730, 'behaves': 731, 'stupid': 732, 'enemy': 733, '1972': 734, 'ten': 735, 'may': 736, 'when': 737, 'divided': 738, 'with': 739, 'obtained': 740, 'getting': 741, 'entering': 742, 'eating': 743, 'india': 744, 'practicing': 745, 'iron': 746, 'down': 747, 'life': 748, 'philosopher': 749, 'mistook': 750, 'castle': 751, 'night': 752, 'avoid': 753, 'museum': 754, 'dinner': 755, 'grave': 756, 'nurse': 757, \"hasn't\": 758, 'baby': 759, 'uncle': 760, 'magician': 761, 'published': 762, 'had': 763, 'day': 764, 'sick': 765, 'eleven': 766, 'egypt': 767, 'preferred': 768, 'parasol': 769, 'associate': 770, 'limit': 771, 'following': 772, 'excuse': 773, 'whether': 774, 'actually': 775, 'patio': 776, 'has': 777, 'student': 778, 'snow': 779, 'leaves': 780, 'expect': 781, 'papers': 782, 'coincides': 783, 'ringing': 784, 'child': 785, 'several': 786, 'walking': 787, 'care': 788, 'stadium': 789, 'funeral': 790, 'tried': 791, 'richer': 792, 'unhappy': 793, 'through': 794, 'he': 795, 'exams': 796, 'realise': 797, 'stands': 798, 'understand': 799, 'sitting': 800, 'stairs': 801, 'wondered': 802, 'sudden': 803, 'pacific': 804, 'tired': 805, 'bought': 806, 'computer': 807, 'countries': 808, 'blast': 809, 'envied': 810, 'problem': 811, 'took': 812, 'opposition': 813, 'covered': 814, 'repeat': 815, 'movie': 816, 'deceived': 817, 'best': 818, 'questions': 819, 'receive': 820, 'known': 821, 'lift': 822, \"it'll\": 823, 'poor': 824, 'car': 825, 'angel': 826, 'indicated': 827, 'presence': 828, 'alive': 829, 'blue': 830, 'pick': 831, \"book's\": 832, 'kitchen': 833, 'attention': 834, 'repay': 835, 'woman': 836, 'belts': 837, 'unfortunate!': 838, 'doghouse': 839, \"how's\": 840, 'taste': 841, 'parties': 842, 'horse': 843, 'happen': 844, 'standard': 845, 'deaf': 846, 'arrived': 847, 'warm': 848, 'dark': 849, 'ended': 850, 'spends': 851, 'foreigner': 852, 'could': 853, 'rest': 854, 'winning': 855, 'listened': 856, 'doing': 857, '\"classless\"': 858, 'feeling': 859, 'dreams': 860, 'overcoat': 861, 'year': 862, 'meeting': 863, 'cupcakes': 864, 'ability': 865, 'basic': 866, 'telephoned': 867, 'sorry': 868, 'application': 869, 'went': 870, 'afford': 871, 'pace': 872, 'found': 873, 'possibility': 874, 'damage': 875, 'kill': 876, 'empty': 877, 'armchair': 878, 'control': 879, 'strange': 880, 'find': 881, \"who's\": 882, 'tuner': 883, 'denied': 884, 'nine': 885, 'successful': 886, 'at': 887, 'think': 888, 'register': 889, '10th': 890, 'footprints': 891, 'skeleton': 892, 'unbelievable!': 893, 'mistakes': 894, 'boil': 895, 'birthday': 896, 'thirsty': 897, 'cough': 898, 'break': 899, 'reservation': 900, 'accident': 901, 'path': 902, 'to': 903, 'digital': 904, 'moving': 905, 'secret': 906, 'lady': 907, 'parked': 908, 'willingly': 909, 'alcohol': 910, 'french-english': 911, 'visited': 912, 'spending': 913, 'brother': 914, 'fifth-largest': 915, 'and': 916, 'morning': 917, 'sound': 918, 'cost': 919, 'sun': 920, 'interfere': 921, 'aso': 922, 'accepting': 923, 'ought': 924, 'passengers': 925, 'admire': 926, 'overtime': 927, 'hike': 928, 'schedule': 929, 'cooked': 930, 'approval': 931, 'knowing': 932, 'from': 933, 'modesty': 934, '3202-5625': 935, 'clock': 936, 'hot': 937, 'working': 938, 'thief': 939, 'invited': 940, 'universe': 941, 'collars': 942, 'grandmother': 943, 'blossoms': 944, 'curry': 945, 'try': 946, '\"he\\'d': 947, 'showed': 948, 'start': 949, 'boasts': 950, 'slowly': 951, 'keep': 952, 'stayed': 953, 'many': 954, 'newspapers': 955, 'love': 956, 'bus': 957, 'win': 958, 'what': 959, 'skirts': 960, 'drives': 961, 'library': 962, 'goodbye': 963, 'picnic': 964, 'birds': 965, 'idiot': 966, 'party': 967, 'gentle': 968, 'war': 969, 'ai': 970, 'accidentally': 971, 'flag': 972, 'hey': 973, 'early': 974, 'exercise': 975, 'address': 976, 'communicate': 977, 'demanded': 978, 'prefer': 979, 'fumbled': 980, 'disliked': 981, 'mean': 982, 'waiting': 983, 'fundamental': 984, 'foot': 985, 'relationship': 986, '$100000': 987, 'diary': 988, 'that': 989, 'drawing': 990, 'goes': 991, 'invitation': 992, 'trees': 993, 'loss': 994, 'perform': 995, 'daydreaming': 996, 'explanation': 997, 'send': 998, 'pen': 999, 'height': 1000, 'about': 1001, 'painted': 1002, 'japanese': 1003, 'ruin': 1004, 'some': 1005, 'antenna': 1006, 'put': 1007, 'marvels': 1008, 'dictionary': 1009, 'risky': 1010, 'matter': 1011, 'belongs': 1012, 'festival': 1013, 'calling': 1014, 'novel': 1015, 'somewhere': 1016, 'bottles': 1017, 'answered': 1018, 'counted': 1019, 'hotel': 1020, 'need': 1021, 'firemen': 1022, 'message': 1023, 'adopt': 1024, 'already': 1025, 'trust': 1026, 'own': 1027, 'stomach': 1028, 'rejected': 1029, 'afraid': 1030, 'yield': 1031, 'sell': 1032, 'prize': 1033, 'indoors': 1034, 'prepared': 1035, 'chair': 1036, 'happiness': 1037, 'swims': 1038, 'become': 1039, 'live': 1040, 'advance': 1041, 'basket': 1042, 'government': 1043, 'novelist': 1044, 'stop': 1045, 'admit': 1046, 'my': 1047, 'sit': 1048, 'kids': 1049, 'boston': 1050, 'bars': 1051, 'paid': 1052, 'noise': 1053, 'do': 1054, 'work': 1055, 'greenhouse': 1056, 'cd': 1057, 'careless!': 1058, 'an': 1059, 'hard': 1060, 'orchard': 1061, 'fact': 1062, 'decisions': 1063, 'hours': 1064, 'narrow': 1065, 'few': 1066, 'week': 1067, 'guilty': 1068, 'allowed': 1069, 'fake': 1070, 'pub': 1071, 'creature': 1072, 'decide': 1073, 'gone': 1074, 'forces': 1075, 'closest': 1076, 'call': 1077, 'yard': 1078, 'mars': 1079, 'camera': 1080, 'ready': 1081, 'walks': 1082, 'wrap': 1083, 'laughed': 1084, 'talks': 1085, 'cynical': 1086, 'drink': 1087, 'weight': 1088, 'out': 1089, \"aren't\": 1090, 'have': 1091, 'finest': 1092, 'fireplace': 1093, 'danger': 1094, 'hacked': 1095, 'plan': 1096, 'forced': 1097, 'never': 1098, 'apples': 1099, 'deal': 1100, 'contact': 1101, 'explained': 1102, 'wait': 1103, 'place': 1104, 'floor': 1105, 'compromise': 1106, 'saw': 1107, 'such': 1108, 'chance': 1109, 'in': 1110, 'glad': 1111, 'affect': 1112, 'changing': 1113, 'steam': 1114, 'police': 1115, 'eye': 1116, 'contract': 1117, 'doctors': 1118, 'cave': 1119, 'immigrate': 1120, 'lunch': 1121, 'ski': 1122, 'tunnel': 1123, 'flows': 1124, 'since': 1125, 'television': 1126, 'occasional': 1127, 'politician': 1128, 'storm': 1129, 'said': 1130, 'brought': 1131, 'waiter': 1132, 'cut': 1133, 'tune': 1134, 'arms': 1135, 'distance': 1136, 'london': 1137, 'not': 1138, 'bother': 1139, \"she'll\": 1140, 'being': 1141, 'exciting': 1142, 'business': 1143, 'cholesterol': 1144, 'wine': 1145, 'hill': 1146, 'broken': 1147, 'degrees': 1148, 'escaping': 1149, 'stage': 1150, 'japan': 1151, 'progress': 1152, 'hobby': 1153, 'college': 1154, 'easy': 1155, 'came': 1156, 'hamamatsu': 1157, 'trip': 1158, 'humor': 1159, 'asleep': 1160, 'great': 1161, 'rather': 1162, 'languages': 1163, 'intelligence': 1164, 'a': 1165, 'train': 1166, 'warnings': 1167, 'drop': 1168, 'key': 1169, 'available': 1170, 'school': 1171, 'filled': 1172, 'military': 1173, 'began': 1174, 'flood': 1175, 'advertising': 1176, 'seeing': 1177, 'overreacting': 1178, 'nearly': 1179, 'absolutely': 1180, 'traveled': 1181, 'alone\"': 1182, 'history': 1183, 'lent': 1184, 'speeches': 1185, 'raining': 1186, \"i've\": 1187, 'september': 1188, 'duty': 1189, 'dollars': 1190, 'examine': 1191, 'jacket': 1192, 'now': 1193, 'agree': 1194, 'innocent': 1195, 'does': 1196, 'hurts': 1197, '2020': 1198, 'wherever': 1199, 'page': 1200, 'symptoms': 1201, 'office': 1202, 'speed': 1203, '119': 1204, 'diet': 1205, 'his': 1206, 'commit': 1207, 'fukuoka': 1208, 'hobbies': 1209, 'resources': 1210, 'bound': 1211, 'welcome': 1212, 'frankly': 1213, 'hand': 1214, 'bluest': 1215, 'miyazaki': 1216, 'tom': 1217, 'sold': 1218, 'artist': 1219, 'worked': 1220, 'remind': 1221, 'speaks': 1222, 'helping': 1223, 'law': 1224, 'ntt': 1225, 'fall': 1226, 'report': 1227, 'amount': 1228, 'bicycle': 1229, 'action': 1230, 'looks': 1231, 'venture': 1232, 'sight': 1233, \"you've\": 1234, 'disney': 1235, 'singer': 1236, 'sushi': 1237, 'captain': 1238, 'opportunity': 1239, 'dirty': 1240, '30': 1241, 'large': 1242, 'wrote': 1243, 'eaten': 1244, 'waste': 1245, 'afternoon': 1246, 'monday': 1247, 'slapped': 1248, 'traffic': 1249, 'dumb': 1250, 'slow': 1251, 'express': 1252, 'driving': 1253, 'difficulties': 1254, 'grade': 1255, 'died': 1256, 'quiet': 1257, 'inviting': 1258, \"she's\": 1259, 'wallet': 1260, 'noticed': 1261, 'indispensable': 1262, 'sisters': 1263, 'escape': 1264, \"car's\": 1265, 'city': 1266, 'fuji': 1267, 'lied': 1268, 'journal': 1269, 'bible': 1270, 'seems': 1271, 'memory': 1272, 'dash': 1273, 'dance': 1274, 'palms': 1275, 'teeth': 1276, 'team': 1277, 'spell': 1278, 'habit': 1279, 'room': 1280, 'needs': 1281, 'chicago': 1282, 'age': 1283, 'naked': 1284, 'although': 1285, 'much': 1286, 'thoughts': 1287, 'spring': 1288, 'politics': 1289, 'atheist': 1290, 'running': 1291, 'favorite': 1292, 'jealous': 1293, 'bookstore': 1294, 'returns': 1295, 'safe': 1296, 'three': 1297, 'ask': 1298, 'bowl': 1299, 'stay': 1300, 'snake': 1301, 'hi!': 1302, 'considerable': 1303, 'zimbabwe': 1304, 'beauty': 1305, 'serious': 1306, 'added': 1307, 'snowing': 1308, 'mad': 1309, 'shoes': 1310, 'product': 1311, 'skate': 1312, 'herself': 1313, 'forest': 1314, 'appears': 1315, 'show': 1316, 'ordered': 1317, 'beautiful': 1318, 'go': 1319, \"people's\": 1320, 'center': 1321, 'washing': 1322, 'immigrants': 1323, 'dial': 1324, 'football': 1325, 'feel': 1326, 'stocks': 1327, 'health': 1328, 'we': 1329, 'plane': 1330, 'tonight': 1331, 'siblings': 1332, 'mt': 1333, 'stamps': 1334, 'focus': 1335, 'extravaganza': 1336, 'purse': 1337, 'hour': 1338, 'ignorance': 1339, 'full': 1340, 'farsi': 1341, 'face': 1342, 'borrow': 1343, 'private': 1344, 'parents': 1345, 'sent': 1346, 'follow': 1347, \"o'clock\": 1348, 'hair': 1349, 'solved': 1350, 'plenty': 1351, 'speak': 1352, 'english': 1353, 'button': 1354, 'close': 1355, 'clean': 1356, 'watch': 1357, 'doubt': 1358, 'interest': 1359, 'shelf': 1360, 'important': 1361, 'pencil': 1362, 'sue': 1363, 'sells': 1364, 'finds': 1365, 'father': 1366, 'deciding': 1367, 'john': 1368, 'gun': 1369, 'rude': 1370, 'mind': 1371, 'healthy': 1372, 'hat': 1373, 'canceled': 1374, 'flowers': 1375, 'expected': 1376, 'return': 1377, 'blame': 1378, 'brilliant': 1379, 'keen': 1380, 'proficient': 1381, 'lottery': 1382, 'always': 1383, 'half': 1384, 'girls': 1385, 'kyoto': 1386, 'after': 1387, 'off': 1388, 'strong': 1389, 'me!': 1390, 'four': 1391, 'postcards': 1392, 'gift': 1393, 'feet': 1394, 'truly': 1395, 'ice': 1396, 'younger': 1397, \"i'll\": 1398, 'thai': 1399, 'south': 1400, 'older': 1401, 'satisfactory': 1402, 'seldom': 1403, 'reports': 1404, 'warmed': 1405, 'britain': 1406, 'managed': 1407, 'even': 1408, 'feared': 1409, 'should': 1410, 'husband': 1411, 'banana': 1412, 'how': 1413, 'anything': 1414, 'it': 1415, \"something's\": 1416, 'coat': 1417, 'rome': 1418, 'offer': 1419, 'exports': 1420, 'neither': 1421, 'handsome': 1422, 'abate': 1423, 'frightens': 1424, 'pieces': 1425, 'building': 1426, 'introduced': 1427, 'rides': 1428, 'weekends': 1429, 'vodka': 1430, 'subject': 1431, 'all': 1432, 'taking': 1433, 'mountain': 1434, 'operation': 1435, 'temple': 1436, 'member': 1437, 'words': 1438, \"problem's\": 1439, 'for': 1440, 'certain': 1441, 'fashion': 1442, 'courage': 1443, 'bear': 1444, 'meat': 1445, 'written': 1446, 'wash': 1447, 'sand': 1448, 'rained': 1449, 'play': 1450, 'son': 1451, 'marry': 1452, '32': 1453, 'calculated': 1454, 'knew': 1455, \"they're\": 1456, 'nothing': 1457, 'are': 1458, 'our': 1459, 'there': 1460, 'election': 1461, 'depends': 1462, 'kobe': 1463, 'writes': 1464, 'push': 1465, 'happened': 1466, 'hands': 1467, 'isolated': 1468, 'figure': 1469, 'boys': 1470, 'majored': 1471, 'company': 1472, 'writing': 1473, 'buffet': 1474, 'unanimous': 1475, 'port': 1476, 'air': 1477, 'accused': 1478, 'sometimes': 1479, 'above': 1480, 'nobody': 1481, 'respecting': 1482, 'won': 1483, 'indifferent': 1484, 'practice': 1485, 'fever': 1486, 'received': 1487, 'dropped': 1488, 'louder': 1489, 'volleyball': 1490, 'disappoint': 1491, 'australia': 1492, 'rid': 1493, 'succeed': 1494, 'hung': 1495, 'permanent': 1496, 'old': 1497, 'giving': 1498, 'behavior': 1499, 'democracy': 1500, 'behind': 1501, 'angry': 1502, 'careful': 1503, 'science': 1504, 'word': 1505, 'interesting': 1506, 'austria': 1507, 'liars': 1508, 'telephone': 1509, 'color': 1510, 'catch': 1511, 'snows': 1512, 'tate': 1513, 'waist': 1514, 'taught': 1515, 'or': 1516, 'scotland': 1517, 'extra': 1518, 'staying': 1519, 'track': 1520, 'tokyo': 1521, 'proposal': 1522, 'senior': 1523, 'unless': 1524, 'caused': 1525, 'pinched': 1526, 'gay': 1527, 'female': 1528, 'crazy': 1529, 'against': 1530, 'meal': 1531, 'days': 1532, 'heavy': 1533, \"couldn't\": 1534, 'germanic': 1535, 'rugby': 1536, 'line': 1537, \"would've\": 1538, 'arrested': 1539, 'until': 1540, 'bomb': 1541, 'anyone': 1542, 'studies': 1543, 'battle': 1544, 'fail': 1545, 'stone': 1546, 'talk': 1547, 'deceitful': 1548, 'woods': 1549, 'stamp': 1550, 'flea': 1551, 'grandfather': 1552, 'edo': 1553, \"didn't\": 1554, 'beach': 1555, 'says': 1556, 'believes': 1557, 'handle': 1558, 'undone': 1559, 'moon-viewing': 1560, 'outside': 1561, 'pretty': 1562, 'flu': 1563, 'helped': 1564, 'airport': 1565, 'years': 1566, 'lots': 1567, 'idea!': 1568, 'myself': 1569, 'missed': 1570, 'students': 1571, 'wonder': 1572, 'liked': 1573, 'parrot': 1574, 'played': 1575, 'respect': 1576, 'conclusions': 1577, 'change!': 1578, 'further': 1579, 'fingerprints': 1580, 'buses': 1581, 'thanks': 1582, 'largest': 1583, 'wearing': 1584, 'concerned': 1585, 'worth': 1586, 'nagoya': 1587, 'test': 1588, 'amazed': 1589, 'sense': 1590, 'sailing': 1591, 'bank': 1592, 'cat': 1593, 'careless': 1594, 'cannot': 1595, \"here's\": 1596, 'change': 1597, 'skip': 1598, 'more': 1599, 'drinks': 1600, 'exception': 1601, 'useless': 1602, 'eight': 1603, 'engaged': 1604, 'write': 1605, 'others': 1606, 'living': 1607, 'changed': 1608, 'forewarned': 1609, 'us': 1610, 'arm': 1611, 'homework': 1612, 'vaccinated': 1613, 'acid': 1614, 'famous!': 1615, 'inside': 1616, 'first': 1617, 'without': 1618, 'animal': 1619, 'cook': 1620, 'oil': 1621, '8:30': 1622, 'downtown': 1623, 'sketched': 1624, 'you': 1625, 'loves': 1626, 'wishes': 1627, \"yesterday's\": 1628, 'fair': 1629, 'disappointed': 1630, 'judge': 1631, 'baggage': 1632, 'pool': 1633, 'charge': 1634, 'something': 1635, 'fired': 1636, 'drew': 1637, 'contribute': 1638, 'accustomed': 1639, 'mistake': 1640, 'seemed': 1641, 'punished': 1642, 'run': 1643, 'whatever': 1644, 'corner': 1645, 'support': 1646, 'nervous': 1647, 'worried': 1648, 'mp3': 1649, 'sentences': 1650, 'prisoner': 1651, 'grasp': 1652, 'energy': 1653, 'climb': 1654, 'having': 1655, 'belong': 1656, 'claim': 1657, 'film': 1658, 'bedrooms': 1659, 'white': 1660, '8': 1661, 'fire': 1662, 'any': 1663, 'worrying': 1664, 'hopes': 1665, 'bit': 1666, 'ruined': 1667, 'money': 1668, 'paris': 1669, \"hollywood's\": 1670, 'salad': 1671, 'bet': 1672, 'frogs': 1673, 'x-rays': 1674, 'examination\"': 1675, 'knowledge': 1676, 'yourself': 1677, 'counter': 1678, 'hurry': 1679, 'brush': 1680, 'beginners': 1681, 'purpose': 1682, 'called': 1683, 'advances': 1684, 'york': 1685, 'horrible!': 1686, 'hope': 1687, 'road': 1688, 'teacher': 1689, 'scraped': 1690, 'smelled': 1691, 'criticized': 1692, 'keys': 1693, 'junk': 1694, 'free': 1695, 'deep': 1696, 'roof': 1697, 'dream': 1698, 'lucky': 1699, \"haven't\": 1700, 'behave': 1701, 'shot': 1702, 'talking': 1703, 'sizes': 1704, 'point': 1705, 'they': 1706, 'cancel': 1707, \"tomorrow's\": 1708, 'fish': 1709, 'country': 1710, 'news': 1711, 'another': 1712, 'but': 1713, 'crime': 1714, 'weekend': 1715, 'dad': 1716, 'want': 1717, 'probably': 1718, 'dentists': 1719, 'silence': 1720, 'explorers': 1721, 'lived': 1722, 'family': 1723, 'met': 1724, 'basketball': 1725, 'orange': 1726, 'ate': 1727, 'tallest': 1728, 'opinion': 1729, 'relatives': 1730, 'story': 1731, 'everyone': 1732, 'president': 1733, 'while': 1734, 'mountains': 1735, 'ago': 1736, 'leave': 1737, 'cottage': 1738, 'sure': 1739, 'garage': 1740, 'coming': 1741, 'likely': 1742, 'reached': 1743, \"world's\": 1744, 'cottages': 1745, 'weird': 1746, 'looked': 1747, 'did': 1748, 'dead': 1749, 'photos': 1750, 'twice': 1751, 'tulips': 1752, 'soldiers': 1753, 'cheers!': 1754, 'sooner': 1755, 'expensive': 1756, 'end': 1757, 'laughing': 1758, 'stealing': 1759, 'frog': 1760, 'artificial': 1761, 'cooking': 1762, 'smaller': 1763, 'mopped': 1764, 'knee': 1765, 'referring': 1766, 'boat': 1767, 'marches': 1768, 'brave': 1769, 'strawberries': 1770, 'tv': 1771, 'invested': 1772, 'boyfriend': 1773, \"we've\": 1774, 'small': 1775, 'doctor': 1776, 'name': 1777, 'familiar': 1778, 'system': 1779, 'comfortable': 1780, 'vote': 1781, 'drivers': 1782, 'able': 1783, 'sports': 1784, 'coffee': 1785, 'orders': 1786, 'towards': 1787, 'council': 1788, 'doubled': 1789, 'fahrenheit': 1790, 'grades': 1791, 'can': 1792, 'debt': 1793, 'earns': 1794, 'wrong': 1795, 'god': 1796, 'girlfriend': 1797, 'exceeded': 1798, 'chocolate': 1799, \"it's\": 1800, 'neglected': 1801, 'special': 1802, 'subway': 1803, 'up': 1804, 'sulfuric': 1805, 'east': 1806, 'responsibility': 1807, 'collapsed': 1808, 'near': 1809, 'alone': 1810, 'gained': 1811, 'provide': 1812, 'awful': 1813, 'designer': 1814, 'rent': 1815, 'mommy': 1816, 'round': 1817, 'watched': 1818, 'thirty': 1819, 'horror': 1820, 'pocket': 1821, 'terrible': 1822, 'concert': 1823, 'cured': 1824, 'swept': 1825, \"there's\": 1826, 'crossing': 1827, 'solve': 1828, 'walk': 1829, 'poet': 1830, 'stew': 1831, 'third': 1832, 'sign': 1833, 'necessary': 1834, 'exceed': 1835, 'space': 1836, 'simple': 1837, 'bench': 1838, 'clearly': 1839, 'determined': 1840, 'thousands': 1841, 'elephant': 1842, 'ever': 1843, 'rich': 1844, 'because': 1845, 'ringtone': 1846, 'friends': 1847, 'recent': 1848, 'thing': 1849, 'move': 1850, 'village': 1851, 'violin': 1852, 'lock': 1853, 'little': 1854, 'smiled': 1855, 'player!': 1856, 'memories': 1857, 'passed': 1858, 'rap': 1859, 'same': 1860, 'beef': 1861, \"isn't\": 1862, 'believe': 1863, 'notice': 1864, 'language': 1865, 'lost': 1866, 'along': 1867, 'obstinate': 1868, 'crater': 1869, 'frightened': 1870, 'stolen': 1871, 'sweater': 1872, 'worry': 1873, 'barely': 1874, 'high': 1875, 'drank': 1876, 'guess': 1877, 'kilogram': 1878, 'cell': 1879, 'date': 1880, \"we'll\": 1881, 'right': 1882, 'her': 1883, 'is': 1884, 'whale': 1885, 'kept': 1886, 'come': 1887, 'breath': 1888, 'length': 1889, 'weather': 1890, 'literature': 1891, 'church': 1892, 'brings': 1893, 'game': 1894, 'title': 1895, 'maybe': 1896, \"father's\": 1897, 'left': 1898, 'visa': 1899, 'are!': 1900, 'biggest': 1901, 'freezes': 1902, 'learn': 1903, 'conversation': 1904, 'stole': 1905, 'repaired': 1906, 'understood': 1907, 'supermarket': 1908, 'forgot': 1909, 'seats': 1910, 'advised': 1911, 'planted': 1912, 'economy': 1913, \"shouldn't\": 1914, 'warmer': 1915, 'cup': 1916, 'ball': 1917, 'swim': 1918, 'carelessness': 1919, 'together': 1920, 'hold': 1921, 'only': 1922, 'famous': 1923, 'skates': 1924, 'sport': 1925, 'chicken': 1926, 'hundred': 1927, 'well': 1928, 'town': 1929, 'shorter': 1930, 'new': 1931, 'sleepy': 1932, 'bird': 1933, 'eternal': 1934, 'france': 1935, 'often': 1936, 'jogging': 1937, 'theory': 1938, 'jail': 1939, 'amounted': 1940, 'equivalent': 1941, 'hers': 1942, 'scalp': 1943, 'quite': 1944, 'attend': 1945, 'dress': 1946, \"uncle's\": 1947, 'problems': 1948, 'the': 1949, \"you'd\": 1950, 'poured': 1951, 'bad': 1952, 'water': 1953, 'held': 1954, 'submitted': 1955, 'easily': 1956, 'grab': 1957, 'used': 1958, 'visit': 1959, 'forever': 1960, 'doll': 1961, \"grandmother's\": 1962, 'deteriorated': 1963, 'studying': 1964, 'happy': 1965, 'roller-skate': 1966, 'almost': 1967, 'wear': 1968, 'help': 1969, 'reply': 1970, 'within': 1971, 'losses': 1972, 'twenty': 1973, 'hurt': 1974, 'animals': 1975, 'learning': 1976, 'colony': 1977, 'flower': 1978, 'idea': 1979, 'calm': 1980, 'appearances': 1981, 'percent': 1982, 'him': 1983, 'been': 1984, 'of': 1985, 'suppose': 1986, 'murder': 1987, 'duties': 1988, 'hamlet': 1989, 'caught': 1990, 'tell': 1991, 'drive': 1992, 'england': 1993, 'light': 1994, 'world': 1995, 'victory': 1996, 'effort': 1997, 'gazing': 1998, 'tall': 1999, \"wouldn't\": 2000, 'must': 2001, '\"man': 2002, 'discovered': 2003, 'might': 2004, 'six': 2005, 'thinks': 2006, 'introduce': 2007, 'toward': 2008, 'radio': 2009, 'abroad': 2010, 'station': 2011, 'once': 2012, 'fiction': 2013, 'surprising': 2014, 'into': 2015, 'grass': 2016, 'challenge': 2017, 'himself': 2018, 'lake': 2019, 'save': 2020, 'wore': 2021, 'courageous': 2022, 'jump': 2023, 'no': 2024, 'mouth': 2025, 'exists': 2026, 'children': 2027, 'board': 2028, 'convinced': 2029, \"minister's\": 2030, 'cheap': 2031, 'rainy': 2032, 'boss': 2033, 'gets': 2034, \"what's\": 2035, 'seat': 2036, 'shadow': 2037, 'uncertain': 2038, 'sir': 2039, 'investment': 2040, 'their': 2041, 'map': 2042, 'cry': 2043, 'eyesight': 2044, 'so': 2045, 'imagine': 2046, 'delivered': 2047, 'cooperation': 2048, 'between': 2049, 'girl': 2050, 'silly': 2051, 'expectations': 2052, 'leaving': 2053, 'tomorrow': 2054, 'lights': 2055, 'know': 2056, 'i': 2057, 'watches': 2058, 'ache': 2059, 'am': 2060, 'blood': 2061, 'question': 2062, 'wonderful': 2063, 'carefully': 2064, 'river': 2065, 'too\"': 2066, \"he'll\": 2067, 'willing': 2068, 'pet': 2069, 'motorcycle': 2070, 'reading': 2071, 'lend': 2072, 'men': 2073, 'bombs': 2074, 'gather': 2075, 'campus': 2076, 'entered': 2077, 'joking': 2078, 'every': 2079, 'registered': 2080, 'use': 2081, 'door': 2082, 'make': 2083, 'grew': 2084, \"i'm\": 2085, 'sets': 2086, 'give': 2087, \"that's\": 2088, 'view': 2089, 'whole': 2090, 'manholes': 2091, '\"i': 2092, 'desk': 2093, 'wish': 2094, 'like': 2095, 'karuizawa': 2096, 'rain': 2097, 'impossible': 2098, 'illness': 2099, 'factory': 2100, 'them': 2101, 'married': 2102, 'type': 2103, 'shining': 2104, 'absent': 2105, 'street': 2106, 'concerns': 2107, 'congratulations!': 2108, 'electricity': 2109, 'astonished': 2110, 'letter': 2111, 'sofa': 2112, 'far': 2113, 'either': 2114, 'listening': 2115, 'get': 2116, 'install': 2117, 'begin': 2118, 'postponed': 2119, 'tennis': 2120, 'evening': 2121, 'before': 2122, 'sounds': 2123, 'mathematics': 2124, 'prison': 2125, 'circle': 2126, 'seven': 2127, 'lawyer': 2128, 'during': 2129, 'yours': 2130, 'toy': 2131, 'else': 2132, \"might've\": 2133, 'population': 2134, 'drunk': 2135, 'person': 2136, 'somehow': 2137, 'hated': 2138, \"can't\": 2139, 'fill': 2140, 'turn': 2141, 'started': 2142, 'swimming': 2143, 'switch': 2144, 'dining': 2145, 'assist': 2146, 'poked': 2147, 'immune': 2148, 'states': 2149, 'continued': 2150, \"i'd\": 2151, '10000': 2152, 'laugh': 2153, 'thank': 2154, 'rose': 2155, 'education': 2156, 'spicy': 2157, 'yen': 2158, \"where's\": 2159, 'jerk': 2160, 'shall': 2161, 'miss': 2162, 'built': 2163, 'hero': 2164}\n",
      "\n",
      "target index:\n",
      "{'第一': 0, '一碗': 1, '上': 2, '两件事': 3, '學習': 4, '你': 5, '旁邊': 6, '彻夜': 7, '拼': 8, '贴': 9, '外国人': 10, '打开': 11, '進口': 12, '日子': 13, '裡有': 14, '政治': 15, '停住': 16, '認真': 17, '園': 18, '挑战': 19, '跳蚤': 20, '將去': 21, '照片': 22, '其中': 23, '完成': 24, '過去': 25, '舒服': 26, '蕃茄': 27, '裝滿水': 28, '西班牙': 29, '好几间': 30, '到': 31, '份': 32, '見過': 33, '信': 34, '去給': 35, '太': 36, '天才': 37, '寫': 38, '十月': 39, '寄': 40, '不怕死': 41, '酒吧': 42, '结束': 43, '事實': 44, '显著': 45, '猫': 46, '前搖動': 47, '那本書': 48, '相處': 49, '你講': 50, 'Facebook': 51, '彎': 52, '他會選': 53, '下山': 54, '旁边': 55, '電腦': 56, '至少': 57, '開心': 58, '沙發': 59, '出去': 60, '时间': 61, '放棄': 62, '使': 63, '讓': 64, '设法': 65, '一样': 66, '上衣': 67, '绝不会': 68, '臉': 69, '难以置信': 70, '星期': 71, '将会': 72, '還牙': 73, '那些': 74, '供认': 75, '湯姆': 76, '來': 77, '有點': 78, '印度': 79, '載': 80, '不起': 81, '歡辣': 82, '不耐烦': 83, '总是': 84, '我六點': 85, '了': 86, '事情': 87, '翰': 88, '旅館': 89, '待': 90, 'NTT': 91, '过去': 92, '打來': 93, '著': 94, '成员': 95, '此案': 96, '歌手': 97, '啊': 98, '邀请': 99, '噪音': 100, '她給': 101, '辞掉': 102, '抵達': 103, '一生': 104, '上學': 105, '男人': 106, '這沒什麼': 107, '圓的': 108, '外貌': 109, '暖和': 110, '容忍': 111, '美國人': 112, '下周': 113, '五音不全': 114, '下次': 115, '干净': 116, '科學': 117, '哪一位': 118, '呆': 119, '巧克力': 120, '問過': 121, '韩国': 122, '氣': 123, '解开': 124, '拿手': 125, '按鈕': 126, '从来不': 127, '令人': 128, '不常見': 129, '兒子': 130, '天使': 131, '建成': 132, '幫助別': 133, '不让': 134, '沙灘': 135, '聽到': 136, '世界性': 137, '部分': 138, '彩票': 139, '槍': 140, '了點': 141, '加班': 142, '話給': 143, '开车': 144, '看看': 145, '做個': 146, '叫': 147, '父母': 148, '却': 149, '穿衣服': 150, '古老': 151, '石油': 152, '卡拉': 153, '星球': 154, '陸': 155, '爱': 156, '意外': 157, '廚餘': 158, '骗子': 159, '他現': 160, '设': 161, '軍人': 162, '我渴': 163, '清洗': 164, '字典': 165, '俱樂部': 166, '樂': 167, '值得尊敬': 168, '再次': 169, '兩個': 170, '週要': 171, '还要': 172, '足球': 173, '吗': 174, '聽過': 175, '一直': 176, '買': 177, '畫家': 178, '還活': 179, '我放棄': 180, '3': 181, '回来': 182, '靠你了': 183, '湯姆意識': 184, '听到': 185, '（': 186, '钢琴': 187, '捲': 188, '厭煩': 189, '它': 190, '我還': 191, '飞机': 192, '申請': 193, '照顾': 194, '网球': 195, '祖父': 196, '看起': 197, '挥手': 198, '帽子': 199, '洞穴': 200, '禮訂': 201, '我的筆': 202, '介紹': 203, '司機': 204, '损失': 205, '通过': 206, '工廠': 207, '外國人': 208, '繼續': 209, '会': 210, '办法': 211, '問好': 212, '学得': 213, '改變': 214, '正確': 215, '同時': 216, '非常': 217, '笑': 218, '寺庙': 219, '著一': 220, '差不多': 221, '母親': 222, '溫室': 223, '坐': 224, '理解': 225, '妈': 226, '家里': 227, '打': 228, '6': 229, '我的頭': 230, '吃奶': 231, '穿点': 232, '通常': 233, '傻': 234, '小时': 235, '住': 236, '浴缸': 237, '既': 238, '事是': 239, '竊': 240, '废物': 241, '行星': 242, '思考': 243, '地上': 244, '搬出去': 245, '用': 246, '第五': 247, '马路': 248, '謊': 249, '鸚鵡作': 250, '於': 251, '我脑': 252, '打給': 253, '不來': 254, '体育': 255, '樣子': 256, '由': 257, '扶手椅': 258, '請': 259, '小时候': 260, '登記冊': 261, '寄信': 262, '簡單': 263, '終於上': 264, '可以': 265, '英语': 266, '市立': 267, '真是': 268, '整年': 269, '开着': 270, '散步': 271, '积雪': 272, '零钱': 273, '活下去': 274, '行為': 275, '太烈': 276, '之色變': 277, '站': 278, '克服': 279, '酒精': 280, '㥃': 281, '電話': 282, '頁面': 283, '鱼': 284, '盐': 285, '太熱': 286, '辦公': 287, '外套': 288, '评价': 289, '杂志': 290, '吵醒': 291, '經寫': 292, '監獄': 293, '許會來': 294, '借錢給': 295, '溜冰鞋': 296, '味道': 297, '很昂貴': 298, '機鈴聲': 299, '窮人': 300, '私立学校': 301, '女孩': 302, '交通事故': 303, '玩笑': 304, '看着': 305, '玫瑰花': 306, '立山': 307, '和玛丽': 308, '一架': 309, '真帅': 310, '怎麼樣': 311, '叫辆': 312, '一頓': 313, '搭公車': 314, '蘋果': 315, '4000': 316, '开个': 317, '錶': 318, '哭': 319, '合得来': 320, '放學後幫助': 321, '下來': 322, '放': 323, '花費': 324, '了不起': 325, '遺失': 326, '运动': 327, '别人': 328, '牙齿': 329, '好玩': 330, '得': 331, '代表': 332, '进展': 333, '妥協': 334, '症狀': 335, '看来': 336, '厌倦': 337, '一辈子': 338, '建議': 339, '對面': 340, '列車': 341, '門是': 342, '屏住': 343, '接下': 344, '警察局': 345, '爱着': 346, '實話': 347, '柳橙': 348, '阳光': 349, '有時': 350, '那儿': 351, '第一名': 352, '嘲笑': 353, '美國': 354, '祖母': 355, '试': 356, '大家': 357, '手續': 358, '教师': 359, '大鱼吃小鱼': 360, '裡又再': 361, '她': 362, '進過': 363, '電話裡': 364, '过泳': 365, '玩世不恭': 366, '为了': 367, '三分之一': 368, '汽车': 369, '髒': 370, '驚': 371, '这些': 372, '比赛': 373, '存錢': 374, '怎麼': 375, '運動': 376, '行動': 377, '吃壽司': 378, '很無聊': 379, '很傻': 380, '汽車': 381, '贏得': 382, '潑': 383, '摸索': 384, '解釋': 385, '可不': 386, '如同': 387, '休': 388, '進來': 389, '能数': 390, '萬日圓': 391, '四年': 392, '迷路': 393, '學': 394, '厭倦': 395, '爱好': 396, '分鐘': 397, '總是': 398, '去過': 399, '這': 400, '产地': 401, '裡放': 402, '成績': 403, '池塘': 404, '三个': 405, '－': 406, '\"': 407, '你家': 408, '数千': 409, '寒流': 410, '餵給': 411, '角色': 412, '車到': 413, '這一個': 414, '累': 415, '怎么样': 416, '雨下': 417, '那条': 418, '可能性': 419, '傻子': 420, '一站': 421, '草': 422, '嬰孩': 423, '語言': 424, '還能': 425, '很穷': 426, '話': 427, '里': 428, '儿童': 429, '事故': 430, '检查': 431, '笑话': 432, '湯姆為': 433, '經成': 434, '那个': 435, '摔倒': 436, '周末': 437, '大致': 438, '打电话': 439, '袋子': 440, '这药': 441, '鯨魚': 442, '飛行': 443, '看到': 444, '金额': 445, '登機': 446, '看见': 447, '屏蔽': 448, '所有': 449, '進洞裡': 450, '一部分': 451, '勿': 452, '湯姆真': 453, '锁坏': 454, '花园里': 455, '人工智能': 456, '買給': 457, '懷疑': 458, '投資': 459, '来': 460, '講法語': 461, '时候': 462, '拐': 463, '玛丽和': 464, '兄弟姐妹': 465, '预约': 466, '明信片': 467, '举办': 468, '放學後打': 469, '知道': 470, '那輛': 471, '作贡献': 472, '快來': 473, '豫則立': 474, '挺': 475, '坦率地': 476, '沙烏地': 477, '几点': 478, '一名': 479, '更加': 480, '年齡': 481, '回書': 482, '騙': 483, '週末': 484, '發現': 485, '滑雪': 486, '們': 487, '曾經': 488, '延期': 489, '懂': 490, '答案': 491, '真正': 492, '十月十日': 493, '會醒': 494, '打電話給': 495, '這嗎': 496, '你現': 497, '从早到晚': 498, '玻璃': 499, '期望': 500, '早点': 501, '怀孕': 502, '离开': 503, '条鱼': 504, '在野': 505, '裙子': 506, '下周一': 507, '指控': 508, '急忙': 509, '路': 510, '冬天': 511, '出狱': 512, '開花': 513, '今年': 514, '什么': 515, '哪儿': 516, '形态': 517, '爱情': 518, '兼職': 519, '伦敦': 520, '你好': 521, '伟大': 522, '鑰匙': 523, '聲音': 524, '星期天': 525, '趕': 526, '湖上': 527, '七點': 528, '眼裡': 529, '十': 530, '好像': 531, '照射': 532, '她家': 533, '溫暖': 534, '试图': 535, '美味': 536, '苏联': 537, '吵': 538, '該現': 539, '號碼': 540, '两点': 541, '邮件': 542, '这么': 543, '辦': 544, '功課': 545, '飛機': 546, '掛在': 547, '爸爸': 548, '谜团': 549, '了解': 550, '炸彈': 551, '魔法师': 552, '点半': 553, '絶': 554, '起車': 555, '一週': 556, '消防': 557, '空气质量': 558, '窗': 559, '有益健康': 560, '願意': 561, '加入': 562, '怎么': 563, '這樣': 564, '开': 565, '除非': 566, '怕': 567, ',': 568, '恐怖': 569, '骑': 570, '能': 571, '一顆': 572, '殺': 573, '语言': 574, '兩人份': 575, '開得': 576, '水燒': 577, '兑水': 578, '来自': 579, '分辨': 580, '出租车': 581, '擔心': 582, '現今': 583, '我試': 584, '這里': 585, '玩耍': 586, '愿意': 587, '語': 588, '取代': 589, '助手': 590, '不认': 591, '除了': 592, '收回': 593, '可能': 594, '卡車': 595, '祇': 596, '聽': 597, '银行': 598, '建议': 599, '比较': 600, '家': 601, '打碎': 602, '登記': 603, '打个': 604, '同岁': 605, '真怪': 606, '少': 607, '二十': 608, '啤酒': 609, '本书': 610, '那时': 611, '学法语': 612, '比薩類': 613, '根據': 614, '出': 615, '忍受': 616, '我記': 617, '解雇': 618, '面对': 619, '冰': 620, '五點鐘': 621, '地址': 622, '复苏': 623, '动物': 624, '是不是': 625, '销售': 626, '這些': 627, '夜間': 628, '无所事事': 629, '車停': 630, '受歡': 631, '一九七二年': 632, '練習': 633, '發言': 634, '醉': 635, '许多年': 636, '老': 637, '重要': 638, '像': 639, '有效期限': 640, '你會': 641, '測驗': 642, '祝': 643, '火災': 644, '打擾': 645, '更勤些': 646, '赢': 647, '葬': 648, '钱包': 649, '東京': 650, '后': 651, '週日': 652, '刷新': 653, '清理': 654, '骑车去': 655, '座位': 656, '人生': 657, '哦': 658, '賊': 659, '兩倍長': 660, '恶化': 661, '上火': 662, '看太多': 663, '任何': 664, '三岁': 665, '辭去': 666, '司法制度': 667, '網球': 668, '爱看': 669, '火车': 670, '發誓': 671, '到达': 672, '星期日': 673, '巴黎': 674, '摩托车': 675, '明朗': 676, '十分': 677, '成': 678, '吧': 679, '發出': 680, '晚饭': 681, '多': 682, '變': 683, '車撞': 684, '滿': 685, '不會': 686, '一百': 687, '老師': 688, '這裡': 689, '对应': 690, '太重': 691, '民主': 692, '湯姆喜': 693, '辦理': 694, '自我': 695, '湯姆熱': 696, '分為': 697, '踢足球': 698, '最差': 699, '那條': 700, '湯姆答': 701, '明白': 702, '嗜好': 703, '\\u200b': 704, '河里': 705, '野餐': 706, '宝宝': 707, '百分之八': 708, '留灯': 709, '從馬來': 710, '难懂': 711, '山顶': 712, '个': 713, '全世界': 714, '椅子': 715, '让': 716, '这肉': 717, '六點': 718, '控制': 719, '一致': 720, '日耳曼': 721, '理论': 722, '砍倒': 723, '走开': 724, '免費': 725, '播放器': 726, '放學': 727, '敲门': 728, '收下': 729, '笔在': 730, '湯': 731, '借': 732, '否认': 733, '小男孩': 734, '的': 735, '玩具': 736, '較之于': 737, '大學生': 738, '上空': 739, '关上': 740, '羞耻': 741, '阵雨': 742, '有給': 743, '玩得': 744, '保存': 745, '別開': 746, '佩服': 747, '来信': 748, '别': 749, '香蕉': 750, '高': 751, '但願': 752, '无礼': 753, '下个': 754, '思想': 755, '醫生': 756, '坐在': 757, '发烧': 758, '困難': 759, '还': 760, '困难': 761, '數位': 762, '猶豫去': 763, '內建': 764, '一场': 765, '雨季': 766, '履行': 767, '老鼠': 768, '去过': 769, '法语': 770, '大概': 771, '山上': 772, '解决': 773, '硬仗': 774, '情绪': 775, '等待': 776, '考试': 777, '掃': 778, '合同': 779, '别的': 780, '两个': 781, '无法忍受': 782, '給這本': 783, '沒給': 784, '做事': 785, '揚聲器': 786, '哥哥': 787, '值得': 788, '学校': 789, '帶': 790, '十年': 791, '度沸騰': 792, '国家': 793, '骗人': 794, '選為': 795, '这': 796, '船上': 797, '前住': 798, '一家': 799, '現在': 800, '油价': 801, '为': 802, '梦': 803, '年前': 804, '單位': 805, '級': 806, '學到': 807, '用大': 808, '科幻小说': 809, '禮服': 810, '清楚': 811, '访问': 812, '家裡': 813, '軍': 814, '點累': 815, '不到': 816, '何時會': 817, '花早': 818, '覺得': 819, '借口': 820, '不喜歡': 821, '您': 822, '詢處': 823, '哪': 824, '雪覆蓋': 825, '持续': 826, '联系': 827, '劫': 828, '收到': 829, '刷牙': 830, '火星': 831, '包被': 832, '纯属偶然': 833, '癌症': 834, '本地人': 835, '你何': 836, '打算': 837, '應': 838, '移出': 839, '喜歡': 840, '讀': 841, '所知': 842, '晚餐': 843, '隧道': 844, '故事': 845, '陰涼': 846, '过时': 847, '姊姊': 848, '杯': 849, '\\n': 850, '取得': 851, '为社': 852, '世界各地': 853, '邀': 854, '﹐': 855, '確定': 856, '镇里': 857, '明並': 858, '準備': 859, '我誤': 860, '再也不会': 861, '公室': 862, '生活': 863, '曆': 864, '桥': 865, '一篇': 866, '关于': 867, '丈夫': 868, '难读': 869, '比賽': 870, '失业': 871, '總理': 872, '威尼斯': 873, '谁': 874, '喝湯': 875, '這輛車': 876, '感覺': 877, '大声': 878, '筆嗎': 879, '紐西蘭': 880, '白日梦': 881, '輕': 882, '車': 883, '胃里': 884, '落榜': 885, '錯': 886, '无论': 887, '處理': 888, '自英國': 889, '。': 890, '這事': 891, '搶': 892, '審理': 893, '点': 894, '再': 895, '火車': 896, '胶卷': 897, '碰面': 898, '冷': 899, '批准': 900, '首歌': 901, '丢': 902, '舅舅': 903, '洽公': 904, '問問題': 905, '死': 906, '波士': 907, '作文': 908, '绳子': 909, '同时': 910, '晚飯': 911, '基礎': 912, '大衣': 913, '素描': 914, '回暖': 915, '自称': 916, '天要': 917, '同意': 918, '法語': 919, '付': 920, '咖哩': 921, '鬧': 922, '我能': 923, '週去還': 924, '椅上': 925, '解决问题': 926, '岩石': 927, '100': 928, '覆盖': 929, '根据': 930, '我問': 931, '保暖': 932, '收支平衡': 933, '内': 934, '就是': 935, '將花費': 936, '常常': 937, '我花': 938, '無邊': 939, '發脾氣': 940, '樂趣': 941, '比較': 942, '玫瑰': 943, '大狗': 944, '自': 945, '壁爐': 946, '依旧': 947, '當你年': 948, '参与': 949, '必须': 950, '模特': 951, '盡': 952, '今天下午': 953, '遠': 954, '递给': 955, '改了': 956, '粗心': 957, '画': 958, '鐘到': 959, '日元': 960, '戒菸': 961, '黑夜': 962, '约会': 963, '津': 964, '律師': 965, '協助': 966, 'MP3': 967, '不用': 968, '来说': 969, '迫使': 970, '冷水': 971, '詳細地': 972, '畢業': 973, '队伍': 974, '彻底': 975, '怀疑': 976, '接受': 977, '偷錢': 978, '昨晚': 979, '生产国': 980, '上面': 981, '當我': 982, '空': 983, '體重': 984, '月底': 985, '張紙': 986, '太大': 987, '尺寸': 988, '跑步': 989, '立刻': 990, '预定': 991, '一朵': 992, '算': 993, '護士長': 994, '出口商品': 995, '只有': 996, '我見': 997, '能來': 998, '也许': 999, '白酒': 1000, '我們': 1001, '体育运动': 1002, '西兰花': 1003, '下': 1004, '避暑': 1005, '那家店': 1006, '惊讶': 1007, '地筋': 1008, '太难': 1009, '一起': 1010, '真实': 1011, '没人': 1012, '出生': 1013, '熟悉': 1014, '好莱坞': 1015, '听见': 1016, '車鑰匙': 1017, '避免': 1018, '害怕': 1019, '眼鏡': 1020, '入口处': 1021, '条大狗': 1022, '航空公司': 1023, '经济': 1024, '见过': 1025, '下班': 1026, '蓋': 1027, '天上': 1028, '入學': 1029, '机场': 1030, '郵票': 1031, '看起来': 1032, '叔叔': 1033, '南翔': 1034, '漂亮': 1035, '獲人': 1036, '很長': 1037, '者': 1038, '新车': 1039, '走路': 1040, '女兒': 1041, '桶子': 1042, '自然资源': 1043, '市場': 1044, '多少': 1045, '流行': 1046, '选择': 1047, '身上': 1048, '一種': 1049, '些': 1050, '港口': 1051, '這條': 1052, '积极': 1053, '上床': 1054, '雲': 1055, '難': 1056, '一件': 1057, '逃避': 1058, '一条': 1059, '俱乐部': 1060, '告诉': 1061, '翻番': 1062, '租金': 1063, '手': 1064, '不得了': 1065, '偶遇': 1066, '最大': 1067, '拒绝': 1068, '時鐘': 1069, '猜想': 1070, '感谢': 1071, '告诉您': 1072, '以': 1073, '麗': 1074, '侵袭': 1075, '女士': 1076, '赤裸': 1077, '快要': 1078, '不安': 1079, '關於船': 1080, '驳回': 1081, '西亞': 1082, '毛病': 1083, '去世': 1084, '问': 1085, '站牌': 1086, '喝牛奶': 1087, '可怕': 1088, '罗马不是': 1089, '墙上': 1090, '小冊子': 1091, '起初': 1092, '不理': 1093, '等到': 1094, '帮忙': 1095, '報載': 1096, '我遇': 1097, '花園': 1098, '製': 1099, '醫院': 1100, '實際上': 1101, 'X光': 1102, '高达': 1103, '拥有': 1104, '架上': 1105, '茶勝過': 1106, '緊': 1107, '以前': 1108, '感觉': 1109, '吃惊': 1110, '书': 1111, '影響': 1112, '丢失': 1113, '打破': 1114, '方法': 1115, '開車': 1116, '牛': 1117, '應該': 1118, '財富並': 1119, '名字': 1120, '杯子': 1121, '要': 1122, '神户': 1123, '不清': 1124, '赶快': 1125, '往': 1126, '開往': 1127, '传染': 1128, '幸福': 1129, '但愿': 1130, '感到': 1131, '请': 1132, '弄': 1133, '指著別': 1134, '房間': 1135, '情況': 1136, '英国': 1137, '音樂': 1138, '下定': 1139, '错过': 1140, '结果': 1141, '生气': 1142, '牛肉': 1143, '遠足': 1144, '不错': 1145, '自行车': 1146, '有三個': 1147, '廳': 1148, '紧接着': 1149, '拒絕': 1150, '对不起': 1151, '緊張': 1152, '談話': 1153, '作業': 1154, '承认': 1155, '我會': 1156, '昨天上午': 1157, '以眼': 1158, '帶著': 1159, '确实': 1160, '书商': 1161, '颇为': 1162, '時': 1163, '將': 1164, '有多远': 1165, '东京': 1166, '如何': 1167, '得花': 1168, '看馬口': 1169, '节食': 1170, '当时': 1171, '听说': 1172, '東西': 1173, '轉晴': 1174, '指責': 1175, '煮': 1176, '盗窃': 1177, '尽管': 1178, '舞会': 1179, '短袖': 1180, '陷阱': 1181, '圣诞节': 1182, '表示同情': 1183, '”': 1184, '翻译': 1185, '孩子': 1186, '他人': 1187, '櫃': 1188, '一千': 1189, '点菜': 1190, '我覺': 1191, '開出': 1192, '深呼吸': 1193, '好点': 1194, '警察': 1195, '使用': 1196, '起來': 1197, '期间': 1198, '记忆': 1199, '健康': 1200, '造': 1201, '看病': 1202, '需要': 1203, '河像': 1204, '植': 1205, '产品': 1206, '酒馆': 1207, '我下': 1208, '看新聞': 1209, '支持': 1210, '交流': 1211, '魯莽': 1212, '晚': 1213, '壞': 1214, '明天': 1215, '滿意': 1216, '发现': 1217, '紐約': 1218, '結束': 1219, 'Tom': 1220, '写': 1221, '闖進': 1222, '裡': 1223, '過': 1224, '市里': 1225, '非洲': 1226, '可怜': 1227, '一遍': 1228, '希望': 1229, '不是': 1230, '最好': 1231, '想到': 1232, '这种': 1233, '抽签': 1234, '一萬': 1235, '接种': 1236, '信守诺言': 1237, '没有': 1238, '河': 1239, '全責': 1240, '走不動': 1241, '儉用': 1242, '預訂': 1243, '法国': 1244, '一套': 1245, '湯姆想': 1246, '福岡': 1247, '過嗎': 1248, '我為': 1249, '不可': 1250, '溜冰': 1251, '闆': 1252, '玩四輪': 1253, '石頭': 1254, '洗澡': 1255, '得到': 1256, '彼此': 1257, '啜泣': 1258, '?': 1259, '湯姆平時': 1260, '一樣': 1261, '松开': 1262, '擅': 1263, '本書來': 1264, '花比別': 1265, '喝': 1266, '产物': 1267, '婚姻': 1268, '踩': 1269, '博客': 1270, '根本': 1271, '年': 1272, '想出': 1273, '一段时间': 1274, '下個': 1275, '谢谢': 1276, '上帝': 1277, '投票': 1278, '处理': 1279, '成員': 1280, '问好': 1281, '讀書': 1282, '问题': 1283, '不太好': 1284, '划船': 1285, '喝水': 1286, '纸': 1287, '碰头': 1288, '好人': 1289, '演出': 1290, '早點': 1291, '冷空氣': 1292, '希尔顿酒店': 1293, '如果': 1294, '過體育館': 1295, '衣服': 1296, '感謝': 1297, '以下': 1298, '麼': 1299, '大学': 1300, '据我所知': 1301, '否決': 1302, '很早': 1303, '真': 1304, '掛號': 1305, '痴迷': 1306, '大利': 1307, '再也': 1308, '商業夥伴': 1309, '精通': 1310, '批評': 1311, '給湯姆': 1312, '學開車': 1313, '派对': 1314, '洗碗': 1315, '勇氣': 1316, '公交车': 1317, '不太清': 1318, '看不出': 1319, '保留': 1320, '房间': 1321, '關燈': 1322, '邀請': 1323, '邮票': 1324, '遊客': 1325, '湯姆己經': 1326, '选举': 1327, '當個': 1328, '經離開': 1329, '沒用': 1330, '原来': 1331, '英尺': 1332, '开始': 1333, '圖片': 1334, '叫做': 1335, '5625': 1336, '晴转': 1337, '撞倒': 1338, '面前': 1339, '好运': 1340, '情人': 1341, '别为': 1342, '打開': 1343, '張字條': 1344, '房里': 1345, '糖': 1346, '簽證': 1347, '贈馬': 1348, '女朋友': 1349, '拿': 1350, '骸骨': 1351, '脸': 1352, '提提': 1353, '吹': 1354, '高中生': 1355, '懷裡': 1356, '跳': 1357, '电能': 1358, '材料': 1359, '两块': 1360, '洗手': 1361, '总': 1362, '吃': 1363, '那時': 1364, '太平洋': 1365, '廚房': 1366, '这要': 1367, '主修': 1368, '辆车': 1369, '海邊': 1370, '冷静': 1371, '杀人': 1372, '许多': 1373, '信息': 1374, '习惯': 1375, '係': 1376, '法英': 1377, '我造': 1378, '整棟': 1379, '盘问': 1380, '釣魚': 1381, '场': 1382, '糊口': 1383, '小時': 1384, '超过': 1385, '幫忙': 1386, '自己': 1387, '行李': 1388, '夠嗎': 1389, '早上': 1390, '計程': 1391, '腳踏車': 1392, '回家': 1393, '他給': 1394, '这幅': 1395, '相信': 1396, '!': 1397, '車嗎': 1398, '哪裡': 1399, '經會': 1400, '所': 1401, '韋曾': 1402, '窗戶': 1403, '老师': 1404, '列车': 1405, '看': 1406, '額超過': 1407, '給我': 1408, '肉': 1409, '过度': 1410, '高中': 1411, '長': 1412, '上身': 1413, '十一': 1414, '同样': 1415, '父亲': 1416, '失去': 1417, '服務': 1418, '底下': 1419, '足够': 1420, '推出': 1421, '向': 1422, '是否': 1423, '接到': 1424, '公司': 1425, '髮': 1426, '观点': 1427, '德语': 1428, '副': 1429, '週見': 1430, '義': 1431, '快樂': 1432, '決定': 1433, '说唱': 1434, '市區': 1435, '早飯': 1436, '指纹': 1437, '帳單給': 1438, '每年': 1439, '未經': 1440, '万日元': 1441, '头': 1442, '不必': 1443, '太多': 1444, '标准': 1445, '在家': 1446, '张票': 1447, '病倒': 1448, '系统': 1449, '我会': 1450, '照顧': 1451, '春天': 1452, '见': 1453, '时机': 1454, '有趣': 1455, '难接近': 1456, '錯誤': 1457, '早餐': 1458, '学会': 1459, '收音': 1460, '有': 1461, '严禁吸烟': 1462, '真糟糕': 1463, '全写': 1464, '變暗': 1465, '瑪麗': 1466, '刚回到': 1467, '买不起': 1468, '跑': 1469, '歷史': 1470, '湯姆得': 1471, '橄欖球': 1472, '英雄': 1473, '鍾': 1474, '错': 1475, '娶': 1476, '一步': 1477, '時候': 1478, '几分': 1479, '必須': 1480, '读': 1481, '進步': 1482, '愛': 1483, '水在': 1484, '航海': 1485, '一张': 1486, '鐘鎖門': 1487, ' ': 1488, '上方': 1489, '稍候': 1490, '負責': 1491, '某人': 1492, '所以': 1493, '阳伞': 1494, '之外': 1495, '封信': 1496, '不想': 1497, '唱歌': 1498, '生命': 1499, '書名': 1500, '还是': 1501, '要求': 1502, '再試': 1503, '蘇格蘭': 1504, '國外': 1505, '談': 1506, '瑪麗會': 1507, '不如': 1508, '无法': 1509, '游泳': 1510, '疲力': 1511, '增長': 1512, '出席': 1513, '一盆': 1514, '下雨': 1515, '一盒': 1516, '銀窩': 1517, '漆': 1518, '賺': 1519, '活生生': 1520, '奇迹': 1521, '離婚': 1522, '手臂': 1523, '多麼強': 1524, '威士忌': 1525, '一块': 1526, '地板': 1527, '男生': 1528, '妈妈': 1529, '違背': 1530, '手机': 1531, '厲害': 1532, '生啤酒': 1533, '太空': 1534, '最高': 1535, '硫酸': 1536, '該': 1537, '当': 1538, '鉛筆': 1539, '黨': 1540, '茶': 1541, '关': 1542, '新书': 1543, '会往': 1544, '勇敢': 1545, '知識': 1546, '下个星期': 1547, '櫻花': 1548, '我在網': 1549, '有个': 1550, '试一下': 1551, '內會': 1552, '關心': 1553, '先': 1554, '看上去': 1555, '回答': 1556, '这次': 1557, '男孩': 1558, '经常': 1559, '写写': 1560, '摆脱': 1561, '该': 1562, '風': 1563, '抱怨': 1564, '外文': 1565, '正在': 1566, '公共汽车': 1567, '問問': 1568, '業': 1569, '湯姆會': 1570, '方式': 1571, '最要': 1572, '金钱': 1573, '下雪': 1574, '猜猜看': 1575, '当然': 1576, '游泳池': 1577, '花': 1578, '针对': 1579, '是': 1580, '西装': 1581, '往常': 1582, '罪行': 1583, '插手': 1584, '烟味': 1585, '这样': 1586, '和': 1587, '身体健康': 1588, '电视': 1589, '輪流': 1590, '濱松': 1591, '決心': 1592, '打开门': 1593, '觉得': 1594, '还会': 1595, '有害': 1596, '賭': 1597, '噓': 1598, '一會兒': 1599, '这个': 1600, '過午': 1601, '没想': 1602, '不该': 1603, '支票': 1604, '律师': 1605, '融洽': 1606, '維也納': 1607, '这里': 1608, '变': 1609, '000': 1610, '經死': 1611, '字': 1612, '張舒適': 1613, '父親': 1614, '雨停': 1615, '畫畫': 1616, '會去': 1617, '听': 1618, '俩': 1619, '會來': 1620, '量力而行': 1621, '院子': 1622, '宇宙': 1623, '如此': 1624, '毛衣': 1625, '安装': 1626, '建筑': 1627, '人们': 1628, '属于': 1629, '一條': 1630, '努力': 1631, '經是': 1632, '技术': 1633, '三十': 1634, '設計師': 1635, '看得': 1636, '說': 1637, '非去不可': 1638, '差點': 1639, '草莓': 1640, '怎么办': 1641, '采用': 1642, '完晚': 1643, '刷': 1644, '减弱': 1645, '最近': 1646, '难过': 1647, '圖改': 1648, '不在乎': 1649, '那本书': 1650, '水': 1651, '结论': 1652, '謝謝': 1653, '喝茶': 1654, '時代賞': 1655, '请帖': 1656, '一雙': 1657, '搭': 1658, '人群': 1659, '矮': 1660, '喉嚨': 1661, '收益': 1662, '手术': 1663, '搆': 1664, '很少': 1665, '嗎': 1666, '树': 1667, '未來': 1668, '第一次': 1669, '並告訴': 1670, '失望': 1671, '請給': 1672, '德語': 1673, '永久': 1674, '能力': 1675, '摑': 1676, '每个': 1677, '干什么': 1678, '蒙蔽': 1679, '微乎其微': 1680, '國家': 1681, '頓': 1682, '店裡': 1683, '那位': 1684, '許多': 1685, '但': 1686, '馬': 1687, '校舍': 1688, '保守': 1689, '癢': 1690, '发': 1691, '放弃': 1692, '月': 1693, '见到': 1694, '短跑': 1695, '？': 1696, '往日': 1697, '烧鱼': 1698, '这儿': 1699, '流感疫苗': 1700, '有股': 1701, '碗': 1702, '带': 1703, '喂過': 1704, '侄女': 1705, '欧洲': 1706, '一輛': 1707, '竞选': 1708, '之前': 1709, '用來': 1710, '當你': 1711, '阿蘇山': 1712, '决定': 1713, '應先學': 1714, '試圖': 1715, '空闲': 1716, '走来': 1717, '能够': 1718, '已經': 1719, '向左转': 1720, '拍照': 1721, '我要': 1722, '兒書': 1723, '曲膝': 1724, '行动': 1725, '瑪麗日語': 1726, '地掉': 1727, '報警': 1728, '组成': 1729, '味': 1730, '们': 1731, '親自去': 1732, '记日记': 1733, '遇到': 1734, '戰鬥': 1735, '意見': 1736, '蛋': 1737, '那么': 1738, '匪': 1739, '出發': 1740, '一座': 1741, '你們': 1742, '瑪麗舞': 1743, '有没有': 1744, '城裡': 1745, '遇见': 1746, '隊員': 1747, '运行': 1748, '隨著': 1749, '忙': 1750, '我想': 1751, '星期三': 1752, '埃及': 1753, '以来': 1754, '姐姐': 1755, '勸': 1756, '天气': 1757, '受罰': 1758, '地圖': 1759, '喜欢': 1760, '又': 1761, '忽然': 1762, '湯姆有': 1763, '商品': 1764, '口袋': 1765, '萬': 1766, '继续': 1767, '舊': 1768, '车库': 1769, '跟': 1770, '他家': 1771, '罪进': 1772, '影院': 1773, '無法': 1774, '接': 1775, '视为': 1776, '不禮貌': 1777, '參加會議': 1778, '結成': 1779, '倔强': 1780, '撲': 1781, '老板': 1782, '型': 1783, '诋毁': 1784, '一間': 1785, '太快': 1786, '我家': 1787, '牧地': 1788, '深信': 1789, '奇怪': 1790, '想要': 1791, '假': 1792, '乘客': 1793, '超過': 1794, '真的': 1795, '已经': 1796, '2020': 1797, '北海道': 1798, '畫鳥': 1799, '火': 1800, '投資中': 1801, '記者': 1802, '阻挡': 1803, '瑪': 1804, '最初': 1805, '石头': 1806, '家庭': 1807, '大': 1808, '119': 1809, '泰国菜': 1810, '炖菜': 1811, '躺': 1812, '我来': 1813, '头发': 1814, '很大': 1815, '小雨': 1816, '書畫': 1817, '火撲滅': 1818, '瀏覽': 1819, '广告': 1820, '取決': 1821, '弟弟': 1822, '件': 1823, '輾過': 1824, '我试': 1825, '派': 1826, '拍': 1827, '哈姆雷特': 1828, '這麼': 1829, '一次': 1830, '呢': 1831, '推了門': 1832, '）': 1833, '戒煙': 1834, '芝加哥': 1835, '這是': 1836, '同學': 1837, '继续下去': 1838, '多次': 1839, '精彩': 1840, '.': 1841, '无神论者': 1842, '画远': 1843, '人': 1844, '提醒': 1845, '聊起来': 1846, '白色': 1847, '麻烦': 1848, '几乎': 1849, '帐单': 1850, '謙遜': 1851, '完': 1852, '9': 1853, '着': 1854, '学': 1855, '30': 1856, '孫子': 1857, '別問': 1858, '马上': 1859, '沒能': 1860, '上个月': 1861, '付给': 1862, '我並': 1863, '投下': 1864, '恨': 1865, '沒': 1866, '幫助': 1867, '試著': 1868, '很慢': 1869, '画面': 1870, '讲': 1871, '增加': 1872, '于': 1873, '这周': 1874, '米饭': 1875, '虽然': 1876, '蒸汽': 1877, '汇入': 1878, '出門': 1879, '睡着': 1880, '盯': 1881, '帶來': 1882, '过': 1883, '昨天晚上': 1884, '一': 1885, '英文': 1886, '祝贺': 1887, '洗': 1888, '资金': 1889, '委员会': 1890, '增加一倍': 1891, '有点儿': 1892, '三年': 1893, '闻到': 1894, '不好': 1895, '飽': 1896, '我來': 1897, '评论': 1898, '上班': 1899, '金窩': 1900, '正式': 1901, '公園裡': 1902, '意幫': 1903, '射中': 1904, '館': 1905, '社會': 1906, '逃跑': 1907, '一天': 1908, '位': 1909, '隊長': 1910, '膽子': 1911, '經病': 1912, '娃娃': 1913, '飯': 1914, '波斯语': 1915, '將要': 1916, '有马': 1917, '饭前': 1918, '歐洲': 1919, '我见': 1920, '喝酒': 1921, '好得多': 1922, '浪費': 1923, '会议': 1924, '響': 1925, '百米': 1926, '活到老': 1927, '为荣': 1928, '因為': 1929, '前要': 1930, '诗人': 1931, '你们': 1932, '牙医': 1933, '炸': 1934, '兩': 1935, '不見': 1936, '戳': 1937, '這堂': 1938, '一个': 1939, '狗': 1940, '藍': 1941, '医院': 1942, '一位': 1943, '有权': 1944, '谈谈': 1945, '总统': 1946, '酒': 1947, '只': 1948, '週': 1949, '似乎': 1950, '这份': 1951, '他们': 1952, '傳真': 1953, '鞋子': 1954, '灵敏': 1955, '起到': 1956, '我作': 1957, '這場': 1958, '蛋糕': 1959, '可憐': 1960, '大家庭': 1961, '湯姆清': 1962, '並': 1963, '反应': 1964, '转变': 1965, '村莊': 1966, '約翰': 1967, '母语': 1968, '迎': 1969, '沒去': 1970, '不管': 1971, '发疯': 1972, '受伤': 1973, '真话': 1974, '經爬過': 1975, '人口': 1976, '一会儿': 1977, '冰塊': 1978, '事物': 1979, '那樣': 1980, '仅': 1981, '剧场': 1982, '打断': 1983, '饭后': 1984, '家务': 1985, '這個': 1986, '过会': 1987, '钱': 1988, '点火': 1989, '本書': 1990, '下列': 1991, '小鸟': 1992, '光': 1993, '我': 1994, '檯': 1995, '東方': 1996, '對付': 1997, '主題': 1998, '命令': 1999, '然': 2000, '沸腾': 2001, '溜': 2002, '取悅': 2003, '婚': 2004, '话': 2005, '上次': 2006, '呼吸': 2007, '延遲': 2008, '我讀': 2009, '已經來': 2010, '毁': 2011, '摸': 2012, '发生': 2013, '能問': 2014, '缺少': 2015, '女性朋友': 2016, '中': 2017, '在校': 2018, '同志': 2019, '短': 2020, '臉紅': 2021, '鐘': 2022, '厚厚的': 2023, '地利': 2024, '裡裝滿': 2025, '日语': 2026, '意': 2027, '難題': 2028, '不介意': 2029, '冷战': 2030, '紅肉': 2031, '橘子': 2032, '责任': 2033, '還是': 2034, '见面': 2035, '暴風雨': 2036, '想一想': 2037, '洪水': 2038, '與': 2039, '我怕': 2040, '輕井澤是': 2041, '买': 2042, '哪本書': 2043, '大部份': 2044, '澳大利亚': 2045, '驚訝': 2046, '不': 2047, '約': 2048, '果園': 2049, '之一': 2050, '认为': 2051, '上十個': 2052, '尊重': 2053, '有人': 2054, '出名': 2055, '便宜': 2056, '倫敦': 2057, '甚至': 2058, '一些': 2059, '設法': 2060, '這房間': 2061, '外面': 2062, '巨蛇': 2063, '敵人': 2064, '多長': 2065, '作演': 2066, '養': 2067, '三天': 2068, '满意': 2069, '很难说': 2070, '一个圈': 2071, '發生': 2072, '當時': 2073, '找個屬': 2074, '造成': 2075, '那样': 2076, '回來': 2077, '走上': 2078, '确定': 2079, '那種': 2080, '演奏': 2081, '旅行': 2082, '放学': 2083, '成为': 2084, '阿拉伯': 2085, '泡': 2086, '機': 2087, '鳥類': 2088, '很快': 2089, '曾': 2090, '手掌': 2091, '转角处': 2092, '或許': 2093, '文學': 2094, '关门': 2095, '妹妹': 2096, '有些': 2097, '下来': 2098, '几岁': 2099, '扔': 2100, '屈服': 2101, '孔蓋': 2102, '多种': 2103, '來些': 2104, '道理': 2105, '這次': 2106, '一見': 2107, '撿': 2108, '縮': 2109, '牆': 2110, '夢': 2111, '小心': 2112, '还有': 2113, '感冒': 2114, '這笑': 2115, '盡力': 2116, '随': 2117, '相機裡': 2118, '通电话': 2119, '午餐': 2120, '取消': 2121, '演员': 2122, '湯姆能': 2123, '顺利': 2124, '學校': 2125, '超市': 2126, '城堡': 2127, '等': 2128, '破例': 2129, '幾個': 2130, '嫁給': 2131, '車站': 2132, '抬起': 2133, '太老': 2134, '周全': 2135, '胃': 2136, '交了': 2137, '不动': 2138, '而': 2139, '下樓': 2140, '股票': 2141, '天': 2142, '失敗': 2143, '學生': 2144, '巴布': 2145, '那有': 2146, '暑假': 2147, '遲到': 2148, '法律': 2149, '给': 2150, '不難': 2151, '替': 2152, '跡象': 2153, '节日': 2154, '帮助': 2155, '好久': 2156, '生氣': 2157, '社会阶层': 2158, '等會兒': 2159, '喝一杯': 2160, '安靜': 2161, '车': 2162, '退出': 2163, '要告': 2164, '陪伴': 2165, '大量': 2166, '他來': 2167, '一下': 2168, '碰巧在': 2169, '正要': 2170, '好好': 2171, '申請表': 2172, '這扇': 2173, '小偷': 2174, '态度': 2175, '词汇': 2176, '一兩天': 2177, '玛丽': 2178, '抓住': 2179, '32': 2180, '獨自': 2181, '爺爺': 2182, '很难': 2183, '度': 2184, '想念': 2185, '勝過': 2186, '這塊': 2187, '试着': 2188, '群鸟': 2189, '在': 2190, '一班': 2191, '带到': 2192, '超速': 2193, '探险家': 2194, '体重': 2195, '去': 2196, '非常少': 2197, '有益': 2198, '得学': 2199, '什麼': 2200, '这条': 2201, '！': 2202, '汤姆': 2203, '身体': 2204, '计划': 2205, '提出': 2206, '略称': 2207, '妻子': 2208, '多久': 2209, '尽快': 2210, '包起': 2211, '都': 2212, '完早': 2213, '漫步': 2214, '应该': 2215, '并': 2216, '胆固醇': 2217, '何时': 2218, '損害': 2219, '西施': 2220, '擴散': 2221, '隨便': 2222, '有关': 2223, '繫': 2224, '吃饭': 2225, '籃球': 2226, '意见': 2227, '酒店': 2228, '漢堡': 2229, '朝着': 2230, '解决办法': 2231, '一股': 2232, 'OK': 2233, '做作': 2234, '錯車': 2235, '這本': 2236, '禁止': 2237, '嫉妒': 2238, '疾風席': 2239, '太太': 2240, '我累': 2241, 'AI': 2242, '班里': 2243, '結論': 2244, '為': 2245, '生物': 2246, '個': 2247, '早晨': 2248, '談過': 2249, '没': 2250, '太阳': 2251, '做起': 2252, '數小時': 2253, '人家': 2254, '問題': 2255, '一切': 2256, '今天天气': 2257, '痛苦': 2258, '大众': 2259, '讀點': 2260, '休息': 2261, '月光': 2262, '一份': 2263, '起床': 2264, '把门': 2265, '上床睡觉': 2266, '钱财': 2267, '移民': 2268, '認為': 2269, '參觀': 2270, '中擠': 2271, '偶然': 2272, '小孩': 2273, '两队': 2274, '水是': 2275, '远道而来': 2276, '成功': 2277, '另': 2278, '癌細胞': 2279, '锻炼': 2280, '中受': 2281, '风险投资': 2282, '宮崎': 2283, '諮': 2284, '著名': 2285, '生存': 2286, '3202': 2287, '會見': 2288, '嘿': 2289, '聯合': 2290, '書': 2291, '更好': 2292, '負起': 2293, '换': 2294, '预订': 2295, '遇不到': 2296, '责备': 2297, '哪個': 2298, '花卉': 2299, '煤炭': 2300, '学了': 2301, '場費': 2302, '凝视着': 2303, '演奏会': 2304, '瑪莉': 2305, '之间': 2306, '出售': 2307, '失明': 2308, '那裡': 2309, '記得給': 2310, '每天': 2311, '還會': 2312, '迷失': 2313, '哪个': 2314, '屋': 2315, '兩歲': 2316, '朋友': 2317, '这项': 2318, '服务生': 2319, '扮演': 2320, '喝醉': 2321, '必要': 2322, '号码': 2323, '午饭': 2324, '整天': 2325, '引人注目': 2326, '英语老师': 2327, '通過': 2328, '它们': 2329, '生病': 2330, '母亲': 2331, '昨天': 2332, '輕輕地': 2333, '死后': 2334, '媽媽': 2335, '一颗': 2336, '這家': 2337, '破坏': 2338, '乾杯': 2339, '必定': 2340, '習口': 2341, '教': 2342, '封': 2343, '泳池': 2344, '激怒': 2345, '得不到': 2346, '很': 2347, '精力': 2348, '姓': 2349, '形': 2350, '語詞': 2351, '完信': 2352, '但是': 2353, '河裡': 2354, '大使': 2355, '自助': 2356, '最後一個': 2357, '變話題': 2358, '出来': 2359, '桌上': 2360, '張圖畫': 2361, '聚会': 2362, '被车撞': 2363, '變冷': 2364, '紅色': 2365, '內': 2366, '打電話': 2367, '想起': 2368, '照耀': 2369, '可全': 2370, '我前': 2371, '会员': 2372, '钥匙': 2373, '柳橙汁': 2374, '學著閉': 2375, '人孔': 2376, '借支': 2377, '殖民地': 2378, '常': 2379, '词典': 2380, '兜': 2381, '寵物': 2382, '以后': 2383, '从': 2384, '放到': 2385, '豐富': 2386, '高兴': 2387, '我給': 2388, '原諒': 2389, '不允許': 2390, '羡慕': 2391, '一整天': 2392, '哪一條': 2393, '日': 2394, '那里': 2395, '囚犯': 2396, '必需': 2397, '天氣將': 2398, '訂單': 2399, '盒子': 2400, '無': 2401, '做些': 2402, '短裙': 2403, '誤以': 2404, '风暴': 2405, '嗨': 2406, '咖啡': 2407, '她们': 2408, '三個': 2409, '進入': 2410, '自行': 2411, '從': 2412, '报告': 2413, '額': 2414, '走運': 2415, '一杯': 2416, '钓鱼': 2417, '桌子': 2418, '熨烫': 2419, '消息': 2420, '把': 2421, '事': 2422, '电视新闻': 2423, '過時': 2424, '容易': 2425, '衣': 2426, '關門': 2427, '必不可少': 2428, '幾號': 2429, '做到': 2430, '半小時': 2431, '面包': 2432, '開': 2433, '過國': 2434, 'CD': 2435, '比薩': 2436, '小屋': 2437, '生意': 2438, '减肥': 2439, '其他人': 2440, '解決': 2441, '犯': 2442, '事实': 2443, '打扰': 2444, '有钱': 2445, '一点': 2446, '公平': 2447, '西藍花': 2448, '美丽': 2449, '登上': 2450, '期待': 2451, '圖書館': 2452, '澳洲': 2453, '或': 2454, '誰': 2455, '抓到': 2456, '独自': 2457, '阿拉伯文': 2458, '地': 2459, '的電': 2460, '雞': 2461, '归': 2462, '年龄': 2463, '風箏給': 2464, '宴會': 2465, '强大': 2466, '筆': 2467, '綁': 2468, '进': 2469, '無知': 2470, '用于': 2471, '小': 2472, '病': 2473, '去年': 2474, '送到': 2475, '哲学家': 2476, '房子': 2477, '生日': 2478, '走': 2479, '會': 2480, '坐下': 2481, '做饭': 2482, '天氣': 2483, '攝氏': 2484, '很多年': 2485, '周日': 2486, '新': 2487, '酸痛': 2488, '擦': 2489, '一本': 2490, '手機': 2491, '起': 2492, '勝利': 2493, '也': 2494, '每個': 2495, '修理': 2496, '出版': 2497, '无从': 2498, '，': 2499, '气候': 2500, '快': 2501, '丢脸': 2502, '我現': 2503, '洗头': 2504, '習慣': 2505, '咳嗽': 2506, '雪': 2507, '天色': 2508, '整个': 2509, '變老': 2510, '尝试': 2511, '簽名': 2512, '了傷': 2513, '干': 2514, '六點鐘': 2515, '及': 2516, '那太': 2517, '长度': 2518, '回信': 2519, '主意': 2520, '调音师': 2521, '小说': 2522, '九': 2523, '么': 2524, '這支': 2525, '撒谎': 2526, '8': 2527, '籃子': 2528, '对于': 2529, '工作': 2530, '车里': 2531, '找到': 2532, '很蠢': 2533, '他們': 2534, '英語': 2535, '常看到': 2536, '有罪': 2537, '记得': 2538, '问个': 2539, '日渐': 2540, '买辆': 2541, '犯傻': 2542, '费用': 2543, '別人付': 2544, '女性': 2545, '游戏': 2546, '軌道': 2547, '幾天': 2548, '總': 2549, '甚麼': 2550, '跑调': 2551, '阻止': 2552, '岁': 2553, '京都': 2554, '爬': 2555, '沒有花': 2556, '想象': 2557, '炒蛋': 2558, '图书馆': 2559, '交响乐团': 2560, '壽司': 2561, '講座': 2562, '喝太多': 2563, '说': 2564, '洋娃娃': 2565, '贵': 2566, '夏天': 2567, '見面': 2568, '考慮': 2569, '关系': 2570, '来看': 2571, '早': 2572, '碰': 2573, '背上': 2574, '江戶': 2575, '寄给': 2576, '领子': 2577, '別': 2578, '變得': 2579, '迷了路': 2580, '那個': 2581, '弥补': 2582, '碎玻璃': 2583, '相識': 2584, '火山湖': 2585, '捷克语': 2586, '长信': 2587, '回學校': 2588, '牆上': 2589, '請教': 2590, '影子': 2591, '完全': 2592, '哪裡長': 2593, '館入': 2594, '穿過': 2595, '注意': 2596, '纽约': 2597, '问过': 2598, '这本': 2599, '恥辱': 2600, '電影': 2601, '有空': 2602, '地方': 2603, '一個': 2604, '旅游': 2605, '撥': 2606, '晚到': 2607, '做點': 2608, '食物': 2609, '以为': 2610, '\\t': 2611, '三名': 2612, '军队': 2613, '畫掛': 2614, '10': 2615, '窗子': 2616, '深思熟虑': 2617, '嚇到': 2618, '日本': 2619, '翻譯成': 2620, '會問': 2621, '最新进展': 2622, '請將': 2623, '小说家': 2624, '滑冰': 2625, '鋼琴彈': 2626, '行不通': 2627, '怪物': 2628, '山': 2629, '經常': 2630, '遲': 2631, '保持': 2632, '交友': 2633, '受傷': 2634, '拍山': 2635, '同一天': 2636, '鬆': 2637, '插畫': 2638, '公園': 2639, '嗅觉': 2640, '人會': 2641, '最': 2642, '嚴重': 2643, '水果': 2644, '姑娘': 2645, '进一步': 2646, '湯姆要': 2647, '頭皮': 2648, '读书': 2649, '政府': 2650, '意思': 2651, '就': 2652, '彈鋼琴': 2653, '留在': 2654, '后面': 2655, '借用': 2656, '一桶': 2657, '神戶': 2658, '我的車': 2659, '重建': 2660, '一點熱': 2661, '美国': 2662, '紀錄': 2663, '只靠': 2664, '天线': 2665, '不錯': 2666, '這比賽': 2667, '省': 2668, '那座': 2669, '拜訪': 2670, '年轻': 2671, '給': 2672, '规矩': 2673, '妄下': 2674, '偷': 2675, '半小时': 2676, '救': 2677, '颁奖典礼': 2678, '風箏節': 2679, '沒關': 2680, '那种': 2681, '額外': 2682, '玩': 2683, '開始': 2684, '凡事': 2685, '黑': 2686, '中餐': 2687, '還眼': 2688, '無論': 2689, '查查': 2690, '一刻': 2691, '幾點': 2692, '久': 2693, '作用': 2694, '梦想': 2695, '收藏': 2696, '火箭': 2697, '教堂': 2698, '意願結': 2699, '无能为力': 2700, '点来': 2701, '嘴': 2702, '他會': 2703, '仔細地': 2704, '天花': 2705, '再见': 2706, '保护': 2707, '達': 2708, '记不起来': 2709, '即使': 2710, '对': 2711, '要來': 2712, '大約': 2713, '有时候': 2714, '小心翼翼': 2715, '全盤': 2716, '米': 2717, '想': 2718, '看來': 2719, '排球': 2720, '吸煙': 2721, '考試': 2722, '這週末': 2723, '合作': 2724, '放在': 2725, '可是': 2726, '丰富': 2727, '木制': 2728, '課': 2729, '姐妹': 2730, '慢': 2731, '我願': 2732, '与': 2733, '遵守规则': 2734, '富士山': 2735, '艺术家': 2736, '抱歉': 2737, '趕到': 2738, '奥斯卡': 2739, '期盼': 2740, '幾乎': 2741, '見': 2742, '大象': 2743, '坠毁': 2744, '时': 2745, '提前': 2746, '文件': 2747, '車在': 2748, '相機': 2749, '穿': 2750, '解释': 2751, '这位': 2752, '穿著': 2753, '唯一': 2754, '外': 2755, '到期': 2756, '全部': 2757, '上课': 2758, '活动': 2759, '羞恥': 2760, '倖免': 2761, '火警': 2762, '东西': 2763, '里加': 2764, '留學': 2765, '一瓶': 2766, '上涨': 2767, '危险': 2768, '不吃': 2769, '興趣': 2770, '不再': 2771, '哪里': 2772, '牛奶': 2773, '職守': 2774, '全都': 2775, '賣': 2776, '澡': 2777, '铅笔': 2778, '看見': 2779, '記憶力': 2780, '发育': 2781, '一打': 2782, '早起': 2783, '块': 2784, '我起': 2785, '發射': 2786, '有意思': 2787, '六': 2788, '大學': 2789, '很新鮮': 2790, '小三歲': 2791, '才': 2792, '瓶子': 2793, '成為': 2794, '世界': 2795, '说话': 2796, '免疫': 2797, '监狱': 2798, '損失': 2799, '浩瀚': 2800, '今天': 2801, '游得': 2802, '就會': 2803, '填寫': 2804, '爆炸': 2805, '鸟类': 2806, '做': 2807, '疯': 2808, '貓兒': 2809, '那': 2810, '秘密': 2811, '起来': 2812, '此': 2813, '湯姆還': 2814, '出國': 2815, '比': 2816, '巴西': 2817, '有關': 2818, '點鐘': 2819, '不要': 2820, '这是': 2821, '很困': 2822, '車賣給': 2823, '不卖': 2824, '向右转': 2825, '有用': 2826, '賺進': 2827, '隐藏': 2828, '嗓音': 2829, '安全': 2830, '顏色': 2831, '红旗': 2832, '第二次': 2833, '這讓': 2834, '加为好友': 2835, '有條': 2836, '結婚': 2837, '而且': 2838, '从没': 2839, '过瘾': 2840, '公园': 2841, '眼睛': 2842, '没人能': 2843, '錢': 2844, '城市': 2845, '已': 2846, '原因': 2847, '水在華氏': 2848, '研讀': 2849, '會議': 2850, '睡': 2851, '承諾': 2852, '一到': 2853, '他仅': 2854, '那盘': 2855, '忘记': 2856, '其他': 2857, '帮帮': 2858, '深色': 2859, '沒見過': 2860, '环游': 2861, '親戚': 2862, '存在': 2863, '对话': 2864, '著下': 2865, '公車': 2866, '愛我': 2867, '穷人': 2868, '改不了': 2869, '機會': 2870, '沙拉油': 2871, '書放': 2872, '创造': 2873, '敏感': 2874, '只是': 2875, '很美麗': 2876, '开到': 2877, '巴士': 2878, '女生': 2879, '靠不住': 2880, '綻': 2881, '一句': 2882, '不怕': 2883, '講英語': 2884, '更': 2885, '写信': 2886, '男朋友': 2887, '一幅': 2888, '一定': 2889, '回覆': 2890, '带大': 2891, '地玩': 2892, '全身': 2893, '幚': 2894, '十个': 2895, '的话': 2896, '电话': 2897, '勝地': 2898, '发车': 2899, '长回': 2900, '按': 2901, '变为': 2902, '大部分': 2903, '光臨': 2904, '箱子': 2905, '中文': 2906, '八小时': 2907, '很多': 2908, '她贏': 2909, '蓝色': 2910, '一只': 2911, '機聽': 2912, '不論': 2913, '学生': 2914, '兒子講': 2915, '帮': 2916, '以往': 2917, '崎': 2918, '新書': 2919, '相': 2920, '送': 2921, '嬰兒': 2922, '估計': 2923, '我们': 2924, '這座': 2925, '這本書': 2926, '担心': 2927, '兄弟': 2928, '留言': 2929, '天空': 2930, '給我們': 2931, '太小': 2932, '、': 2933, '丟了': 2934, '變得安靜': 2935, '盛大': 2936, '幫': 2937, '將會': 2938, '事儿': 2939, '理由': 2940, '然后': 2941, '阅读': 2942, '最后': 2943, '我錯': 2944, '怎麼換': 2945, '真走運': 2946, '湯姆死': 2947, '正确': 2948, '利用': 2949, '東西寫': 2950, '舞台': 2951, '收入': 2952, '放火': 2953, '組裝': 2954, '覺察到': 2955, 'Maruzen': 2956, '电视机': 2957, '後': 2958, '美元': 2959, '認識': 2960, '方向': 2961, '过头': 2962, '睡覺': 2963, '怠忽': 2964, '找': 2965, '先生': 2966, '一人': 2967, '請求': 2968, '轉為': 2969, '投入': 2970, '冷淡': 2971, '裡種': 2972, '喝咖啡': 2973, '床': 2974, '那麼': 2975, '一把': 2976, '我本': 2977, '數學': 2978, '惊呆': 2979, '依靠': 2980, '半左右': 2981, '碰到': 2982, '時間': 2983, '有够': 2984, '饿': 2985, '時會': 2986, '冒險': 2987, '苹果': 2988, '孤立': 2989, '一周': 2990, '住在一起': 2991, '收集': 2992, '要是': 2993, '他': 2994, '奧': 2995, '不算': 2996, '整洁': 2997, '不难': 2998, '一项': 2999, '交谈': 3000, '参加': 3001, '道歉': 3002, '不仅': 3003, '兄长': 3004, '他治好': 3005, '解体': 3006, '这事': 3007, '有學生': 3008, '浮现': 3009, '为什么': 3010, '下午': 3011, '监视': 3012, '沒有': 3013, '进来': 3014, '科学': 3015, '頓待': 3016, '儿子': 3017, '一樓': 3018, '张': 3019, '十支': 3020, '隨時': 3021, '句子': 3022, '畫': 3023, '室内': 3024, '活泼': 3025, '一輛車': 3026, '偿还债务': 3027, '人类': 3028, '不够': 3029, '和解': 3030, '保安': 3031, '辛辣': 3032, '膝': 3033, '行程': 3034, '棒球': 3035, '關起': 3036, '博物': 3037, '週前': 3038, '大雨': 3039, '讲述': 3040, '管好': 3041, '接下来': 3042, '很晚': 3043, '不会': 3044, '贏的': 3045, '永生': 3046, '不遲': 3047, '以牙': 3048, '路過': 3049, '高得': 3050, '伏特加': 3051, '血': 3052, '波士顿': 3053, '医学': 3054, '乾淨': 3055, '卖': 3056, '直接': 3057, '擅長': 3058, '公斤': 3059, '攬': 3060, '規則': 3061, '表達': 3062, '有点': 3063, '點': 3064, '對': 3065, '英國': 3066, '郁金香': 3067, '銀行': 3068, '允許': 3069, '里面': 3070, '慢跑': 3071, '倒入': 3072, '打网球': 3073, '多年': 3074, '政治家': 3075, '迪士尼': 3076, '焰火': 3077, '情': 3078, '桌前': 3079, '五分': 3080, '里游': 3081, '胃痛': 3082, '悲傷': 3083, '医生': 3084, '好': 3085, '掉': 3086, '鐘後開動': 3087, '了許': 3088, '青蛙': 3089, '没想到': 3090, '窩': 3091, '今晚': 3092, '几个': 3093, '談論': 3094, '旅馆': 3095, '一辆': 3096, '忠告': 3097, '得出': 3098, '雨': 3099, '包': 3100, '音乐': 3101, '高興': 3102, '怎样': 3103, '限度': 3104, '家人': 3105, '提議': 3106, '千军万马': 3107, '长': 3108, '他怕': 3109, '答复': 3110, '日文': 3111, '圣经': 3112, '送給': 3113, '研究': 3114, '拉': 3115, '九點': 3116, '清白': 3117, '任务': 3118, 'T': 3119, '勸告': 3120, '一頂': 3121, '盡量': 3122, '告訴': 3123, '做功': 3124, '现在': 3125, '訊息': 3126, '電視': 3127, '拿到': 3128, '銀和錫': 3129, '玻璃杯': 3130, '訂婚': 3131, '谈论': 3132, '任何人': 3133, '意义': 3134, '不能': 3135, '有名': 3136, '公車將': 3137, '国际象棋': 3138, '被': 3139, '他会': 3140, '一支': 3141, '何時': 3142, '日记': 3143, '对此': 3144, '成千上万': 3145, '燒了': 3146, '法官': 3147, '就要': 3148, '假期': 3149, '考虑': 3150, '图': 3151, '附近': 3152, '万幸': 3153, '“': 3154, '教授': 3155, '新鲜': 3156, '隻': 3157, '昏昏欲睡': 3158, '想法': 3159, '西班牙文': 3160, '练': 3161, '驕傲': 3162, '提交': 3163, '市中心': 3164, '笨蛋': 3165, '警告': 3166, '一年': 3167, '路上': 3168, '提供': 3169, '小路': 3170, '前': 3171, '真相': 3172, '窄路': 3173, '老妇人': 3174, '腳印': 3175, '10000': 3176, '睡觉': 3177, '喝杯': 3178, '拘捕': 3179, '初學者': 3180, '油漆': 3181, '糟糕': 3182, '辭職': 3183, '第一个': 3184, '礼物': 3185, '麻煩': 3186, '不常笑': 3187, '傲慢': 3188, '教育': 3189, '森林': 3190, '之': 3191, '挂': 3192, '报纸': 3193, '名古屋': 3194, '否則': 3195, '巨大': 3196, '小提琴': 3197}\n"
     ]
    }
   ],
   "source": [
    "input_token_index = dict(\n",
    "    [(token, i) for i, token in enumerate(input_tokens)])\n",
    "target_token_index = dict(\n",
    "    [(token, i) for i, token in enumerate(target_tokens)])\n",
    "\n",
    "print(\"\\ninput index:\")\n",
    "print(input_token_index)\n",
    "\n",
    "print(\"\\ntarget index:\")\n",
    "print(target_token_index)"
   ]
  },
  {
   "cell_type": "code",
   "execution_count": 3,
   "id": "b17437cf",
   "metadata": {},
   "outputs": [
    {
     "name": "stdout",
     "output_type": "stream",
     "text": [
      "The shape is (batch_size, time_steps, input_dim)\n",
      "so it will be (number of x, length of each x, dimension of x)\n",
      "\n",
      "encoder input shape:\n",
      "(2000, 19, 2165)\n",
      "\n",
      "decoder input shape:\n",
      "(2000, 21, 3198)\n",
      "\n",
      "decoder target shape:\n",
      "(2000, 21, 3198)\n",
      "\n",
      "encoder input data (1-hot):\n",
      "[[[0. 0. 0. ... 0. 0. 0.]\n",
      "  [0. 0. 0. ... 0. 0. 0.]\n",
      "  [0. 0. 0. ... 0. 0. 0.]\n",
      "  ...\n",
      "  [0. 0. 0. ... 0. 0. 0.]\n",
      "  [0. 0. 0. ... 0. 0. 0.]\n",
      "  [0. 0. 0. ... 0. 0. 0.]]\n",
      "\n",
      " [[0. 0. 0. ... 0. 0. 0.]\n",
      "  [0. 0. 0. ... 0. 0. 0.]\n",
      "  [0. 0. 0. ... 0. 0. 0.]\n",
      "  ...\n",
      "  [0. 0. 0. ... 0. 0. 0.]\n",
      "  [0. 0. 0. ... 0. 0. 0.]\n",
      "  [0. 0. 0. ... 0. 0. 0.]]]\n",
      "\n",
      "decoder input data (1-hot):\n",
      "[[[0. 0. 0. ... 0. 0. 0.]\n",
      "  [0. 0. 0. ... 0. 0. 0.]\n",
      "  [0. 0. 0. ... 0. 0. 0.]\n",
      "  ...\n",
      "  [0. 0. 0. ... 0. 0. 0.]\n",
      "  [0. 0. 0. ... 0. 0. 0.]\n",
      "  [0. 0. 0. ... 0. 0. 0.]]\n",
      "\n",
      " [[0. 0. 0. ... 0. 0. 0.]\n",
      "  [0. 0. 0. ... 0. 0. 0.]\n",
      "  [0. 0. 0. ... 0. 0. 0.]\n",
      "  ...\n",
      "  [0. 0. 0. ... 0. 0. 0.]\n",
      "  [0. 0. 0. ... 0. 0. 0.]\n",
      "  [0. 0. 0. ... 0. 0. 0.]]]\n",
      "\n",
      "decoder target data (1-hot):\n",
      "[[[0. 0. 0. ... 0. 0. 0.]\n",
      "  [0. 0. 0. ... 0. 0. 0.]\n",
      "  [0. 0. 0. ... 0. 0. 0.]\n",
      "  ...\n",
      "  [0. 0. 0. ... 0. 0. 0.]\n",
      "  [0. 0. 0. ... 0. 0. 0.]\n",
      "  [0. 0. 0. ... 0. 0. 0.]]\n",
      "\n",
      " [[0. 0. 0. ... 0. 0. 0.]\n",
      "  [0. 0. 0. ... 0. 0. 0.]\n",
      "  [0. 0. 0. ... 0. 0. 0.]\n",
      "  ...\n",
      "  [0. 0. 0. ... 0. 0. 0.]\n",
      "  [0. 0. 0. ... 0. 0. 0.]\n",
      "  [0. 0. 0. ... 0. 0. 0.]]]\n"
     ]
    }
   ],
   "source": [
    "encoder_input_data = np.zeros(\n",
    "    (len(input_texts), max_encoder_seq_length, num_encoder_tokens),\n",
    "    dtype='float32')\n",
    "decoder_input_data = np.zeros(\n",
    "    (len(input_texts), max_decoder_seq_length, num_decoder_tokens),\n",
    "    dtype='float32')\n",
    "decoder_target_data = np.zeros(\n",
    "    (len(input_texts), max_decoder_seq_length, num_decoder_tokens),\n",
    "    dtype='float32')\n",
    "\n",
    "for i, (input_text, target_text) in enumerate(zip(input_texts, target_texts)):\n",
    "    for t, token in enumerate(input_text):\n",
    "        encoder_input_data[i, t, input_token_index[token]] = 1.\n",
    "    for t, token in enumerate(target_text):\n",
    "        # decoder_target_data is ahead of decoder_input_data by one timestep\n",
    "        decoder_input_data[i, t, target_token_index[token]] = 1.\n",
    "        if t > 0:\n",
    "            # decoder_target_data will be ahead by one timestep\n",
    "            # and will not include the start character.\n",
    "            decoder_target_data[i, t - 1, target_token_index[token]] = 1.\n",
    "\n",
    "print(\"The shape is (batch_size, time_steps, input_dim)\")\n",
    "print(\"so it will be (number of x, length of each x, dimension of x)\")\n",
    "print(\"\\nencoder input shape:\")\n",
    "print(encoder_input_data.shape)\n",
    "print(\"\\ndecoder input shape:\")\n",
    "print(decoder_input_data.shape)\n",
    "print(\"\\ndecoder target shape:\")\n",
    "print(decoder_target_data.shape)\n",
    "            \n",
    "print(\"\\nencoder input data (1-hot):\")\n",
    "print(encoder_input_data[-2:])\n",
    "print(\"\\ndecoder input data (1-hot):\")\n",
    "print(decoder_input_data[-2:])\n",
    "print(\"\\ndecoder target data (1-hot):\")\n",
    "print(decoder_target_data[-2:])"
   ]
  },
  {
   "cell_type": "code",
   "execution_count": 4,
   "id": "4a1b2d96",
   "metadata": {},
   "outputs": [
    {
     "name": "stderr",
     "output_type": "stream",
     "text": [
      "2025-06-25 13:57:29.628823: I tensorflow/compiler/jit/xla_cpu_device.cc:41] Not creating XLA devices, tf_xla_enable_xla_devices not set\n",
      "2025-06-25 13:57:29.670932: W tensorflow/stream_executor/platform/default/dso_loader.cc:60] Could not load dynamic library 'libcuda.so.1'; dlerror: libcuda.so.1: cannot open shared object file: No such file or directory\n",
      "2025-06-25 13:57:29.676839: W tensorflow/stream_executor/cuda/cuda_driver.cc:326] failed call to cuInit: UNKNOWN ERROR (303)\n",
      "2025-06-25 13:57:29.678506: I tensorflow/stream_executor/cuda/cuda_diagnostics.cc:156] kernel driver does not appear to be running on this host (2780c4aad032): /proc/driver/nvidia/version does not exist\n",
      "2025-06-25 13:57:29.687902: I tensorflow/core/platform/cpu_feature_guard.cc:142] This TensorFlow binary is optimized with oneAPI Deep Neural Network Library (oneDNN) to use the following CPU instructions in performance-critical operations:  AVX2 FMA\n",
      "To enable them in other operations, rebuild TensorFlow with the appropriate compiler flags.\n",
      "2025-06-25 13:57:29.688873: I tensorflow/compiler/jit/xla_gpu_device.cc:99] Not creating XLA devices, tf_xla_enable_xla_devices not set\n"
     ]
    },
    {
     "name": "stdout",
     "output_type": "stream",
     "text": [
      "encoder_inputs: (None, None, 2165)\n",
      "state: (None, 128)\n",
      "encoder_outputs: (None, None, 128)\n"
     ]
    }
   ],
   "source": [
    "class Encoder(Model):\n",
    "    def __init__(self, vocab_size, latent_dim, batch_sz):\n",
    "        super(Encoder, self).__init__()\n",
    "        self.batch_sz = batch_sz\n",
    "        self.latent_dim = latent_dim\n",
    "        self.lstm = GRU(self.latent_dim,\n",
    "                        return_sequences=True,\n",
    "                        return_state=True,\n",
    "                        recurrent_initializer='glorot_uniform',\n",
    "                        dropout=0.2,\n",
    "                        recurrent_dropout=0.2)\n",
    "\n",
    "    def call(self, x):\n",
    "        output, state = self.lstm(x)\n",
    "        return output, state\n",
    "\n",
    "\n",
    "encoder_inputs = Input(shape=(None, num_encoder_tokens))\n",
    "encoder = Encoder(num_encoder_tokens, latent_dim, batch_size)\n",
    "encoder_outputs, state = encoder(encoder_inputs)\n",
    "\n",
    "print(f\"encoder_inputs: {encoder_inputs.shape}\")\n",
    "print(f\"state: {state.shape}\")\n",
    "print(f\"encoder_outputs: {encoder_outputs.shape}\")"
   ]
  },
  {
   "cell_type": "markdown",
   "id": "7b719832",
   "metadata": {},
   "source": [
    "# We can also try not to use hidden in Decoder (i.e., remove `initial_state=hidden`), all information comes from attention layers"
   ]
  },
  {
   "cell_type": "code",
   "execution_count": 5,
   "id": "dc194d99",
   "metadata": {},
   "outputs": [
    {
     "name": "stdout",
     "output_type": "stream",
     "text": [
      "x: (None, None, 3198)\n",
      "hidden: (None, 128)\n",
      "enc_output: (None, None, 128)\n",
      "rnn_output: (None, None, 128)\n",
      "decoder_inputs: (None, None, 3198)\n",
      "state: (None, 128)\n",
      "decoder_outputs: (None, None, 3198)\n"
     ]
    }
   ],
   "source": [
    "import tensorflow as tf\n",
    "\n",
    "class Decoder(Model):\n",
    "    def __init__(self, vocab_size, latent_dim, batch_sz):\n",
    "        super(Decoder, self).__init__()\n",
    "        self.batch_sz = batch_sz\n",
    "        self.latent_dim = latent_dim\n",
    "        self.lstm = GRU(latent_dim,\n",
    "                        return_sequences=True,\n",
    "                        return_state=True,\n",
    "                        recurrent_initializer='glorot_uniform',\n",
    "                        dropout=0.2,\n",
    "                        recurrent_dropout=0.2)\n",
    "        self.fc = Dense(vocab_size, activation='softmax')\n",
    "        self.attention = tf.keras.layers.Attention(name='attention_layer')\n",
    "\n",
    "    def call(self, x, hidden, enc_output):\n",
    "        print(f\"x: {x.shape}\")\n",
    "        print(f\"hidden: {hidden.shape}\")\n",
    "        print(f\"enc_output: {enc_output.shape}\")\n",
    "        \n",
    "        rnn_output, rnn_state = self.lstm(x)\n",
    "        print(f\"rnn_output: {rnn_output.shape}\")\n",
    "        \n",
    "        context_vector = self.attention([rnn_output, enc_output])\n",
    "        decoder_combined_context = tf.keras.layers.Concatenate(axis=-1)([rnn_output, context_vector])\n",
    "        y = self.fc(decoder_combined_context)\n",
    "\n",
    "        return y, rnn_state\n",
    "\n",
    "\n",
    "decoder_inputs = Input(shape=(None, num_decoder_tokens))\n",
    "# We set up our decoder to return full output sequences,\n",
    "# and to return internal states as well. We don't use the\n",
    "# return states in the training model, but we will use them in inference.\n",
    "decoder = Decoder(num_decoder_tokens, latent_dim, batch_size)\n",
    "decoder_outputs, _ = decoder(decoder_inputs, hidden=state, enc_output=encoder_outputs)\n",
    "\n",
    "\n",
    "print(f\"decoder_inputs: {decoder_inputs.shape}\")\n",
    "print(f\"state: {state.shape}\")\n",
    "print(f\"decoder_outputs: {decoder_outputs.shape}\")"
   ]
  },
  {
   "cell_type": "code",
   "execution_count": 6,
   "id": "c57d6ca5",
   "metadata": {},
   "outputs": [
    {
     "name": "stdout",
     "output_type": "stream",
     "text": [
      "Model: \"model\"\n",
      "__________________________________________________________________________________________________\n",
      "Layer (type)                    Output Shape         Param #     Connected to                     \n",
      "==================================================================================================\n",
      "input_1 (InputLayer)            [(None, None, 2165)] 0                                            \n",
      "__________________________________________________________________________________________________\n",
      "input_2 (InputLayer)            [(None, None, 3198)] 0                                            \n",
      "__________________________________________________________________________________________________\n",
      "encoder (Encoder)               ((None, None, 128),  881280      input_1[0][0]                    \n",
      "__________________________________________________________________________________________________\n",
      "decoder (Decoder)               ((None, None, 3198), 2099838     input_2[0][0]                    \n",
      "                                                                 encoder[0][0]                    \n",
      "                                                                 encoder[0][1]                    \n",
      "==================================================================================================\n",
      "Total params: 2,981,118\n",
      "Trainable params: 2,981,118\n",
      "Non-trainable params: 0\n",
      "__________________________________________________________________________________________________\n"
     ]
    }
   ],
   "source": [
    "lr_scheduler = tf.keras.optimizers.schedules.ExponentialDecay(\n",
    "    # NOTE: this learning rate is for at least 16,000 sample on GPU server...\n",
    "    # initial_learning_rate=0.005,\n",
    "    # decay_steps=3200,\n",
    "    initial_learning_rate=0.001,\n",
    "    decay_steps=200,\n",
    "    decay_rate=0.9\n",
    ")\n",
    "\n",
    "model = Model([encoder_inputs, decoder_inputs], decoder_outputs)\n",
    "\n",
    "model.compile(optimizer=tf.keras.optimizers.Adam(learning_rate=lr_scheduler, clipnorm=1.0), loss='categorical_crossentropy')\n",
    "model.summary()"
   ]
  },
  {
   "cell_type": "code",
   "execution_count": 7,
   "id": "74f6cc9a",
   "metadata": {},
   "outputs": [
    {
     "name": "stderr",
     "output_type": "stream",
     "text": [
      "2025-06-25 13:59:08.120007: I tensorflow/compiler/mlir/mlir_graph_optimization_pass.cc:116] None of the MLIR optimization passes are enabled (registered 2)\n",
      "2025-06-25 13:59:08.121803: I tensorflow/core/platform/profile_utils/cpu_utils.cc:112] CPU Frequency: 2196495000 Hz\n"
     ]
    },
    {
     "name": "stdout",
     "output_type": "stream",
     "text": [
      "Epoch 1/3\n",
      "x: (16, 21, 3198)\n",
      "hidden: (16, 128)\n",
      "enc_output: (16, 19, 128)\n",
      "rnn_output: (16, 21, 128)\n",
      "x: (16, 21, 3198)\n",
      "hidden: (16, 128)\n",
      "enc_output: (16, 19, 128)\n",
      "rnn_output: (16, 21, 128)\n",
      "100/100 [==============================] - ETA: 0s - loss: 2.5799x: (16, 21, 3198)\n",
      "hidden: (16, 128)\n",
      "enc_output: (16, 19, 128)\n",
      "rnn_output: (16, 21, 128)\n",
      "100/100 [==============================] - 70s 622ms/step - loss: 2.5774 - val_loss: 2.1622\n",
      "Epoch 2/3\n",
      "100/100 [==============================] - 61s 609ms/step - loss: 2.0631 - val_loss: 2.2008\n",
      "Epoch 3/3\n",
      "100/100 [==============================] - 68s 687ms/step - loss: 2.0381 - val_loss: 2.2269\n"
     ]
    },
    {
     "data": {
      "text/plain": [
       "<tensorflow.python.keras.callbacks.History at 0x7f06d70fa550>"
      ]
     },
     "execution_count": 7,
     "metadata": {},
     "output_type": "execute_result"
    }
   ],
   "source": [
    "model.fit([encoder_input_data, decoder_input_data], decoder_target_data,\n",
    "        batch_size=batch_size,\n",
    "        epochs=3,\n",
    "        validation_split=0.2)"
   ]
  },
  {
   "cell_type": "code",
   "execution_count": 8,
   "id": "6221f362",
   "metadata": {},
   "outputs": [],
   "source": [
    "# Reverse-lookup token index to decode sequences back to\n",
    "# something readable.\n",
    "reverse_input_char_index = dict(\n",
    "    (i, char) for char, i in input_token_index.items())\n",
    "reverse_target_char_index = dict(\n",
    "    (i, char) for char, i in target_token_index.items())"
   ]
  },
  {
   "cell_type": "code",
   "execution_count": 9,
   "id": "3811ec83",
   "metadata": {},
   "outputs": [
    {
     "name": "stdout",
     "output_type": "stream",
     "text": [
      "Model: \"model_1\"\n",
      "_________________________________________________________________\n",
      "Layer (type)                 Output Shape              Param #   \n",
      "=================================================================\n",
      "input_1 (InputLayer)         [(None, None, 2165)]      0         \n",
      "_________________________________________________________________\n",
      "encoder (Encoder)            ((None, None, 128), (None 881280    \n",
      "=================================================================\n",
      "Total params: 881,280\n",
      "Trainable params: 881,280\n",
      "Non-trainable params: 0\n",
      "_________________________________________________________________\n"
     ]
    }
   ],
   "source": [
    "encoder_model = Model(encoder_inputs, [encoder_outputs, state])\n",
    "encoder_model.summary()"
   ]
  },
  {
   "cell_type": "code",
   "execution_count": 10,
   "id": "44f4a9dc",
   "metadata": {},
   "outputs": [
    {
     "name": "stdout",
     "output_type": "stream",
     "text": [
      "x: (None, None, 3198)\n",
      "hidden: (None, 128)\n",
      "enc_output: (None, None, 128)\n",
      "rnn_output: (None, None, 128)\n",
      "Model: \"model_2\"\n",
      "__________________________________________________________________________________________________\n",
      "Layer (type)                    Output Shape         Param #     Connected to                     \n",
      "==================================================================================================\n",
      "input_2 (InputLayer)            [(None, None, 3198)] 0                                            \n",
      "__________________________________________________________________________________________________\n",
      "input_4 (InputLayer)            [(None, None, 128)]  0                                            \n",
      "__________________________________________________________________________________________________\n",
      "input_3 (InputLayer)            [(None, 128)]        0                                            \n",
      "__________________________________________________________________________________________________\n",
      "decoder (Decoder)               ((None, None, 3198), 2099838     input_2[0][0]                    \n",
      "                                                                 input_4[0][0]                    \n",
      "                                                                 input_3[0][0]                    \n",
      "==================================================================================================\n",
      "Total params: 2,099,838\n",
      "Trainable params: 2,099,838\n",
      "Non-trainable params: 0\n",
      "__________________________________________________________________________________________________\n"
     ]
    }
   ],
   "source": [
    "decoder_state_input = Input(shape=(latent_dim,))\n",
    "the_encoder_output = Input(shape=(None, latent_dim,))\n",
    "\n",
    "decoder_outputs, decoder_state = decoder(\n",
    "    decoder_inputs, hidden=decoder_state_input, enc_output=the_encoder_output)\n",
    "\n",
    "decoder_model = Model(\n",
    "    [decoder_inputs] + [decoder_state_input] + [the_encoder_output],\n",
    "    [decoder_outputs] + [decoder_state])\n",
    "\n",
    "decoder_model.summary()"
   ]
  },
  {
   "cell_type": "code",
   "execution_count": 11,
   "id": "53352f17",
   "metadata": {},
   "outputs": [
    {
     "name": "stdout",
     "output_type": "stream",
     "text": [
      "x: (None, 1, 3198)\n",
      "hidden: (None, 128)\n",
      "enc_output: (None, 19, 128)\n",
      "rnn_output: (None, 1, 128)\n",
      "-\n",
      "Input sentence: ['i', 'sometimes', 'still', 'think', 'about', 'her']\n",
      "Decoded sentence: 我我我我我我我我我我我我我我我我我我我我我我\n",
      "-\n",
      "Input sentence: ['if', 'i', 'had', 'one', 'million', 'yen', 'now', 'i', 'would', 'buy', 'a', 'car']\n",
      "Decoded sentence: 我我我我我我我我我我我我我我我我我我我我我我\n",
      "-\n",
      "Input sentence: ['the', 'time', 'has', 'come', 'when', 'i', 'must', 'tell', 'you', 'the', 'truth']\n",
      "Decoded sentence: 我我我我我我我我我我我我我我我我我我我我我我\n",
      "-\n",
      "Input sentence: [\"it's\", 'already', 'nine', \"o'clock\"]\n",
      "Decoded sentence: 我我我我我我我我我我我我我我我我我我我我我我\n",
      "-\n",
      "Input sentence: ['come', 'along', 'with', 'us']\n",
      "Decoded sentence: 我我我我我我我我我我我我我我我我我我我我我我\n",
      "-\n",
      "Input sentence: ['there', 'was', 'a', 'castle', 'here', 'many', 'years', 'ago']\n",
      "Decoded sentence: 我我我我我我我我我我我我我我我我我我我我我我\n",
      "-\n",
      "Input sentence: ['his', 'words', 'gave', 'me', 'hope']\n",
      "Decoded sentence: 我我我我我我我我我我我我我我我我我我我我我我\n",
      "-\n",
      "Input sentence: ['i', 'wish', 'i', 'were', 'a', 'good', 'singer']\n",
      "Decoded sentence: 我我我我我我我我我我我我我我我我我我我我我我\n",
      "-\n",
      "Input sentence: ['\"he\\'d', 'like', 'to', 'have', 'a', 'coffee', 'after', 'work\"', '\"i', 'would', 'too\"']\n",
      "Decoded sentence: 我我我我我我我我我我我我我我我我我我我我我我\n",
      "-\n",
      "Input sentence: [\"you're\", 'welcome']\n",
      "Decoded sentence: 我我我我我我我我我我我我我我我我我我我我我我\n"
     ]
    }
   ],
   "source": [
    "def decode_sequence(input_seq):\n",
    "    # Encode the input as state vectors.\n",
    "    encoder_output_value, states_value = encoder_model.predict(input_seq)\n",
    "\n",
    "    # Generate empty target sequence of length 1.\n",
    "    target_seq = np.zeros((1, 1, num_decoder_tokens))\n",
    "    # Populate the first character of target sequence with the start character.\n",
    "    target_seq[0, 0, target_token_index['\\t']] = 1.\n",
    "\n",
    "    # Sampling loop for a batch of sequences\n",
    "    # (to simplify, here we assume a batch of size 1).\n",
    "    stop_condition = False\n",
    "    decoded_sentence = ''\n",
    "    while not stop_condition:\n",
    "        output_tokens, the_decoder_state = decoder_model.predict(\n",
    "            [target_seq] + [states_value] + [encoder_output_value])\n",
    "\n",
    "        # Sample a token\n",
    "        sampled_token_index = np.argmax(output_tokens[0, -1, :])\n",
    "        sampled_char = reverse_target_char_index[sampled_token_index]\n",
    "        decoded_sentence += sampled_char\n",
    "\n",
    "        # Exit condition: either hit max length\n",
    "        # or find stop character.\n",
    "        if (sampled_char == '\\n' or len(decoded_sentence) > max_decoder_seq_length):\n",
    "            stop_condition = True\n",
    "\n",
    "        # Update the target sequence (of length 1).\n",
    "        target_seq = np.zeros((1, 1, num_decoder_tokens))\n",
    "        target_seq[0, 0, sampled_token_index] = 1.\n",
    "\n",
    "        # Update states\n",
    "        states_value = the_decoder_state\n",
    "\n",
    "    return decoded_sentence\n",
    "\n",
    "\n",
    "for seq_index in range(10):\n",
    "    # Take one sequence (part of the training set)\n",
    "    # for trying out decoding.\n",
    "    input_seq = encoder_input_data[seq_index: seq_index + 1]\n",
    "    decoded_sentence = decode_sequence(input_seq)\n",
    "    print('-')\n",
    "    print('Input sentence:', input_texts[seq_index])\n",
    "    print('Decoded sentence:', decoded_sentence)"
   ]
  }
 ],
 "metadata": {
  "kernelspec": {
   "display_name": "Python 3 (ipykernel)",
   "language": "python",
   "name": "python3"
  },
  "language_info": {
   "codemirror_mode": {
    "name": "ipython",
    "version": 3
   },
   "file_extension": ".py",
   "mimetype": "text/x-python",
   "name": "python",
   "nbconvert_exporter": "python",
   "pygments_lexer": "ipython3",
   "version": "3.7.17"
  }
 },
 "nbformat": 4,
 "nbformat_minor": 5
}
