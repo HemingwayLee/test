{
 "cells": [
  {
   "cell_type": "code",
   "execution_count": 1,
   "id": "21042544",
   "metadata": {},
   "outputs": [
    {
     "name": "stdout",
     "output_type": "stream",
     "text": [
      "CrowdFlowerAnnotations.txt  Flickr8k.token.txt\t       machine_translation\r\n",
      "ExpertAnnotations.txt\t    Flickr_8k.devImages.txt    readme.txt\r\n",
      "Flicker8k_smaller\t    Flickr_8k.testImages.txt\r\n",
      "Flickr8k.lemma.token.txt    Flickr_8k.trainImages.txt\r\n"
     ]
    }
   ],
   "source": [
    "! ls ../../data/"
   ]
  },
  {
   "cell_type": "code",
   "execution_count": 2,
   "id": "85f989fb",
   "metadata": {},
   "outputs": [
    {
     "name": "stdout",
     "output_type": "stream",
     "text": [
      "Collecting jieba\n",
      "  Downloading jieba-0.42.1.tar.gz (19.2 MB)\n",
      "\u001b[2K     \u001b[90m━━━━━━━━━━━━━━━━━━━━━━━━━━━━━━━━━━━━━━━━\u001b[0m \u001b[32m19.2/19.2 MB\u001b[0m \u001b[31m2.8 MB/s\u001b[0m eta \u001b[36m0:00:00\u001b[0m00:01\u001b[0m00:01\u001b[0m\n",
      "\u001b[?25h  Preparing metadata (setup.py) ... \u001b[?25ldone\n",
      "\u001b[?25hBuilding wheels for collected packages: jieba\n",
      "  Building wheel for jieba (setup.py) ... \u001b[?25ldone\n",
      "\u001b[?25h  Created wheel for jieba: filename=jieba-0.42.1-py3-none-any.whl size=19314477 sha256=ed27d19a84f32bfb6048db6e791987820e2c52697ae582f47ab1202f2dc61d03\n",
      "  Stored in directory: /root/.cache/pip/wheels/24/aa/17/5bc7c72e9a37990a9620cc3aad0acad1564dcff6dbc2359de3\n",
      "Successfully built jieba\n",
      "Installing collected packages: jieba\n",
      "Successfully installed jieba-0.42.1\n",
      "\u001b[33mWARNING: Running pip as the 'root' user can result in broken permissions and conflicting behaviour with the system package manager. It is recommended to use a virtual environment instead: https://pip.pypa.io/warnings/venv\u001b[0m\u001b[33m\n",
      "\u001b[0m\n",
      "\u001b[1m[\u001b[0m\u001b[34;49mnotice\u001b[0m\u001b[1;39;49m]\u001b[0m\u001b[39;49m A new release of pip is available: \u001b[0m\u001b[31;49m23.0.1\u001b[0m\u001b[39;49m -> \u001b[0m\u001b[32;49m24.0\u001b[0m\n",
      "\u001b[1m[\u001b[0m\u001b[34;49mnotice\u001b[0m\u001b[1;39;49m]\u001b[0m\u001b[39;49m To update, run: \u001b[0m\u001b[32;49mpip install --upgrade pip\u001b[0m\n"
     ]
    }
   ],
   "source": [
    "! pip3 install jieba"
   ]
  },
  {
   "cell_type": "code",
   "execution_count": 1,
   "id": "3fedb172",
   "metadata": {},
   "outputs": [
    {
     "name": "stderr",
     "output_type": "stream",
     "text": [
      "2025-06-16 04:50:17.722328: W tensorflow/stream_executor/platform/default/dso_loader.cc:60] Could not load dynamic library 'libcudart.so.11.0'; dlerror: libcudart.so.11.0: cannot open shared object file: No such file or directory\n",
      "2025-06-16 04:50:17.722441: I tensorflow/stream_executor/cuda/cudart_stub.cc:29] Ignore above cudart dlerror if you do not have a GPU set up on your machine.\n",
      "Building prefix dict from the default dictionary ...\n",
      "Loading model from cache /tmp/jieba.cache\n",
      "Loading model cost 3.182 seconds.\n",
      "Prefix dict has been built successfully.\n"
     ]
    },
    {
     "name": "stdout",
     "output_type": "stream",
     "text": [
      "Number of samples: 2000\n",
      "Number of unique input tokens: 2103\n",
      "Number of unique output tokens: 3140\n",
      "Max sequence length for inputs: 18\n",
      "Max sequence length for outputs: 22\n",
      "\n",
      "input data set:\n",
      "[['are', 'you', 'a', 'japanese', 'student'], [\"let's\", 'do', 'it', 'another', 'time'], ['you', \"haven't\", 'even', 'asked', 'me', 'what', 'i', 'think'], ['they', 'say', 'that', 'he', 'has', 'been', 'dead', 'for', 'two', 'years'], ['people', 'have', 'two', 'legs'], ['do', 'you', 'have', 'other', 'family'], ['lie', 'down', 'and', 'make', 'yourself', 'comfortable'], [\"don't\", 'give', 'up!'], ['the', 'apple', 'was', 'eaten', 'by', 'me'], ['she', 'was', 'out', 'of', 'japan', 'last', 'year']]\n",
      "\n",
      "target data set:\n",
      "[['\\t', '你', '是', '日语', '学生', '吗', '？', '\\n'], ['\\t', '再', '找', '時間', '吧', '。', '\\n'], ['\\t', '你', '甚', '沒', '問過', '我', '怎麼', '想', '。', '\\n'], ['\\t', '他们', '说', '他', '死', '了', '两年', '了', '。', '\\n'], ['\\t', '人有', '两只', '脚', '。', '\\n'], ['\\t', '你', '有', '其他', '家人', '吗', '？', '\\n'], ['\\t', '躺', '下', '來', '讓', '自己', '舒服', '一點', '。', '\\n'], ['\\t', '不要', '放棄', '!', '\\n'], ['\\t', '我', '吃', '蘋果', '。', '\\n'], ['\\t', '去年', '她', '离开', '了', '日本', '。', '\\n']]\n"
     ]
    }
   ],
   "source": [
    "from tensorflow.keras.models import Model\n",
    "from tensorflow.keras.layers import Input, GRU, Dense, Layer\n",
    "import numpy as np\n",
    "import random\n",
    "import jieba\n",
    "\n",
    "batch_size = 16  \n",
    "epochs = 15  \n",
    "latent_dim = 128  # Latent dimensionality of the encoding space.\n",
    "num_samples = 2000  # Number of samples to train on.\n",
    "data_path = '../../data/machine_translation/cmn.txt'\n",
    "\n",
    "input_texts = []\n",
    "target_texts = []\n",
    "input_tokens = set()\n",
    "target_tokens = set()\n",
    "with open(data_path, 'r', encoding='utf-8') as f:\n",
    "    lines = f.read().split('\\n')\n",
    "\n",
    "# for line in lines[: min(num_samples, len(lines) - 1)]:\n",
    "for line in random.sample(lines, num_samples):\n",
    "    input_text, target_text = line.split('\\t')\n",
    "    \n",
    "    # We use \"\\t\" as the \"start sequence\" and \"\\n\" as \"end sequence\"\n",
    "    target_text = '\\t' + target_text + '\\n'\n",
    "    \n",
    "    tmp = []\n",
    "    for token in input_text.split(\" \"):\n",
    "        token = token.replace(\",\", \"\").replace(\".\", \"\").replace(\"?\", \"\").lower()\n",
    "        tmp.append(token)\n",
    "        if token not in input_tokens:\n",
    "            input_tokens.add(token)\n",
    "    input_texts.append(tmp)\n",
    "    \n",
    "    tmp = []\n",
    "    for token in jieba.cut(target_text, cut_all=False):\n",
    "        tmp.append(token)\n",
    "        if token not in target_tokens:\n",
    "            target_tokens.add(token)\n",
    "    target_texts.append(tmp)\n",
    "\n",
    "input_tokens = list(input_tokens)\n",
    "target_tokens = list(target_tokens)\n",
    "num_encoder_tokens = len(input_tokens)\n",
    "num_decoder_tokens = len(target_tokens)\n",
    "max_encoder_seq_length = max([len(txt) for txt in input_texts])\n",
    "max_decoder_seq_length = max([len(txt) for txt in target_texts])\n",
    "\n",
    "print('Number of samples:', len(input_texts))\n",
    "print('Number of unique input tokens:', num_encoder_tokens)\n",
    "print('Number of unique output tokens:', num_decoder_tokens)\n",
    "print('Max sequence length for inputs:', max_encoder_seq_length)\n",
    "print('Max sequence length for outputs:', max_decoder_seq_length)\n",
    "\n",
    "print(\"\\ninput data set:\")\n",
    "print(input_texts[:10])\n",
    "print(\"\\ntarget data set:\")\n",
    "print(target_texts[:10])"
   ]
  },
  {
   "cell_type": "code",
   "execution_count": 2,
   "id": "dc89d239",
   "metadata": {},
   "outputs": [
    {
     "name": "stdout",
     "output_type": "stream",
     "text": [
      "\n",
      "input index:\n",
      "{'travel': 0, 'don\\'t\"': 1, 'model': 2, 'junk': 3, 'water': 4, 'literal': 5, 'washed': 6, 'improved': 7, 'tuesday': 8, 'engaged': 9, \"here's\": 10, 'feel': 11, 'deposit': 12, 'undone': 13, 'guess': 14, 'yellow': 15, 'superiors': 16, 'poet': 17, 'insisted': 18, 'hoped': 19, 'pretended': 20, 'up': 21, 'genius': 22, 'fine': 23, 'caviar': 24, 'milk': 25, 'severe': 26, 'lock': 27, 'months': 28, 'slowly': 29, 'wonder': 30, \"he'll\": 31, 'drank': 32, 'single': 33, 'place': 34, 'soul': 35, 'hokkaido': 36, 'subjects': 37, 'homework': 38, 'minutes': 39, 'number': 40, 'cannot': 41, 'computer': 42, 'exam': 43, 'lending': 44, 'opinion': 45, 'spare': 46, 'checking': 47, 'trash': 48, 'ancient': 49, 'house': 50, 'heavier': 51, 'astonish': 52, 'ice': 53, 'both': 54, 'young': 55, 'afraid': 56, 'quickest': 57, 'whose': 58, 'tire': 59, 'away': 60, 'popular': 61, 'stupid': 62, 'cents': 63, 'took': 64, '100': 65, 'wait': 66, 'agree': 67, 'danger': 68, 'robbed': 69, 'take': 70, 'heard': 71, 'upstairs': 72, 'advised': 73, 'early': 74, 'goods': 75, 'microphone': 76, 'tigers': 77, '2009\"': 78, 'programmer': 79, 'folks': 80, 'marry': 81, 'vacation': 82, 'chipped': 83, 'night': 84, 'coincides': 85, '\"how': 86, 'died': 87, 'clear': 88, 'what': 89, 'sunday': 90, '5': 91, 'feels': 92, 'entered': 93, 'letters': 94, 'effect': 95, 'attempted': 96, 'bleed': 97, 'policeman': 98, 'held': 99, 'today': 100, 'orange': 101, 'picture': 102, 'leaves': 103, 'cats': 104, 'solution': 105, 'decay': 106, 'classmates': 107, 'living': 108, 'onions': 109, 'words': 110, 'sales': 111, 'cost': 112, 'intersection': 113, 'seen': 114, 'god': 115, 'blocks': 116, 'reminds': 117, 'mail': 118, 'world': 119, 'think': 120, 'seem': 121, 'children': 122, 'of': 123, 'hated': 124, 'africa': 125, 'clearly': 126, 'aimed': 127, \"tom's\": 128, 'learned': 129, 'bought': 130, 'argument': 131, 'sailing': 132, 'sorry': 133, 'need': 134, 'agreeable': 135, 'provide': 136, 'meters': 137, 'progress': 138, 'strategy': 139, 'piece': 140, 'sleeping': 141, 'wept': 142, 'join': 143, 'hot': 144, 'others': 145, \"we've\": 146, 'sweep': 147, 'whichever': 148, 'lift': 149, 'stay': 150, 'week': 151, 'you': 152, 'keep': 153, 'daughter': 154, 'bumped': 155, 'kilo': 156, 'marathon': 157, 'many': 158, 'little': 159, 'push': 160, 'everyone': 161, \"hour's\": 162, 'garlic': 163, 'wake': 164, 'movies': 165, 'german\"': 166, 'space': 167, 'logically': 168, 'kind': 169, 'love': 170, 'yet': 171, 'fairly': 172, 'refrigerator': 173, 'injured': 174, 'begin': 175, 'ridiculous': 176, 'all': 177, 'strike': 178, 'city': 179, 'east': 180, 'enemies': 181, 'in': 182, 'suggest': 183, 'examined': 184, 'waiter': 185, 'now': 186, 'beers': 187, 'making': 188, 'nor': 189, 'rain': 190, 'report': 191, 'twin': 192, 'longer': 193, 'bicycle': 194, 'here\"': 195, 'grumbling': 196, 'can’t': 197, 'six': 198, 'turned': 199, 'treat': 200, 'explained': 201, 'with': 202, 'seventeen': 203, 'occasionally': 204, 'refugees': 205, 'fast': 206, 'hundred': 207, 'nearest': 208, \"i've\": 209, 'ready': 210, 'arrested': 211, 'table': 212, '10000': 213, 'lake': 214, 'open': 215, 'perform': 216, 'application': 217, 'light': 218, 'sunglasses': 219, 'junior': 220, 'convinced': 221, 'anyone': 222, 'rush': 223, 'risk': 224, 'seat': 225, 'thank': 226, 'lessons': 227, 'japanese': 228, 'centigrade': 229, \"radio's\": 230, \"river's\": 231, 'check': 232, 'producer': 233, 'arranging': 234, 'myself': 235, 'maybe': 236, 'lately': 237, 'reason': 238, 'grandmother': 239, 'summer': 240, 'raw': 241, 'english!': 242, 'and': 243, 'minister': 244, 'scientific': 245, 'errands': 246, 'refused': 247, 'nice': 248, 'slept': 249, 'sweetheart': 250, 'judging': 251, 'exchange': 252, 'inconvenience': 253, 'pale': 254, 'guys': 255, 'weapons': 256, 'found': 257, 'speeches': 258, 'noise': 259, 'please': 260, 'loud': 261, 'taken': 262, 'studying': 263, \"they're\": 264, 'improving': 265, 'shook': 266, 'himself': 267, 'sharp': 268, 'these': 269, \"what's\": 270, 'deliver': 271, 'listen': 272, 'language': 273, 'destroyed': 274, 'called': 275, 'suntan': 276, 'famous': 277, 'realized': 278, 'weatherman': 279, 'best': 280, 'call': 281, 'gave': 282, 'rather': 283, 'shining': 284, 'pool': 285, 'forward': 286, 'stand': 287, 'hopes': 288, 'during': 289, 'run': 290, 'architect': 291, 'escaping': 292, 'get': 293, 'appears': 294, 'woman': 295, 'finish': 296, 'japan': 297, 'last': 298, 'wife': 299, 'help': 300, 'books': 301, 'winning': 302, 'machine': 303, 'table\"': 304, 'suspected': 305, 'gas': 306, 'shape': 307, 'york': 308, 'will': 309, 'neck': 310, 'aso': 311, 'accept': 312, 'item': 313, 'nature': 314, 'wedding': 315, 'pressure': 316, 'announced': 317, 'exceptionally': 318, 'earthquake': 319, 'meals': 320, 'poets': 321, 'teacher': 322, 'noon': 323, 'trip': 324, 'detail': 325, 'tales': 326, 'square': 327, 'shut': 328, 'designer': 329, 'example': 330, 'absent': 331, 'father': 332, 'pretending': 333, 'if': 334, 'something': 335, 'real': 336, 'marvels': 337, 'reviews': 338, 'size': 339, 'pushed': 340, 'country': 341, 'talking': 342, 'asking': 343, 'entering': 344, 'length': 345, 'poor': 346, 'dream': 347, 'hamamatsu': 348, 'guarding': 349, 'except': 350, 'rid': 351, 'come': 352, 'across': 353, 'castles': 354, 'course': 355, 'leftovers': 356, 'decided': 357, 'smoke': 358, 'thing': 359, 'keeps': 360, \"wouldn't\": 361, 'london': 362, 'seriously': 363, 'ordered': 364, 'stubborn': 365, 'driver': 366, 'arriving': 367, 'health': 368, 'advertised': 369, 'ate': 370, 'buried': 371, 'make': 372, 'twice': 373, 'rich': 374, 'precious': 375, 'apologized': 376, \"it'll\": 377, 'out': 378, \"sister's\": 379, 'door': 380, 'outside': 381, 'left': 382, 'lot': 383, 'choose': 384, 'larger': 385, 'fun': 386, 'sensing': 387, 'mexican': 388, 'rains': 389, 'intention': 390, 'faster': 391, 'raised': 392, 'shore': 393, 'saying': 394, 'stories': 395, 'elephants': 396, 'knows': 397, 'set': 398, 'other': 399, 'dozen': 400, 'shelf': 401, 'park': 402, 'less': 403, 'sure': 404, 'depend': 405, 'doctor': 406, 'crowded': 407, 'aliens': 408, 'pair': 409, 'tomorrow': 410, 'message': 411, 'twenties': 412, 'architecture': 413, 'built': 414, 'toys': 415, 'storm': 416, 'alert': 417, 'nurse': 418, 'short': 419, 'concerned': 420, 'tea': 421, 'because': 422, 'zealand': 423, 'hungry': 424, 'reputation': 425, 'resign': 426, 'possible': 427, \"i'd\": 428, 'responsibility': 429, 'large': 430, 'greatly': 431, 'find': 432, 'when': 433, 'shoulders': 434, 'read': 435, 'again!': 436, 'houses': 437, 'answer': 438, 'fired': 439, 'worked': 440, '\"no': 441, 'you!': 442, 'attended': 443, 'divided': 444, 'before': 445, 'hurt': 446, 'cap': 447, 'only': 448, 'interesting': 449, 'enjoy': 450, 'vowed': 451, 'study': 452, 'counting': 453, 'tourism': 454, \"nation's\": 455, 'ask': 456, 'bill': 457, 'scold': 458, 'furnished': 459, 'explain': 460, 'unsatisfied': 461, 'revolution': 462, 'introduced': 463, 'latest': 464, 'loses': 465, 'inflation': 466, 'freezes': 467, 'takes': 468, 'ago': 469, 'rap': 470, 'bench': 471, 'accident': 472, 'forgiven': 473, 'building': 474, 'believe': 475, 'imagination': 476, 'disguised': 477, 'weigh': 478, 'up!': 479, 'northern': 480, 'goodbye': 481, 'finished': 482, 'half': 483, 'hamlet': 484, 'afternoons': 485, 'race': 486, 'care': 487, 'saw': 488, 'news': 489, 'easy': 490, 'medicine': 491, 'deepest': 492, 'wanted': 493, 'mine': 494, 'enough': 495, 'win': 496, 'goes': 497, 'relatives': 498, 'requested': 499, 'shaving': 500, \"they'll\": 501, 'admired': 502, 'telling': 503, 'english': 504, 'happens': 505, 'running': 506, 'its': 507, 'crash': 508, 'fever': 509, 'crashed': 510, 'intelligence': 511, 'mondays': 512, 'plays': 513, 'wool': 514, 'cried': 515, 'terms': 516, 'as': 517, 'sort': 518, 'library': 519, 'windowless': 520, 'usually': 521, 'seated': 522, 'wear': 523, 'prohibited': 524, 'trains': 525, 'build': 526, 'kilometers': 527, '\"are': 528, 'tsunami': 529, 'bad': 530, 'gentleman': 531, 'plan': 532, 'suitcase': 533, 'mary': 534, 'youngest': 535, 'bananas': 536, \"today's\": 537, 'speaking': 538, 'replaced': 539, 'collection': 540, 'tired': 541, 'voted': 542, 'throat': 543, 'restaurant': 544, 'first': 545, 'birthday': 546, 'to': 547, 'boil': 548, 'riches': 549, 'guitar': 550, 'guide': 551, 'missed': 552, 'confronted': 553, 'blushed': 554, 'pencil': 555, 'student': 556, 'address': 557, 'black': 558, 'betrays': 559, 'area': 560, 'glasses': 561, 'important': 562, 'speaks': 563, 'tv': 564, 'alone': 565, 'none': 566, 'on': 567, 'id': 568, 'nozawa': 569, 'consider': 570, 'weather': 571, 'tie': 572, '\"shall': 573, 'picnic': 574, 'or': 575, 'bike': 576, 'suicide': 577, 'regret': 578, 'pull': 579, 'taught': 580, 'become': 581, 'red': 582, \"you're\": 583, 'materials': 584, 'tour': 585, 'loudly': 586, 'reef': 587, 'clerk': 588, 'going!': 589, 'no': 590, 'hope': 591, 'proposal': 592, 'stole': 593, 'supper': 594, 'humid': 595, 'choice': 596, 'shirt': 597, 'evaporates': 598, 'according': 599, 'bird': 600, 'mt': 601, 'daughters': 602, 'return': 603, 'gotten': 604, 'five': 605, '\"it\\'s': 606, 'biology': 607, 'coffee': 608, 'buses': 609, '3202-5625': 610, 'tossed': 611, 'divide': 612, 'sons': 613, 'inappropriate': 614, 'street': 615, 'abroad': 616, 'wants': 617, 'mathematical': 618, 'kyoto': 619, 'yours': 620, 'another': 621, 'owe': 622, 'orphan': 623, 'basketball': 624, \"it's\": 625, 'working': 626, 'see': 627, 'recently': 628, 'pocket': 629, 'looked': 630, 'than': 631, 'sells': 632, 'mercury': 633, '\"i\\'m': 634, 'them': 635, 'fall': 636, 'gratify': 637, \"couldn't\": 638, \"isn't\": 639, 'iron': 640, 'starts': 641, 'season': 642, 'claims': 643, 'contact': 644, 'surprised': 645, 'tonight': 646, 'cancel': 647, 'stairs': 648, 'download': 649, 'lawyer': 650, 'postponed': 651, 'carry': 652, 'eat': 653, \"didn't\": 654, 'baikal': 655, 'leaks': 656, 'drive': 657, 'dance': 658, 'good': 659, 'canadian': 660, 'philosophy': 661, 'opinions': 662, 'exactly': 663, 'risks': 664, 'sweet': 665, 'globe': 666, 'family': 667, 'potatoes': 668, 'flows': 669, 'puzzled': 670, 'tongue': 671, 'drinks': 672, 'umbrella': 673, 'their': 674, 'household': 675, '11': 676, 'foreign': 677, 'ran': 678, 'felt': 679, 'apples': 680, 'lies': 681, 'mad': 682, 'actress': 683, 'propose': 684, 'arrived': 685, 'try': 686, 'cooking': 687, 'weeks': 688, 'where': 689, 'supermarket': 690, \"should've\": 691, 'partner': 692, 'each': 693, 'information': 694, 'showed': 695, 'musical': 696, 'calls': 697, 'gift': 698, 'convenient': 699, 'winter': 700, 'fate': 701, 'letter': 702, '4th': 703, 'friends': 704, 'question': 705, 'gun': 706, 'must': 707, 'the': 708, 'attraction': 709, 'weight': 710, 'accessible': 711, 'change': 712, 'aunt': 713, 'cuff': 714, 'reads': 715, 'overseas': 716, 'spell': 717, \"mary's\": 718, 'my': 719, 'should': 720, \"don't\": 721, 'helps': 722, 'old': 723, 'upcoming': 724, 'happy\"': 725, '\"has': 726, 'withdrew': 727, 'swear': 728, 'buildings': 729, 'generate': 730, 'dead': 731, 'drunk': 732, 'illness': 733, 'decision': 734, 'introduce': 735, 'degrees': 736, 'magazines': 737, 'breath': 738, 'a': 739, 'borrowed': 740, 'knew': 741, 'wild': 742, 'drama': 743, '30': 744, \"he's\": 745, 'trees': 746, 'worry': 747, 'blankets': 748, 'using': 749, 'baseball': 750, 'nickname': 751, 'down': 752, 'economy': 753, 'sleep': 754, 'denies': 755, 'guilt': 756, 'prevented': 757, 'shy': 758, 'sat': 759, 'thinks': 760, 'idiot': 761, 'giving': 762, 'blue': 763, 'tricked': 764, 'older': 765, 'population': 766, 'misjudged': 767, 'learn': 768, 'stands': 769, 'finds': 770, 'studied': 771, 'current': 772, 'pants': 773, 'that!': 774, 'imports': 775, 'right': 776, 'conflict': 777, 'realize': 778, 'traveled': 779, 'forgot': 780, 'bend': 781, 'road': 782, 'coral': 783, 'send': 784, 'nuclear': 785, 'ride': 786, 'shine': 787, 'majors': 788, 'anybody': 789, 'tennis': 790, 'work': 791, 'prefer': 792, 'overslept': 793, 'wanna': 794, 'post': 795, 'police': 796, 'journey': 797, 'artificial': 798, 'along': 799, \"what're\": 800, 'want': 801, 'mailbox': 802, 'everybody': 803, 'waited': 804, 'wallet': 805, 'younger': 806, 'slice': 807, 'coming': 808, 'vases': 809, 'reading': 810, 'shot': 811, 'yelling': 812, 'experience': 813, 'vase': 814, 'testified': 815, 'climate': 816, 'chess': 817, 'cell': 818, 'ground': 819, 'wednesday': 820, 'company': 821, 'cards': 822, 'around': 823, 'money': 824, 'anyway': 825, 'indo-european': 826, 'england': 827, 'further': 828, 'snowing': 829, 'clothes': 830, 'island': 831, 'adventure': 832, 'appeared': 833, 'apple': 834, \"hasn't\": 835, 'book': 836, 'barked': 837, 'turning': 838, 'hospital': 839, 'basket': 840, 'over': 841, 'headache': 842, 'trunk': 843, '\"do': 844, 'shall': 845, 'speak': 846, 'smaller': 847, 'album': 848, 'dollars': 849, 'farm': 850, 'innocent': 851, 'instead': 852, 'likes': 853, 'intend': 854, 'drop': 855, 'shell': 856, 'double': 857, 'by': 858, 'abandoned': 859, 'kiss': 860, 'time': 861, 'pretends': 862, \"i'm\": 863, 'chinese': 864, 'secret': 865, 'repair': 866, 'say': 867, 'invented': 868, 'works': 869, 'else': 870, 'ticket': 871, 'skate': 872, 'searching': 873, 'purpose': 874, 'divorced': 875, 'foolish': 876, 'wrote': 877, 'apologetic': 878, 'row': 879, 'arm': 880, 'fifty': 881, 'relaxed': 882, \"company's\": 883, 'feed': 884, 'car': 885, 'spilled': 886, 'customers': 887, 'do': 888, 'asleep': 889, 'parties': 890, 'dislike': 891, 'color': 892, 'started': 893, 'losing': 894, 'ever': 895, 'bell': 896, 'wheat': 897, 'tree': 898, 'fortune': 899, 'rocket': 900, 'kinds': 901, 'hard': 902, 'near': 903, 'shown': 904, 'failed': 905, 'his': 906, 'box': 907, 'speech': 908, 'honorable': 909, 'life': 910, 'admit': 911, 'sounds': 912, 'wish': 913, 'politician': 914, 'newspaper': 915, 'advise': 916, 'he\"': 917, 'located': 918, 'brothers': 919, 'cities': 920, 'hand': 921, 'delicious': 922, 'grandfather': 923, 'ought': 924, 'display': 925, 'disagreement': 926, 'fire': 927, 'dinner': 928, 'boys': 929, 'dangerous!': 930, 'states': 931, 'trust': 932, 'much': 933, 'watering': 934, 'one': 935, 'got': 936, 'climbed': 937, 'cancelled': 938, 'app': 939, 'yesterday': 940, 'tried': 941, 'there': 942, 'drink': 943, 'view': 944, 'music': 945, 'results': 946, 'lunch': 947, 'truck': 948, 'toward': 949, 'uncle': 950, 'hurts': 951, 'plane': 952, 'crimes': 953, 'auckland': 954, 'soldiers': 955, 'happen': 956, 'prescription': 957, 'dad': 958, 'thanks': 959, 'talks': 960, 'boston': 961, 'behind': 962, 'peace': 963, 'panel': 964, 'sport': 965, \"won't\": 966, 'threatened': 967, \"one's\": 968, 'returned': 969, 'invested': 970, 'me': 971, 'someone': 972, 'true': 973, 'at': 974, 'walk': 975, 'excellent': 976, 'deals': 977, 'full': 978, 'rising': 979, 'am!': 980, 'snow': 981, 'lie': 982, 'wrong': 983, 'french': 984, 'hero': 985, 'move': 986, 'needed': 987, 'shanghai': 988, 'school': 989, 'expensive': 990, 'baseball!': 991, 'deny': 992, 'keller': 993, 'breakfast': 994, 'off': 995, 'monday': 996, 'walked': 997, 'men': 998, 'weekend': 999, 'such': 1000, '\"we': 1001, 'sad': 1002, 'ball': 1003, 'written': 1004, 'fool': 1005, 'hurry': 1006, 'roof': 1007, 'happened': 1008, \"he'd\": 1009, 'an': 1010, 'whatever': 1011, 'put': 1012, 'chimney': 1013, 'are': 1014, 'past': 1015, 'engineer': 1016, 'eyesight': 1017, 'eyes': 1018, 'idea': 1019, \"wasn't\": 1020, 'equivalent': 1021, 'license': 1022, 'fasten': 1023, 'cheat': 1024, 'issue': 1025, 'trap': 1026, 'through': 1027, 'monkeys': 1028, 'release': 1029, 'slight': 1030, 'strictly': 1031, 'later': 1032, 'fond': 1033, 'tenth': 1034, 'cry': 1035, 'fashions': 1036, 'project': 1037, 'sundays': 1038, 'remind': 1039, 'deaf': 1040, 'closed': 1041, 'sooner': 1042, 'mistakes': 1043, 'just': 1044, 'hat': 1045, 'let': 1046, 'forced': 1047, 'educational': 1048, 'hour': 1049, 'apart': 1050, 'seven': 1051, 'resembles': 1052, 'stamps': 1053, 'paint': 1054, 'home-cooked': 1055, 'borrow': 1056, 'press': 1057, 'now\"': 1058, 'garden': 1059, 'enjoyed': 1060, 'home': 1061, 'look': 1062, 'main': 1063, 'hiccup': 1064, 'banks': 1065, 'food': 1066, 'helped': 1067, 'teaches': 1068, 'credit': 1069, 'mother': 1070, 'examinations': 1071, 'electric': 1072, 'live': 1073, 'nothing': 1074, 'dressed': 1075, 'girls': 1076, '\"have': 1077, 'present': 1078, 'countries': 1079, 'breathing': 1080, 'courage': 1081, 'ten': 1082, 'deeply': 1083, 'man': 1084, 'hearing': 1085, 'glass': 1086, 'master': 1087, 'horse': 1088, 'meaning': 1089, 'history': 1090, 'convince': 1091, 'looks': 1092, 'bridge': 1093, 'here': 1094, 'mind': 1095, 'invitation': 1096, 'boy': 1097, 'operation': 1098, 'even': 1099, 'roses': 1100, 'august': 1101, 'france': 1102, 'somewhere': 1103, 'more': 1104, 'four': 1105, 'executed': 1106, 'promise': 1107, \"we're\": 1108, 'cool': 1109, \"o'clock\": 1110, 'sensitive': 1111, 'recognize': 1112, 'special': 1113, 'sleepy': 1114, 'truth': 1115, 'barber': 1116, 'ai': 1117, 'misunderstanding': 1118, 'met': 1119, 'terrible': 1120, 'attic': 1121, 'most': 1122, 'discriminate': 1123, 'bottle': 1124, 'germany': 1125, 'asked': 1126, 'message\"': 1127, 'patted': 1128, 'sale': 1129, 'forest': 1130, 'caught': 1131, 'confused': 1132, 'trouble': 1133, 'woke': 1134, 'program': 1135, 'appetite': 1136, 'exercise': 1137, 'rule': 1138, 'sometimes': 1139, 'crossed': 1140, 'careful': 1141, 'waterproof': 1142, 'hours': 1143, 'economic': 1144, 'glad': 1145, 'seems': 1146, 'term': 1147, 'access': 1148, 'why': 1149, 'going': 1150, 'unlucky': 1151, 'between': 1152, 'collect': 1153, 'resides': 1154, 'ends': 1155, 'tallest': 1156, 'secrets': 1157, 'funny': 1158, 'cook': 1159, 'dog': 1160, 'killed': 1161, 'essays': 1162, 'own': 1163, 'treated': 1164, 'says': 1165, 'write': 1166, 'laughs': 1167, 'bus': 1168, 'became': 1169, 'since': 1170, 'received': 1171, 'did': 1172, 'christmas': 1173, 'honesty': 1174, 'ballpoint': 1175, \"you've\": 1176, 'looking': 1177, 'turn': 1178, 'without': 1179, 'moon': 1180, 'second': 1181, 'television': 1182, 'pick': 1183, 'like': 1184, 'speaker': 1185, 'came': 1186, 'subtle': 1187, 'story': 1188, 'arrival': 1189, 'neighbors': 1190, 'purse': 1191, 'wind': 1192, 'hello': 1193, 'lots': 1194, 'monster': 1195, 'earned': 1196, 'mouth': 1197, 'pronounce': 1198, 'amends': 1199, 'lesson': 1200, 'delay': 1201, 'under': 1202, 'song': 1203, 'nests': 1204, 'leisure': 1205, 'kids': 1206, 'defended': 1207, 'title': 1208, 'resting': 1209, 'pork': 1210, 'treasure': 1211, 'parents': 1212, 'tom': 1213, 'days': 1214, 'diplomacy': 1215, 'twenty': 1216, 'brain': 1217, 'straightening': 1218, 'grateful': 1219, 'new': 1220, 'ears': 1221, 'ipad': 1222, 'products': 1223, 'worried': 1224, 'coal': 1225, 'though': 1226, 'often': 1227, 'contented': 1228, 'dolls': 1229, 'obstinate': 1230, 'effort': 1231, 'manufacture': 1232, 'appear': 1233, 'baby': 1234, 'is': 1235, 'harvard': 1236, 'oranges': 1237, 'she': 1238, 'doctors': 1239, '\"i': 1240, 'great!': 1241, 'equals': 1242, 'invaders': 1243, 'train': 1244, 'cousin': 1245, 'obey': 1246, 'extremely': 1247, 'congratulations!': 1248, 'considered': 1249, 'side': 1250, 'keys': 1251, 'wonderful': 1252, 'calm': 1253, 'far': 1254, 'despite': 1255, 'morning': 1256, 'played': 1257, 'shoulder': 1258, 'candles': 1259, 'china': 1260, 'smiled': 1261, 'anything': 1262, 'allied': 1263, 'beat': 1264, 'jiffy': 1265, 'hit': 1266, 'feet': 1267, 'changed': 1268, 'racket': 1269, 'sides': 1270, 'impossible': 1271, 'field': 1272, \"where's\": 1273, 'fishing': 1274, 'likely': 1275, 'watch': 1276, 'accustomed': 1277, 'made': 1278, 'quickly': 1279, 'us': 1280, 'eaten': 1281, 'those': 1282, 'buy': 1283, 'walks': 1284, 'follow': 1285, 'dangerous': 1286, 'although': 1287, 'meet': 1288, 'pizza': 1289, 'commit': 1290, 'volleyball': 1291, 'voice': 1292, 'certain': 1293, 'parrot': 1294, 'fluent': 1295, 'dark': 1296, 'then': 1297, 'earth': 1298, 'sentences': 1299, 'used': 1300, 'teachers': 1301, 'reservation': 1302, 'accepted': 1303, 'relax': 1304, 'any': 1305, \"you'd\": 1306, 'starving!': 1307, 'yen': 1308, 'violin': 1309, 'experts': 1310, 'wall': 1311, 'still': 1312, 'promises': 1313, '1636': 1314, 'grapes': 1315, 'doubt': 1316, 'sasayama': 1317, 'grip': 1318, 'express': 1319, 'pen': 1320, 'rained': 1321, 'differs': 1322, 'stadium': 1323, 'shooting': 1324, 'sandwich': 1325, 'room': 1326, 'walking': 1327, 'arguing': 1328, 'disaster': 1329, 'count': 1330, 'funeral': 1331, 'belts': 1332, 'smart': 1333, 'seeing': 1334, 'flowers': 1335, 'brought': 1336, 'next': 1337, 'spends': 1338, 'paid': 1339, '0': 1340, 'flammable': 1341, 'till': 1342, \"aren't\": 1343, 'blanket': 1344, 'chair': 1345, 'earlier': 1346, 'but': 1347, 'games': 1348, 'cup': 1349, 'belongs': 1350, \"shouldn't\": 1351, 'interest': 1352, 'talk': 1353, 'was': 1354, 'safely': 1355, 'aerobics': 1356, 'your': 1357, 'haircut': 1358, 'boat': 1359, 'spray': 1360, 'cat': 1361, 'answered': 1362, 'investigate': 1363, 'helen': 1364, 'factory': 1365, 'end': 1366, 'badminton': 1367, 'video': 1368, 'dentist': 1369, 'sports': 1370, 'crisis': 1371, 'freezing': 1372, 'passed': 1373, 'eiffel': 1374, 'worker': 1375, 'rude': 1376, 'damaged': 1377, 'stocks': 1378, 'scared': 1379, 'use': 1380, 'remorse': 1381, 'day': 1382, 'anymore': 1383, 'grow': 1384, 'about': 1385, \"you'll\": 1386, 'revenge': 1387, 'women': 1388, 'group': 1389, 'pretty': 1390, 'been': 1391, 'tools': 1392, 'writing': 1393, 'really': 1394, 'calendar': 1395, 'that': 1396, 'corner': 1397, 'eggs': 1398, \"who's\": 1399, 'respectful': 1400, 'rent': 1401, 'approve': 1402, 'least': 1403, 'he': 1404, 'coat': 1405, '1000': 1406, 'festival': 1407, 'ordinary': 1408, 'deceive': 1409, 'terribly': 1410, 'boss': 1411, 'strong': 1412, 'driving': 1413, 'meal': 1414, 'communicate': 1415, 'luck': 1416, 'huge': 1417, 'despise': 1418, 'swimming': 1419, 'meeting': 1420, 'year': 1421, 'rest': 1422, 'responsible': 1423, 'rabbit': 1424, 'girlfriend': 1425, 'wished': 1426, 'deserve': 1427, 'telephone': 1428, 'never': 1429, 'could': 1430, 'impression': 1431, 'every': 1432, 'instrument': 1433, 'paper': 1434, 'angry': 1435, 'thanked': 1436, 'italy': 1437, 'public': 1438, \"summer's\": 1439, 'stuff': 1440, 'quit': 1441, 'mixed': 1442, 'movie': 1443, 'guarantee': 1444, 'busy': 1445, 'cleaned': 1446, 'card': 1447, 'ahead': 1448, 'criticism': 1449, 'begged': 1450, 'brother': 1451, 'stopped': 1452, 'sprang': 1453, '20': 1454, 'spanish': 1455, 'white': 1456, 'developing': 1457, 'behavior': 1458, 'cia': 1459, 'natural': 1460, 'sign': 1461, 'sense': 1462, 'him': 1463, 'sent': 1464, 'store': 1465, 'drinking': 1466, 'furniture': 1467, \"now's\": 1468, 'dialed': 1469, 'flower': 1470, 'party': 1471, \"friends'\": 1472, 'lend': 1473, 'beach': 1474, 'professor': 1475, 'month': 1476, 'stone': 1477, 'wine': 1478, 'various': 1479, 'same': 1480, 'herself': 1481, 'questions': 1482, '\"why': 1483, 'tall': 1484, 'workday': 1485, 'stack': 1486, 'chemistry': 1487, 'kite': 1488, 'broken': 1489, 'how': 1490, 'mountain': 1491, 'john': 1492, 'acted': 1493, 'floors': 1494, 'basis': 1495, 'legs': 1496, 'difficult': 1497, 'desk': 1498, 'inviting': 1499, 'again': 1500, 'catch': 1501, 'learning': 1502, 'years': 1503, 'exist': 1504, 'fell': 1505, 'job': 1506, 'stranger': 1507, 'stake': 1508, 'proud': 1509, 'airport': 1510, 'club': 1511, 'sugar': 1512, 'blood': 1513, 'acid': 1514, 'wealth': 1515, 'doing': 1516, 'discussing': 1517, 'among': 1518, 'strange': 1519, 'which': 1520, 'metal': 1521, 'cake': 1522, 'kidding!': 1523, 'carbonated': 1524, 'eight': 1525, 'cold': 1526, 'offices': 1527, 'soup': 1528, 'watching': 1529, 'tells': 1530, 'dogs': 1531, 'complain': 1532, 'sight': 1533, 'already': 1534, 'has': 1535, 'things': 1536, 'joke': 1537, 'dresses': 1538, 'blowing': 1539, 'innocence': 1540, 'after': 1541, 'several': 1542, 'perhaps': 1543, \"stomach's\": 1544, 'scary': 1545, 'novels': 1546, 'wash': 1547, 'means': 1548, 'burned': 1549, 'so': 1550, 'tell': 1551, 'married': 1552, 'bed': 1553, 'born': 1554, 'switzerland': 1555, 'enemy': 1556, 'pass': 1557, 'cancer': 1558, 'filled': 1559, 'button': 1560, \"i'll\": 1561, 'whether': 1562, 'devoted': 1563, 'too': 1564, 'golf': 1565, 'tunnel': 1566, 'i': 1567, 'people': 1568, 'always': 1569, 'handkerchief': 1570, '56': 1571, 'stronger': 1572, '\"then': 1573, 'wherever': 1574, 'stop': 1575, 'explanation': 1576, 'solve': 1577, 'taller': 1578, 'from': 1579, 'serious': 1580, 'writer': 1581, 'visit': 1582, 'zoo': 1583, 'adults': 1584, 'times': 1585, 'farms': 1586, 'blind': 1587, \"night's\": 1588, 'singapore': 1589, 'useful': 1590, 'socks': 1591, 'whole': 1592, 'dare': 1593, 'resources': 1594, 'native': 1595, 'concert': 1596, 'dived': 1597, 'lived': 1598, 'fashion': 1599, 'majored': 1600, 'three': 1601, 'saves': 1602, 'repaired': 1603, 'leave': 1604, 'cloud': 1605, 'point': 1606, 'stomach': 1607, 'la': 1608, 'lonely': 1609, 'currently': 1610, 'afternoon': 1611, 'precise': 1612, 'into': 1613, \"she's\": 1614, 'clouds': 1615, 'hill': 1616, 'phone\"': 1617, 'window': 1618, 'runs': 1619, 'prized': 1620, 'embassy': 1621, 'person': 1622, 'conveniently': 1623, 'investors': 1624, 'armenian': 1625, \"father's\": 1626, 'pepper': 1627, 'bottom': 1628, 'osaka': 1629, 'ex-husband': 1630, 'narrow': 1631, 'poured': 1632, 'theater': 1633, 'hotel': 1634, 'way': 1635, 'italian': 1636, 'arithmetic': 1637, 'fill': 1638, 'trousers': 1639, 'anywhere': 1640, 'students': 1641, 'inches': 1642, 'happening': 1643, 'makes': 1644, 'lose': 1645, 'probably': 1646, 'nobody': 1647, 'allow': 1648, 'knob': 1649, 'eye': 1650, 'clue': 1651, 'possession': 1652, 'all\"': 1653, 'hate': 1654, 'lives': 1655, 'smoking': 1656, 'actor': 1657, 'yourself': 1658, 'favorite': 1659, 'done': 1660, 'rebuilding': 1661, 'following': 1662, 'beautiful': 1663, 'thought': 1664, 'rate': 1665, 'had': 1666, 'novel': 1667, 'alive': 1668, 'can': 1669, 'grew': 1670, 'back': 1671, 'numbers': 1672, 'give': 1673, 'throw': 1674, 'list': 1675, 'surprise': 1676, 'unhappy': 1677, 'plenty': 1678, 'clothing': 1679, 'stitch': 1680, 'missing': 1681, 'fit': 1682, 'be': 1683, 'magnetism': 1684, 'mood': 1685, 'being': 1686, 'wearing': 1687, 'began': 1688, 'jazz': 1689, 'fifth-largest': 1690, 'stayed': 1691, 'free': 1692, 'wishes': 1693, 'treatments': 1694, 'chicago': 1695, 'bit': 1696, 'who': 1697, 'while': 1698, 'all-day': 1699, 'australia': 1700, 'guidebook': 1701, 'succeed': 1702, 'belong': 1703, 'few': 1704, 'overtime': 1705, 'eating': 1706, \"there's\": 1707, 'getting': 1708, 'intelligent': 1709, 'playing': 1710, 'result': 1711, 'hung': 1712, 'guilty': 1713, 'ok': 1714, 'dress': 1715, 'polite': 1716, 'checked': 1717, 'phone': 1718, 'child': 1719, 'fact': 1720, 'everest': 1721, 'sound': 1722, 'guns': 1723, 'chance': 1724, 'birds': 1725, 'changes': 1726, 'difference': 1727, 'friday': 1728, 'necessary': 1729, 'committed': 1730, 'almost': 1731, 'android': 1732, 'success': 1733, 'known': 1734, 'rules': 1735, 'theories': 1736, 'well': 1737, 'camera': 1738, 'moment': 1739, \"that's\": 1740, 'it': 1741, 'skiing': 1742, 'waste': 1743, 'needs': 1744, 'we': 1745, 'expect': 1746, 'not\"': 1747, 'suffering': 1748, 'europe': 1749, 'delighted': 1750, 'gold': 1751, 'issued': 1752, 'tag': 1753, 'briefcase': 1754, 'tails': 1755, 'garage': 1756, 'high': 1757, 'might': 1758, 'sisters': 1759, 'preserve': 1760, 'bitterly': 1761, 'sister': 1762, 'apologize': 1763, 'won': 1764, \"london's\": 1765, 'unable': 1766, 'gums': 1767, 'clears': 1768, 'husband': 1769, 'comes': 1770, 'ill': 1771, 'cream': 1772, 'founded': 1773, 'kept': 1774, 'start': 1775, 'managed': 1776, 'friend': 1777, 'football': 1778, 'floor': 1779, \"can't\": 1780, 'ashamed': 1781, 'some': 1782, 'spread': 1783, 'fearless': 1784, 'step': 1785, 'piano': 1786, \"let's\": 1787, 'me!': 1788, 'languages': 1789, 'station': 1790, 'shoot': 1791, 'taking': 1792, 'offer': 1793, 'soon': 1794, 'standing': 1795, 'attacked': 1796, 'bedroom': 1797, 'tokyo': 1798, 'addition': 1799, 'happy': 1800, 'close': 1801, 'russia': 1802, \"driver's\": 1803, 'fault': 1804, 'great': 1805, 'bank': 1806, 'rabbits': 1807, 'sixty': 1808, 'foxes': 1809, 'ship': 1810, 'differences': 1811, 'bread': 1812, 'laugh': 1813, 'picked': 1814, 'better': 1815, 'suit': 1816, 'bright': 1817, 'matter': 1818, 'covered': 1819, 'scotland': 1820, 'understand': 1821, 'rode': 1822, 'tired\"': 1823, 'songs': 1824, 'eight-thirty': 1825, 'dropped': 1826, 'art': 1827, 'church': 1828, 'sociopaths': 1829, 'locked': 1830, 'believed': 1831, 'feeling': 1832, 'salt': 1833, 'couple': 1834, 'buys': 1835, 'head': 1836, 'deal': 1837, 'rope': 1838, 'heat': 1839, 'russell': 1840, 'able': 1841, 'lid': 1842, 'canada': 1843, 'uniforms': 1844, 'kissed': 1845, 'told': 1846, 'part': 1847, 'have': 1848, 'nine': 1849, 'bored': 1850, 'primary': 1851, 'quite': 1852, 'suitable': 1853, 'mud': 1854, 'memory': 1855, 'sixteen\"': 1856, 'sheep': 1857, 'artist': 1858, 'kill': 1859, 'radio': 1860, 'american': 1861, 'either': 1862, 'our': 1863, 'son': 1864, 'completely': 1865, 'abducted': 1866, 'said': 1867, 'dumb': 1868, 'break': 1869, 'escape': 1870, 'body': 1871, 'curious': 1872, 'problems': 1873, 'quiet': 1874, 'climb': 1875, 'comics': 1876, 'you\"': 1877, 'particular': 1878, 'freeze': 1879, 'mistake': 1880, 'spoken': 1881, 'listening': 1882, 'staying': 1883, 'tower': 1884, 'play': 1885, 'hear': 1886, 'cameras': 1887, 'starting': 1888, 'heated': 1889, 'fish': 1890, 'heavy': 1891, 'miss': 1892, 'waiting': 1893, \"haven't\": 1894, 'know': 1895, 'pictures': 1896, 'swallows': 1897, 'for': 1898, 'two': 1899, 'detective': 1900, \"world's\": 1901, 'begins': 1902, 'green': 1903, 'would': 1904, 'sing': 1905, 'math': 1906, 'recover': 1907, 'date': 1908, 'this': 1909, 'paris': 1910, 'long\"': 1911, 'tours': 1912, 'finally': 1913, 'until': 1914, 'evening': 1915, 'noticed': 1916, 'magazine': 1917, 'marriage': 1918, 'go': 1919, 'everything': 1920, 'ceremony': 1921, 'museum': 1922, 'bathroom': 1923, 'wears': 1924, 'connection': 1925, 'touched': 1926, 'karuizawa': 1927, 'her': 1928, 'fruit': 1929, 'fair': 1930, 'touch': 1931, 'bring': 1932, 'game': 1933, 'broke': 1934, 'risked': 1935, 'prepared': 1936, 'pet': 1937, 'bankrupt': 1938, 'college': 1939, 'support': 1940, 'boring': 1941, 'letting': 1942, 'class': 1943, 'brave': 1944, 'harder': 1945, 'neither': 1946, 'remember': 1947, 'animals': 1948, 'deep': 1949, 'long': 1950, 'not': 1951, 'policy': 1952, 'adopted': 1953, 'launched': 1954, 'hair': 1955, 'interested': 1956, 'ended': 1957, 'future': 1958, \"brother's\": 1959, \"boy's\": 1960, 'rome': 1961, 'ladder': 1962, 'clean': 1963, 'office': 1964, 'tragic': 1965, 'surgeon': 1966, 'hired': 1967, 'problem': 1968, 'dictionary': 1969, 'supposed': 1970, 'magician': 1971, 'they': 1972, 'planet': 1973, 'ourselves': 1974, 'teach': 1975, 'harmony': 1976, 'apparently': 1977, 'sun': 1978, 'facts': 1979, 'retire': 1980, 'lung': 1981, 'shuttlecock': 1982, 'shoes': 1983, \"doesn't\": 1984, 'cheek': 1985, \"we'll\": 1986, 'regular': 1987, 'small': 1988, 'went': 1989, 'girl': 1990, 'sweater': 1991, 'fed': 1992, 'together': 1993, 'death': 1994, 'vegetables': 1995, 'jokes': 1996, 'records': 1997, 'rarely': 1998, 'front': 1999, '\"tom': 2000, 'cars': 2001, 'america': 2002, 'knife': 2003, 'pay': 2004, 'honest': 2005, 'ghosts': 2006, 'photo': 2007, 'may': 2008, 'spent': 2009, 'tastes': 2010, 'studies': 2011, 'laughed': 2012, 'nerve': 2013, 'hands': 2014, 'member': 2015, '2:30': 2016, 'does': 2017, 'discussed': 2018, 'kissing': 2019, 'sky': 2020, 'positive': 2021, 'name': 2022, 'similar': 2023, 'mysteries': 2024, 'subscriptions': 2025, 'comfortable': 2026, 'were': 2027, 'affected': 2028, 'decide': 2029, 'feelings': 2030, 'rates': 2031, 'humor': 2032, 'shopping': 2033, 'growled': 2034, 'hold': 2035, 'crushed': 2036, 'complained': 2037, 'classroom': 2038, 'decent': 2039, 'advice': 2040, 'swim': 2041, 'caused': 2042, 'division': 2043, 'loves': 2044, 'guy': 2045, 'arrive': 2046, 'pond': 2047, 'lost': 2048, 'word': 2049, 'lied': 2050, 'suitcases': 2051, \"hadn't\": 2052, 'late': 2053, 'actually': 2054, 'fantasy': 2055, 'united': 2056, 'breathe': 2057, 'against': 2058, \"region's\": 2059, 'twitter': 2060, 'business!': 2061, 'enter': 2062, 'drives': 2063, 'literature': 2064, 'aware': 2065, 'aside': 2066, 'rare': 2067, 'seine': 2068, 'imaginative': 2069, 'happiness': 2070, 'carries': 2071, 'wise': 2072, 'asia': 2073, 'complex': 2074, 'wet': 2075, 'prime': 2076, 'edison': 2077, 'staff': 2078, 'weeds': 2079, 'prices': 2080, 'settled': 2081, 'town': 2082, 'big': 2083, 'am': 2084, 'author': 2085, 'very': 2086, 'infrared': 2087, 'personality': 2088, 'sick': 2089, 'excuse': 2090, 'emphasize': 2091, 'having': 2092, 'jogging': 2093, 'fresh': 2094, 'once': 2095, 'traffic': 2096, 'show': 2097, 'stolen': 2098, 'reached': 2099, 'nineties': 2100, 'wore': 2101, 'hiking': 2102}\n",
      "\n",
      "target index:\n",
      "{'宴會將': 0, '定期': 1, '年轻': 2, '旁邊': 3, '放弃': 4, '。': 5, '一家': 6, '全盤': 7, '乐子': 8, '唯一': 9, '有夥伴': 10, '看起来': 11, '收拾': 12, '報紙': 13, '新加坡': 14, '白色': 15, '全身': 16, '绅士': 17, '解釋': 18, '字典': 19, '长度': 20, '十二': 21, '火裡': 22, '假裝': 23, '不便': 24, '打牌': 25, '澳大利亚': 26, '\\n': 27, '出来': 28, '会': 29, '沒': 30, '就親': 31, '但願': 32, '往小鎮': 33, '人': 34, '比赛': 35, '鱼': 36, '为': 37, '强健': 38, '整理': 39, '书籍': 40, '做事': 41, '小': 42, '申请人': 43, '設計師': 44, '马拉松': 45, '材料': 46, '报纸': 47, '欧洲': 48, '她家': 49, '一支': 50, '清楚': 51, '車撞': 52, '卡車': 53, '太好了': 54, '学期': 55, '推迟': 56, '不要': 57, '犯': 58, '发生': 59, '不过': 60, '办法': 61, '钱付': 62, '有暴风雨': 63, '介意': 64, '历险': 65, '許有': 66, '警方': 67, '汽車': 68, '一會兒': 69, '書': 70, '怎么办': 71, '程序': 72, '忍受': 73, '稀少': 74, '哲学': 75, '一边': 76, '步行': 77, '一場': 78, '永不言弃': 79, '到車': 80, '聚會': 81, '老师': 82, '許多種': 83, '滑雪': 84, '结婚': 85, '住口': 86, '是': 87, '亚洲': 88, '许多': 89, '头': 90, '一些': 91, '我会': 92, '哈佛大学': 93, '人口众多': 94, '严重': 95, '嚇人': 96, '第一印象': 97, '里': 98, '您': 99, ',': 100, '100': 101, '亚美尼亚语': 102, '當水': 103, '熄灯': 104, '气候': 105, '奇怪': 106, '甜心': 107, '中受': 108, '公眾': 109, '音': 110, '恢': 111, '始建': 112, '为什么': 113, '環遊': 114, '養': 115, '经验': 116, '八點鐘': 117, '銀行': 118, '阻止': 119, '没想': 120, '进': 121, '人選': 122, '天才': 123, '禮貌': 124, '警察': 125, '興趣': 126, '和': 127, '闭着': 128, '蜡烛': 129, '困難': 130, '瑞士': 131, '放棄': 132, '表現': 133, '玩笑': 134, '好觉': 135, '老師': 136, '很早': 137, '不浪費': 138, '依然': 139, '太棒了': 140, '聽到': 141, '水星': 142, '5': 143, '清白': 144, '打败': 145, '辦法': 146, '任何': 147, '可怕': 148, '帳單給': 149, '逃之夭夭': 150, '放开': 151, '工厂': 152, '所有': 153, '大量': 154, '除以': 155, '无辜': 156, '對': 157, '計劃': 158, '行走': 159, '我覺': 160, '丢': 161, '一个男孩': 162, '越': 163, '共处': 164, '将来': 165, '司機': 166, '倒闭': 167, '：': 168, '師為': 169, '每個': 170, '奇迹': 171, '窗户': 172, '举个': 173, '怎样': 174, '留个': 175, '那位': 176, '今天': 177, '服務生': 178, '十六': 179, '天暗': 180, '遊樂器': 181, '少': 182, '女孩': 183, '跳入': 184, '撒谎': 185, '深呼吸': 186, '正要': 187, '打嗝': 188, '湖': 189, '到': 190, '坐': 191, '难免会': 192, '牆': 193, '哪个': 194, '跑步': 195, '校车': 196, '澆': 197, '提高': 198, '保存': 199, '是否': 200, '雜誌': 201, '歡迎': 202, '戴': 203, '太陽': 204, '不如': 205, '工人': 206, '大象': 207, '互相帮助': 208, '减肥': 209, '曾經': 210, '不快': 211, '人造花': 212, '漲': 213, '波士': 214, '中有': 215, '上門': 216, '游戏': 217, '教育': 218, '转角处': 219, '远足': 220, '底下': 221, '回来': 222, '太矮': 223, '这是': 224, '别的': 225, '股票': 226, '只是': 227, '手機': 228, '们': 229, '国外': 230, '這是': 231, '水在': 232, '屈服': 233, '課': 234, '開車': 235, '闻': 236, '教師': 237, '女士': 238, '機': 239, '诚实': 240, '接一個': 241, '館': 242, '让': 243, '醬': 244, '還沒讀': 245, '郵票': 246, '嫌疑': 247, '球拍': 248, '這回': 249, '有益': 250, '經常': 251, '人来': 252, '祝你好运': 253, '以前': 254, '三个': 255, '盯': 256, '数学': 257, '逻辑': 258, '請關': 259, '會來': 260, '请帖': 261, '期待': 262, '大部分': 263, '打算': 264, '以下': 265, '意外': 266, '運': 267, '外語': 268, '这钱': 269, '呆': 270, '調查': 271, '太大': 272, '才能': 273, '利用': 274, '销售': 275, '光榮': 276, '鬆': 277, '可全': 278, '飯會': 279, '相當': 280, '十字路口': 281, '认识': 282, '层': 283, '見瑪麗': 284, '看起': 285, '走进': 286, '本': 287, '更': 288, '高得': 289, '耳朵': 290, '约翰': 291, '車子': 292, '戴著': 293, '关联': 294, '并': 295, '訴瑪麗去': 296, '北海道': 297, '床': 298, '這項': 299, '解释': 300, '出卖': 301, '几口': 302, '羅': 303, '可': 304, '便': 305, '會醒': 306, '湯姆說': 307, '曆': 308, '不管': 309, '脸颊': 310, '命运': 311, '優秀的腦': 312, '理论': 313, '越來': 314, '家里': 315, '科目': 316, '好': 317, '大家': 318, '大事': 319, '不鋒利': 320, '母親': 321, '这种': 322, '付': 323, '那太': 324, '蔬菜': 325, '怕死': 326, '很快': 327, '了': 328, '觉得': 329, '唱片': 330, '向着': 331, '大聲': 332, '美分': 333, '付帳': 334, '比薩餅': 335, '懂': 336, '害怕': 337, '自豪': 338, '鳥': 339, '切中要害': 340, '不满': 341, '惹': 342, '他太年': 343, '售票': 344, '經過': 345, '社会': 346, '湯姆拒': 347, '公園': 348, '有时候': 349, '這起': 350, '错': 351, '核子武器': 352, '新郵票將': 353, '开玩笑': 354, '沒起': 355, '超过': 356, '弄掉': 357, '我會': 358, '经济': 359, '歌': 360, '很多': 361, '別': 362, '他並': 363, '說': 364, '电视': 365, '死亡': 366, '除了': 367, '都': 368, '以': 369, '公車': 370, '去作': 371, '使用': 372, '药方': 373, '進步': 374, '什麼': 375, '写信': 376, '綠色': 377, '样子': 378, '紳士': 379, '收音': 380, '好点': 381, '住在一起': 382, '巴士': 383, '語': 384, '路': 385, '周末': 386, '那裡': 387, '吻': 388, '風雨': 389, '其他人': 390, '除掉': 391, '填寫': 392, '年紀': 393, '我試': 394, '電話': 395, '喜歡': 396, '机场': 397, '勸': 398, '小镇': 399, '车里': 400, '吼': 401, '高尔夫球': 402, '艾菲爾鐵塔': 403, '擅長': 404, '一辆车': 405, '潮溼': 406, '記錄': 407, '撐': 408, '過倫敦': 409, '好奇': 410, '子': 411, '雜草': 412, '沒關': 413, '經濟': 414, '拿到': 415, '按': 416, '睡着': 417, '部长': 418, '上海': 419, '脫下': 420, '报警': 421, '一': 422, '变得': 423, '2': 424, '樣子': 425, '講外語': 426, '请来': 427, '夏天': 428, '真是': 429, '高度': 430, '為榮': 431, '學校': 432, '罢工': 433, '映入': 434, '睡覺': 435, '這場': 436, '父母': 437, '德語': 438, '忘记': 439, '打死': 440, '八月份': 441, '粗魯': 442, '过去': 443, '做菜': 444, '你永遠': 445, '电脑游戏': 446, '親教': 447, '下個': 448, '怎么': 449, '摇晃': 450, '大笔': 451, '美麗': 452, '故障': 453, '花瓶': 454, '攝影': 455, '解僱': 456, '伸手': 457, '瑪莉': 458, '几门': 459, '到底': 460, '吃饭': 461, '很少': 462, '订婚': 463, '他常': 464, '她現': 465, '蘋果': 466, '生病': 467, '寄希望于': 468, '绵羊': 469, '祝贺': 470, '美国': 471, '走来': 472, '代表': 473, '消息': 474, '财宝': 475, '住手': 476, '发': 477, '散步': 478, '进来': 479, '能贏': 480, '挣': 481, '這頂': 482, '哪': 483, '鑰匙': 484, '由': 485, '要': 486, '嗎': 487, '事故': 488, '憤怒': 489, '也許': 490, '重新': 491, '下山': 492, '午餐': 493, '罪行': 494, '計數': 495, '糟糕': 496, '丈夫': 497, '就': 498, '資源': 499, '必須': 500, '加班': 501, '照着': 502, '加拿大': 503, '拍拍': 504, '自英國': 505, '能少': 506, '我想学': 507, '眼盲': 508, '這手': 509, '摘下': 510, '也许': 511, '厌烦': 512, '看书': 513, '只給': 514, '來變': 515, '醉': 516, '旅遊業': 517, '一辆': 518, '节日': 519, '我放學後彈': 520, '收养': 521, '酸性': 522, '过': 523, '听不见': 524, '鸡蛋': 525, '學習': 526, '能发': 527, '甚麼': 528, '欺骗': 529, '分': 530, '地方': 531, '尽力而为': 532, '我建議': 533, '两岁': 534, '有罪': 535, '海滩': 536, '強壯': 537, '現在': 538, '商店': 539, '好几个': 540, '足够': 541, '肺癌': 542, '開始': 543, '書裡': 544, '一站': 545, '巴黎': 546, '太晚': 547, '旅行': 548, '造成': 549, '不能': 550, '加入': 551, '再次': 552, '放下': 553, '切': 554, '期盼': 555, '点半': 556, '演员': 557, '一定': 558, '乘坐': 559, '記憶力': 560, '道理': 561, '自己': 562, '水汽': 563, '口信儿': 564, '坦率': 565, '並不總是': 566, '執照': 567, '包': 568, '没听说过': 569, '非常': 570, '妹妹': 571, '加拿大人': 572, '說過': 573, '穿越': 574, '遇到': 575, '未': 576, '真相': 577, '鎖上': 578, '警察局': 579, '怪物': 580, '發牌給': 581, '我問': 582, '仍': 583, '英語': 584, '批評': 585, '求': 586, '叢生': 587, '整個': 588, '瑪麗到': 589, '弄': 590, '女兒': 591, '多少': 592, '很晚': 593, '裤子': 594, '来': 595, '「': 596, '火': 597, '婴儿': 598, '出去玩': 599, '见到': 600, '受': 601, '同盟国': 602, '管好': 603, '大洞': 604, '一扇': 605, '别人': 606, '遞過': 607, '能力': 608, '一只': 609, '她': 610, '人會': 611, '士兵': 612, '的頭': 613, '时请': 614, '说出': 615, '睁开': 616, '音樂': 617, '没有': 618, '感冒': 619, '狗': 620, '工廠': 621, '弹钢琴': 622, '没用': 623, '这间': 624, '地址': 625, '接球': 626, '風箏節': 627, '愉快': 628, '感觉': 629, '架上': 630, '争论': 631, '消沉': 632, '老板': 633, '讨厌': 634, '这辆': 635, '出現': 636, '初衷': 637, '我寧願': 638, '作业': 639, '防水': 640, '魔法师': 641, '闆': 642, '其': 643, '求婚': 644, '回应': 645, '向': 646, '意见': 647, '那話': 648, '進入': 649, '否認': 650, '殺': 651, '度時': 652, '大約': 653, '老虎': 654, '心情': 655, '用小麥': 656, '朝': 657, '著下': 658, '柳橙': 659, '勇敢': 660, '大多数': 661, '时间': 662, '白葡萄酒': 663, '生产日期': 664, '逮捕': 665, '今早': 666, '怪人': 667, '晚饭': 668, '真該': 669, '“': 670, '笑了笑': 671, '我': 672, '零錢': 673, '十美元': 674, '准备': 675, '考试': 676, '睡': 677, '項': 678, '下周': 679, '已': 680, '度假': 681, '湖泊': 682, '多久': 683, '筱山': 684, '纠葛': 685, '需要': 686, '認為': 687, '产地': 688, '年': 689, '外语': 690, '兩輛': 691, '拨打': 692, '幾歲': 693, '）': 694, '做': 695, '明天': 696, '文章': 697, '购物': 698, '当上': 699, '多貴': 700, '美味': 701, '兒子': 702, '你現': 703, '輕': 704, '懊悔': 705, '運行': 706, '海啸': 707, '上樓': 708, '而言': 709, '與': 710, '儿子': 711, '傻子': 712, '比瑪麗': 713, '对不起': 714, '词': 715, '重量': 716, '衣服': 717, '昂貴': 718, '等到': 719, '在家': 720, '由于': 721, '活着': 722, '發明': 723, '行星': 724, '屬實': 725, '上次': 726, '我太累': 727, '\"': 728, '全烧': 729, '我刚': 730, '关': 731, '社': 732, '两个': 733, '試著': 734, '獨立': 735, '鉛筆': 736, '皆': 737, '有意思': 738, '农场': 739, '許多': 740, '公车': 741, '点': 742, '自蘇格蘭': 743, '啊': 744, '避免': 745, '妻子': 746, '籃子': 747, '二': 748, '英國': 749, '汤姆': 750, '人类': 751, '入侵者': 752, '等候': 753, '作者': 754, '对待': 755, '尽早': 756, '遺失': 757, '這個藥': 758, '关灯': 759, '去給': 760, '停': 761, '看戲': 762, '自殺': 763, '立場': 764, '出來': 765, '趨勢': 766, '襪子': 767, '地震': 768, '最好': 769, '米': 770, '比萨': 771, '说服': 772, '休息': 773, '飛機': 774, '選擇': 775, '两杯': 776, '两年': 777, '快來': 778, '怎麼': 779, '離開': 780, '一起': 781, '但': 782, '手术': 783, '哪些': 784, '刀': 785, '五十': 786, '重病': 787, '十一点': 788, '差异': 789, '！': 790, '游泳池': 791, '那样': 792, '看看': 793, '里加': 794, '很熱': 795, '程序员': 796, '做得好': 797, '吓唬': 798, '拍照片': 799, '美元': 800, '血': 801, '因': 802, '饮料': 803, '大': 804, '东西': 805, '浴室': 806, '跟': 807, '姑姑': 808, '照顧': 809, '父亲': 810, '逆流': 811, '架子': 812, '了頭': 813, '一件': 814, '復': 815, '實地': 816, '不去': 817, '產生': 818, '嗅到': 819, '带来': 820, '真笨': 821, '女生': 822, '厭煩': 823, '我进': 824, '阅读': 825, '收支平衡': 826, '2009': 827, '男孩': 828, '頓': 829, '研究': 830, '邻居们': 831, '可怜': 832, '專輯': 833, '几年': 834, '這麼熱': 835, '建议': 836, '整个': 837, '平安': 838, '叫': 839, '聯絡': 840, '什么': 841, '有三個': 842, '请': 843, '兔子': 844, '老实人': 845, '打扫': 846, '缺钱': 847, '酒店': 848, '听到': 849, '盡': 850, '胞胎': 851, '说明': 852, '下': 853, '頭撞': 854, '地': 855, '的话': 856, '火箭': 857, '坐在': 858, '分手': 859, '一部': 860, '枪杀': 861, '特别强调': 862, '後': 863, '湯': 864, '哪儿': 865, '杯': 866, '寄给': 867, '我剛': 868, '脸红': 869, '變得安靜': 870, '最终': 871, '苹果': 872, '前': 873, '起床': 874, '报名': 875, '人口': 876, '巨大': 877, '离开': 878, '禁止': 879, '痛哭': 880, '閣': 881, '这里': 882, '这本': 883, '威胁': 884, '一輛車': 885, '就是': 886, '告訴': 887, '一覺': 888, '婚照': 889, '吃': 890, '打鐵': 891, '老人': 892, '下午': 893, '消防车': 894, '這本': 895, '行李': 896, '打得': 897, '山': 898, '並且': 899, '明智': 900, '教堂': 901, '日元': 902, '珍貴': 903, '做好': 904, '味道': 905, '敏感': 906, '一无所知': 907, '结冰': 908, '吧': 909, '假装': 910, '我愛派': 911, '因为': 912, '本书': 913, '两张': 914, '口袋': 915, '个性': 916, '他系': 917, '封': 918, '一片': 919, '護士長': 920, '關門': 921, '掌握': 922, '上周': 923, '食物': 924, '咖啡': 925, '钢琴课': 926, '結束': 927, '进步': 928, '明並': 929, '想起': 930, '苦': 931, '教室': 932, '人有': 933, '笑了起来': 934, '这儿': 935, '周三': 936, '之前': 937, '做成': 938, '一個專': 939, '這刀': 940, '科學': 941, '星期天': 942, '红酒': 943, '如果': 944, '快乐': 945, '根據': 946, '很痛': 947, '對瑪麗': 948, '符合': 949, '已經過': 950, '年轻人': 951, '有': 952, '雇': 953, '包里': 954, '幫助': 955, '看見': 956, '保卫': 957, '出去': 958, '明白': 959, '后': 960, '房子': 961, '买': 962, '找': 963, '尊敬': 964, '和平': 965, '那儿': 966, '主要': 967, '沒人': 968, '頭痛': 969, '这个': 970, '車借給': 971, '文學': 972, '請給': 973, '擁擠': 974, '可以': 975, '确定': 976, '只有': 977, '一切': 978, '一封信': 979, '迟到': 980, '掉': 981, '成年人': 982, '大楼': 983, '第一班': 984, '一下': 985, '多酒': 986, '香蕉': 987, '句子': 988, '确实': 989, '有用': 990, '車禍': 991, '游泳': 992, '生命': 993, '成为': 994, '孤儿': 995, '筑巢': 996, '這座橋': 997, '拒绝': 998, '一排': 999, '給我': 1000, '免遭': 1001, '带回': 1002, '這口': 1003, '说话': 1004, '所有人': 1005, '机器': 1006, '一次': 1007, '下降': 1008, '倔强': 1009, 'Mary': 1010, '正在': 1011, '长着': 1012, '立刻': 1013, '卡片': 1014, '賺': 1015, '这场': 1016, '女朋友': 1017, '撞': 1018, '正經': 1019, '订': 1020, '出發': 1021, '這份': 1022, '讓': 1023, '信箱': 1024, '五分钟': 1025, '關心': 1026, '災難': 1027, '紐約': 1028, '兩歲': 1029, '考虑': 1030, '掛在': 1031, '邀请': 1032, '晒黑': 1033, '車子後面': 1034, '打個': 1035, '养老院': 1036, '英格兰': 1037, '学生': 1038, '並不擁': 1039, '出入': 1040, '电影': 1041, '外交': 1042, '成為': 1043, '三明治': 1044, '不會': 1045, '新書': 1046, '名单': 1047, '意大利人': 1048, '介紹給': 1049, '電流': 1050, '我点': 1051, '有人': 1052, '难过': 1053, '免費': 1054, '過嗎': 1055, 'AI': 1056, '在我看来': 1057, '爱': 1058, '同': 1059, '一座': 1060, '感情': 1061, '謊言': 1062, '在读': 1063, '從': 1064, '对': 1065, '解决': 1066, '做完作业': 1067, '物品': 1068, '這本書': 1069, '浇花': 1070, '金窩': 1071, '开始': 1072, '天氣': 1073, '別想': 1074, '得到': 1075, '國際': 1076, '絶': 1077, '这可真': 1078, '圖書館': 1079, '前面': 1080, '比': 1081, '好好学习': 1082, '應該': 1083, '選一個': 1084, '相愛': 1085, '了傷': 1086, '常常': 1087, '髮': 1088, '生物学': 1089, '急': 1090, '這兩者': 1091, '延期': 1092, '燕子': 1093, '接下': 1094, '收音机': 1095, '记得': 1096, '還在': 1097, '同樣': 1098, '路车': 1099, '的領': 1100, '野餐': 1101, '將永遠': 1102, '控制': 1103, '不在乎': 1104, '教训': 1105, '母语': 1106, '方法': 1107, '办公室': 1108, '泥地': 1109, '比起': 1110, '真特別': 1111, '適合': 1112, '那个': 1113, '号码': 1114, '对应': 1115, '信守诺言': 1116, '咆哮': 1117, '遲到': 1118, '名声': 1119, '看到': 1120, '於': 1121, '工作': 1122, '30': 1123, '暴風雨': 1124, '迷路': 1125, '蒸發': 1126, '结束': 1127, '公司': 1128, '右转': 1129, '鳥類': 1130, '如何': 1131, '忙碌': 1132, '早晚': 1133, '故意': 1134, '一名': 1135, '羊毛': 1136, '到达': 1137, '晴朗': 1138, '之一': 1139, '此行': 1140, '大半生': 1141, '那首歌': 1142, '朋友': 1143, '詩人': 1144, '日子': 1145, '贊同': 1146, '位子': 1147, '无聊': 1148, '而聞名': 1149, '間': 1150, '工程': 1151, '死': 1152, '芝加哥': 1153, '假期': 1154, '?': 1155, '执行': 1156, '这么': 1157, '天上': 1158, '聪明': 1159, '昨晚': 1160, '鄉': 1161, '講慢': 1162, '問題': 1163, '要说': 1164, '伟大': 1165, '月球': 1166, '河在': 1167, '一句': 1168, '第二次': 1169, '太窄': 1170, '一間': 1171, '美國成': 1172, '裡有': 1173, '最': 1174, '印欧语': 1175, '回信': 1176, '方面': 1177, '会议': 1178, '十年': 1179, '癌細胞': 1180, '因為生': 1181, '本地人': 1182, '一天': 1183, '陰涼': 1184, '哭泣': 1185, '这栋': 1186, '学了': 1187, '別說': 1188, '起來': 1189, '理': 1190, '延迟': 1191, '一根': 1192, '每个': 1193, '钥匙': 1194, '起初': 1195, '給湯姆': 1196, '瞎': 1197, '看小說': 1198, '留神': 1199, '池塘': 1200, '000': 1201, '報警': 1202, '我敢': 1203, '錯過': 1204, '还是': 1205, '通灵': 1206, '夾擊': 1207, '我過': 1208, '親切': 1209, '湯姆是': 1210, '臥室裡': 1211, '作弊': 1212, '指南': 1213, '一份': 1214, '不会': 1215, '只': 1216, '五點': 1217, '願意': 1218, '重要': 1219, '臨': 1220, '那一個': 1221, '凑份子': 1222, '不怕': 1223, '錯': 1224, '我作': 1225, '我會給': 1226, '拔除': 1227, '逃跑': 1228, '碳酸': 1229, '病': 1230, '沿着': 1231, '方便': 1232, '複': 1233, '吃药': 1234, '人們': 1235, '點怪': 1236, '安全': 1237, '说些': 1238, '提': 1239, '兩倍': 1240, '葡萄': 1241, '走路': 1242, '講法語': 1243, '一人': 1244, '隧道': 1245, '停火': 1246, '帮': 1247, '有权': 1248, '開門': 1249, '醫生': 1250, '不喜歡': 1251, '茶': 1252, '麵': 1253, '化学': 1254, '账单': 1255, '偷': 1256, '俱樂部': 1257, '長': 1258, '等于': 1259, '上': 1260, '这些': 1261, '外科': 1262, '舉起': 1263, '不够': 1264, '算数': 1265, '逐渐': 1266, '身邊': 1267, '時間': 1268, '性感': 1269, '洗車': 1270, '爆发': 1271, '大阪': 1272, '即使': 1273, '鬼魂': 1274, '说': 1275, '祖母': 1276, '痛': 1277, '奇幻': 1278, '显露': 1279, '对于': 1280, '要是': 1281, '我本': 1282, '好多': 1283, '來': 1284, '討論': 1285, '洗手': 1286, '繫': 1287, '很大': 1288, '腾': 1289, '隔壁': 1290, '吗': 1291, '輪胎': 1292, '是不是': 1293, '信用卡': 1294, '這讓': 1295, '習慣': 1296, '黄色': 1297, '相信': 1298, '藝術': 1299, '吃晚饭': 1300, '同意': 1301, '心意': 1302, '倆': 1303, '呼吸': 1304, '解决办法': 1305, '財富並': 1306, '膽量': 1307, '后退': 1308, '承认': 1309, '業': 1310, '漏水': 1311, '朗瑪峰': 1312, '留在': 1313, '谢谢': 1314, '的': 1315, '完全': 1316, '他長': 1317, '不太': 1318, '小提琴': 1319, '愚弄': 1320, '打籃球': 1321, '啤酒': 1322, '作用': 1323, '模特': 1324, '詳細地': 1325, '个人': 1326, '做到': 1327, '那些': 1328, '電': 1329, '紅綠燈': 1330, '擴散': 1331, '今年': 1332, '怕': 1333, '可燃': 1334, '项目': 1335, '害臊': 1336, '家具': 1337, '车库': 1338, '最快': 1339, '姓': 1340, '很': 1341, '生活': 1342, '作': 1343, '隻': 1344, '读': 1345, '好看': 1346, '手臂': 1347, '七点': 1348, '同一': 1349, '小说': 1350, '财产': 1351, '先': 1352, '或者': 1353, '試試': 1354, '店': 1355, '分歧': 1356, '必须': 1357, '碰': 1358, '相机': 1359, '體溫': 1360, '男子': 1361, '發現': 1362, '姐姐': 1363, '把': 1364, '一共': 1365, '經變': 1366, '珊瑚礁': 1367, '准点': 1368, '左邊': 1369, '忙': 1370, '产生误解': 1371, '相同': 1372, '亲吻': 1373, '将': 1374, '遊嗎': 1375, '眼睛': 1376, '還沒': 1377, '九十多': 1378, '考慮': 1379, '顧': 1380, '独自一人': 1381, '晚上': 1382, '我晚': 1383, '瑪莉家': 1384, '不然': 1385, '卫生间': 1386, '俄羅斯': 1387, '见过': 1388, '学校': 1389, '影响': 1390, '声音': 1391, '医药费': 1392, '逹': 1393, '手': 1394, '保證': 1395, '設法': 1396, '神秘': 1397, '不亮': 1398, '者': 1399, '佩服': 1400, '全部都是': 1401, '住': 1402, '月': 1403, '時補': 1404, '不用': 1405, '你安頓': 1406, '即将来临': 1407, '今晚': 1408, '支持': 1409, '融洽': 1410, '幾乎': 1411, '怎麼樣': 1412, '意大利': 1413, '相处': 1414, '耳聾': 1415, '即將': 1416, '玩耍': 1417, '高興': 1418, '放': 1419, '會離婚': 1420, '水': 1421, '大概': 1422, '航行': 1423, '玫瑰': 1424, '找個屬': 1425, '書太多': 1426, '过头': 1427, '几天': 1428, '原因': 1429, '这药': 1430, '听': 1431, '怎樣': 1432, '宣布': 1433, '埋着': 1434, '不錯': 1435, '完后': 1436, '玻璃': 1437, '十點鐘': 1438, '吸煙': 1439, '人來': 1440, '买点': 1441, '三天': 1442, '从': 1443, '人家': 1444, '待': 1445, '停車': 1446, '不该': 1447, '先生': 1448, '椅子': 1449, '然後左轉': 1450, '朵': 1451, '最后': 1452, '還沒人': 1453, '飯': 1454, '散架': 1455, '大蒜': 1456, '最新': 1457, '棒球': 1458, '物價': 1459, '湯姆意識': 1460, '伤心': 1461, '法语': 1462, '裡放': 1463, '生子': 1464, '經壞': 1465, '插花': 1466, '攜帶': 1467, '前有': 1468, '哄': 1469, '跳舞': 1470, '內用': 1471, '其他': 1472, '移動': 1473, '魚子': 1474, '好人': 1475, '煙囪': 1476, '特别': 1477, '圖': 1478, '玛丽': 1479, '保持': 1480, '曾经': 1481, '外食': 1482, '京都': 1483, '的車': 1484, '梦想': 1485, '等': 1486, '這': 1487, '接': 1488, '那么': 1489, '日語': 1490, '钱': 1491, '而': 1492, '号': 1493, '玩具': 1494, '母亲': 1495, '制服': 1496, '害羞': 1497, '愛他': 1498, '车站': 1499, '不同': 1500, '词汇': 1501, '海倫凱勒': 1502, '穿': 1503, '報仇': 1504, '冷': 1505, '之間': 1506, '發燒': 1507, '想象': 1508, '那種': 1509, '存在': 1510, '房屋': 1511, '错误': 1512, '这座': 1513, '山丘': 1514, '哈姆雷特': 1515, '从没': 1516, '诗人': 1517, '打个': 1518, '据说': 1519, '!': 1520, '早餐': 1521, '第五': 1522, '再來': 1523, '原料': 1524, ' ': 1525, '這茶': 1526, '較': 1527, '速度': 1528, '一頂': 1529, '冒': 1530, '我的頭': 1531, '亞洲': 1532, '戲劇': 1533, '提議': 1534, '除法': 1535, '吹': 1536, '放在': 1537, '平日': 1538, '诺言': 1539, '可能': 1540, '房裡': 1541, '桌上': 1542, '接住': 1543, '淡水鱼': 1544, '她終': 1545, '恐怕': 1546, '漸漸': 1547, '每件事': 1548, '8': 1549, '製': 1550, '非去不可': 1551, '厲害': 1552, '很傻': 1553, '违背': 1554, '看來': 1555, '建': 1556, '父親': 1557, '全日': 1558, '一點兒': 1559, '一会': 1560, '还有': 1561, '停止': 1562, '週前': 1563, '通过': 1564, '夢': 1565, '埋': 1566, '中發現': 1567, '像': 1568, '確定': 1569, '飯後彈': 1570, '玩得': 1571, '景点': 1572, '？': 1573, '外星人': 1574, '结果': 1575, '會遲': 1576, '四': 1577, '我載': 1578, '們': 1579, '公里': 1580, '彈鋼琴': 1581, '給了': 1582, '法國菜': 1583, '樓裡': 1584, '漂亮': 1585, '熬夜': 1586, '作業': 1587, '曾': 1588, '損壞': 1589, '會員': 1590, '鋼筆': 1591, '医院': 1592, '冰箱': 1593, '笑': 1594, '新車': 1595, '喝牛奶': 1596, '打電話給': 1597, '槍擊': 1598, '两只': 1599, '投資': 1600, '他們': 1601, '问好': 1602, '書名': 1603, '快要': 1604, '毯子': 1605, '看': 1606, '問了': 1607, '請': 1608, '甜': 1609, '即': 1610, '住处': 1611, '刚好': 1612, '溜冰': 1613, '刮': 1614, '感受': 1615, '出租': 1616, '煙': 1617, '我會責備': 1618, '全是': 1619, '舞会': 1620, '下雪': 1621, '完成': 1622, '每': 1623, '加': 1624, '取消': 1625, '冰': 1626, '國中生': 1627, '特殊': 1628, '吸烟': 1629, '起': 1630, '已故': 1631, '張床': 1632, '西班牙': 1633, '我們': 1634, '枪': 1635, '动物': 1636, '没法': 1637, '相愛嗎': 1638, '冷静': 1639, '肩膀': 1640, '磁性': 1641, '不得不': 1642, '极少': 1643, '上個': 1644, '脚': 1645, '两次': 1646, '收下': 1647, '黑色': 1648, '去電': 1649, '點事': 1650, '新': 1651, '危險': 1652, '评价': 1653, '山峰': 1654, '偶爾': 1655, '洛杉矶': 1656, '實話': 1657, '碰巧在': 1658, '聖誕節': 1659, '罪恶': 1660, '能够': 1661, '人影': 1662, '著': 1663, '歲': 1664, '德国': 1665, '窩': 1666, '通過': 1667, '蛋糕': 1668, '幸福': 1669, '图片': 1670, '瑪麗': 1671, '另': 1672, '告诉': 1673, '算有': 1674, '这要': 1675, '出售': 1676, '脑袋': 1677, '結婚': 1678, '貝加爾湖': 1679, '胡椒': 1680, '尽可能': 1681, '完': 1682, '你家': 1683, '喜不喜欢': 1684, '這支': 1685, '反': 1686, '鸚鵡作': 1687, '就要': 1688, '房间': 1689, '聽': 1690, '擔任': 1691, '时看': 1692, '風從': 1693, '喉嚨': 1694, '聯': 1695, '确信': 1696, '這件': 1697, '信守': 1698, '讀': 1699, '真是太': 1700, '兄长': 1701, '家人': 1702, '涌': 1703, '写': 1704, '之间': 1705, '万事如意': 1706, '要读': 1707, '我並': 1708, '女儿': 1709, '照顾': 1710, '载': 1711, '百感交集': 1712, '數小時': 1713, '化裝成': 1714, '粉刷': 1715, '一再': 1716, '裡': 1717, '名字': 1718, '快': 1719, '奥克兰': 1720, '工具': 1721, '三票': 1722, '字面': 1723, '一張': 1724, '這張': 1725, '回去': 1726, '荒唐': 1727, '读书': 1728, '總是': 1729, '房間': 1730, '他會': 1731, '狐狸': 1732, '搭公車': 1733, '如此': 1734, '酸痛': 1735, '紀夠': 1736, '上過': 1737, '规则': 1738, '没什么': 1739, '幾點': 1740, '赌': 1741, '安靜': 1742, '十七': 1743, '中國': 1744, '湿': 1745, '公斤': 1746, '教': 1747, '枪射': 1748, '兄弟': 1749, '事': 1750, '感激': 1751, '事想': 1752, '受不了': 1753, '車站': 1754, '命题': 1755, '好处': 1756, '強烈': 1757, '发牢骚': 1758, '三岁时': 1759, '過體育館': 1760, '真的': 1761, '每星期': 1762, '生日礼物': 1763, '儘': 1764, '昵称': 1765, '自行': 1766, '要求': 1767, '否則': 1768, '故事': 1769, '一陣子': 1770, '可不': 1771, '为荣': 1772, '趁熱': 1773, '前进': 1774, '餵給': 1775, '团': 1776, '生气': 1777, '这应证': 1778, '養活': 1779, '关门': 1780, '一顆': 1781, '這問題': 1782, '時候': 1783, '送': 1784, '寫': 1785, '我待': 1786, '似乎': 1787, '這些': 1788, '經爬過': 1789, '累': 1790, '说会': 1791, '話': 1792, '原处': 1793, '每天': 1794, '時尚': 1795, '不': 1796, '外國': 1797, '那里': 1798, '便利': 1799, '未來': 1800, '我能': 1801, '脹': 1802, '设': 1803, '爵士': 1804, '发现': 1805, '呢': 1806, '穿著': 1807, '年龄': 1808, '浪费时间': 1809, '你们': 1810, '主張': 1811, '辛苦': 1812, '疑惑': 1813, '顯現': 1814, '那麼': 1815, '电话': 1816, '勝過': 1817, '晚睡': 1818, '相恋': 1819, '不禁': 1820, '帶上': 1821, '解決': 1822, '下來': 1823, '水果': 1824, '瑪麗幫': 1825, '特別': 1826, '游': 1827, '星期': 1828, '給你看': 1829, '早餐时间': 1830, '一小': 1831, '一瓶': 1832, '他们': 1833, '睡觉': 1834, '寵物': 1835, '天色': 1836, '经常': 1837, '餐館': 1838, '很酷': 1839, '今年年底': 1840, '噪音': 1841, '經換': 1842, '仪式': 1843, '慢跑': 1844, '关系': 1845, '而是': 1846, '雨': 1847, '怎么样': 1848, '难倒': 1849, '离': 1850, '彼此': 1851, '说唱': 1852, '方向': 1853, '你會': 1854, '走過': 1855, '尺寸': 1856, '還': 1857, '一生': 1858, '關燈': 1859, '哪裡': 1860, '羽毛球拍': 1861, '井裡': 1862, '地好轉': 1863, '捣碎': 1864, '網球': 1865, '早來': 1866, '偷走': 1867, '图书馆': 1868, '毛衣': 1869, '真想': 1870, '躺': 1871, '猴子': 1872, '电话簿': 1873, '表示遗憾': 1874, '拍': 1875, '难': 1876, '合身': 1877, '小时候': 1878, '试图': 1879, '野生动物': 1880, '煤炭': 1881, '说来': 1882, '会儿': 1883, '鐘到': 1884, '葬礼': 1885, '這樣': 1886, '求助': 1887, '決定': 1888, '這名': 1889, '派': 1890, '明確': 1891, '過午': 1892, '我媽媽': 1893, '折': 1894, '問': 1895, '往': 1896, '正面': 1897, '疼': 1898, '艺术家': 1899, '小女孩': 1900, '書學到': 1901, '咱们': 1902, '媽媽': 1903, '走': 1904, '早上': 1905, '談談': 1906, '正确': 1907, '要些': 1908, '帽子': 1909, '將會給': 1910, '150': 1911, '所以': 1912, '將來': 1913, '云': 1914, '數學': 1915, '將花費': 1916, '罗素': 1917, '個': 1918, '参加': 1919, '门开': 1920, '將照': 1921, '尽管': 1922, '丟掉': 1923, '保证': 1924, '着': 1925, '十岁时': 1926, '洗': 1927, '回來': 1928, '哭': 1929, '等待': 1930, '了解': 1931, '一打': 1932, '太多': 1933, '日': 1934, '醒': 1935, '太': 1936, '这': 1937, '帆船': 1938, '難讀': 1939, '給他': 1940, '约会': 1941, '没关系': 1942, '情報': 1943, '上司': 1944, '三': 1945, '没见': 1946, '大不了': 1947, '说谎': 1948, '這款': 1949, '幾個': 1950, '法国': 1951, '问': 1952, '大夫': 1953, '並告訴': 1954, '演讲': 1955, '作演': 1956, '经过': 1957, '废物': 1958, '表示': 1959, '中': 1960, '完早': 1961, '装病': 1962, '用枪': 1963, '自然': 1964, '大半': 1965, '產品': 1966, '起来': 1967, '兩': 1968, '身体': 1969, '收到': 1970, '又': 1971, '在': 1972, '他將': 1973, '信息': 1974, '半開始': 1975, '想待': 1976, '学': 1977, '經離開': 1978, '正餐': 1979, '偶尔': 1980, '沒上學': 1981, '代替': 1982, '打破': 1983, '晚': 1984, '副': 1985, '改变': 1986, '上课': 1987, '這裡': 1988, '司机': 1989, '一张': 1990, '长大': 1991, '新西兰': 1992, '早晨': 1993, '臺': 1994, '稱': 1995, '那朵': 1996, '车': 1997, '1636': 1998, '长不大': 1999, '錢': 2000, '任何人': 2001, '影院': 2002, '一会儿': 2003, '氣壓': 2004, '那件': 2005, '出门': 2006, '信': 2007, '一副': 2008, '這間': 2009, '甚至': 2010, '擠': 2011, '佈': 2012, '右眼': 2013, '这艘': 2014, '听说': 2015, '過來': 2016, '天气': 2017, '還沒有': 2018, '麥克風': 2019, '发点': 2020, '女長': 2021, '计划': 2022, '八点': 2023, '旧': 2024, '但是': 2025, '我该': 2026, '指使': 2027, '做作': 2028, '和谐': 2029, '何時': 2030, '努力': 2031, '上學': 2032, '日文': 2033, '0': 2034, '表': 2035, '功課': 2036, '同一天': 2037, '长时间': 2038, '陌生': 2039, '想法': 2040, '打開': 2041, '牙齦': 2042, '那條': 2043, '邀': 2044, '達': 2045, '張結': 2046, '豐富': 2047, '多長': 2048, '顶': 2049, '姓氏': 2050, '鬍': 2051, '彈得': 2052, '我馬上': 2053, '相': 2054, '湯姆換': 2055, '交通': 2056, '感到': 2057, '電話給': 2058, '二十多': 2059, '誠實': 2060, '学习': 2061, '周一': 2062, '参观': 2063, '係': 2064, '好多钱': 2065, '不久': 2066, '它': 2067, '全体': 2068, '腿部': 2069, '吉他': 2070, '联系': 2071, '博物': 2072, '久': 2073, '按时': 2074, '下週': 2075, '我们': 2076, '哈佛': 2077, '去換': 2078, '出': 2079, '发明': 2080, '經驗': 2081, '贝尔': 2082, '摔': 2083, '想': 2084, '醒醒': 2085, '了不起': 2086, '来自': 2087, '太空': 2088, '翻番': 2089, '桌子': 2090, '警报': 2091, '家庭': 2092, '北部': 2093, '小孩儿': 2094, '难民': 2095, '被': 2096, '等等': 2097, '沒帶': 2098, '安卓': 2099, '留下': 2100, '一直': 2101, '这次': 2102, '铐': 2103, '六十岁': 2104, '導': 2105, '孩子': 2106, '愛': 2107, '嚴肅': 2108, '拒絕': 2109, '取笑': 2110, '布娃娃': 2111, 'iPad': 2112, '今天下午': 2113, '没理由': 2114, '捏了一把汗': 2115, '1000': 2116, '娶': 2117, '蓋': 2118, '褒贬不一': 2119, '梯子': 2120, '拉': 2121, '花園裡': 2122, '受傷': 2123, '也': 2124, '我還': 2125, '聖誕': 2126, '比較': 2127, '高尔夫': 2128, '獨自': 2129, '買給': 2130, '湯姆不會': 2131, '先去': 2132, '失敗': 2133, '允許': 2134, '，': 2135, '能学': 2136, '為': 2137, '至少': 2138, '它屬': 2139, '富有': 2140, '不必': 2141, '回家': 2142, '手里': 2143, '毛毯': 2144, '很昂貴': 2145, '很會': 2146, '電腦': 2147, '兩個': 2148, '給母語': 2149, '煤气': 2150, '借给': 2151, '卡': 2152, '重得': 2153, '流血': 2154, '難民們': 2155, '英寸': 2156, '只能': 2157, '目的': 2158, '摘花': 2159, '廚師': 2160, '每次': 2161, '他麼': 2162, '法案': 2163, '之中': 2164, '手提箱': 2165, '湯姆': 2166, '週開始': 2167, '刚回到': 2168, '英雄': 2169, '身边': 2170, '再也': 2171, '昨天早上': 2172, '無所謂': 2173, '各種': 2174, '周日': 2175, '他怕': 2176, '星期一': 2177, '雪': 2178, '還年': 2179, '微乎其微': 2180, '勇氣': 2181, '湯姆向': 2182, '感谢': 2183, '食': 2184, '前門': 2185, '有些': 2186, '20': 2187, '早會': 2188, '發射': 2189, '通货膨胀': 2190, '恨': 2191, '錯誤': 2192, '管': 2193, '首歌曲': 2194, '摧毀': 2195, '长得': 2196, '大家庭': 2197, '聽起': 2198, '可是': 2199, '一门': 2200, '全部': 2201, '头发': 2202, '小心': 2203, '扇門': 2204, '那匹马': 2205, '事实': 2206, '講英語': 2207, '两下': 2208, '美國': 2209, '而且': 2210, '昨天晚上': 2211, '上学': 2212, '解除': 2213, '跟着': 2214, '騎': 2215, '蓝色': 2216, '祝': 2217, '\\t': 2218, '吃過': 2219, '月光': 2220, '乘': 2221, '到处': 2222, '一點': 2223, '自行车': 2224, '长长的': 2225, '信件': 2226, '沒法': 2227, '音乐': 2228, '鞋': 2229, '树叶': 2230, '死人': 2231, '金子': 2232, '自': 2233, '收回': 2234, '细致': 2235, '喜欢': 2236, '考慮過': 2237, '走出': 2238, '足球': 2239, '下载': 2240, '空闲': 2241, '法語': 2242, '看不到': 2243, '革命': 2244, '或': 2245, '很棒': 2246, '音乐会': 2247, '顺便': 2248, '放学': 2249, '挺': 2250, '脱下': 2251, '瞄准': 2252, '不太可能': 2253, '上床睡觉': 2254, '幫瑪麗': 2255, '擁有': 2256, '箱子': 2257, '指導': 2258, '六個': 2259, '干净': 2260, '金属': 2261, '湯姆輸': 2262, '不是': 2263, '骑': 2264, '我給': 2265, '知': 2266, '家': 2267, '给': 2268, '意義': 2269, '建筑物': 2270, '穷人': 2271, '男人': 2272, '無論': 2273, '窗口': 2274, '地区': 2275, '总是': 2276, '東方': 2277, '一本': 2278, '對面': 2279, '明朗': 2280, '槍': 2281, 'Twitter': 2282, '訂購': 2283, '区域': 2284, '疑问': 2285, '再待': 2286, '我付': 2287, '疯': 2288, '这会': 2289, '我要': 2290, '政策': 2291, '油漆': 2292, '變成': 2293, '礼物': 2294, '九點': 2295, '獨': 2296, '天': 2297, '公室': 2298, '扔': 2299, '塞纳河': 2300, 'Tom': 2301, '现在': 2302, '午休': 2303, '既然': 2304, '那件事': 2305, '運動': 2306, '同样': 2307, '请问': 2308, '来接': 2309, '一位': 2310, '見': 2311, '波士顿': 2312, '事情': 2313, '女人': 2314, '看法': 2315, '站': 2316, '褲子': 2317, '公园': 2318, '檢查': 2319, '讀書': 2320, '認出': 2321, '照片': 2322, '哪类': 2323, '過時': 2324, '沒有': 2325, '指望': 2326, '批准': 2327, '准时': 2328, '空間': 2329, '已经': 2330, '姐妹': 2331, '有没有': 2332, '喷剂': 2333, '高': 2334, '謊': 2335, '很漂亮': 2336, '眼帘': 2337, '負責任': 2338, '發行': 2339, '感謝': 2340, '错过': 2341, '打网球': 2342, '完花': 2343, '匯率': 2344, '赶上': 2345, '覆盖': 2346, '照': 2347, '他': 2348, '条大狗': 2349, '56': 2350, '周二': 2351, '左右': 2352, '三次': 2353, '祝您': 2354, '九点': 2355, '洋蔥': 2356, '身肩重任': 2357, '公交车': 2358, '高兴': 2359, '這一個': 2360, '那樣': 2361, '太重': 2362, '比薩': 2363, '石头': 2364, '生日': 2365, '國家': 2366, '印象': 2367, '話給': 2368, '該': 2369, '再': 2370, '湯姆告': 2371, '森林': 2372, '橘子': 2373, '上午': 2374, '腐爛': 2375, '选择': 2376, '嚮': 2377, '永远': 2378, '赢': 2379, '处理': 2380, '有名': 2381, '德國': 2382, '有點': 2383, '這個': 2384, '找約翰': 2385, '不到': 2386, '美国大使馆': 2387, '它们': 2388, '佔': 2389, '－': 2390, '下雨': 2391, '我想現': 2392, '仔細': 2393, '更多人': 2394, '看得': 2395, '伦敦': 2396, '一种': 2397, '饿': 2398, '竟然': 2399, '置': 2400, '虽然': 2401, '攝影機': 2402, '讲': 2403, '悲劇': 2404, '地舒適': 2405, '雜': 2406, '精通': 2407, '打': 2408, '開放': 2409, '抵御': 2410, '一個': 2411, '改變': 2412, '公开': 2413, '充满': 2414, '昨天': 2415, '生于': 2416, '重建': 2417, '真正': 2418, '钱存': 2419, '寫信': 2420, '过来': 2421, '晚会': 2422, '繩子': 2423, '背': 2424, '鬼': 2425, '球是': 2426, '收集': 2427, '顧客': 2428, '公事包': 2429, '优质': 2430, '小时': 2431, '帶': 2432, '兩倍長': 2433, '合适': 2434, '讀小說': 2435, '夜晚': 2436, '搶': 2437, '以为': 2438, '上楼': 2439, '叔叔': 2440, '晚餐': 2441, '语言': 2442, '对话': 2443, '遵守规则': 2444, '宝贝': 2445, '变暗': 2446, '嘲笑': 2447, '别': 2448, '喝无糖': 2449, '妨碍': 2450, '钱包': 2451, '反对': 2452, '同时': 2453, '建議': 2454, '成功': 2455, '我無法': 2456, '愚蠢': 2457, '談論': 2458, '比賽': 2459, '音樂會': 2460, '世界各地': 2461, '嘛': 2462, '猜': 2463, '早点': 2464, '堂姊妹': 2465, '一点': 2466, '這麼': 2467, '推車': 2468, '氣': 2469, '实在': 2470, '人住': 2471, '当然': 2472, '城堡': 2473, '留': 2474, '小孩': 2475, '底部': 2476, '意义': 2477, '聚在一起': 2478, '幸運': 2479, '個國家': 2480, '广场': 2481, '阿蘇山': 2482, '成': 2483, '醫院裡': 2484, '非洲': 2485, '使': 2486, '外套': 2487, '多': 2488, '于': 2489, '欠': 2490, '二得': 2491, '听见': 2492, '去': 2493, '意图': 2494, '作證': 2495, '时': 2496, '並': 2497, '邮局': 2498, '还': 2499, '得': 2500, '地表': 2501, '见': 2502, '愛迪生': 2503, '二十': 2504, '古代': 2505, '剛才': 2506, '想贏': 2507, '弟弟': 2508, '給瑪麗': 2509, '很受': 2510, '玩': 2511, '美術館': 2512, '问个问题': 2513, '马上': 2514, '你們': 2515, '看電視': 2516, '大衣': 2517, '新闻': 2518, '電影': 2519, '廚餘': 2520, '独自': 2521, '別人': 2522, '意思': 2523, '花': 2524, '看上去': 2525, '將在': 2526, '敢': 2527, '该': 2528, '去年': 2529, '同學': 2530, '访问': 2531, '漆': 2532, '因為': 2533, '凳': 2534, '么': 2535, '派对': 2536, '盡力': 2537, '跑': 2538, '根本': 2539, '西班牙文': 2540, '一列': 2541, '還是': 2542, '秘密': 2543, '牛奶': 2544, '眼鏡': 2545, '弄清楚': 2546, '六': 2547, '饭后': 2548, '溢出': 2549, '攝氏': 2550, '健美操': 2551, '哪里': 2552, '抵達': 2553, '辞掉': 2554, '（': 2555, '穿着': 2556, '位': 2557, '有空': 2558, '想像力': 2559, '一周': 2560, '機會': 2561, '没': 2562, '臨著': 2563, '寄': 2564, '吵醒': 2565, '愛一樣': 2566, '匙': 2567, '擔心': 2568, '借給': 2569, '遲': 2570, '比馬鈴薯': 2571, '給我點': 2572, '城市': 2573, '看著': 2574, '汽车': 2575, '年里': 2576, '湯姆想': 2577, '不少': 2578, '是从': 2579, '廣播': 2580, '冬季': 2581, '你': 2582, '修理': 2583, '他本': 2584, '你會用': 2585, '扮演': 2586, '担心': 2587, '看書': 2588, '一个': 2589, '误会': 2590, '一个月': 2591, '两者': 2592, '搭': 2593, '达': 2594, '雨淋': 2595, '每周': 2596, '門都': 2597, '日语': 2598, '历史课': 2599, '歧视': 2600, '动物园': 2601, '作家': 2602, '駕駛': 2603, '登出': 2604, '辦': 2605, '盘问': 2606, '门口': 2607, '座位': 2608, '厭倦': 2609, '公園裡': 2610, '時': 2611, '週見': 2612, '滿': 2613, '還活': 2614, '问题': 2615, '經是': 2616, '馬': 2617, '去世': 2618, '接受': 2619, '此事': 2620, '麻烦': 2621, '人工智能': 2622, '苍白': 2623, '简单': 2624, '政治家': 2625, '习惯': 2626, '见过面': 2627, '抱歉': 2628, '野澤': 2629, '亲戚': 2630, '彈': 2631, '不远': 2632, '把門': 2633, '湯姆試': 2634, '提供': 2635, '银行': 2636, '某個': 2637, '哥哥': 2638, '原谅': 2639, '飽': 2640, '錶': 2641, '爬树': 2642, '覺得': 2643, '铅笔': 2644, '資料': 2645, '不吃': 2646, '开发': 2647, '3202': 2648, '裡又再': 2649, '律師': 2650, '正忙': 2651, '班裡': 2652, '中文': 2653, '个': 2654, '週末': 2655, '短短的': 2656, '樂器': 2657, '外': 2658, '谁': 2659, '學生': 2660, '且': 2661, '幫': 2662, '从来不': 2663, '一年': 2664, '周遊': 2665, '驚': 2666, '遇見': 2667, '火車': 2668, '出國': 2669, '做饭': 2670, '八點': 2671, '学会': 2672, '我困': 2673, '冰淇淋': 2674, '我來': 2675, '想要': 2676, '筆看': 2677, '新鲜': 2678, '致力于': 2679, '忘': 2680, '動物': 2681, '熟': 2682, '垃圾': 2683, '讲话': 2684, '她給': 2685, '与': 2686, '繼續': 2687, '公正': 2688, '法语歌': 2689, '實際上': 2690, '雨天': 2691, '假如': 2692, '十分': 2693, '走远': 2694, '有益于': 2695, '腐蚀': 2696, '每年': 2697, '一部分': 2698, '一整天': 2699, '外国': 2700, '會談將': 2701, '系上': 2702, '機上': 2703, '掃': 2704, '旷课': 2705, '中午': 2706, '裡讀': 2707, '发誓': 2708, '將舉行': 2709, '主修': 2710, '决定': 2711, '公平': 2712, '牙醫': 2713, '否认': 2714, '甚': 2715, '亲切': 2716, '小時': 2717, '比水': 2718, '陌生人': 2719, '他理': 2720, '出席': 2721, '屋頂': 2722, '放回': 2723, '每天晚上': 2724, '通话': 2725, '結成': 2726, '道歉': 2727, '快点': 2728, '它給': 2729, '受夠': 2730, '餓': 2731, '借': 2732, '能': 2733, '考察': 2734, '记好': 2735, '绑架': 2736, '我遇': 2737, '真': 2738, '驚訝': 2739, '长信': 2740, '誰': 2741, '唱歌': 2742, '我想': 2743, '视力': 2744, '惊讶': 2745, '他会': 2746, '總': 2747, '此': 2748, '方式': 2749, '路子走': 2750, '伞': 2751, '告密': 2752, '超市': 2753, '說話': 2754, '快樂': 2755, '襯衫': 2756, '嬰兒': 2757, '烟雾': 2758, '天气预报': 2759, '尋常': 2760, '喝醉': 2761, '坚持': 2762, '帶來': 2763, '中央': 2764, '持续': 2765, '尾巴': 2766, '一把': 2767, '問瑪麗': 2768, '烧': 2769, '10': 2770, '正': 2771, '创造': 2772, '从未': 2773, '东京': 2774, '很長': 2775, '沒來': 2776, '从事': 2777, '會': 2778, '不错': 2779, '另一端': 2780, '手帕': 2781, '应该': 2782, '借书': 2783, '樂': 2784, '傷害': 2785, '很明顯': 2786, '支付款': 2787, '幽默感': 2788, '目前': 2789, '墨西哥人': 2790, '鄙视': 2791, '輾過': 2792, '泡': 2793, '買': 2794, '国家': 2795, '我錯': 2796, '媽在': 2797, '岛上': 2798, '将会': 2799, '老朋友': 2800, '屏住': 2801, '有点': 2802, '銀窩': 2803, '秘书': 2804, '今天天气': 2805, '拿': 2806, '星期日': 2807, '車去': 2808, '安全带': 2809, '附近': 2810, '啞': 2811, '没课': 2812, '靠': 2813, '有趣': 2814, '上边': 2815, '一班': 2816, '撫養長': 2817, '租金': 2818, '神': 2819, '一首': 2820, '按鈕': 2821, '上班': 2822, '下来': 2823, '慾': 2824, '帮助': 2825, '同学': 2826, '利率': 2827, '半個': 2828, '教授': 2829, '鸟儿': 2830, '照耀': 2831, '主意': 2832, '待在家里': 2833, '換火車': 2834, '卖得': 2835, '驾车': 2836, '无法': 2837, '外帶': 2838, '聽音樂': 2839, '已經': 2840, '领带': 2841, '這條': 2842, '你換': 2843, '準時': 2844, '我学': 2845, '策略': 2846, '右': 2847, '热': 2848, '当': 2849, '列车': 2850, '大學': 2851, '前男友': 2852, '脖子': 2853, '釣魚': 2854, '喝': 2855, '開心': 2856, '为止': 2857, '師': 2858, '失踪': 2859, '来说': 2860, '我父': 2861, '據': 2862, '之': 2863, '开个': 2864, '一刻': 2865, '祖父': 2866, '好點': 2867, '運送': 2868, '一叠': 2869, '道路': 2870, '借口': 2871, '数字': 2872, '散散步': 2873, '上升': 2874, '直到': 2875, '英语': 2876, '登廣告': 2877, '做一套': 2878, '拍照': 2879, '鹽': 2880, '上十個': 2881, '通常': 2882, '船': 2883, '幸运地': 2884, '家常菜': 2885, '確': 2886, '两种': 2887, '醫院': 2888, '進來': 2889, '那': 2890, '四樓': 2891, '花园里': 2892, '爸爸': 2893, '」': 2894, '乘飞机': 2895, '演奏': 2896, '影': 2897, '呼吸困难': 2898, '包是': 2899, '有個雙': 2900, '進口': 2901, '信一写': 2902, '我母': 2903, '彎曲': 2904, '高三': 2905, '全天': 2906, '那個': 2907, '美丽': 2908, '行为': 2909, '隨時': 2910, '自杀': 2911, '大声': 2912, '晚安': 2913, '山上': 2914, '无话可说': 2915, '不再': 2916, '他來': 2917, '孤独': 2918, '认为': 2919, '楼': 2920, '猫': 2921, '搬出去': 2922, '英文': 2923, '大狗': 2924, '例子': 2925, '排球': 2926, '原子': 2927, '彌補永遠': 2928, '小洞': 2929, '一台': 2930, '太贵': 2931, '組討論': 2932, '肯定': 2933, '嗓音': 2934, '气象学家': 2935, '无所畏惧': 2936, '风声': 2937, '購物': 2938, '打电话': 2939, '發生': 2940, '树干': 2941, '塔': 2942, '乘以': 2943, '它花': 2944, '難': 2945, '辭職': 2946, '參加': 2947, '這事': 2948, '应用': 2949, '拿定主意': 2950, '5625': 2951, '大城市': 2952, '”': 2953, '他病': 2954, '虚弱': 2955, '他装': 2956, '兩面': 2957, '造': 2958, '感覺': 2959, '看漫畫': 2960, '怎么回事': 2961, '出现': 2962, '所': 2963, '轉動門': 2964, '拼': 2965, '投资者': 2966, '難過': 2967, '建筑师': 2968, '敌人': 2969, '鞋子': 2970, '街區': 2971, '当时': 2972, '週日': 2973, '腿': 2974, '有風險': 2975, '經死': 2976, '健康': 2977, '開': 2978, '加熱時': 2979, '東西': 2980, '不太想': 2981, '身上': 2982, '简短': 2983, '輕井澤': 2984, '無法表達': 2985, '认真': 2986, '電視': 2987, '三种': 2988, '明早': 2989, '會幫': 2990, '上面': 2991, '天空': 2992, '那事': 2993, '下棋': 2994, '床上': 2995, '最深': 2996, '湯姆餓': 2997, '这样': 2998, '常在': 2999, '夏季': 3000, '其中': 3001, '世界': 3002, '生': 3003, '应得': 3004, '发动': 3005, '街': 3006, '再也不会': 3007, '嚴重': 3008, '剛': 3009, '出生': 3010, '令人': 3011, '看過': 3012, '謝謝': 3013, '機場': 3014, '日本': 3015, '容易': 3016, '記得': 3017, '检查': 3018, '祈盼': 3019, '玩牌': 3020, '美好': 3021, '玩过': 3022, '劇院': 3023, '变小': 3024, '举止': 3025, '及': 3026, '小男孩': 3027, '白痴': 3028, '侦探小说': 3029, '雨傘': 3030, '书': 3031, '猪肉': 3032, '火车': 3033, '盖子': 3034, '接近': 3035, '希望': 3036, '開會': 3037, '湯姆會': 3038, '贝壳': 3039, '影片': 3040, '從國外': 3041, '注意': 3042, '農場': 3043, '相機': 3044, '就行了': 3045, '鈅': 3046, '準備': 3047, '地上': 3048, '柱子': 3049, '出发': 3050, '知道': 3051, '职员': 3052, '星期五': 3053, '家小': 3054, '不让': 3055, '守衛著': 3056, '离婚': 3057, '最美': 3058, '無阻': 3059, '男生': 3060, '不见': 3061, '一样': 3062, '戒烟': 3063, '旅游': 3064, '我現': 3065, '我试': 3066, '嘴': 3067, '灯亮': 3068, '他家': 3069, '他會來': 3070, '时候': 3071, '失去': 3072, '封信': 3073, '迫使': 3074, '强': 3075, '親要': 3076, '喂食': 3077, '陷阱': 3078, '門關': 3079, '从早到晚': 3080, '其实': 3081, '舒服': 3082, '满足': 3083, '建築': 3084, '不該': 3085, '屋子': 3086, '濱松': 3087, '生氣': 3088, '季节': 3089, '第一次': 3090, '用来': 3091, '這支手': 3092, '退休': 3093, '你好': 3094, '胃': 3095, '角色': 3096, '找到': 3097, '最近': 3098, '三台': 3099, '撫養': 3100, '铃': 3101, '羽毛球': 3102, '颜色': 3103, '吃午': 3104, '回事': 3105, '预约': 3106, '抱怨': 3107, '医生': 3108, '聚会': 3109, '雨大得': 3110, '垒球': 3111, '吃些': 3112, '受到': 3113, '祝福': 3114, '情报局': 3115, '回答': 3116, '一樣': 3117, '裡的': 3118, '贏的': 3119, '危险': 3120, '承諾': 3121, '紅外線': 3122, '人们': 3123, '認識': 3124, '老': 3125, '麼': 3126, '珠穆': 3127, '交易': 3128, '問過': 3129, '海邊': 3130, '不想': 3131, '無法': 3132, '越来越': 3133, '用': 3134, '下列': 3135, '六个月': 3136, '一塊': 3137, '最高': 3138, '言': 3139}\n"
     ]
    }
   ],
   "source": [
    "input_token_index = dict(\n",
    "    [(token, i) for i, token in enumerate(input_tokens)])\n",
    "target_token_index = dict(\n",
    "    [(token, i) for i, token in enumerate(target_tokens)])\n",
    "\n",
    "print(\"\\ninput index:\")\n",
    "print(input_token_index)\n",
    "\n",
    "print(\"\\ntarget index:\")\n",
    "print(target_token_index)"
   ]
  },
  {
   "cell_type": "code",
   "execution_count": 3,
   "id": "b17437cf",
   "metadata": {},
   "outputs": [
    {
     "name": "stdout",
     "output_type": "stream",
     "text": [
      "The shape is (batch_size, time_steps, input_dim)\n",
      "so it will be (number of x, length of each x, dimension of x)\n",
      "\n",
      "encoder input shape:\n",
      "(2000, 18, 2103)\n",
      "\n",
      "decoder input shape:\n",
      "(2000, 22, 3140)\n",
      "\n",
      "decoder target shape:\n",
      "(2000, 22, 3140)\n",
      "\n",
      "encoder input data (1-hot):\n",
      "[[[0. 0. 0. ... 0. 0. 0.]\n",
      "  [0. 0. 0. ... 0. 0. 0.]\n",
      "  [0. 0. 0. ... 0. 0. 0.]\n",
      "  ...\n",
      "  [0. 0. 0. ... 0. 0. 0.]\n",
      "  [0. 0. 0. ... 0. 0. 0.]\n",
      "  [0. 0. 0. ... 0. 0. 0.]]\n",
      "\n",
      " [[0. 0. 0. ... 0. 0. 0.]\n",
      "  [0. 0. 0. ... 0. 0. 0.]\n",
      "  [0. 0. 0. ... 0. 0. 0.]\n",
      "  ...\n",
      "  [0. 0. 0. ... 0. 0. 0.]\n",
      "  [0. 0. 0. ... 0. 0. 0.]\n",
      "  [0. 0. 0. ... 0. 0. 0.]]]\n",
      "\n",
      "decoder input data (1-hot):\n",
      "[[[0. 0. 0. ... 0. 0. 0.]\n",
      "  [0. 0. 0. ... 0. 0. 0.]\n",
      "  [0. 0. 0. ... 0. 0. 0.]\n",
      "  ...\n",
      "  [0. 0. 0. ... 0. 0. 0.]\n",
      "  [0. 0. 0. ... 0. 0. 0.]\n",
      "  [0. 0. 0. ... 0. 0. 0.]]\n",
      "\n",
      " [[0. 0. 0. ... 0. 0. 0.]\n",
      "  [0. 0. 0. ... 0. 0. 0.]\n",
      "  [0. 0. 0. ... 0. 0. 0.]\n",
      "  ...\n",
      "  [0. 0. 0. ... 0. 0. 0.]\n",
      "  [0. 0. 0. ... 0. 0. 0.]\n",
      "  [0. 0. 0. ... 0. 0. 0.]]]\n",
      "\n",
      "decoder target data (1-hot):\n",
      "[[[0. 0. 0. ... 0. 0. 0.]\n",
      "  [0. 0. 0. ... 0. 0. 0.]\n",
      "  [0. 0. 0. ... 0. 0. 0.]\n",
      "  ...\n",
      "  [0. 0. 0. ... 0. 0. 0.]\n",
      "  [0. 0. 0. ... 0. 0. 0.]\n",
      "  [0. 0. 0. ... 0. 0. 0.]]\n",
      "\n",
      " [[0. 0. 0. ... 0. 0. 0.]\n",
      "  [0. 0. 0. ... 0. 0. 0.]\n",
      "  [0. 0. 0. ... 0. 0. 0.]\n",
      "  ...\n",
      "  [0. 0. 0. ... 0. 0. 0.]\n",
      "  [0. 0. 0. ... 0. 0. 0.]\n",
      "  [0. 0. 0. ... 0. 0. 0.]]]\n"
     ]
    }
   ],
   "source": [
    "encoder_input_data = np.zeros(\n",
    "    (len(input_texts), max_encoder_seq_length, num_encoder_tokens),\n",
    "    dtype='float32')\n",
    "decoder_input_data = np.zeros(\n",
    "    (len(input_texts), max_decoder_seq_length, num_decoder_tokens),\n",
    "    dtype='float32')\n",
    "decoder_target_data = np.zeros(\n",
    "    (len(input_texts), max_decoder_seq_length, num_decoder_tokens),\n",
    "    dtype='float32')\n",
    "\n",
    "for i, (input_text, target_text) in enumerate(zip(input_texts, target_texts)):\n",
    "    for t, token in enumerate(input_text):\n",
    "        encoder_input_data[i, t, input_token_index[token]] = 1.\n",
    "    for t, token in enumerate(target_text):\n",
    "        # decoder_target_data is ahead of decoder_input_data by one timestep\n",
    "        decoder_input_data[i, t, target_token_index[token]] = 1.\n",
    "        if t > 0:\n",
    "            # decoder_target_data will be ahead by one timestep\n",
    "            # and will not include the start character.\n",
    "            decoder_target_data[i, t - 1, target_token_index[token]] = 1.\n",
    "\n",
    "print(\"The shape is (batch_size, time_steps, input_dim)\")\n",
    "print(\"so it will be (number of x, length of each x, dimension of x)\")\n",
    "print(\"\\nencoder input shape:\")\n",
    "print(encoder_input_data.shape)\n",
    "print(\"\\ndecoder input shape:\")\n",
    "print(decoder_input_data.shape)\n",
    "print(\"\\ndecoder target shape:\")\n",
    "print(decoder_target_data.shape)\n",
    "            \n",
    "print(\"\\nencoder input data (1-hot):\")\n",
    "print(encoder_input_data[-2:])\n",
    "print(\"\\ndecoder input data (1-hot):\")\n",
    "print(decoder_input_data[-2:])\n",
    "print(\"\\ndecoder target data (1-hot):\")\n",
    "print(decoder_target_data[-2:])"
   ]
  },
  {
   "cell_type": "code",
   "execution_count": 4,
   "id": "4a1b2d96",
   "metadata": {},
   "outputs": [
    {
     "name": "stderr",
     "output_type": "stream",
     "text": [
      "2025-06-16 04:51:06.642431: I tensorflow/compiler/jit/xla_cpu_device.cc:41] Not creating XLA devices, tf_xla_enable_xla_devices not set\n",
      "2025-06-16 04:51:06.642967: W tensorflow/stream_executor/platform/default/dso_loader.cc:60] Could not load dynamic library 'libcuda.so.1'; dlerror: libcuda.so.1: cannot open shared object file: No such file or directory\n",
      "2025-06-16 04:51:06.643020: W tensorflow/stream_executor/cuda/cuda_driver.cc:326] failed call to cuInit: UNKNOWN ERROR (303)\n",
      "2025-06-16 04:51:06.646429: I tensorflow/stream_executor/cuda/cuda_diagnostics.cc:156] kernel driver does not appear to be running on this host (eb4c86b6f34a): /proc/driver/nvidia/version does not exist\n",
      "2025-06-16 04:51:06.657325: I tensorflow/core/platform/cpu_feature_guard.cc:142] This TensorFlow binary is optimized with oneAPI Deep Neural Network Library (oneDNN) to use the following CPU instructions in performance-critical operations:  AVX2 FMA\n",
      "To enable them in other operations, rebuild TensorFlow with the appropriate compiler flags.\n",
      "2025-06-16 04:51:06.660605: I tensorflow/compiler/jit/xla_gpu_device.cc:99] Not creating XLA devices, tf_xla_enable_xla_devices not set\n"
     ]
    },
    {
     "name": "stdout",
     "output_type": "stream",
     "text": [
      "encoder_inputs: (None, None, 2103)\n",
      "state: (None, 128)\n",
      "encoder_outputs: (None, None, 128)\n"
     ]
    }
   ],
   "source": [
    "class Encoder(Model):\n",
    "    def __init__(self, vocab_size, latent_dim, batch_sz):\n",
    "        super(Encoder, self).__init__()\n",
    "        self.batch_sz = batch_sz\n",
    "        self.latent_dim = latent_dim\n",
    "        self.lstm = GRU(self.latent_dim,\n",
    "                        return_sequences=True,\n",
    "                        return_state=True,\n",
    "                        recurrent_initializer='glorot_uniform')\n",
    "\n",
    "    def call(self, x):\n",
    "        output, state = self.lstm(x)\n",
    "        return output, state\n",
    "\n",
    "\n",
    "encoder_inputs = Input(shape=(None, num_encoder_tokens))\n",
    "encoder = Encoder(num_encoder_tokens, latent_dim, batch_size)\n",
    "encoder_outputs, state = encoder(encoder_inputs)\n",
    "\n",
    "print(f\"encoder_inputs: {encoder_inputs.shape}\")\n",
    "print(f\"state: {state.shape}\")\n",
    "print(f\"encoder_outputs: {encoder_outputs.shape}\")"
   ]
  },
  {
   "cell_type": "code",
   "execution_count": 5,
   "id": "6d21a37c",
   "metadata": {},
   "outputs": [],
   "source": [
    "import tensorflow as tf\n",
    "\n",
    "class BahdanauAttention(Layer):\n",
    "    def __init__(self, units):\n",
    "        super(BahdanauAttention, self).__init__()\n",
    "        self.W1 = Dense(units)\n",
    "        self.W2 = Dense(units)\n",
    "        self.V = Dense(1)\n",
    "\n",
    "    def call(self, query, values):\n",
    "        # query is the decoder's current hidden state (h_t)\n",
    "        # values are the encoder's output states (h_s from s=1 to T_x)\n",
    "\n",
    "        # query hidden state shape == (batch_size, hidden size)\n",
    "        # We need to expand dims for broadcasting with values\n",
    "        query_with_time_axis = tf.expand_dims(query, 1) # (batch_size, 1, hidden size)\n",
    "        print(f\"query_with_time_axis: {query_with_time_axis.shape}\")\n",
    "\n",
    "        # Calculate the score (alignment scores)\n",
    "        # score shape == (batch_size, max_length, 1)\n",
    "        score = self.V(tf.nn.tanh(self.W1(query_with_time_axis) + self.W2(values)))\n",
    "        print(f\"score: {score.shape}\")\n",
    "\n",
    "        # Apply softmax to get attention weights\n",
    "        # attention_weights shape == (batch_size, max_length, 1)\n",
    "        attention_weights = tf.nn.softmax(score, axis=1)\n",
    "        print(f\"attention_weights: {attention_weights.shape}\")\n",
    "\n",
    "        # Calculate the context vector\n",
    "        # context_vector shape == (batch_size, hidden_size)\n",
    "        context_vector = attention_weights * values\n",
    "        context_vector = tf.reduce_sum(context_vector, axis=1)\n",
    "        print(f\"context_vector: {context_vector.shape}\")\n",
    "\n",
    "        return context_vector, attention_weights"
   ]
  },
  {
   "cell_type": "code",
   "execution_count": 9,
   "id": "a4f9c936",
   "metadata": {},
   "outputs": [],
   "source": [
    "class BahdanauAttention2(Layer):\n",
    "    def __init__(self, units):\n",
    "        super().__init__()\n",
    "        \n",
    "        self.W1 = Dense(units)\n",
    "        self.W2 = Dense(units)\n",
    "        self.attention = tf.keras.layers.AdditiveAttention()\n",
    "\n",
    "    def call(self, query, value):\n",
    "        # From Eqn. (4), `W1@ht`.\n",
    "        w1_query = self.W1(query)\n",
    "\n",
    "        # From Eqn. (4), `W2@hs`.\n",
    "        # from memory to key\n",
    "        w2_key = self.W2(value)\n",
    "\n",
    "        context_vector, attention_weights = self.attention(\n",
    "            inputs = [w1_query, value, w2_key],\n",
    "            # mask=[query_mask, value_mask],\n",
    "            return_attention_scores = True,\n",
    "        )\n",
    "\n",
    "        return context_vector, attention_weights"
   ]
  },
  {
   "cell_type": "code",
   "execution_count": 10,
   "id": "dc194d99",
   "metadata": {},
   "outputs": [
    {
     "name": "stdout",
     "output_type": "stream",
     "text": [
      "x: (None, None, 3140)\n",
      "hidden: (None, 128)\n",
      "enc_output: (None, None, 128)\n",
      "rnn_output: (None, None, 128)\n",
      "decoder_inputs: (None, None, 3140)\n",
      "state: (None, 128)\n",
      "decoder_outputs: (None, None, 3140)\n"
     ]
    }
   ],
   "source": [
    "class Decoder(Model):\n",
    "    def __init__(self, vocab_size, latent_dim, batch_sz):\n",
    "        super(Decoder, self).__init__()\n",
    "        self.batch_sz = batch_sz\n",
    "        self.latent_dim = latent_dim\n",
    "        self.lstm = GRU(latent_dim,\n",
    "                        return_sequences=True,\n",
    "                        return_state=True,\n",
    "                        recurrent_initializer='glorot_uniform')\n",
    "        self.fc = Dense(vocab_size, activation='softmax')\n",
    "        self.attention = BahdanauAttention2(self.latent_dim)\n",
    "\n",
    "    def call(self, x, hidden, enc_output):\n",
    "        print(f\"x: {x.shape}\")\n",
    "        print(f\"hidden: {hidden.shape}\")\n",
    "        print(f\"enc_output: {enc_output.shape}\")\n",
    "        \n",
    "        rnn_output, rnn_state = self.lstm(x, initial_state=hidden)\n",
    "        print(f\"rnn_output: {rnn_output.shape}\")\n",
    "        \n",
    "        context_vector, attention_weights = self.attention(rnn_output, enc_output)\n",
    "        \n",
    "        # context_and_rnn_output = tf.concat([context_vector, rnn_output], axis=-1)\n",
    "        \n",
    "        x = tf.concat([context_vector, rnn_output], axis=-1)\n",
    "        \n",
    "        #NOTE: does reshape needed?\n",
    "        # output = tf.reshape(output, (-1, output.shape[2]))\n",
    "        y = self.fc(x)\n",
    "\n",
    "        return y, rnn_state\n",
    "\n",
    "\n",
    "decoder_inputs = Input(shape=(None, num_decoder_tokens))\n",
    "# We set up our decoder to return full output sequences,\n",
    "# and to return internal states as well. We don't use the\n",
    "# return states in the training model, but we will use them in inference.\n",
    "decoder = Decoder(num_decoder_tokens, latent_dim, batch_size)\n",
    "decoder_outputs, _ = decoder(decoder_inputs, hidden=state, enc_output=encoder_outputs)\n",
    "\n",
    "\n",
    "print(f\"decoder_inputs: {decoder_inputs.shape}\")\n",
    "print(f\"state: {state.shape}\")\n",
    "print(f\"decoder_outputs: {decoder_outputs.shape}\")"
   ]
  },
  {
   "cell_type": "code",
   "execution_count": 11,
   "id": "c57d6ca5",
   "metadata": {},
   "outputs": [
    {
     "name": "stdout",
     "output_type": "stream",
     "text": [
      "Model: \"model\"\n",
      "__________________________________________________________________________________________________\n",
      "Layer (type)                    Output Shape         Param #     Connected to                     \n",
      "==================================================================================================\n",
      "input_1 (InputLayer)            [(None, None, 2103)] 0                                            \n",
      "__________________________________________________________________________________________________\n",
      "input_3 (InputLayer)            [(None, None, 3140)] 0                                            \n",
      "__________________________________________________________________________________________________\n",
      "encoder (Encoder)               ((None, None, 128),  857472      input_1[0][0]                    \n",
      "__________________________________________________________________________________________________\n",
      "decoder_1 (Decoder)             ((None, None, 3140), 2095812     input_3[0][0]                    \n",
      "                                                                 encoder[0][0]                    \n",
      "                                                                 encoder[0][1]                    \n",
      "==================================================================================================\n",
      "Total params: 2,953,284\n",
      "Trainable params: 2,953,284\n",
      "Non-trainable params: 0\n",
      "__________________________________________________________________________________________________\n"
     ]
    }
   ],
   "source": [
    "model = Model([encoder_inputs, decoder_inputs], decoder_outputs)\n",
    "\n",
    "model.compile(optimizer='rmsprop', loss='categorical_crossentropy')\n",
    "model.summary()"
   ]
  },
  {
   "cell_type": "code",
   "execution_count": 12,
   "id": "74f6cc9a",
   "metadata": {},
   "outputs": [
    {
     "name": "stderr",
     "output_type": "stream",
     "text": [
      "2025-06-16 04:51:53.908156: I tensorflow/compiler/mlir/mlir_graph_optimization_pass.cc:116] None of the MLIR optimization passes are enabled (registered 2)\n",
      "2025-06-16 04:51:54.006039: I tensorflow/core/platform/profile_utils/cpu_utils.cc:112] CPU Frequency: 2198200000 Hz\n"
     ]
    },
    {
     "name": "stdout",
     "output_type": "stream",
     "text": [
      "Epoch 1/3\n",
      "x: (16, 22, 3140)\n",
      "hidden: (16, 128)\n",
      "enc_output: (16, 18, 128)\n",
      "rnn_output: (16, 22, 128)\n",
      "x: (16, 22, 3140)\n",
      "hidden: (16, 128)\n",
      "enc_output: (16, 18, 128)\n",
      "rnn_output: (16, 22, 128)\n",
      "100/100 [==============================] - ETA: 0s - loss: 2.1807x: (16, 22, 3140)\n",
      "hidden: (16, 128)\n",
      "enc_output: (16, 18, 128)\n",
      "rnn_output: (16, 22, 128)\n",
      "100/100 [==============================] - 32s 253ms/step - loss: 2.1797 - val_loss: 2.1271\n",
      "Epoch 2/3\n",
      "100/100 [==============================] - 22s 222ms/step - loss: 1.9239 - val_loss: 2.2289\n",
      "Epoch 3/3\n",
      "100/100 [==============================] - 25s 254ms/step - loss: 1.9166 - val_loss: 2.2670\n"
     ]
    },
    {
     "data": {
      "text/plain": [
       "<tensorflow.python.keras.callbacks.History at 0x7fb6846e38d0>"
      ]
     },
     "execution_count": 12,
     "metadata": {},
     "output_type": "execute_result"
    }
   ],
   "source": [
    "model.fit([encoder_input_data, decoder_input_data], decoder_target_data,\n",
    "        batch_size=batch_size,\n",
    "        epochs=3,\n",
    "        validation_split=0.2)"
   ]
  },
  {
   "cell_type": "code",
   "execution_count": 13,
   "id": "6221f362",
   "metadata": {},
   "outputs": [],
   "source": [
    "# Reverse-lookup token index to decode sequences back to\n",
    "# something readable.\n",
    "reverse_input_char_index = dict(\n",
    "    (i, char) for char, i in input_token_index.items())\n",
    "reverse_target_char_index = dict(\n",
    "    (i, char) for char, i in target_token_index.items())"
   ]
  },
  {
   "cell_type": "code",
   "execution_count": 14,
   "id": "3811ec83",
   "metadata": {},
   "outputs": [
    {
     "name": "stdout",
     "output_type": "stream",
     "text": [
      "Model: \"model_1\"\n",
      "_________________________________________________________________\n",
      "Layer (type)                 Output Shape              Param #   \n",
      "=================================================================\n",
      "input_1 (InputLayer)         [(None, None, 2103)]      0         \n",
      "_________________________________________________________________\n",
      "encoder (Encoder)            ((None, None, 128), (None 857472    \n",
      "=================================================================\n",
      "Total params: 857,472\n",
      "Trainable params: 857,472\n",
      "Non-trainable params: 0\n",
      "_________________________________________________________________\n"
     ]
    }
   ],
   "source": [
    "encoder_model = Model(encoder_inputs, [encoder_outputs, state])\n",
    "encoder_model.summary()"
   ]
  },
  {
   "cell_type": "code",
   "execution_count": 15,
   "id": "44f4a9dc",
   "metadata": {},
   "outputs": [
    {
     "name": "stdout",
     "output_type": "stream",
     "text": [
      "x: (None, None, 3140)\n",
      "hidden: (None, 128)\n",
      "enc_output: (None, None, 128)\n",
      "rnn_output: (None, None, 128)\n",
      "Model: \"model_2\"\n",
      "__________________________________________________________________________________________________\n",
      "Layer (type)                    Output Shape         Param #     Connected to                     \n",
      "==================================================================================================\n",
      "input_3 (InputLayer)            [(None, None, 3140)] 0                                            \n",
      "__________________________________________________________________________________________________\n",
      "input_5 (InputLayer)            [(None, None, 128)]  0                                            \n",
      "__________________________________________________________________________________________________\n",
      "input_4 (InputLayer)            [(None, 128)]        0                                            \n",
      "__________________________________________________________________________________________________\n",
      "decoder_1 (Decoder)             ((None, None, 3140), 2095812     input_3[0][0]                    \n",
      "                                                                 input_5[0][0]                    \n",
      "                                                                 input_4[0][0]                    \n",
      "==================================================================================================\n",
      "Total params: 2,095,812\n",
      "Trainable params: 2,095,812\n",
      "Non-trainable params: 0\n",
      "__________________________________________________________________________________________________\n"
     ]
    }
   ],
   "source": [
    "decoder_state_input = Input(shape=(latent_dim,))\n",
    "the_encoder_output = Input(shape=(None, latent_dim,))\n",
    "\n",
    "decoder_outputs, decoder_state = decoder(\n",
    "    decoder_inputs, hidden=decoder_state_input, enc_output=the_encoder_output)\n",
    "\n",
    "decoder_model = Model(\n",
    "    [decoder_inputs] + [decoder_state_input] + [the_encoder_output],\n",
    "    [decoder_outputs] + [decoder_state])\n",
    "\n",
    "decoder_model.summary()"
   ]
  },
  {
   "cell_type": "code",
   "execution_count": 16,
   "id": "53352f17",
   "metadata": {},
   "outputs": [
    {
     "name": "stdout",
     "output_type": "stream",
     "text": [
      "x: (None, 1, 3140)\n",
      "hidden: (None, 128)\n",
      "enc_output: (None, 18, 128)\n",
      "rnn_output: (None, 1, 128)\n",
      "-\n",
      "Input sentence: ['are', 'you', 'a', 'japanese', 'student']\n",
      "Decoded sentence: 我是在。。\n",
      "\n",
      "-\n",
      "Input sentence: [\"let's\", 'do', 'it', 'another', 'time']\n",
      "Decoded sentence: 我是在。。\n",
      "\n",
      "-\n",
      "Input sentence: ['you', \"haven't\", 'even', 'asked', 'me', 'what', 'i', 'think']\n",
      "Decoded sentence: 我是在。。\n",
      "\n",
      "-\n",
      "Input sentence: ['they', 'say', 'that', 'he', 'has', 'been', 'dead', 'for', 'two', 'years']\n",
      "Decoded sentence: 我是在。。\n",
      "\n",
      "-\n",
      "Input sentence: ['people', 'have', 'two', 'legs']\n",
      "Decoded sentence: 我是在。。\n",
      "\n",
      "-\n",
      "Input sentence: ['do', 'you', 'have', 'other', 'family']\n",
      "Decoded sentence: 我是在。。\n",
      "\n",
      "-\n",
      "Input sentence: ['lie', 'down', 'and', 'make', 'yourself', 'comfortable']\n",
      "Decoded sentence: 我是在。。\n",
      "\n",
      "-\n",
      "Input sentence: [\"don't\", 'give', 'up!']\n",
      "Decoded sentence: 我是在。。\n",
      "\n",
      "-\n",
      "Input sentence: ['the', 'apple', 'was', 'eaten', 'by', 'me']\n",
      "Decoded sentence: 我是在。。\n",
      "\n",
      "-\n",
      "Input sentence: ['she', 'was', 'out', 'of', 'japan', 'last', 'year']\n",
      "Decoded sentence: 我是在。。\n",
      "\n"
     ]
    }
   ],
   "source": [
    "def decode_sequence(input_seq):\n",
    "    # Encode the input as state vectors.\n",
    "    encoder_output_value, states_value = encoder_model.predict(input_seq)\n",
    "\n",
    "    # Generate empty target sequence of length 1.\n",
    "    target_seq = np.zeros((1, 1, num_decoder_tokens))\n",
    "    # Populate the first character of target sequence with the start character.\n",
    "    target_seq[0, 0, target_token_index['\\t']] = 1.\n",
    "\n",
    "    # Sampling loop for a batch of sequences\n",
    "    # (to simplify, here we assume a batch of size 1).\n",
    "    stop_condition = False\n",
    "    decoded_sentence = ''\n",
    "    while not stop_condition:\n",
    "        output_tokens, the_decoder_state = decoder_model.predict(\n",
    "            [target_seq] + [states_value] + [encoder_output_value])\n",
    "\n",
    "        # Sample a token\n",
    "        sampled_token_index = np.argmax(output_tokens[0, -1, :])\n",
    "        sampled_char = reverse_target_char_index[sampled_token_index]\n",
    "        decoded_sentence += sampled_char\n",
    "\n",
    "        # Exit condition: either hit max length\n",
    "        # or find stop character.\n",
    "        if (sampled_char == '\\n' or len(decoded_sentence) > max_decoder_seq_length):\n",
    "            stop_condition = True\n",
    "\n",
    "        # Update the target sequence (of length 1).\n",
    "        target_seq = np.zeros((1, 1, num_decoder_tokens))\n",
    "        target_seq[0, 0, sampled_token_index] = 1.\n",
    "\n",
    "        # Update states\n",
    "        states_value = the_decoder_state\n",
    "\n",
    "    return decoded_sentence\n",
    "\n",
    "\n",
    "for seq_index in range(10):\n",
    "    # Take one sequence (part of the training set)\n",
    "    # for trying out decoding.\n",
    "    input_seq = encoder_input_data[seq_index: seq_index + 1]\n",
    "    decoded_sentence = decode_sequence(input_seq)\n",
    "    print('-')\n",
    "    print('Input sentence:', input_texts[seq_index])\n",
    "    print('Decoded sentence:', decoded_sentence)"
   ]
  },
  {
   "cell_type": "code",
   "execution_count": null,
   "id": "458c6866",
   "metadata": {},
   "outputs": [],
   "source": []
  }
 ],
 "metadata": {
  "kernelspec": {
   "display_name": "Python 3 (ipykernel)",
   "language": "python",
   "name": "python3"
  },
  "language_info": {
   "codemirror_mode": {
    "name": "ipython",
    "version": 3
   },
   "file_extension": ".py",
   "mimetype": "text/x-python",
   "name": "python",
   "nbconvert_exporter": "python",
   "pygments_lexer": "ipython3",
   "version": "3.7.17"
  }
 },
 "nbformat": 4,
 "nbformat_minor": 5
}
