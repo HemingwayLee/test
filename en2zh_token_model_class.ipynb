{
 "cells": [
  {
   "cell_type": "code",
   "execution_count": 1,
   "id": "21042544",
   "metadata": {},
   "outputs": [
    {
     "name": "stdout",
     "output_type": "stream",
     "text": [
      "CrowdFlowerAnnotations.txt  Flickr8k.token.txt\t       machine_translation\r\n",
      "ExpertAnnotations.txt\t    Flickr_8k.devImages.txt    readme.txt\r\n",
      "Flicker8k_smaller\t    Flickr_8k.testImages.txt\r\n",
      "Flickr8k.lemma.token.txt    Flickr_8k.trainImages.txt\r\n"
     ]
    }
   ],
   "source": [
    "! ls ../../data/"
   ]
  },
  {
   "cell_type": "code",
   "execution_count": 2,
   "id": "85f989fb",
   "metadata": {},
   "outputs": [
    {
     "name": "stdout",
     "output_type": "stream",
     "text": [
      "Collecting jieba\n",
      "  Downloading jieba-0.42.1.tar.gz (19.2 MB)\n",
      "\u001b[2K     \u001b[90m━━━━━━━━━━━━━━━━━━━━━━━━━━━━━━━━━━━━━━━━\u001b[0m \u001b[32m19.2/19.2 MB\u001b[0m \u001b[31m2.8 MB/s\u001b[0m eta \u001b[36m0:00:00\u001b[0m00:01\u001b[0m00:01\u001b[0m\n",
      "\u001b[?25h  Preparing metadata (setup.py) ... \u001b[?25ldone\n",
      "\u001b[?25hBuilding wheels for collected packages: jieba\n",
      "  Building wheel for jieba (setup.py) ... \u001b[?25ldone\n",
      "\u001b[?25h  Created wheel for jieba: filename=jieba-0.42.1-py3-none-any.whl size=19314477 sha256=ed27d19a84f32bfb6048db6e791987820e2c52697ae582f47ab1202f2dc61d03\n",
      "  Stored in directory: /root/.cache/pip/wheels/24/aa/17/5bc7c72e9a37990a9620cc3aad0acad1564dcff6dbc2359de3\n",
      "Successfully built jieba\n",
      "Installing collected packages: jieba\n",
      "Successfully installed jieba-0.42.1\n",
      "\u001b[33mWARNING: Running pip as the 'root' user can result in broken permissions and conflicting behaviour with the system package manager. It is recommended to use a virtual environment instead: https://pip.pypa.io/warnings/venv\u001b[0m\u001b[33m\n",
      "\u001b[0m\n",
      "\u001b[1m[\u001b[0m\u001b[34;49mnotice\u001b[0m\u001b[1;39;49m]\u001b[0m\u001b[39;49m A new release of pip is available: \u001b[0m\u001b[31;49m23.0.1\u001b[0m\u001b[39;49m -> \u001b[0m\u001b[32;49m24.0\u001b[0m\n",
      "\u001b[1m[\u001b[0m\u001b[34;49mnotice\u001b[0m\u001b[1;39;49m]\u001b[0m\u001b[39;49m To update, run: \u001b[0m\u001b[32;49mpip install --upgrade pip\u001b[0m\n"
     ]
    }
   ],
   "source": [
    "! pip3 install jieba"
   ]
  },
  {
   "cell_type": "code",
   "execution_count": 1,
   "id": "3fedb172",
   "metadata": {},
   "outputs": [
    {
     "name": "stderr",
     "output_type": "stream",
     "text": [
      "2025-06-12 11:21:40.983870: W tensorflow/stream_executor/platform/default/dso_loader.cc:60] Could not load dynamic library 'libcudart.so.11.0'; dlerror: libcudart.so.11.0: cannot open shared object file: No such file or directory\n",
      "2025-06-12 11:21:40.984088: I tensorflow/stream_executor/cuda/cudart_stub.cc:29] Ignore above cudart dlerror if you do not have a GPU set up on your machine.\n",
      "Building prefix dict from the default dictionary ...\n",
      "Loading model from cache /tmp/jieba.cache\n",
      "Loading model cost 3.269 seconds.\n",
      "Prefix dict has been built successfully.\n"
     ]
    },
    {
     "name": "stdout",
     "output_type": "stream",
     "text": [
      "Number of samples: 2000\n",
      "Number of unique input tokens: 2162\n",
      "Number of unique output tokens: 3189\n",
      "Max sequence length for inputs: 19\n",
      "Max sequence length for outputs: 24\n",
      "\n",
      "input data set:\n",
      "[['a', 'string', 'of', 'disasters', 'struck', 'the', 'region'], ['people', 'are', 'counting', 'on', 'us'], ['a', 'person', 'views', 'things', 'differently', 'according', 'to', 'whether', 'they', 'are', 'rich', 'or', 'poor'], ['i', 'had', 'no', 'choice', 'but', 'to', 'stay', 'in', 'bed', 'all', 'day'], ['thank', 'you', 'all', 'the', 'same'], ['i', \"don't\", 'remember', 'mailing', 'the', 'letter'], ['he', 'is', 'to', 'come', 'to', 'my', 'house', 'tonight'], [\"i'm\", 'sorry', 'that', 'you', 'are', 'leaving', 'here'], ['he', 'is', 'no', 'fool'], ['i', 'envied', 'his', 'new', 'house']]\n",
      "\n",
      "target data set:\n",
      "[['\\t', '一連串', '的', '災難', '襲擊', '這個', '地區', '。', '\\n'], ['\\t', '人们', '正在', '依赖', '着', '我们', '。', '\\n'], ['\\t', '每一個', '人', '對', '事情', '的', '看法', '不同', '是', '依據', '他們', '是', '富有', '還是', '貧窮', '。', '\\n'], ['\\t', '我', '不得不', '一整天', '都', '待', '在', '床上', '。', '\\n'], ['\\t', '同样', '感谢', '你', '。', '\\n'], ['\\t', '我', '不', '記得', '寄過', '信', '了', '。', '\\n'], ['\\t', '他', '今晚', '会', '来', '我家', '。', '\\n'], ['\\t', '我', '很', '遺憾', '你', '要', '離開', '這裡', '。', '\\n'], ['\\t', '他', '不是', '傻子', '。', '\\n'], ['\\t', '我羨慕', '他', '的', '新房子', '。', '\\n']]\n"
     ]
    }
   ],
   "source": [
    "from tensorflow.keras.models import Model\n",
    "from tensorflow.keras.layers import Input, LSTM, Dense, Layer\n",
    "import numpy as np\n",
    "import random\n",
    "import jieba\n",
    "\n",
    "batch_size = 16  \n",
    "epochs = 35  \n",
    "latent_dim = 128  # Latent dimensionality of the encoding space.\n",
    "num_samples = 2000  # Number of samples to train on.\n",
    "data_path = '../../data/machine_translation/cmn.txt'\n",
    "\n",
    "input_texts = []\n",
    "target_texts = []\n",
    "input_tokens = set()\n",
    "target_tokens = set()\n",
    "with open(data_path, 'r', encoding='utf-8') as f:\n",
    "    lines = f.read().split('\\n')\n",
    "\n",
    "# for line in lines[: min(num_samples, len(lines) - 1)]:\n",
    "for line in random.sample(lines, num_samples):\n",
    "    input_text, target_text = line.split('\\t')\n",
    "    \n",
    "    # We use \"\\t\" as the \"start sequence\" and \"\\n\" as \"end sequence\"\n",
    "    target_text = '\\t' + target_text + '\\n'\n",
    "    \n",
    "    tmp = []\n",
    "    for token in input_text.split(\" \"):\n",
    "        token = token.replace(\",\", \"\").replace(\".\", \"\").replace(\"?\", \"\").lower()\n",
    "        tmp.append(token)\n",
    "        if token not in input_tokens:\n",
    "            input_tokens.add(token)\n",
    "    input_texts.append(tmp)\n",
    "    \n",
    "    tmp = []\n",
    "    for token in jieba.cut(target_text, cut_all=False):\n",
    "        tmp.append(token)\n",
    "        if token not in target_tokens:\n",
    "            target_tokens.add(token)\n",
    "    target_texts.append(tmp)\n",
    "\n",
    "input_tokens = list(input_tokens)\n",
    "target_tokens = list(target_tokens)\n",
    "num_encoder_tokens = len(input_tokens)\n",
    "num_decoder_tokens = len(target_tokens)\n",
    "max_encoder_seq_length = max([len(txt) for txt in input_texts])\n",
    "max_decoder_seq_length = max([len(txt) for txt in target_texts])\n",
    "\n",
    "print('Number of samples:', len(input_texts))\n",
    "print('Number of unique input tokens:', num_encoder_tokens)\n",
    "print('Number of unique output tokens:', num_decoder_tokens)\n",
    "print('Max sequence length for inputs:', max_encoder_seq_length)\n",
    "print('Max sequence length for outputs:', max_decoder_seq_length)\n",
    "\n",
    "print(\"\\ninput data set:\")\n",
    "print(input_texts[:10])\n",
    "print(\"\\ntarget data set:\")\n",
    "print(target_texts[:10])"
   ]
  },
  {
   "cell_type": "code",
   "execution_count": 2,
   "id": "dc89d239",
   "metadata": {},
   "outputs": [
    {
     "name": "stdout",
     "output_type": "stream",
     "text": [
      "\n",
      "input index:\n",
      "{'worst': 0, \"they're\": 1, 'sure': 2, 'bought': 3, 'begins': 4, 'tv': 5, 'butterfly': 6, 'fell': 7, 'capitals': 8, 'workers': 9, 'sleepy': 10, 'capture': 11, 'period': 12, 'both': 13, 'lock': 14, 'captain': 15, 'learned': 16, 'your': 17, 'version': 18, 'saxophone': 19, 'engineer': 20, 'id': 21, 'between': 22, 'hate': 23, \"today's\": 24, 'table\"': 25, 'fool': 26, 'asked': 27, 'voice': 28, 'property': 29, 'brave': 30, 'looks': 31, 'major': 32, 'postponed': 33, 'according': 34, 'dirty': 35, 'our': 36, 'fluent': 37, 'yen': 38, 'singing': 39, 'stolen': 40, 'name': 41, 'smokes': 42, 'smile': 43, 'mary': 44, 'tokyo': 45, 'drive': 46, 'nonsense': 47, 'made': 48, 'hating': 49, 'facebook': 50, 'wash': 51, 'moment': 52, \"i'd\": 53, 'sheet': 54, 'commanded': 55, 'knees': 56, 'ladder': 57, 'business': 58, 'basket': 59, 'start': 60, 'demanded': 61, 'welcome': 62, 'trying': 63, 'glad': 64, 'climbed': 65, 'appetite': 66, 'hill': 67, 'cellular': 68, 'girl': 69, 'fox': 70, 'here': 71, 'uncertain': 72, 'importance': 73, 'turning': 74, 'tired': 75, 'shanghai': 76, 'blame': 77, 'stole': 78, 'so\"': 79, 'bible': 80, 'problem': 81, 'object': 82, 'morning': 83, \"father's\": 84, 'may': 85, 'leaving': 86, 'slightest': 87, 'finished': 88, 'theft': 89, 'home!': 90, 'wore': 91, 'greatest': 92, 'loves': 93, 'game': 94, 'insect': 95, 'interpreter': 96, 'part': 97, 'novel': 98, 'early': 99, 'how': 100, 'near': 101, 'line': 102, 'type': 103, 'cheat': 104, 'milk': 105, 'shout': 106, 'search': 107, 'declared': 108, '\"yes': 109, 'surrender': 110, 'forward': 111, 'passed': 112, 'blowing': 113, 'admired': 114, 'lotion': 115, 'talk': 116, 'keep': 117, 'skull': 118, 'survived': 119, 'wind': 120, 'free': 121, 'girls': 122, 'discovered': 123, \"she's\": 124, 'artists': 125, 'shirt': 126, 'return': 127, 'guitar': 128, 'camera': 129, 'then': 130, 'mathematics': 131, 'nervous': 132, 'speakers': 133, 'prohibited': 134, 'debierne': 135, 'countryside': 136, 'sense': 137, 'sent': 138, 'scientific': 139, 'possibility': 140, 'driving': 141, 'seventeen': 142, 'wine': 143, 'meaning': 144, \"driver's\": 145, 'excuse': 146, 'nor': 147, 'needle': 148, 'order': 149, 'smoke': 150, 'oldest': 151, 'at': 152, 'pay': 153, 'umbrella': 154, 'touch': 155, 'prevail': 156, 'joined': 157, 'standard': 158, 'joke': 159, 'theater': 160, 'tastes': 161, 'bed': 162, 'strike': 163, 'solved': 164, 'boss': 165, 'prices': 166, 'lady': 167, 'mosquitoes': 168, 'happened': 169, 'deteriorated': 170, 'sensing': 171, 'greater': 172, 'placed': 173, 'decide': 174, 'think': 175, 'sound': 176, 'eiffel': 177, 'lift': 178, 'makes': 179, 'coworkers': 180, 'google': 181, 'phone': 182, 'eats': 183, 'well': 184, 'event': 185, 'feel': 186, 'next': 187, 'nature': 188, 'trash': 189, 'lazy': 190, 'recently': 191, 'crashed': 192, 'sister': 193, 'house': 194, 'ex-husband': 195, 'teeming': 196, 'convinced': 197, 'task': 198, 'deal': 199, 'weapon': 200, 'borrow': 201, 'memory': 202, 'definitely': 203, 'even': 204, 'sight': 205, 'chest': 206, 'hang': 207, 'arrive': 208, 'story': 209, 'three-fourths': 210, 'delicious': 211, 'amazing': 212, 'abilities': 213, 'during': 214, 'enjoy': 215, 'beer': 216, 'yes': 217, 'smarter': 218, 'ssh': 219, 'wounded': 220, 'floor': 221, 'half': 222, 'criticism': 223, 'congressional': 224, 'university': 225, 'spring': 226, 'attention': 227, 'safe': 228, 'changed': 229, 'radio': 230, \"must've\": 231, 'river': 232, 'becoming': 233, 'scientist': 234, 'weeds': 235, 'study': 236, 'tomorrow': 237, 'tripod': 238, 'kept': 239, 'conservative': 240, 'as': 241, 'rain': 242, 'motorcycle': 243, 'speaks': 244, 'forest': 245, 'fast': 246, 'cheek': 247, \"you're\": 248, 'deleted': 249, 'always': 250, 'all': 251, 'japan': 252, 'affection': 253, \"didn't\": 254, 'counting': 255, 'trains': 256, 'flower': 257, 'starts': 258, 'region': 259, 'known': 260, 'passengers': 261, 'nice': 262, 'thin': 263, 'just': 264, 'bring': 265, 'factory': 266, 'longer': 267, 'selling': 268, 'hurry': 269, 'graham': 270, 'breathe': 271, 'organizations': 272, 'music': 273, 'computer': 274, 'lose': 275, 'america': 276, 'delay': 277, 'let': 278, 'going-away': 279, 'pretending': 280, 'looking': 281, 'gums': 282, 'compared': 283, 'best': 284, 'sea': 285, 'situation': 286, 'match': 287, 'roast': 288, 'capital': 289, 'lost': 290, 'potatoes': 291, 'winter': 292, \"everything's\": 293, 'pregnant': 294, 'true': 295, 'worry': 296, 'lunch': 297, '5': 298, 'thank': 299, 'arrived': 300, 'busy': 301, 'tall': 302, 'cannot': 303, 'unwise': 304, 'silent': 305, 'issued': 306, 'weather': 307, 'corner': 308, 'ethics': 309, 'almost': 310, 'exist': 311, 'ignorance': 312, 'william': 313, 'uses': 314, 'supplies': 315, 'briefcase': 316, 'louder': 317, 'others': 318, 'broke': 319, 'license': 320, 'sales': 321, 'famous': 322, 'roof': 323, 'achieved': 324, 'is': 325, 'means': 326, 'wrong': 327, 'watch': 328, 'noise': 329, 'american': 330, 'insist': 331, 'paint': 332, 'jack': 333, 'french': 334, 'assistance': 335, 'paper': 336, 'fever': 337, 'sooner': 338, 'lend': 339, 'him': 340, 'entered': 341, 'own': 342, 'murderer': 343, 'cheated': 344, 'complete': 345, 'hand': 346, 'elected': 347, 'space': 348, 'tried': 349, 'care': 350, 'old': 351, 'treasure': 352, 'play': 353, 'future': 354, 'crazy': 355, 'bread': 356, 'saudi': 357, 'interfere': 358, \"girls'\": 359, 'put': 360, 'amazingly': 361, 'petals': 362, 'help': 363, 'vacation': 364, 'fluently': 365, 'details': 366, 'skating': 367, 'lives': 368, 'eating': 369, 'without': 370, 'sawing': 371, 'sensitive': 372, 'greek': 373, 'on': 374, 'consider': 375, '28th': 376, '\"would': 377, 'running': 378, 'quickly': 379, 'two-story': 380, \"aren't\": 381, 'enough': 382, 'dark': 383, 'entrance': 384, 'news': 385, 'undercooked': 386, 'received': 387, 'suggest': 388, 'underwear': 389, 'committee': 390, 'teachers': 391, 'complains': 392, \"don't\": 393, 'would': 394, 'us': 395, 'wants': 396, \"i've\": 397, 'meant': 398, 'burnt': 399, 'getting': 400, 'hear': 401, 'concert': 402, 'restaurant': 403, 'seven': 404, 'physician': 405, 'investigating': 406, 'students': 407, 'brought': 408, 'good': 409, 'one': 410, 'size': 411, 'translation': 412, 'myself': 413, 'natural': 414, 'visa': 415, 'an': 416, 'lived': 417, 'struck': 418, 'weed': 419, 'fun': 420, 'exactly': 421, 'seems': 422, 'wrapped': 423, \"mary's\": 424, 'awful': 425, 'problems': 426, 'flew': 427, 'held': 428, 'director': 429, 'similar': 430, 'improved': 431, 'current': 432, 'left': 433, 'really': 434, 'strong': 435, 'hold': 436, 'woods': 437, 'pencil': 438, 'sundays': 439, 'happens': 440, 'hospital': 441, 'immediately': 442, 'map': 443, 'sick': 444, 'japanese': 445, 'orange': 446, 'wherever': 447, 'works': 448, 'everything': 449, 'resign': 450, 'did\"': 451, 'millionaire': 452, \"wouldn't\": 453, 'blouse': 454, 'tolerated': 455, 'extent': 456, 'jealous': 457, 'mouth': 458, 'questioned': 459, 'characters': 460, 'pounds': 461, 'tonight': 462, 'park': 463, 'blocked': 464, 'caused': 465, 'sentences': 466, 'skate': 467, 'voyage': 468, 'million': 469, 'frightened': 470, 'say': 471, 'printer': 472, 'blessing': 473, 'smart': 474, 'these': 475, 'joints': 476, 'dutch': 477, 'replace': 478, 'crying': 479, 'positive': 480, 'eleven': 481, 'listen': 482, 'arm': 483, 'currently': 484, 'full': 485, 'distract': 486, 'miles': 487, 'sat': 488, 'watching': 489, 'fairly': 490, 'hurts': 491, 'church': 492, 'responsibility': 493, 'generate': 494, 'only': 495, 'deny': 496, 'abstract': 497, 'electric': 498, 'ages': 499, 'heavy': 500, 'row': 501, 'path': 502, 'teaching': 503, 'bathtub': 504, 'airport': 505, 'agree': 506, 'england': 507, 'discussed': 508, 'quit': 509, 'fortune': 510, 'short': 511, 'volleyball': 512, \"yesterday's\": 513, 'fair': 514, 'contribute': 515, 'dying': 516, 'ate': 517, 'terrorist': 518, 'watches': 519, 'huge': 520, 'living': 521, 'dictionary': 522, 'boy': 523, 'rowing': 524, 'played': 525, 'knife': 526, 'swimming': 527, 'baseball': 528, 'yet': 529, 'sign': 530, 'downtown': 531, 'advance': 532, 'break': 533, 'contract': 534, 'noon': 535, 'thames': 536, 'cycling': 537, 'swim': 538, 'frequently': 539, 'stands': 540, \"uncle's\": 541, 'it': 542, 'kites': 543, 'already': 544, 'arms': 545, 'indian': 546, 'smallpox': 547, 'throw': 548, 'was': 549, 'economy': 550, 'musicians': 551, 'me': 552, 'masters': 553, 'caught': 554, 'luck': 555, 'dad': 556, 'actually': 557, 'accepted': 558, 'luggage': 559, 'class': 560, 'coming': 561, 'envelope': 562, 'mexican': 563, 'built': 564, 'picked': 565, 'dresses': 566, 'sang': 567, 'landslide': 568, 'once': 569, 'pens': 570, 'avoid': 571, 'than': 572, 'result': 573, \"i'll\": 574, 'key': 575, 'package': 576, 'desk': 577, 'advice': 578, 'needs': 579, 'participants': 580, 'losses': 581, 'diplomat': 582, 'curious': 583, 'guilty': 584, 'attended': 585, 'sucker': 586, 'classroom': 587, 'serious': 588, 'public': 589, 'thanks': 590, 'nearest': 591, 'escaped': 592, 'ahead': 593, 'poured': 594, 'cds': 595, 'friends': 596, 'indispensable': 597, 'terrible': 598, 'had': 599, 'reach': 600, 'weekend': 601, \"we've\": 602, 'hole': 603, 'job': 604, 'censured': 605, 'yellow': 606, 'club': 607, 'attic': 608, 'taking': 609, 'sunday': 610, 'taught': 611, 'yourself': 612, 'drink': 613, 'why': 614, 'knew': 615, \"couldn't\": 616, 'taxi': 617, 'likely': 618, 'malaria': 619, 'permanent': 620, 'easy': 621, 'irresistible': 622, 'thing': 623, 'turns': 624, 'tree': 625, 'mammal': 626, 'considered': 627, 'fans': 628, 'out': 629, 'get': 630, 'showers': 631, 'missed': 632, 'anxious': 633, 'security': 634, 'signed': 635, 'wallet': 636, 'pair': 637, 'flag': 638, 'ordinary': 639, 'supper': 640, '1899': 641, 'ten-minute': 642, 'armed': 643, 'completely': 644, 'share': 645, '1789': 646, 'latest': 647, 'rid': 648, 'post': 649, 'teacher': 650, 'responding': 651, 'pretty': 652, 'behind': 653, 'patients': 654, 'ever': 655, 'argument': 656, 'butter': 657, 'nurse': 658, 'easily': 659, 'mess': 660, 'suited': 661, 'invitation': 662, 'moved': 663, 'presence': 664, \"one's\": 665, 'tendency': 666, 'apple': 667, 'pencils': 668, 'lake': 669, 'powder': 670, 'philosophy': 671, \"it'll\": 672, 'says': 673, 'handsome': 674, 'apology': 675, 'stadium': 676, 'greeted': 677, 'spend': 678, 'lending': 679, 'matters': 680, 'pain': 681, 'flames': 682, 'damaged': 683, 'walks': 684, 'stream': 685, 'loss': 686, 'disasters': 687, 'she': 688, 'drowned': 689, 'behavior': 690, 'tea': 691, 'saturday': 692, 'make': 693, 'freeze': 694, 'incident': 695, 'their': 696, 'drinks': 697, 'wearing': 698, 'first': 699, 'quality': 700, 'letters': 701, 'protection': 702, 'harvard': 703, 'waiter': 704, 'successful': 705, 'vodka': 706, 'danger': 707, \"you've\": 708, 'toilet': 709, 'and': 710, 'since': 711, 'days': 712, 'times': 713, 'given': 714, 'campus': 715, 'snow': 716, 'lead': 717, 'immune': 718, 'misjudged': 719, 'charles': 720, 'visitors': 721, 'backed': 722, 'bicycle': 723, 'message': 724, 'mine': 725, 'plan': 726, 'live': 727, 'moist': 728, 'head': 729, 'gets': 730, 'stage': 731, 'bygones': 732, 'reservation': 733, 'bananas': 734, 'gracious': 735, 'exact': 736, 'juice': 737, 'pictures': 738, 'buy': 739, 'shopping': 740, 'fill': 741, 'of': 742, 'finish': 743, 'they': 744, 'system': 745, 'books': 746, 'trips': 747, 'claims': 748, 'adopt': 749, 'will': 750, 'written': 751, 'finger': 752, 'wife': 753, 'traveling': 754, 'stay': 755, 'haystack': 756, 'become': 757, \"let's\": 758, 'must': 759, 'ago': 760, 'retiring': 761, 'worse': 762, 'truth': 763, 'hundred': 764, 'sobbing': 765, 'a': 766, 'asleep': 767, 'when': 768, 'things': 769, 'pound': 770, 'scary': 771, 'honda': 772, 'americans': 773, 'guess': 774, 'shape': 775, 'sipped': 776, 'air': 777, 'herself': 778, 'approve': 779, 'bargain': 780, 'depart': 781, 'continue': 782, 'choose': 783, 'justice': 784, 'sweet': 785, 'send': 786, 'use': 787, 'flowers': 788, 'intend': 789, 'can': 790, 'worked': 791, 'parade': 792, 'unhappy': 793, 'by': 794, 'delete': 795, '\"where': 796, 'owe': 797, 'insane': 798, 'sleeping': 799, 'visit': 800, 'promise': 801, 'disturbing': 802, 'cut': 803, 'punished': 804, 'teach': 805, 'cooking': 806, 'disappointed': 807, 'some': 808, 'art': 809, 'approval': 810, 'bell': 811, \"husband's\": 812, 'explain': 813, 'except': 814, 'lively': 815, 'concentrate': 816, 'turned': 817, 'actinium': 818, 'museum': 819, 'bumped': 820, 'serve': 821, 'nose': 822, 'bug': 823, 'relaxed': 824, 'divorced': 825, 'excited': 826, 'riding': 827, 'group': 828, 'birth': 829, 'till': 830, 'pub': 831, 'musician': 832, 'life': 833, 'small': 834, 'the': 835, 'vending': 836, 'terms': 837, 'friend': 838, 'patience': 839, 'international': 840, 'walking': 841, 'english': 842, 'healthy': 843, 'across': 844, 'we': 845, 'suddenly': 846, 'pop': 847, 'collecting': 848, 'later': 849, 'exception': 850, 'invited': 851, 'evening': 852, 'around': 853, 'ready': 854, 'shoes': 855, 'tight': 856, 'foreigners': 857, 'pond': 858, 'middle-aged': 859, 'won': 860, 'hobby': 861, 'kid': 862, 'thoughts': 863, 'for': 864, 'divorce': 865, 'airplanes': 866, 'stood': 867, 'away': 868, 'yours': 869, 'ability': 870, 'wet': 871, 'pulling': 872, 'might': 873, 'power': 874, 'nothing': 875, 'third': 876, \"hadn't\": 877, 'member': 878, 'bath': 879, 'words': 880, 'find': 881, 'raining': 882, 'truck': 883, 'clinic': 884, 'heart': 885, 'primary': 886, 'homework': 887, 'rest': 888, 'pharmacy': 889, 'poetry': 890, 'anybody': 891, 'meat': 892, 'hiding': 893, 'visited': 894, 'wrist': 895, \"where's\": 896, 'cause': 897, 'finally': 898, \"what's\": 899, 'station': 900, 'kite': 901, 'ship': 902, 'appeared': 903, 'encores': 904, 'rivers': 905, 'try': 906, 'population': 907, \"friend's\": 908, 'feeds': 909, 'been': 910, 'doctor': 911, 'toy': 912, 'wait': 913, 'scarf': 914, 'agent': 915, 'soup': 916, 'sharp': 917, 'charge': 918, 'solve': 919, 'talks': 920, \"wasn't\": 921, 'after': 922, 'takasu': 923, 'computers': 924, 'attributes': 925, 'answer': 926, 'wood': 927, 'zoo': 928, 'big': 929, 'correct': 930, 'doctors': 931, 'express': 932, 'tongue': 933, 'down': 934, 'department': 935, 'bank': 936, 'atlantic': 937, 'ocean': 938, 'end': 939, 'death': 940, 'apples': 941, 'division': 942, 'persuaded': 943, 'stronger': 944, 'tattoo': 945, 'fired': 946, 'into': 947, 'cricket': 948, 'god': 949, 'breathing': 950, 'home': 951, 'common': 952, 'thou': 953, 'upset': 954, 'astonished': 955, 'fruit': 956, 'blind': 957, 'emails': 958, 'greene': 959, 'while': 960, 'told': 961, 'leg': 962, 'helped': 963, 'hall': 964, 'traffic': 965, 'stopped': 966, 'views': 967, 'remotely': 968, 'reptiles': 969, 'massive': 970, 'reading': 971, 'speak': 972, 'legs': 973, 'mean': 974, 'action': 975, 'canada': 976, 'stand': 977, 'chance': 978, 'speaker': 979, 'behave': 980, 'ran': 981, 'inappropriate': 982, 'seaside': 983, 'wrote': 984, 'spite': 985, 'horse': 986, 'arabia': 987, 'emerging': 988, 'added': 989, 'italian': 990, 'spare': 991, 'act': 992, 'neighbor': 993, 'material': 994, 'often': 995, 'import': 996, 'appreciate': 997, 'dinner': 998, 'turtles': 999, 'himself': 1000, 'larger': 1001, 'kick': 1002, 'seeing': 1003, 'health': 1004, 'like': 1005, 'seen': 1006, 'france': 1007, 'string': 1008, 'still': 1009, 'structure': 1010, 'scared': 1011, 'returned': 1012, 'hide': 1013, 'fish': 1014, 'exaggerate': 1015, 'beautiful': 1016, 'them': 1017, 'wonder': 1018, 'men': 1019, 'foot': 1020, 'beethoven': 1021, 'alphabet': 1022, 'native': 1023, 'sing': 1024, 'ordered': 1025, 'thirsty': 1026, 'dim': 1027, 'cook': 1028, 'referred': 1029, 'other': 1030, 'in': 1031, 'coward': 1032, 'twin': 1033, 'brakes': 1034, 'teaches': 1035, 'explanation': 1036, 'kill': 1037, 'outskirts': 1038, 'asking': 1039, 'stuff': 1040, 'matter': 1041, 'guy': 1042, 'largest': 1043, \"o'clock\": 1044, 'checked': 1045, 'british': 1046, 'food': 1047, 'truly': 1048, 'heard': 1049, 'sports': 1050, 'married': 1051, 'pianist': 1052, 'loving': 1053, 'missing': 1054, 'box': 1055, 'writers': 1056, 'rang': 1057, 'ice': 1058, 'bag': 1059, \"tom's\": 1060, 'cottage': 1061, 'fixed': 1062, 'subject': 1063, 'recognize': 1064, 'planted': 1065, 'notebook': 1066, 'australia': 1067, 'fire': 1068, 'bucket': 1069, 'don’t': 1070, 'expect': 1071, 'sheldon': 1072, 'library': 1073, 'opened': 1074, 'osaka': 1075, 'place': 1076, 'chinese': 1077, 'became': 1078, 'medicine': 1079, 'be': 1080, 'closest': 1081, \"hasn't\": 1082, 'stranger': 1083, \"he'll\": 1084, 'revolution': 1085, 'tests': 1086, 'happen': 1087, 'twenty-five': 1088, 'extremes': 1089, 'read': 1090, 'someone': 1091, 'wise': 1092, 'clean': 1093, 'rainbow': 1094, 'flying': 1095, 'close': 1096, 'boring': 1097, 'homes': 1098, 'interesting': 1099, 'iron': 1100, 'feed': 1101, 'fighting': 1102, 'going': 1103, 'cheaper': 1104, 'unbelievable!': 1105, 'board': 1106, 'frozen': 1107, 'camping': 1108, 'examined': 1109, 'requested': 1110, 'picnic': 1111, 'year': 1112, 'paid': 1113, 'risky': 1114, 'son': 1115, 'fit': 1116, 'light': 1117, 'earth': 1118, 'little': 1119, 'birds': 1120, 'town': 1121, 'concerned': 1122, 'success': 1123, 'ashamed': 1124, 'along': 1125, 'over': 1126, 'cold': 1127, 'graduated': 1128, 'oil': 1129, 'language': 1130, 'friendly': 1131, 'eyes': 1132, 'bus': 1133, 'price': 1134, 'mountain': 1135, 'drank': 1136, 'stockings': 1137, 'deeply': 1138, 'champagne': 1139, 'explosion': 1140, 'harm': 1141, 'or': 1142, 'forty': 1143, '\"have': 1144, 'join': 1145, 'city': 1146, 'late': 1147, 'six': 1148, 'wonderful!': 1149, 'customers': 1150, 'supposed': 1151, 'proud': 1152, '9:00': 1153, 'laugh': 1154, 'german': 1155, 'gave': 1156, 'salt': 1157, 'tire': 1158, 'absent': 1159, 'has': 1160, 'climb': 1161, 'synchronize': 1162, 'perseverance': 1163, 'wedding': 1164, 'cake': 1165, 'bit': 1166, 'knows': 1167, 'accept': 1168, 'tea\"': 1169, 'body': 1170, 'declined': 1171, 'exercise': 1172, 'stop': 1173, 'flat': 1174, 'stone': 1175, 'clear': 1176, 'cardboard': 1177, 'magazines': 1178, 'windmill': 1179, 'date': 1180, 'turn': 1181, 'trees': 1182, 'guys': 1183, 'from': 1184, 'you\"': 1185, 'against': 1186, 'patient': 1187, 'extremely': 1188, 'named': 1189, 'warmer': 1190, 'disturbed': 1191, 'rich': 1192, 'ranger': 1193, 'color': 1194, 'reasons': 1195, 'nowadays': 1196, 'better': 1197, 'few': 1198, '8:30': 1199, 'there': 1200, 'efforts': 1201, 'cambridge': 1202, 'tennis': 1203, 'done!': 1204, 'miss': 1205, 'lindbergh': 1206, 'pregnancy': 1207, 'gibberish': 1208, 'accused': 1209, 'prince': 1210, 'completed': 1211, 'please': 1212, 'throne': 1213, 'attend': 1214, 'peace': 1215, 'grew': 1216, 'hokkaido': 1217, 'season': 1218, 'darker': 1219, 'stick': 1220, 'black': 1221, 'threw': 1222, 'beliefs': 1223, 'chicago': 1224, 'toys': 1225, 'bad': 1226, 'mirror': 1227, 'day': 1228, 'gained': 1229, 'flooded': 1230, 'streaked': 1231, 'stupidity': 1232, 'reached': 1233, 'away!': 1234, 'anything': 1235, 'word': 1236, 'thousands': 1237, 'kids': 1238, 'born': 1239, 'piano': 1240, 'gone': 1241, 'know': 1242, 'lying': 1243, 'drinking': 1244, 'young': 1245, 'july': 1246, 'suit': 1247, 'edge': 1248, 'weight': 1249, 'comes': 1250, \"haven't\": 1251, 'promised': 1252, 'certainly': 1253, 'richest': 1254, 'waist': 1255, 'sidney': 1256, 'but': 1257, 'time': 1258, 'dead': 1259, 'mailing': 1260, 'softly': 1261, 'women': 1262, 'cat': 1263, 'hacked': 1264, 'retract': 1265, 'police': 1266, 'tampered': 1267, 'fed': 1268, 'its': 1269, 'derived': 1270, 'trouble': 1271, 'under': 1272, 'tottori': 1273, 'blackboard': 1274, 'ends': 1275, 'foxes': 1276, 'remained': 1277, 'considering': 1278, 'have': 1279, 'soccer': 1280, \"it's\": 1281, 'christmas': 1282, \"we're\": 1283, 'kilo': 1284, 'snowing': 1285, 'fuji': 1286, 'credit': 1287, 'laughter': 1288, 'stingy': 1289, 'involved': 1290, 'right': 1291, 'houses': 1292, 'deserve': 1293, 'afford': 1294, 'neighbors': 1295, 'weep': 1296, 'slight': 1297, 'meets': 1298, 'cities': 1299, 'rome': 1300, 'door': 1301, 'garden': 1302, 'south': 1303, 'beijing': 1304, 'past': 1305, 'understand': 1306, 'via': 1307, 'call': 1308, 'college': 1309, 'willingly': 1310, 'set': 1311, 'hungry': 1312, 'scientist\"': 1313, 'probably': 1314, 'jobs': 1315, 'responsible': 1316, 'illness': 1317, 'height': 1318, 'north': 1319, 'whistled': 1320, 'her': 1321, 'starting': 1322, 'learning': 1323, 'takes': 1324, 'studying': 1325, 'sisters': 1326, 'drives': 1327, 'plane': 1328, 'my': 1329, 'bridges': 1330, 'too': 1331, 'twice': 1332, 'go': 1333, 'anger': 1334, 'tomatoes': 1335, 'serves': 1336, 'movies': 1337, 'hi': 1338, 'bridge': 1339, 'older': 1340, 'mondays': 1341, 'company': 1342, 'magazine': 1343, 'colds': 1344, 'person': 1345, 'pigsty': 1346, 'cats': 1347, 'directions': 1348, 'sons': 1349, 'renovated': 1350, 'walked': 1351, 'do': 1352, 'new': 1353, 'cried': 1354, 'raising': 1355, 'number': 1356, 'willing': 1357, 'open': 1358, 'imposing': 1359, 'stores': 1360, 'every': 1361, 'change': 1362, 'indicated': 1363, 'latin': 1364, 'alps': 1365, 'again': 1366, 'develop': 1367, 'acquainted': 1368, 'driver': 1369, 'phone\"': 1370, 'remember': 1371, 'hens': 1372, 'center': 1373, 'sit': 1374, 'gift': 1375, 'movie': 1376, 'forever': 1377, 'private': 1378, 'arranging': 1379, 'well-prepared': 1380, 'ball': 1381, 'tuesday': 1382, 'thinks': 1383, 'folders': 1384, 'stairs': 1385, 'boston': 1386, '1927': 1387, 'title': 1388, 'cholesterol': 1389, 'farms': 1390, 'way': 1391, 'strange': 1392, 'real': 1393, 'fees': 1394, 'window': 1395, 'chair': 1396, 'uncle': 1397, 'side': 1398, 'eye': 1399, 'turkey': 1400, 'resources': 1401, 'meet': 1402, 'emergency': 1403, 'gray': 1404, 'week': 1405, 'boys': 1406, 'learn': 1407, 'wish': 1408, 'feeling': 1409, 'sights': 1410, 'dress': 1411, 'picking': 1412, 'give': 1413, 'pull': 1414, 'inch': 1415, 'wake': 1416, 'skirt': 1417, 'suspect': 1418, 'which': 1419, 'circle': 1420, 'pizza': 1421, 'people': 1422, 'eaten': 1423, 'thorn': 1424, \"friends'\": 1425, 'ibm': 1426, 'cost': 1427, 'lucky': 1428, 'losing': 1429, 'grabbed': 1430, 'rice': 1431, 'low': 1432, 'bottle': 1433, 'relies': 1434, 'worries': 1435, 'draw': 1436, 'song': 1437, 'experience': 1438, 'certain': 1439, 'changes': 1440, 'talking': 1441, 'helping': 1442, 'telling': 1443, 'team': 1444, '180': 1445, 'sweets': 1446, 'family': 1447, 'warned': 1448, 'author': 1449, \"we'd\": 1450, 'everyone': 1451, 'three': 1452, 'playing': 1453, 'everybody': 1454, 'handling': 1455, 'mother': 1456, 'hardly': 1457, 'relax': 1458, 'step': 1459, \"there's\": 1460, 'test': 1461, 'second': 1462, 'science': 1463, 'called': 1464, 'souvenirs': 1465, 'unlikely': 1466, 'shut': 1467, 'twelve': 1468, 'composition': 1469, 'aimed': 1470, 'keys': 1471, 'india': 1472, 'kindness': 1473, 'empty': 1474, 'promises': 1475, 'minutes': 1476, 'stepped': 1477, 'paris': 1478, 'gallons': 1479, 'laughed': 1480, 'fan': 1481, 'netherlands': 1482, 'caged': 1483, \"you'll\": 1484, 'stomach': 1485, 'purpose': 1486, 'semester': 1487, 'kind': 1488, 'any': 1489, 'where': 1490, 'clint': 1491, 'usually': 1492, 'hours': 1493, 'underestimate': 1494, 'lack': 1495, 'dirt': 1496, 'skis': 1497, 'properly': 1498, 'significance': 1499, 'honesty': 1500, 'respect': 1501, 'broken': 1502, 'classical': 1503, 'activity': 1504, 'long': 1505, 'tom': 1506, 'mad': 1507, 'you': 1508, 'choice': 1509, 'subway': 1510, 'awake': 1511, 'used': 1512, 'couple': 1513, 'loan': 1514, 'control': 1515, 'stops': 1516, 'so': 1517, 'happiness': 1518, 'stir': 1519, 'rules': 1520, 'flush': 1521, 'piece': 1522, 'rung': 1523, 'passive': 1524, 'being': 1525, 'saturdays': 1526, 'grow': 1527, 'waiting': 1528, 'terribly': 1529, 'mom': 1530, 'expecting': 1531, 'aunt': 1532, 'show': 1533, 'daughter': 1534, 'hands': 1535, 'goes': 1536, 'careful': 1537, 'settled': 1538, 'age': 1539, 'senator': 1540, 'necessary': 1541, 'foolproof': 1542, 'artificial': 1543, 'cream': 1544, 'back!': 1545, 'souls': 1546, 'man': 1547, 'sleeves': 1548, 'thanked': 1549, 'appear': 1550, 'four': 1551, 'each': 1552, 'loudly': 1553, 'precious': 1554, 'mail': 1555, 'anymore': 1556, 'due': 1557, 'this': 1558, 'painful': 1559, 'finishes': 1560, 'vase': 1561, 'regular': 1562, 'difference': 1563, 'realize': 1564, 'admitted': 1565, 'done': 1566, 'enjoyed': 1567, 'boat': 1568, 'escape': 1569, 'great': 1570, 'complain': 1571, 'salty': 1572, 'back': 1573, 'met': 1574, 'suntan': 1575, 'work': 1576, 'party': 1577, 'who': 1578, 'birthday': 1579, 'whole': 1580, 'rock': 1581, 'direction': 1582, 'ghosts': 1583, 'ten': 1584, 'intent': 1585, 'bowl': 1586, 'quarter': 1587, 'afternoon': 1588, 'money': 1589, 'questions': 1590, 'law': 1591, 'quietly': 1592, 'model': 1593, 'having': 1594, 'began': 1595, 'hat': 1596, 'previous': 1597, 'lie': 1598, 'car': 1599, 'childish': 1600, 'kobe': 1601, 'father': 1602, 'those': 1603, 'bedroom': 1604, 'book': 1605, 'vienna': 1606, 'somebody': 1607, 'case': 1608, 'tenor': 1609, 'sorry': 1610, 'finding': 1611, 'dolphin': 1612, 'absolutely': 1613, 'closely': 1614, 'plants': 1615, 'waited': 1616, 'songs': 1617, 'come': 1618, 'coffee': 1619, 'span': 1620, 'too\"': 1621, '\"i': 1622, 'years': 1623, 'relatives': 1624, 'love': 1625, 'burns': 1626, 'president': 1627, 'working': 1628, 'fearless': 1629, 'outside': 1630, 'increase': 1631, 'felt': 1632, 'walk': 1633, \"who'll\": 1634, 'regrets': 1635, 'to': 1636, 'advised': 1637, 'jumped': 1638, 'died': 1639, 'focus': 1640, 'widely-spoken': 1641, \"weren't\": 1642, 'maybe': 1643, 'front': 1644, 'does': 1645, 'until': 1646, 'glasses': 1647, 'detective': 1648, 'got': 1649, 'jail': 1650, 'access': 1651, 'television': 1652, 'journey': 1653, 'envied': 1654, 'smell': 1655, 'die': 1656, 'opinions': 1657, 'dressed': 1658, 'such': 1659, 'roses': 1660, 'target': 1661, 'interested': 1662, 'effort': 1663, 'village': 1664, 'girlfriend': 1665, 'shibuya': 1666, 'neither': 1667, 'telephone': 1668, 'won!': 1669, 'address': 1670, 'catch': 1671, 'many': 1672, 'eight': 1673, 'burned': 1674, 'carelessness': 1675, 'that': 1676, 'taller': 1677, 'picture': 1678, 'up': 1679, 'sumo': 1680, 'wear': 1681, 'boxes': 1682, 'income': 1683, 'flood': 1684, 'feet': 1685, 'what': 1686, 'race': 1687, 'desire': 1688, 'gas': 1689, 'alone': 1690, 'talked': 1691, 'narita': 1692, 'worthless': 1693, 'studies': 1694, 'shelf': 1695, 'large': 1696, 'prettiest': 1697, 'nearly': 1698, 'shop': 1699, 'write': 1700, 'street': 1701, 'suburbs': 1702, 'his': 1703, 'hard': 1704, 'fascinated': 1705, '2:30': 1706, 'are': 1707, 'audience': 1708, 'eight-year-old': 1709, 'favorite': 1710, 'secret': 1711, 'poems': 1712, 'glass': 1713, \"heroine's\": 1714, 'port': 1715, 'chairman': 1716, 'possible': 1717, 'spent': 1718, 'month': 1719, 'thought': 1720, 'vcr': 1721, 'trousers': 1722, 'theory': 1723, 'soon': 1724, 'needed': 1725, 'grass': 1726, 'top': 1727, '\"is': 1728, 'wanted': 1729, 'happy': 1730, 'sleep': 1731, 'translate': 1732, 'never': 1733, 'band': 1734, 'run': 1735, 'planning': 1736, 'doing': 1737, 'erased': 1738, 'today': 1739, 'effect': 1740, 'took': 1741, 'school': 1742, 'animals': 1743, 'fog': 1744, 'brilliant': 1745, 'emotional': 1746, 'hurt': 1747, 'pale': 1748, 'surprised': 1749, 'worth': 1750, 'eyesight': 1751, '1888': 1752, 'gains': 1753, 'mayor': 1754, 'related': 1755, 'disease': 1756, 'professional': 1757, '30': 1758, 'anyone': 1759, 'appointment': 1760, 'familiar': 1761, 'mt': 1762, 'count': 1763, 'see': 1764, 'children': 1765, 'mistake': 1766, 'reason': 1767, 'hated': 1768, 'hotel': 1769, 'examinations': 1770, 'boil': 1771, 'ache': 1772, 'quick': 1773, 'fault': 1774, 'commerce': 1775, 'obey': 1776, 'house\"': 1777, 'risks': 1778, 'reminded': 1779, 'likes': 1780, 'capacity': 1781, 'belongs': 1782, \"could've\": 1783, \"isn't\": 1784, 'follow': 1785, 'worry!': 1786, 'waterproof': 1787, 'room': 1788, 'cart': 1789, 'went': 1790, 'decided': 1791, 'through': 1792, 'sitting': 1793, 'either': 1794, 'gun': 1795, 'credibility': 1796, 'covered': 1797, 'andré-louis': 1798, 'drop': 1799, 'found': 1800, 'statement': 1801, 'construct': 1802, 'chocolate': 1803, 'rather': 1804, 'ink': 1805, 'meeting': 1806, 'hot': 1807, 'centimeters': 1808, 'appointed': 1809, 'lined': 1810, 'please\"': 1811, 'white': 1812, 'country': 1813, 'machines': 1814, 'spanish': 1815, 'skiing': 1816, 'fear': 1817, 'beginning': 1818, 'polite': 1819, 'look': 1820, 'injured': 1821, 'very': 1822, 'banana': 1823, 'shalt': 1824, 'drew': 1825, 'speaking': 1826, 'succeed': 1827, 'confidential': 1828, 'night': 1829, 'erupted': 1830, 'financially': 1831, 'announced': 1832, 'succeeded': 1833, 'clock': 1834, 'cry': 1835, 'clearly': 1836, 'practicing': 1837, 'much': 1838, 'whether': 1839, 'he': 1840, 'worn': 1841, 'basis': 1842, 'afraid': 1843, 'solo': 1844, 'innocence': 1845, 'total': 1846, 'fat': 1847, 'handy': 1848, 'need': 1849, 'jogging': 1850, 'loved': 1851, 'plain': 1852, 'one-way': 1853, 'sentence': 1854, 'clothes': 1855, 'monday': 1856, 'london': 1857, 'magnetism': 1858, 'italy': 1859, 'languages': 1860, 'solution': 1861, 'tourist': 1862, 'opinion': 1863, 'parents': 1864, 'fresh': 1865, 'voting': 1866, 'figure': 1867, 'card': 1868, 'murdered': 1869, 'ac': 1870, 'differently': 1871, 'stamps': 1872, 'attack': 1873, 'present': 1874, 'counted': 1875, 'spinach': 1876, 'account': 1877, 'last': 1878, 'saw': 1879, 'refuse': 1880, 'great!': 1881, \"won't\": 1882, 'collection': 1883, '455': 1884, \"can't\": 1885, 'watched': 1886, 'plastic': 1887, 'quite': 1888, 'policeman': 1889, 'winds': 1890, 'store': 1891, 'percent': 1892, 'take': 1893, 'thief': 1894, 'admire': 1895, 'jokes': 1896, 'difficulty': 1897, 'table': 1898, 'cooperative': 1899, 'water': 1900, 'woman': 1901, 'looked': 1902, 'expensive': 1903, 'egg': 1904, 'midnight': 1905, 'accident': 1906, '\"did': 1907, 'steady': 1908, 'skin': 1909, 'switzerland': 1910, 'hair': 1911, 'same': 1912, 'dogs': 1913, 'safer': 1914, 'grows': 1915, 'not': 1916, 'carmel': 1917, 'clouds': 1918, 'robbed': 1919, \"i'm\": 1920, 'could': 1921, 'procedure': 1922, 'childishly': 1923, 'i’m': 1924, 'affairs': 1925, 'mysteries': 1926, \"we'll\": 1927, \"he's\": 1928, 'seats': 1929, \"mother's\": 1930, \"girl's\": 1931, 'should': 1932, 'whatever': 1933, 'york': 1934, 'were': 1935, \"shouldn't\": 1936, 'harder': 1937, 'buried': 1938, 'injury': 1939, 'china': 1940, 'boots': 1941, 'monkeys': 1942, 'something': 1943, 'mouths': 1944, 'liquid': 1945, 'europe': 1946, 'thinking': 1947, 'miracle': 1948, 'most': 1949, 'drunk': 1950, 'april': 1951, 'agreed': 1952, 'forgot': 1953, 'quiet': 1954, 'hit': 1955, 'point': 1956, 'leave': 1957, 'moving': 1958, 'ok': 1959, 'poor': 1960, 'high': 1961, 'no': 1962, 'worried': 1963, 'jazz': 1964, 'hope': 1965, 'kinds': 1966, 'grade': 1967, 'mile': 1968, 'yesterday': 1969, 'wonderful': 1970, 'brother': 1971, 'faxes': 1972, 'filled': 1973, 'with': 1974, 'ear': 1975, 'office': 1976, \"people's\": 1977, 'killed': 1978, 'advantage': 1979, 'said': 1980, 'term': 1981, 'evidently': 1982, 'mistakes': 1983, 'earlier': 1984, 'idea': 1985, 'honors': 1986, 'now': 1987, 'shower': 1988, 'seem': 1989, 'shorter': 1990, 'gain': 1991, 'hanging': 1992, 'blue': 1993, 'goodbye': 1994, 'policy': 1995, 'summer': 1996, 'film': 1997, \"who's\": 1998, 'farm': 1999, 'housework': 2000, 'because': 2001, 'alive': 2002, 'resemblance': 2003, 'wall': 2004, 'prefer': 2005, 'closed': 2006, 'beef': 2007, 'amount': 2008, 'red': 2009, 'grandmother': 2010, 'more': 2011, 'spread': 2012, 'yesterday\"': 2013, 'begin': 2014, 'studied': 2015, 'coat': 2016, 'drawer': 2017, 'am': 2018, 'started': 2019, 'plenty': 2020, 'poisoner': 2021, 'area': 2022, 'saying': 2023, 'identified': 2024, 'several': 2025, 'kidding!': 2026, 'facts': 2027, 'sky': 2028, 'carried': 2029, 'question': 2030, 'able': 2031, 'ticket': 2032, 'reports': 2033, 'knowing': 2034, 'smoking': 2035, 'storm': 2036, 'pen': 2037, 'owes': 2038, 'else': 2039, 'tell': 2040, 'ignored': 2041, 'novels': 2042, 'soil': 2043, 'hour': 2044, 'gloves': 2045, 'eastwood': 2046, 'understood': 2047, '\"it\\'s': 2048, 'objected': 2049, 'carefully': 2050, 'names': 2051, 'grab': 2052, 'two': 2053, 'scotland': 2054, 'stupid': 2055, 'before': 2056, 'speech': 2057, 'spoke': 2058, 'tower': 2059, 'impractical': 2060, 'flash': 2061, 'kissed': 2062, 'vegetables': 2063, 'student': 2064, 'i': 2065, 'page': 2066, 'market': 2067, 'nobody': 2068, 'child': 2069, 'mind': 2070, 'bear': 2071, 'did': 2072, 'calling': 2073, 'flight': 2074, 'polish': 2075, 'listening': 2076, 'cartridge': 2077, 'pretend': 2078, 'contributed': 2079, 'minute': 2080, 'experiment': 2081, 'slow': 2082, 'twentieth': 2083, 'abroad': 2084, 'landing': 2085, 'registration': 2086, 'schedule': 2087, 'about': 2088, '20': 2089, 'ask': 2090, 'eat': 2091, 'list': 2092, 'swept': 2093, 'convince': 2094, 'baby': 2095, 'dropped': 2096, 'came': 2097, 'world': 2098, 'confused': 2099, 'fence': 2100, 'dollars': 2101, 'exhausted': 2102, 'rent': 2103, 'depressed': 2104, 'candles': 2105, 'dog': 2106, 'rarely': 2107, 'watered': 2108, 'if': 2109, 'ended': 2110, 'five': 2111, 'visiting': 2112, 'bleed': 2113, 'thirty': 2114, 'offer': 2115, \"doesn't\": 2116, 'engagement': 2117, 'lot': 2118, 'cell': 2119, 'slowly': 2120, 'tent': 2121, 'coins': 2122, 'introduced': 2123, 'chaucer': 2124, 'stars': 2125, 'raise': 2126, 'cards': 2127, 'off': 2128, 'bird': 2129, 'depends': 2130, 'plays': 2131, \"minutes'\": 2132, 'sometimes': 2133, 'fashions': 2134, 'breakfast': 2135, 'worker': 2136, 'whispered': 2137, 'chicken': 2138, 'article': 2139, 'blanket': 2140, \"that's\": 2141, 'train': 2142, 'knocked': 2143, 'forget': 2144, 'want': 2145, 'far': 2146, 'another': 2147, 'face': 2148, \"you'd\": 2149, 'letter': 2150, 'warning': 2151, 'twenties': 2152, 'temper': 2153, 'up!': 2154, 'lots': 2155, 'believe': 2156, 'difficult': 2157, 'together': 2158, 'typhoon': 2159, 'economical': 2160, 'pick': 2161}\n",
      "\n",
      "target index:\n",
      "{'名': 0, '買': 1, '報名': 2, '克林伊': 3, '日文': 4, '出差': 5, '討論': 6, '手機': 7, '休': 8, '擦': 9, '宣布': 10, '有用': 11, '课堂': 12, '了傷': 13, '看着': 14, '感激': 15, '世界': 16, '不後悔': 17, '機': 18, '之内': 19, 'IBM': 20, '过去': 21, '已經來': 22, '上火': 23, '湯姆不會': 24, '派对': 25, '班': 26, '怪響': 27, '嫌東': 28, '上': 29, '作贡献': 30, '集中精力': 31, '棒球': 32, '想起': 33, '中年': 34, '油漆': 35, '传染': 36, '奶油': 37, '派': 38, '恐怖主义': 39, '女朋友': 40, '马上': 41, '輕時': 42, '那里': 43, '喂': 44, '英國': 45, '紅酒': 46, '妹妹': 47, '别留': 48, '第一次': 49, '高中': 50, '词': 51, '所有': 52, '监狱': 53, '小学生': 54, '这端': 55, '事': 56, '吃魚': 57, '那边': 58, '豐田的車': 59, '大坂是': 60, '算是': 61, '绝对': 62, '喝': 63, '白天': 64, '主席': 65, '危險': 66, '蓝色': 67, '我寧': 68, '帶上': 69, '照顾': 70, '媽媽': 71, '地址': 72, '牙齦': 73, '背': 74, '還不夠': 75, '睡': 76, '还': 77, '盡量': 78, '我們還': 79, '日本': 80, '這個': 81, '安家落户': 82, '座位': 83, '怎么办': 84, '经济': 85, '當選為': 86, '繁星': 87, '三十元': 88, '离开': 89, '這裡': 90, '那种': 91, '讨论': 92, '想要': 93, '蜡烛': 94, '火车': 95, '把': 96, '掛起': 97, '飛機': 98, '来杯': 99, '图片': 100, '格雷厄姆': 101, '妻子': 102, '抽烟': 103, '一瓶': 104, '撤回': 105, '服': 106, '一份': 107, '運動': 108, '这个': 109, '他試': 110, '几分钟': 111, '一杯': 112, '默默地': 113, '一股': 114, '整天': 115, '紐約': 116, '遲': 117, '飲熱': 118, '外交官': 119, '科比': 120, '小看': 121, '好日子': 122, '擅長': 123, '打开门': 124, '多少': 125, '是从': 126, '理由': 127, '花瓶': 128, '婴儿': 129, '猜': 130, '舊聞': 131, '一年': 132, '附近': 133, '傷害': 134, '一連串': 135, '！': 136, '公司': 137, '能游': 138, '新鲜事': 139, '張紅潤': 140, '答應': 141, '顶盖': 142, '水': 143, '会到': 144, '帽子': 145, '了': 146, '塑料': 147, '脸红': 148, '手指': 149, '取名': 150, '這': 151, '都': 152, 'Mary': 153, '糟': 154, '极了': 155, '年轻人': 156, '减肥': 157, '扶養長': 158, '快': 159, '汤姆': 160, '自动售货机': 161, '自然': 162, '箱子': 163, '實是': 164, '渡河': 165, '適合': 166, '士河': 167, '全部': 168, '不假思索': 169, '得': 170, '高中毕业': 171, '意思': 172, '筆財富': 173, '墨西哥人': 174, '哈佛': 175, '硬幣': 176, '简单': 177, '断绝来往': 178, '訂購': 179, '運行': 180, '构造': 181, '按照': 182, '复苏': 183, '盡力': 184, '叫醒': 185, '冰激凌': 186, '三': 187, '一種': 188, '成群': 189, '覺得': 190, '黑色': 191, '一群': 192, '力量': 193, '作飯': 194, '上過': 195, '愛你多': 196, '今年': 197, '試': 198, '噪声': 199, '逛逛': 200, '那部': 201, '起車': 202, '活泼': 203, '新書': 204, '美腿': 205, '醫生': 206, '地圖': 207, '初到': 208, '你給': 209, '成田': 210, '姑姑': 211, '會會議': 212, '一隊': 213, '上課': 214, '在意': 215, '敲': 216, '继承人': 217, '還壞': 218, '指向': 219, '突然': 220, '要是': 221, '四': 222, '高個子': 223, '男孩': 224, '照片': 225, '西德尼': 226, '用場': 227, '不过': 228, '南邊': 229, '多久': 230, '开着': 231, '无法忍受': 232, '错': 233, '逃之夭夭': 234, '检查': 235, '版': 236, '我五點': 237, '給了': 238, '琴家': 239, '這東西': 240, '巧克力': 241, '商店': 242, '裡吃飯': 243, '看電視': 244, '手': 245, '妈妈': 246, '无辜': 247, '我到': 248, '八點': 249, '好': 250, '两本书': 251, '廚師': 252, '薩': 253, '衣服': 254, '逗笑': 255, '万一': 256, '早飯': 257, '周圍': 258, '國家': 259, '大众': 260, '桌前': 261, '春天': 262, '冒险': 263, '烦': 264, '聪明人': 265, '行胜于': 266, '想到': 267, '熬夜': 268, '注意力': 269, '我会': 270, '一首': 271, '一天': 272, '單字': 273, '鼻子': 274, '长大': 275, '開除': 276, '姿態': 277, '意见': 278, '希望': 279, '學會': 280, '静谧': 281, '写给': 282, '一样': 283, '不来': 284, '去不去': 285, '郊区': 286, '充满': 287, '补给': 288, '光臨': 289, '家人': 290, '意识': 291, '美国': 292, '他邊': 293, '低价': 294, '動物': 295, '高須': 296, '之后': 297, '時間': 298, '入口': 299, '而言': 300, '氣': 301, '难免会': 302, '母鸡': 303, '海洋': 304, '現今': 305, '準備': 306, '完美': 307, '數學': 308, '加拿大': 309, '耳邊': 310, '高': 311, '介紹': 312, '慢跑': 313, '籠子裡': 314, '還是': 315, '七月': 316, '實情': 317, '测验': 318, '八年': 319, '肚子饿': 320, '公众': 321, '濕': 322, '滑雪': 323, '没用': 324, '大': 325, '錯': 326, '用大': 327, '飯會': 328, ',': 329, '投降': 330, '着': 331, '工的': 332, '看来': 333, '火好': 334, '排队': 335, '會來': 336, '錄取': 337, '汤里': 338, '。': 339, '艾菲爾鐵塔': 340, '當你到': 341, '文身': 342, '完晚': 343, '善': 344, '打過': 345, '我想給': 346, '相当': 347, '十一点': 348, '裡': 349, '傾向': 350, '兩年': 351, '很困': 352, '去世': 353, '偷': 354, '木材': 355, '咖啡': 356, '桌上': 357, '這張': 358, '人': 359, '为什么': 360, '哲学': 361, '保持沉默': 362, '檢查': 363, '准备': 364, '交通': 365, '桌子': 366, '小屋': 367, '下着雨': 368, '星期日': 369, '单行道': 370, '日语': 371, '下周一': 372, '昆虫': 373, '运气': 374, '学生': 375, '館': 376, '翻新': 377, '做不了': 378, '更加': 379, '还清': 380, '那些': 381, '女孩': 382, '裙子': 383, '外国人': 384, '手脚': 385, '电视': 386, '聽': 387, '雞': 388, '打開': 389, '借给': 390, '未来': 391, '恩惠': 392, '曾经': 393, '著名': 394, '受夠': 395, '保守': 396, '一遍': 397, '犯錯': 398, '买不起': 399, '盐': 400, '笔记本': 401, '打印机': 402, '睡觉时': 403, '我們': 404, '鈴薯': 405, '毫無價值': 406, '嘴': 407, '指责': 408, '给予': 409, '继承': 410, '外形': 411, '失去': 412, '最新': 413, '两次': 414, '茶葉': 415, '一大笔': 416, '公車': 417, '热': 418, '正在': 419, '說謊': 420, '浴缸': 421, '风声': 422, '谁': 423, '蓋': 424, '事情': 425, '這計畫': 426, '买不到': 427, '下到': 428, '我羨慕': 429, '她': 430, '多長': 431, '富士山': 432, '收音': 433, '痛': 434, '抓': 435, '英格兰': 436, '6': 437, '幸存': 438, '一口': 439, '克斯': 440, '这辆': 441, '蝴蝶': 442, '禮物': 443, '纸': 444, '真盡興': 445, '走极端': 446, '最廣泛': 447, '裡說': 448, '详细信息': 449, '休閒': 450, '傑克': 451, '別人': 452, '时候': 453, '报告': 454, '花園': 455, '腾出': 456, '瞎': 457, '不得不': 458, '據': 459, '注意': 460, '感情': 461, '环游世界': 462, '枪支': 463, '罢工': 464, '5': 465, '百分之百': 466, '富裕': 467, '结果': 468, '毕业': 469, '沒有還': 470, '產生': 471, '喝酒': 472, '为了': 473, '任命': 474, '提前': 475, '锕': 476, '胳膊': 477, '趨勢': 478, '美術館': 479, '山崩': 480, '難題': 481, '床': 482, '我現': 483, '鳥取': 484, '闭着': 485, '河里': 486, '钱包': 487, '决定': 488, '人生': 489, '新房子': 490, '父母': 491, '过得': 492, '及': 493, '不够': 494, '識到': 495, '有趣': 496, '瞄准': 497, '大錯': 498, '太多人': 499, '直呼其名': 500, '复原': 501, '濫': 502, '北边': 503, '嫉妒': 504, '傻子': 505, '風': 506, '連絡': 507, '总在': 508, '公室': 509, '港口城市': 510, '幹什麼': 511, '東京': 512, '愚弄': 513, '下午': 514, '與': 515, '闆': 516, '美元': 517, '家伙': 518, '道理': 519, '降落': 520, '柳橙汁': 521, '學開車': 522, '没有': 523, '站': 524, '那樣': 525, '這個鎮': 526, '完成': 527, '茶': 528, '我吹次': 529, '氾': 530, '貝多芬': 531, '指望': 532, '月底': 533, '班车': 534, '管': 535, '这': 536, '本书': 537, '聪明': 538, '边走边看': 539, '没书': 540, '鋼琴': 541, '请帖': 542, '內': 543, '之一': 544, '朝着': 545, '接近': 546, '学校': 547, '归': 548, '总裁': 549, '类型': 550, '堵塞': 551, '以前': 552, '想法': 553, '哪儿': 554, '女性': 555, '作弊': 556, '先': 557, '我能': 558, '一間': 559, '信守': 560, '走快': 561, '尊敬': 562, '貓和': 563, '以一個': 564, '預期': 565, '长生不死': 566, '换掉': 567, '湿': 568, '有個雙': 569, '起床': 570, '死不降': 571, '名单': 572, '四月': 573, '地愛': 574, '旧': 575, '專職': 576, '慾': 577, '吃奶': 578, '听': 579, '西班牙文': 580, '老師': 581, '负责': 582, '這位': 583, '说不出': 584, '我見過': 585, '贷款': 586, '花園種': 587, '成為': 588, '叔叔': 589, '張床': 590, '于': 591, '信过': 592, '上學': 593, '難以': 594, '籃子裡': 595, '立即': 596, '神秘': 597, '得到': 598, '这周': 599, '穿': 600, '喜爱': 601, '還給': 602, '纸板箱': 603, '交': 604, '甚至': 605, '裡有': 606, '!': 607, '休假': 608, '免疫': 609, '果汁': 610, '兩次': 611, '鳥': 612, '鬼': 613, '湯姆確': 614, '药会': 615, '财产': 616, '严肃': 617, '损失': 618, '身亡': 619, '兩層': 620, '從倫敦': 621, '經換': 622, '短袖': 623, '一輛': 624, '足球赛': 625, '如此': 626, '裝滿水': 627, '場合': 628, '流利': 629, '東西來': 630, '明年': 631, '樓': 632, '电子邮件': 633, '能給': 634, '下雨': 635, '趕': 636, '中文': 637, '中受': 638, '爬': 639, '認為': 640, '傍晚': 641, '多一些': 642, '大阪': 643, '颜色': 644, '几乎': 645, '包裹': 646, '真是太': 647, '进来': 648, '桥': 649, '问': 650, '人造花': 651, '急': 652, '確切': 653, '幾天': 654, '大後成': 655, '離婚': 656, '弹': 657, '这样': 658, '真是': 659, '伟大': 660, '玛丽': 661, '电脑': 662, '嬰兒': 663, '私下': 664, '相信': 665, '狐狸': 666, '据说': 667, '大學': 668, '赞成': 669, '请问': 670, '队': 671, '阻斷': 672, '裡放': 673, '她給': 674, '前死': 675, '欣賞': 676, '一百': 677, '湿漉漉': 678, '歡迎': 679, '施工': 680, '參加': 681, '四年': 682, '办法': 683, '我六點': 684, '顺位': 685, '周末': 686, '终将': 687, '留學': 688, '怀疑': 689, '小点声': 690, '那棟': 691, '不干': 692, '从没': 693, '山坡': 694, '女儿': 695, '停止': 696, '一共': 697, '記得': 698, '撞车': 699, '我用': 700, '獲得': 701, '出門': 702, '那幅': 703, '很帅': 704, '中心': 705, '摩托': 706, '我想': 707, '說': 708, '過午': 709, '聚会': 710, '信用卡': 711, '地板': 712, '蠢': 713, '禮貌': 714, '分擔': 715, '提問': 716, '母語': 717, '被选为': 718, '离': 719, '參觀': 720, '時尚': 721, '刪除': 722, '戒菸': 723, '媽': 724, '手套': 725, '话': 726, '不该': 727, '發行': 728, '是非': 729, '盡': 730, '我給': 731, '颱': 732, '蛋': 733, '灰塵': 734, '落': 735, '五月': 736, '那太': 737, '支付': 738, '情况': 739, '教': 740, '借個': 741, '卧室': 742, '瑞士': 743, '哪顶': 744, '早餐': 745, '絲毫': 746, '襲擊': 747, '經教': 748, '机密': 749, '紧张': 750, '天氣': 751, '必需': 752, '那個': 753, '表現': 754, '盐放多': 755, '不想': 756, '天花': 757, '好处': 758, '我想講': 759, '愤怒': 760, '事想': 761, '场合': 762, '養': 763, '寒流': 764, '話': 765, '損失': 766, '承认': 767, '之外': 768, '嗜好': 769, '房间': 770, '为止': 771, '花园里': 772, '者': 773, '第三季': 774, '冷冻': 775, '經常': 776, '锯': 777, '约会': 778, '警察': 779, '杂草': 780, '有效期限': 781, '打牌': 782, '就': 783, '犯': 784, '一起': 785, '苍白': 786, '我常': 787, '执业': 788, '会': 789, '無法': 790, '一本': 791, '来说': 792, '德': 793, '声': 794, '变': 795, '总是': 796, '頭撞': 797, '沒': 798, '這家': 799, '换乘': 800, '隱瞞': 801, '診所': 802, '寄': 803, '和玛丽': 804, '前进': 805, '文件夹': 806, '這間': 807, '之前': 808, '很久前': 809, '\\t': 810, '也許': 811, '放到': 812, '过': 813, '液體': 814, '火车站': 815, '那話': 816, '熱的': 817, '老': 818, '笔比': 819, '衣': 820, '照顧': 821, '滑冰': 822, '關節': 823, '不劳而获': 824, '连接': 825, '产生误解': 826, '泛滥': 827, '那首歌': 828, '包上': 829, '闪光灯': 830, '我怕': 831, '伏特加': 832, '记得': 833, '房子': 834, '树': 835, '变成': 836, '人們': 837, '肉': 838, '开始': 839, '看法': 840, '積雪': 841, '铅笔': 842, '和': 843, '当作': 844, '拿': 845, '四十': 846, '数千': 847, '沒事': 848, '肯定': 849, '愛我': 850, '同意': 851, '长信': 852, '科學家': 853, '春雨': 854, '這茶': 855, '是因为': 856, '晚餐': 857, '午饭': 858, '作業': 859, '裡嗎': 860, '簽證': 861, '在羅馬過': 862, '明白': 863, '挺': 864, '退休': 865, '难懂': 866, '必要': 867, '自': 868, '已经': 869, '恶化': 870, '洗澡': 871, '中': 872, '友善': 873, '卷进': 874, '泰': 875, '抽屜裡': 876, '回答': 877, '這對': 878, '借': 879, '留言': 880, '越': 881, '愚蠢': 882, '會壞': 883, '誠實': 884, '别为': 885, '成': 886, '里面': 887, '美味': 888, '字典': 889, '代表': 890, '恨': 891, '午飯': 892, '遭': 893, '寿命短': 894, '不吸': 895, '尽快': 896, '期待': 897, '12': 898, '你': 899, '不可': 900, '限': 901, '騙過': 902, '時候': 903, '一家': 904, '公交车': 905, '好久': 906, '餐厅': 907, '一人': 908, '美國': 909, '能活': 910, '他們': 911, '细看': 912, '我爸': 913, '一个头': 914, '一只': 915, '過他': 916, '歡迎會': 917, '子': 918, '照': 919, '承诺': 920, '昨天': 921, '抓著': 922, '赶': 923, '依赖': 924, '聽過': 925, '赢': 926, '耳朵': 927, '天空': 928, '著柵欄': 929, '新車': 930, '穿着': 931, '一點': 932, '请吃': 933, '么': 934, '推迟': 935, '绝不能': 936, '感谢': 937, '不太': 938, '第二名': 939, '土壤': 940, '信念': 941, '发疯': 942, '同事': 943, '不論': 944, '親教': 945, '艺术家': 946, '阿爾': 947, '閣': 948, '音樂有': 949, '寄给': 950, '可': 951, '遊客': 952, '拿走': 953, '乡间': 954, '總是': 955, '一段时间': 956, '祝': 957, '不配': 958, '要试': 959, '河边': 960, '生活': 961, '我见': 962, '進': 963, '貧窮': 964, '侖': 965, '学法语': 966, '巴士': 967, '不如': 968, '树林': 969, '清晨': 970, '祖母': 971, '而且': 972, '口译': 973, '將打': 974, '跑': 975, '手臂': 976, '車': 977, '使用': 978, '音乐': 979, '请': 980, '我点': 981, '1899': 982, '冬天': 983, '痴迷': 984, '故事': 985, '校對': 986, '臉': 987, '谈谈': 988, '订房': 989, '待': 990, '很多': 991, '上学': 992, '闖進': 993, '说': 994, '卡梅爾市': 995, '1789': 996, '穩定': 997, '晚': 998, '刪': 999, '上床': 1000, '這架': 1001, '客滿': 1002, '那': 1003, '你们': 1004, '方向感': 1005, '错误': 1006, '密切': 1007, '磁性': 1008, '仍': 1009, '这次': 1010, '除掉': 1011, '交流': 1012, '車嗎': 1013, 'SSH': 1014, '沒氣': 1015, '保密': 1016, '是否': 1017, '變得': 1018, '寄過': 1019, '怕': 1020, '幾乎': 1021, '男生': 1022, '营业': 1023, '自作自受': 1024, '比较': 1025, '起來': 1026, '没': 1027, '邀': 1028, '學校': 1029, '感謝': 1030, '揀': 1031, '既往不咎': 1032, '湯姆住': 1033, '行不通': 1034, '上周': 1035, '遺憾': 1036, '石頭': 1037, '集中': 1038, '飞': 1039, '平常': 1040, '对于': 1041, '你夠': 1042, '單獨去': 1043, '美好': 1044, '三棟': 1045, '没想到': 1046, '结婚': 1047, '那太多': 1048, '計劃': 1049, '可怕': 1050, '擔心': 1051, '課程': 1052, '一洗': 1053, '欠': 1054, '出游': 1055, '那儿': 1056, '带个': 1057, '高点': 1058, '腋下': 1059, '那个': 1060, '冲水': 1061, '家務': 1062, '目的': 1063, '有些': 1064, '卑斯山': 1065, '服务员': 1066, '有意': 1067, '起诉': 1068, '女人': 1069, '物價': 1070, '不起': 1071, '已經犯': 1072, '一棵树': 1073, '來': 1074, '安靜': 1075, '兒童': 1076, '冬夜': 1077, '讓': 1078, '試著要': 1079, '主要': 1080, '用来': 1081, '兒子': 1082, '嘲笑': 1083, '我下': 1084, '大学': 1085, '一棵': 1086, '不了': 1087, '笑话': 1088, '最好': 1089, '結婚': 1090, '飞机': 1091, '新体验': 1092, '生菜': 1093, '别来': 1094, '吹来': 1095, '曾經': 1096, '为': 1097, '下雪': 1098, '個': 1099, '若': 1100, '这张': 1101, '好多天': 1102, '唱個': 1103, '糟透了': 1104, '解決': 1105, '彈鋼琴': 1106, '越來': 1107, '逃生': 1108, '很难': 1109, '黃': 1110, '體重': 1111, '杯酒': 1112, '抢劫': 1113, '看上去': 1114, '欧洲': 1115, '等候': 1116, '以後打': 1117, '吃晚饭': 1118, '酒馆': 1119, '命名': 1120, '期望': 1121, '面前': 1122, '独立': 1123, '前進': 1124, '一切': 1125, '看点': 1126, '煮': 1127, '我刚': 1128, '鱼': 1129, '恐惧': 1130, '呆': 1131, '仔细': 1132, '一直': 1133, '開頭': 1134, '坐': 1135, '比': 1136, '标准': 1137, '法律': 1138, '床上': 1139, '应该': 1140, '務': 1141, '我還': 1142, '考': 1143, '涂些': 1144, '週開學': 1145, '脸': 1146, '倒下': 1147, '週日': 1148, '爱': 1149, '很渴': 1150, '但是': 1151, '经由': 1152, '游泳': 1153, '屋子': 1154, '点儿': 1155, '预约': 1156, '影響': 1157, '那裡': 1158, '密': 1159, '意义': 1160, '不是故意': 1161, '出生': 1162, '多余': 1163, '東西': 1164, '不好': 1165, '母親': 1166, '觀光勝地': 1167, '他长': 1168, '里': 1169, '慢点': 1170, '已經': 1171, '帮': 1172, '年轻': 1173, '防晒霜': 1174, '有事': 1175, '好心': 1176, '我试': 1177, '唱': 1178, '離不開': 1179, '傻': 1180, '廳': 1181, '十點鐘': 1182, '不會': 1183, '开车': 1184, '受傷': 1185, '車齡': 1186, '毯子': 1187, '关掉': 1188, '刺': 1189, '不敢': 1190, '谎': 1191, '先下手为强': 1192, '謝謝': 1193, '了解': 1194, '樹': 1195, '健康': 1196, '家': 1197, '一班': 1198, '进': 1199, '尾声': 1200, '偶爾': 1201, '跟我来': 1202, '带给': 1203, '晚飯': 1204, '不是': 1205, '日元': 1206, '任何': 1207, '就是': 1208, '全身': 1209, '目前': 1210, '停住': 1211, '權力': 1212, '持久': 1213, '灵魂': 1214, '护士': 1215, '唱歌': 1216, '陽光': 1217, '做作业': 1218, '這是': 1219, '屋頂': 1220, '早就': 1221, '开心': 1222, '逆向行驶': 1223, '面包': 1224, '议会': 1225, '愛': 1226, '全都': 1227, '看看': 1228, '两年': 1229, '右': 1230, '理解': 1231, '能': 1232, '我剛': 1233, '一條': 1234, '扔回': 1235, '三百': 1236, '遠': 1237, '委员会': 1238, '确定': 1239, '目标': 1240, '味道': 1241, '那台': 1242, '28': 1243, '大型': 1244, '没干': 1245, '便宜': 1246, '起': 1247, '星期六': 1248, '喜歡': 1249, '進度': 1250, '進去': 1251, '湯姆並': 1252, '好比': 1253, '停手': 1254, '承諾': 1255, '印度': 1256, '達': 1257, '找到': 1258, '你講': 1259, '玩得': 1260, '听从': 1261, '應該': 1262, '不太好': 1263, '句句': 1264, '讲': 1265, '挾在': 1266, '迟到': 1267, '值得': 1268, '测试': 1269, '當天氣': 1270, '台': 1271, '似乎': 1272, '完全': 1273, '别用': 1274, '周二': 1275, '關燈': 1276, '置信': 1277, '很安靜': 1278, '董事': 1279, '今天': 1280, '大革命': 1281, '桶子': 1282, '傳染': 1283, '玩牌': 1284, '將要': 1285, '放在': 1286, '從': 1287, '认作': 1288, '當': 1289, '很熱': 1290, '喜欢': 1291, '哪个': 1292, '块': 1293, '忘記': 1294, '睁开眼睛': 1295, '名婦': 1296, '小聲': 1297, '植物': 1298, '頭有': 1299, '背上': 1300, '回来': 1301, '嘗試': 1302, '‘': 1303, '敲緊': 1304, '不快': 1305, '美': 1306, '牛奶': 1307, '剎車': 1308, '語關': 1309, '食物': 1310, '里学': 1311, '一个圈': 1312, '別': 1313, '即使': 1314, '但願': 1315, '吗': 1316, '幫上': 1317, '負責任': 1318, '雞肉': 1319, '自己': 1320, '菠菜': 1321, '圣诞节': 1322, '侦探': 1323, '一會兒': 1324, '年龄': 1325, '義': 1326, '猫': 1327, '反对': 1328, '一间': 1329, '由': 1330, '自由': 1331, '著': 1332, '打電話給': 1333, '雨': 1334, '失业': 1335, '足夠': 1336, '歌': 1337, '前男友': 1338, '大西洋': 1339, '微笑': 1340, '不合': 1341, '哪里': 1342, '我太忙': 1343, '进行': 1344, '高興': 1345, '卖': 1346, '這座': 1347, '机场': 1348, '委員會': 1349, '人質疑': 1350, '扔': 1351, '眼鏡': 1352, '广播': 1353, '無照': 1354, '樂': 1355, '行为': 1356, '大麻': 1357, '收到': 1358, '想当': 1359, '誇張': 1360, '醫院': 1361, '擦亮': 1362, '容易': 1363, '向': 1364, '公分': 1365, '婚照': 1366, '说服': 1367, '出國': 1368, '规则': 1369, '出': 1370, '一张': 1371, '受到': 1372, '其他': 1373, '地區': 1374, '沒人': 1375, '音樂家': 1376, '契約': 1377, '謀': 1378, '奇怪': 1379, '止住': 1380, '房間': 1381, '湯姆': 1382, '長': 1383, '英文歌曲': 1384, '服務生': 1385, '騎馬': 1386, '資源': 1387, '大利': 1388, '不吃': 1389, '自豪': 1390, '談論': 1391, '整體': 1392, '尋常': 1393, '游戏': 1394, '覺到': 1395, '声称': 1396, '起来': 1397, '選擇': 1398, '大早': 1399, '看电视': 1400, '胆小鬼': 1401, '出现': 1402, '英国': 1403, '太难': 1404, '雖然': 1405, '給我': 1406, '将': 1407, '六人': 1408, '他们': 1409, '味': 1410, '花園裡': 1411, '一件': 1412, '\\n': 1413, '不太高興': 1414, '疼痛': 1415, '矮小': 1416, '下來': 1417, '有益': 1418, '計數': 1419, '男人': 1420, '这份': 1421, '数学': 1422, '許多': 1423, '首歌': 1424, '第一排': 1425, '馬': 1426, '公共': 1427, '科学': 1428, '黑板': 1429, '看來': 1430, '做過': 1431, '的话': 1432, '小': 1433, '時': 1434, '幾點': 1435, '半小時': 1436, '更': 1437, '大多数': 1438, '我並': 1439, '係': 1440, 'Lindbergh': 1441, '這場': 1442, '你問': 1443, '糊塗': 1444, '到車': 1445, '敏感': 1446, '生日': 1447, '问题': 1448, '冒險': 1449, '一辈子': 1450, '所以': 1451, '兩': 1452, '戴眼镜': 1453, '见过': 1454, '雪停': 1455, '怎樣': 1456, '芝加哥': 1457, '溜冰': 1458, '法國': 1459, '火車': 1460, '才能': 1461, '葛林': 1462, '腿部': 1463, '对此': 1464, '每个': 1465, '寫信': 1466, '导致': 1467, '我家': 1468, '店': 1469, '抽': 1470, '六只': 1471, '兑水': 1472, '園': 1473, '这里': 1474, '想': 1475, '看': 1476, '維也納': 1477, '決定': 1478, '一下': 1479, '最差': 1480, '新兴': 1481, '蟋蟀': 1482, '預計': 1483, '筋': 1484, '火災': 1485, '會議': 1486, '鐘內': 1487, '打架': 1488, '婚礼': 1489, '或許': 1490, '大声': 1491, '撞': 1492, '去年': 1493, '经常': 1494, '讨厌': 1495, '歲': 1496, '能力': 1497, '有點': 1498, '议员': 1499, '寻找': 1500, '手表': 1501, '在外': 1502, '之父': 1503, '打扰到': 1504, '達時': 1505, '一場': 1506, '干净': 1507, '關門': 1508, '今晚': 1509, '认出': 1510, '其他人': 1511, '最终': 1512, '九點': 1513, '所能': 1514, '难过': 1515, '司机': 1516, '海龟': 1517, '清除': 1518, '一根': 1519, '实际上': 1520, '那家': 1521, '間': 1522, '长得': 1523, '帳篷花': 1524, '前天': 1525, '啦': 1526, '城市': 1527, '車程': 1528, '剑桥大学': 1529, '兄弟': 1530, '没见': 1531, '渔': 1532, '除法': 1533, '关键': 1534, '我會來': 1535, '8': 1536, '暴風雨': 1537, '赶不上': 1538, '蚊子': 1539, '了如指掌': 1540, '小路': 1541, '哭': 1542, '你們': 1543, '等到': 1544, '猴子': 1545, '多': 1546, '三个': 1547, '下来': 1548, '大約': 1549, '这要': 1550, '強加': 1551, '住在一起': 1552, '关上': 1553, '随着': 1554, '需要': 1555, '酒店': 1556, '”': 1557, '倒': 1558, '我會給': 1559, '毅力': 1560, '程度': 1561, '陌生': 1562, '粗心': 1563, '晚上': 1564, '科目': 1565, '嗅到': 1566, '脸颊': 1567, '當你': 1568, '成員': 1569, '慢': 1570, '不幸': 1571, '什么样': 1572, '天气': 1573, '消息': 1574, '糟糕': 1575, '书': 1576, '地球': 1577, '不必': 1578, '胖女人': 1579, '一邊': 1580, '澳洲': 1581, '发烧': 1582, '我要': 1583, '弹钢琴': 1584, 'Facebook': 1585, '愛慕': 1586, '學': 1587, '公园': 1588, '抱歉': 1589, '震惊': 1590, '腰部': 1591, '繼續': 1592, '您': 1593, '垃圾': 1594, '湯姆為': 1595, '流血': 1596, '法语': 1597, '瑪莉會': 1598, '一场': 1599, '他長': 1600, '斷': 1601, '熱水': 1602, '鐘到': 1603, '能够': 1604, '喊叫': 1605, '玩具': 1606, '很少': 1607, '风车': 1608, '怎么': 1609, '人们': 1610, '更改': 1611, '業': 1612, '没罪': 1613, '號碼': 1614, '终于': 1615, '吉他': 1616, '抱': 1617, '尽管': 1618, '必不可少': 1619, '確信': 1620, '每個': 1621, '船長': 1622, '清理': 1623, '怎么回事': 1624, '车是': 1625, '架子': 1626, '中音': 1627, '谈话': 1628, '答案': 1629, '購物': 1630, '不錯': 1631, '那麼': 1632, '姊妹': 1633, '玩什麼': 1634, '辦': 1635, '以': 1636, '一名': 1637, '工程': 1638, '力所能及': 1639, '它': 1640, '皮鞋': 1641, '花瓣': 1642, '孩子': 1643, '上班族': 1644, '纽约': 1645, '带走': 1646, '洗': 1647, '他現': 1648, '一台': 1649, '另': 1650, '作家': 1651, '追著貓': 1652, '建議': 1653, '不会': 1654, '同样': 1655, '他教': 1656, '彩虹': 1657, '态度': 1658, '求助': 1659, '價廉': 1660, '他': 1661, '我付': 1662, '作文': 1663, '认真': 1664, '老板': 1665, '钥匙': 1666, '一聲': 1667, '畢業': 1668, '与否': 1669, '这是': 1670, '測驗': 1671, '那狗': 1672, '碰面': 1673, '放学': 1674, '你現': 1675, '又': 1676, '也': 1677, '密友': 1678, '房屋': 1679, '苹果': 1680, '麵': 1681, '最後走': 1682, '干涉': 1683, '這件': 1684, '这些': 1685, '朋友': 1686, '图挂': 1687, '快來': 1688, '害怕': 1689, '记忆': 1690, '所': 1691, '誰': 1692, '成为': 1693, '租金': 1694, '还是': 1695, '体育场': 1696, '热情': 1697, '正常': 1698, '失望': 1699, '低聲': 1700, '功課': 1701, '有感': 1702, '最大': 1703, '電影': 1704, '空气质量': 1705, '只有': 1706, '抗拒': 1707, '伞': 1708, '褲子': 1709, '抽象': 1710, '了點': 1711, '試著': 1712, '女士': 1713, '這些': 1714, '镜子': 1715, '封信': 1716, '大霧': 1717, '语言': 1718, '人能': 1719, '召开': 1720, '郵票': 1721, '踩': 1722, '警告': 1723, '不見': 1724, '在校': 1725, '聲音': 1726, '師': 1727, '姐姐': 1728, '約': 1729, '喝茶': 1730, '动': 1731, '一支': 1732, '会议': 1733, '他来': 1734, '一半': 1735, '怎麼樣': 1736, '排球': 1737, '冰冷': 1738, '怎样': 1739, '感覺': 1740, '荷蘭語': 1741, '看見': 1742, '玫瑰': 1743, '祇': 1744, '有足夠': 1745, '拒绝': 1746, '最新款': 1747, '打电话': 1748, '找': 1749, '雪': 1750, '贫穷': 1751, '寄信': 1752, '医院': 1753, '开': 1754, '很久': 1755, '太太': 1756, '昰': 1757, '這信': 1758, '前面': 1759, '东京国际': 1760, '授之以': 1761, '不理': 1762, '一天天': 1763, '告诉': 1764, '礼物': 1765, '事要': 1766, '懦夫': 1767, '这罪': 1768, '爭論': 1769, '知法': 1770, '沙烏地': 1771, '许多次': 1772, '會': 1773, '乌云': 1774, '着想': 1775, '好人': 1776, '換成': 1777, '宝宝': 1778, '三個': 1779, '說話': 1780, '幸運': 1781, '帶': 1782, '那件': 1783, '紀念品': 1784, '要': 1785, '2': 1786, '一个月': 1787, '没什么': 1788, '鐘聲': 1789, '窝': 1790, '相机': 1791, '舞台': 1792, '一点': 1793, '读完': 1794, '演奏': 1795, '去过': 1796, '传真': 1797, '感觉': 1798, '燃燒': 1799, '根本': 1800, '有效': 1801, '朋友家': 1802, '不再': 1803, '計程車': 1804, '星期': 1805, '樹上': 1806, '椅子': 1807, '声音': 1808, '保持': 1809, '结束': 1810, '兩個': 1811, '醒': 1812, '船起': 1813, '撲': 1814, '太好了': 1815, '例外': 1816, '前去': 1817, '車撞': 1818, '电影': 1819, '走': 1820, '和蔼可亲': 1821, '避免': 1822, '頓': 1823, '這船': 1824, '已': 1825, '放风筝': 1826, '幫助': 1827, '烧伤': 1828, '脾气': 1829, '半開始': 1830, '以使': 1831, '新': 1832, '壞': 1833, '的湯': 1834, '人家': 1835, '在世界上': 1836, '卡車': 1837, '丟掉': 1838, '坏': 1839, '任务': 1840, '藝術': 1841, '时间': 1842, '搭': 1843, '那么': 1844, '吃午': 1845, '含有': 1846, '大寫': 1847, '长靴': 1848, '沒有': 1849, '達倫敦': 1850, '十間': 1851, '講話': 1852, '主意': 1853, '荷兰': 1854, '丢': 1855, '搅': 1856, '顏色': 1857, '该': 1858, '比作': 1859, '们': 1860, '正义': 1861, '弥补': 1862, '出来': 1863, '一双': 1864, '事真難': 1865, '东西': 1866, '啜': 1867, '小男孩': 1868, '澡': 1869, '海豚': 1870, '写文章': 1871, '上個': 1872, '邻村': 1873, '到': 1874, '遠遠': 1875, '送到': 1876, '体育运动': 1877, '四分之三': 1878, '正忙': 1879, '我': 1880, '這款': 1881, '一英里': 1882, '7': 1883, '嗯': 1884, '五分钟': 1885, '厕所': 1886, '气': 1887, '科學': 1888, '幾歲': 1889, '一个包': 1890, '一行': 1891, '无所畏惧': 1892, '笑': 1893, '把门': 1894, '付': 1895, '不能自已': 1896, '觉得': 1897, '我母': 1898, '举行': 1899, '晚饭': 1900, '市長': 1901, '涉谷': 1902, '流行': 1903, '池塘': 1904, '关于': 1905, '公園': 1906, '跟你走': 1907, '发生': 1908, '非常': 1909, '坐在': 1910, '忍不住': 1911, '走邊': 1912, '某種': 1913, ' ': 1914, '省油': 1915, '晴朗': 1916, '步行': 1917, '放下': 1918, '我寧願': 1919, '此行': 1920, '萬美圓': 1921, '建议': 1922, '发现': 1923, '東': 1924, '介紹給': 1925, '市中心': 1926, '中喪生': 1927, '偶爾打': 1928, '生產': 1929, '宝贵': 1930, '小说': 1931, '山': 1932, '存在': 1933, '票子': 1934, '上班': 1935, '笔在': 1936, '後': 1937, '信': 1938, '放进': 1939, '持续': 1940, '難學': 1941, '球迷': 1942, '經過': 1943, '远程': 1944, '確定': 1945, '一大': 1946, '只是': 1947, '閉的門': 1948, '大學學習': 1949, '我本': 1950, '人事': 1951, '跟別': 1952, '固定': 1953, '真帅': 1954, '提供': 1955, '刹车': 1956, '单词': 1957, '忍受': 1958, '区域': 1959, '批评': 1960, '停留': 1961, '查出': 1962, '我讀': 1963, '石油': 1964, '物美': 1965, '胡言乱语': 1966, '書名': 1967, '赴': 1968, '丟了': 1969, '依據': 1970, '秘密': 1971, '會待': 1972, '開始': 1973, '舉辦': 1974, '忘': 1975, '嗎': 1976, '内': 1977, '淹死': 1978, '這實驗': 1979, '困難': 1980, '製': 1981, '生病': 1982, '電話': 1983, '懂法': 1984, '父親': 1985, '電流': 1986, '不怕死': 1987, '只花': 1988, '好意': 1989, '七个': 1990, '实在': 1991, '我些': 1992, '沒去': 1993, '一次': 1994, '打': 1995, '讀美國': 1996, '现在': 1997, '假装': 1998, '感到': 1999, '湯姆能': 2000, '行李': 2001, '给': 2002, '上次': 2003, '经营': 2004, '電視': 2005, '甜食': 2006, '湯姆有': 2007, '大衣': 2008, '熟悉': 2009, '將來': 2010, '不應': 2011, '離': 2012, '抱怨': 2013, '一張': 2014, '夏天': 2015, '告訴': 2016, '一部分': 2017, '開出': 2018, '机会': 2019, '可是': 2020, '年齡': 2021, '呢': 2022, '担心': 2023, '雲越': 2024, '思想': 2025, '从来': 2026, '全力': 2027, '不安': 2028, '源自': 2029, '嫌西': 2030, '金钱万能': 2031, '合作': 2032, '男孩子': 2033, '努力': 2034, '拐角': 2035, '谴责': 2036, '相似': 2037, '抓住': 2038, '汽车': 2039, '渴望': 2040, '足球': 2041, '“': 2042, '護林人': 2043, '用心': 2044, '理论': 2045, '花园': 2046, '一': 2047, '用功': 2048, '睡觉': 2049, '她現': 2050, '這該': 2051, '强健': 2052, '些': 2053, '首诗': 2054, '空': 2055, '非常感谢': 2056, '還有': 2057, '拉上去': 2058, '京郊': 2059, '征兆': 2060, '白酒': 2061, '任教': 2062, '事故': 2063, '很慢': 2064, '完書': 2065, '1927': 2066, '情況': 2067, '當時': 2068, '坚持': 2069, '殺': 2070, '浇水': 2071, '得学': 2072, '最先': 2073, '月': 2074, '包': 2075, '見面': 2076, '頭骨': 2077, '發現': 2078, '解释': 2079, '什么': 2080, '脱口而出': 2081, '一把': 2082, '好鞋': 2083, '執照': 2084, '英語': 2085, '柱子': 2086, '一句': 2087, '一些': 2088, '第': 2089, '的車': 2090, '久': 2091, '名字': 2092, '?': 2093, '说谎': 2094, '許多種': 2095, '权利': 2096, '老式': 2097, '代理人': 2098, '四周': 2099, '搭到': 2100, '怎么样': 2101, '胡說': 2102, '慢下': 2103, '這份': 2104, '比賽': 2105, '一棟': 2106, '可能': 2107, '位好': 2108, '10': 2109, '遊戲': 2110, '回家': 2111, '瘧疾是': 2112, '床单': 2113, '老人': 2114, '农场': 2115, '不远': 2116, '考慮': 2117, '勝過': 2118, '隨時': 2119, '钢笔': 2120, '咱们': 2121, '吸太多煙': 2122, '本書': 2123, '提高': 2124, '祕': 2125, '车': 2126, '普通': 2127, '通常': 2128, '相處': 2129, '同年': 2130, '打扫': 2131, '呼吸': 2132, '課': 2133, '钱': 2134, '穿過': 2135, '很聰明': 2136, '紅色': 2137, '这儿': 2138, '容忍': 2139, '市长': 2140, '造成': 2141, '六點': 2142, '前': 2143, '180': 2144, '可以': 2145, '痛恨': 2146, '藥房': 2147, '深深地': 2148, '不太可能': 2149, '人口': 2150, '外套': 2151, '早會': 2152, '个': 2153, '吹口哨': 2154, '語': 2155, '懲罰': 2156, '\"': 2157, '女主角': 2158, '鞋子': 2159, '门口': 2160, '往后': 2161, '负伤': 2162, '优异': 2163, '不同': 2164, '一樣': 2165, '暴風': 2166, '鋼筆': 2167, '途径': 2168, '不久': 2169, '点': 2170, '躺': 2171, '富有': 2172, '於': 2173, '如果': 2174, '勇敢': 2175, '地': 2176, '第二十': 2177, '低': 2178, '懷孕': 2179, '风': 2180, '教堂': 2181, '辭職': 2182, '回來': 2183, '与': 2184, '熟稔': 2185, '几点': 2186, '汤': 2187, '远': 2188, '酸痛': 2189, '樓梯': 2190, '攻擊': 2191, '句子': 2192, '早上': 2193, '很快': 2194, '真': 2195, '尺寸': 2196, '粉末': 2197, '對面': 2198, '调查': 2199, '絲襪': 2200, '該': 2201, '巴黎': 2202, '几次': 2203, '法国': 2204, '香槟': 2205, '過愛湯姆': 2206, '一塊': 2207, '打扰': 2208, '外出': 2209, '每年': 2210, '米': 2211, '沏': 2212, '留在': 2213, '鼓': 2214, '麻煩': 2215, '忙': 2216, '组织': 2217, '停下': 2218, '變冷': 2219, '倚': 2220, 'tom': 2221, '導致': 2222, '到底': 2223, '三腳架': 2224, '甚麼': 2225, '昂貴': 2226, '好玩': 2227, '生下': 2228, '像': 2229, '弄': 2230, '語言': 2231, '字母': 2232, '百万富翁': 2233, '許他': 2234, '磅': 2235, '耐心': 2236, '沒給': 2237, '差': 2238, '校外': 2239, '辦法': 2240, '這麼': 2241, '進來': 2242, '系統': 2243, '两座': 2244, '接手': 2245, '架上': 2246, '樂團裡': 2247, '訂婚': 2248, '集郵': 2249, '我願意': 2250, '太坏': 2251, '這不': 2252, '優勢': 2253, '就要': 2254, '我媽媽': 2255, '信是': 2256, '裡滿': 2257, '看到': 2258, '帳號': 2259, '因為': 2260, '我聞': 2261, '阿姨': 2262, '進口': 2263, '不': 2264, '几时': 2265, '這輛': 2266, '捐獻': 2267, '介意': 2268, '命令': 2269, '圣经': 2270, '真的': 2271, '來切': 2272, '多烟': 2273, '下车': 2274, '將在': 2275, '奇迹': 2276, '做一套': 2277, '写写': 2278, '花': 2279, '安心': 2280, '抓紧': 2281, '动物': 2282, '谢谢': 2283, '等': 2284, '打算': 2285, '看过': 2286, '改變': 2287, '豐富': 2288, '中會': 2289, '襯衫': 2290, '土耳其': 2291, '語詞': 2292, '夾有': 2293, '將舉行': 2294, '腳踏車': 2295, '碗': 2296, 'Charles': 2297, '他會彈': 2298, '五加': 2299, '排成': 2300, '折纸': 2301, '公平': 2302, '不知所措': 2303, '太': 2304, '開': 2305, '感冒': 2306, '重要': 2307, '兩分鐘': 2308, '冷': 2309, '打网球': 2310, '驾驶执照': 2311, '将要': 2312, '們': 2313, '我错': 2314, '洗个': 2315, '無論': 2316, '膝': 2317, '这部': 2318, '演說': 2319, '記憶力': 2320, '但': 2321, '週末': 2322, '戴': 2323, '太熱': 2324, '這本': 2325, '有人': 2326, '累': 2327, '女兒': 2328, '之': 2329, '开张': 2330, '河水': 2331, '侍二主': 2332, '刀子': 2333, '啜泣': 2334, '七八': 2335, '輪胎': 2336, '没响': 2337, '做过': 2338, '迷': 2339, '摘下': 2340, '湯姆寫': 2341, '撒谎': 2342, '不出': 2343, '跳': 2344, '拍': 2345, '公事包': 2346, '謝爾頓': 2347, '輕': 2348, '红旗': 2349, '因为': 2350, '批准': 2351, '我们': 2352, '北海道': 2353, '吃饭时间': 2354, '心意': 2355, '大量': 2356, '胞胎': 2357, '復': 2358, '再试': 2359, '車借給': 2360, '加入': 2361, '時銷售': 2362, '侵袭': 2363, '小时': 2364, '錢': 2365, '却': 2366, '最': 2367, '不到': 2368, '致死': 2369, '每周': 2370, '打得': 2371, '读过': 2372, '脚': 2373, '地鐵站': 2374, '借給': 2375, '意見': 2376, '某个': 2377, '萬日圓': 2378, '圖書館': 2379, '十七': 2380, '哭泣': 2381, '小时候': 2382, '瓦斯': 2383, '等待': 2384, '半': 2385, '接受': 2386, '分鐘': 2387, '把馬車': 2388, '這沒什麼': 2389, '背后': 2390, '一眼': 2391, '说话': 2392, '插花': 2393, '出去': 2394, '谈论': 2395, '孤单': 2396, '沒能': 2397, '財產': 2398, '年紀': 2399, '无法': 2400, '猪': 2401, '否认': 2402, '上午': 2403, '最近': 2404, '午夜': 2405, '髮': 2406, '穿衣服': 2407, '錶': 2408, '影院': 2409, '隐藏': 2410, '既': 2411, '出現': 2412, '張結': 2413, '喂過': 2414, '或': 2415, '看過': 2416, '免': 2417, '裡種': 2418, '日': 2419, '而': 2420, '去': 2421, '有': 2422, '湯姆去': 2423, '摆脱': 2424, '離開': 2425, '调': 2426, '早晨': 2427, '還很年': 2428, '岁': 2429, '除了': 2430, '讀書': 2431, '留意': 2432, '临别': 2433, '自甘堕落': 2434, '见到': 2435, '有多远': 2436, '中国': 2437, '和平': 2438, '大小': 2439, '災難': 2440, '后': 2441, '有空': 2442, '中國': 2443, '湯姆說': 2444, '自身': 2445, '眼睛': 2446, '大海捞针': 2447, '爵士': 2448, '吃': 2449, '跟': 2450, '上衣': 2451, '星期天': 2452, '腳': 2453, '機場': 2454, '在家': 2455, '音乐家': 2456, '抽屉': 2457, '悲傷': 2458, '地超過': 2459, '神奇': 2460, '干脆': 2461, '没到': 2462, '倖免': 2463, '兴奋': 2464, '衬衫': 2465, '无聊': 2466, '母亲': 2467, '完': 2468, '飢色': 2469, '直到': 2470, '簽訂': 2471, '玩笑': 2472, '瑪麗日語': 2473, '區': 2474, '住口': 2475, '王子': 2476, '市场': 2477, '總': 2478, '怎麼': 2479, 'CD': 2480, '网球': 2481, '走開': 2482, '并': 2483, '確認': 2484, '动物园': 2485, '下毒': 2486, '手枪': 2487, '發牌給': 2488, '幫': 2489, '阿拉伯': 2490, '差不多': 2491, '布满': 2492, '留给': 2493, '山頂': 2494, '电视机': 2495, '依靠': 2496, '自行车': 2497, '經常上': 2498, '学了': 2499, '一磅': 2500, '大樹': 2501, '愛嗎': 2502, '自蘇格蘭': 2503, '放風箏': 2504, '雨傘': 2505, '別人付': 2506, '收音机': 2507, '错过': 2508, '墨粉': 2509, '划船': 2510, '食': 2511, '常常': 2512, '隨便': 2513, '听过': 2514, '鐵質': 2515, '女子': 2516, '胆固醇': 2517, '葡萄酒': 2518, '單上': 2519, '觸犯': 2520, '视力': 2521, '这太': 2522, '交通事故': 2523, '英詩': 2524, '拥有': 2525, '多大': 2526, '小孩子': 2527, '策略': 2528, '尽全力': 2529, '經去過': 2530, '太老': 2531, '早': 2532, '遭殃': 2533, '早起': 2534, '收集': 2535, '25': 2536, '鉛筆': 2537, '是不是': 2538, '信譽': 2539, '模糊': 2540, '钟': 2541, '不要': 2542, '眼是': 2543, '武器': 2544, '什麼': 2545, '明天': 2546, '挾著': 2547, '幼稚': 2548, '太棒了': 2549, '加': 2550, '地方': 2551, '移開': 2552, '面帶': 2553, '這筆': 2554, '裡的': 2555, '看见': 2556, '一定': 2557, '承擔': 2558, '想念': 2559, '领会': 2560, '吓': 2561, '頁': 2562, '读': 2563, '主張': 2564, '睡覺': 2565, '惊讶': 2566, '1888': 2567, '会为': 2568, '防水': 2569, '住': 2570, '角度': 2571, '啤酒': 2572, '頂': 2573, '認識': 2574, '蕃茄': 2575, '30': 2576, '处': 2577, '言': 2578, '十年': 2579, '共同点': 2580, '開心': 2581, '使': 2582, '三年': 2583, '再': 2584, '粗心大意': 2585, '向左转': 2586, '古典': 2587, '封': 2588, '成功': 2589, '早点': 2590, '看小說': 2591, '？': 2592, '不错': 2593, '神戶': 2594, '材料': 2595, '批薩': 2596, '車站': 2597, '報紙': 2598, '沮喪': 2599, '安全': 2600, '飯': 2601, '手里': 2602, '买': 2603, '疲力': 2604, '寫': 2605, '放學': 2606, '伦敦': 2607, '盗窃': 2608, '当选': 2609, 'Tom': 2610, '烤牛肉': 2611, '：': 2612, '星期一': 2613, '要求': 2614, '負起': 2615, '再次': 2616, '确实': 2617, '吧': 2618, '越長': 2619, '谈': 2620, '滴雨': 2621, '别': 2622, '皮膚': 2623, '舌头': 2624, '我來': 2625, '照相': 2626, '辛苦': 2627, '塗': 2628, '夫人': 2629, '打招呼': 2630, '，': 2631, '錢給': 2632, '慢慢': 2633, '啊': 2634, '收养': 2635, '一位': 2636, '這地區': 2637, '让': 2638, '溜': 2639, '熟': 2640, '要说': 2641, '喝太多': 2642, '草地': 2643, '冷气': 2644, '問題': 2645, '被動': 2646, '對': 2647, '锁门': 2648, '卡': 2649, '雜誌': 2650, '出乎意料': 2651, '橋有': 2652, '香蕉': 2653, '音樂': 2654, '請照': 2655, '满': 2656, '做': 2657, '不算': 2658, '黑暗': 2659, '头上': 2660, '信封': 2661, '英里': 2662, '清楚': 2663, '收費': 2664, '北京': 2665, '很大': 2666, '亲戚朋友': 2667, '每天': 2668, '程序': 2669, '網球': 2670, '游得': 2671, '下樓': 2672, '視喬叟': 2673, '最后': 2674, '出示': 2675, '蘋果': 2676, '立刻': 2677, '搖滾樂': 2678, '保持警惕': 2679, '日本料理': 2680, '聽見': 2681, '石头': 2682, '做得好': 2683, '逗乐': 2684, '财宝': 2685, '差點': 2686, '還沒有': 2687, '兩首安': 2688, '成日語': 2689, '兇手': 2690, '單獨': 2691, '收下': 2692, '車禍': 2693, '第一班': 2694, '一步': 2695, '碎玻璃': 2696, '更好': 2697, '好事': 2698, '火': 2699, '比赛': 2700, '坐下': 2701, '爆炸': 2702, '我覺': 2703, '對方': 2704, '对': 2705, '考试': 2706, '必须': 2707, '埋着': 2708, '東西舉': 2709, '装病': 2710, '較': 2711, '鬼魂': 2712, '麻烦': 2713, '许多': 2714, '三點': 2715, '抽签': 2716, '画': 2717, '了車': 2718, '从': 2719, '母语': 2720, '455': 2721, '旁': 2722, '小孩': 2723, '儿子': 2724, '申请人': 2725, '风从': 2726, '愿意': 2727, '联系': 2728, '别忘了': 2729, '你好': 2730, '按': 2731, '下': 2732, '那事': 2733, '大事': 2734, '公立': 2735, '新郵票將': 2736, '波士': 2737, '下手': 2738, '脚痛': 2739, '盒子': 2740, '鄰居': 2741, '點事': 2742, '請安靜': 2743, '商业中心': 2744, '哪裡': 2745, '好奇': 2746, '噪音': 2747, '昨晚': 2748, '我的筆': 2749, '\\u200b': 2750, '瘋': 2751, '為': 2752, '開發': 2753, '旅行': 2754, '离婚': 2755, '斯威特': 2756, '状况不佳': 2757, '年': 2758, '書': 2759, '干吗': 2760, '但事': 2761, '行動': 2762, '他並': 2763, '区别': 2764, '興趣': 2765, '活着': 2766, '五月花': 2767, '哄堂大笑': 2768, '自我': 2769, '曾': 2770, '相': 2771, '上帝': 2772, '大雨': 2773, '打擾': 2774, '可读': 2775, '鬆': 2776, '情緒化': 2777, '告终': 2778, '路上': 2779, '這手': 2780, '窗戶': 2781, '法語': 2782, '英文': 2783, '见': 2784, '是': 2785, '拉丁文': 2786, '讀過': 2787, '送給': 2788, '我終': 2789, '做作': 2790, '有点': 2791, '谷歌': 2792, '那家伙': 2793, '两天': 2794, '怕死': 2795, '經死': 2796, '骑': 2797, '偉大': 2798, '他彈': 2799, '將近': 2800, '早到': 2801, '很': 2802, '半小时': 2803, '有个': 2804, '迷惑': 2805, '瑪麗': 2806, '开玩笑': 2807, '將離開': 2808, '帮助': 2809, '難': 2810, '上海': 2811, '睁开': 2812, '住址': 2813, '野生': 2814, '亂': 2815, '合适': 2816, '甜': 2817, '沒有防': 2818, '提提': 2819, '搞错': 2820, '写': 2821, '紧急情况': 2822, '臭': 2823, '喝啤酒': 2824, '众人': 2825, '病人': 2826, '太大': 2827, '王位': 2828, '嚴重': 2829, '五點': 2830, '增加': 2831, '上空': 2832, '常來': 2833, '大家庭': 2834, '看起来': 2835, '收入': 2836, '威廉': 2837, '消防员': 2838, '湯姆會': 2839, '飛越': 2840, '责备': 2841, '一排': 2842, '鳥類': 2843, '对不起': 2844, '見': 2845, '考虑': 2846, '蛋糕': 2847, '这种': 2848, '大不了': 2849, '穿著': 2850, '拍照': 2851, '賣': 2852, '感动': 2853, '睡着': 2854, '用': 2855, '旁边': 2856, '或许': 2857, '那件事': 2858, '上待': 2859, '鏡子': 2860, '胃痛': 2861, '無知': 2862, '我起': 2863, '回': 2864, '吝啬': 2865, '放': 2866, '胸上': 2867, '认识': 2868, '隻': 2869, '听到': 2870, '推移': 2871, '试试': 2872, '根據': 2873, '鐘': 2874, '燒毀': 2875, '3': 2876, '狗': 2877, '謊': 2878, '學生': 2879, '独自': 2880, '進行': 2881, '认为': 2882, '大家': 2883, '哪本書': 2884, '實上': 2885, '这家': 2886, '工作': 2887, '跌': 2888, '漆': 2889, '學遲': 2890, '這次': 2891, '餓': 2892, '暴风雨': 2893, '翻譯': 2894, '嘴巴': 2895, '快要': 2896, '玩': 2897, '顺便': 2898, '小心': 2899, '一个': 2900, '如何': 2901, '一響': 2902, '想见': 2903, '球': 2904, '仇恨': 2905, '我读': 2906, '投给': 2907, '聚會': 2908, '懂': 2909, '下個': 2910, '死': 2911, '請給': 2912, '鋼': 2913, '好像': 2914, '爬行动物': 2915, '音乐会': 2916, '不用': 2917, '汽車': 2918, '几年': 2919, '每一個': 2920, '是給': 2921, '银行': 2922, '迷路': 2923, '倫敦起': 2924, '的頭': 2925, '儘': 2926, '当': 2927, '经理': 2928, '以英語': 2929, '父亲': 2930, '成绩': 2931, '家庭': 2932, '掉': 2933, '累死': 2934, '河對岸': 2935, '湖上': 2936, '我無法': 2937, '各種': 2938, '故意': 2939, '中餐': 2940, '带': 2941, '生气': 2942, '归功于': 2943, '再也': 2944, '週前': 2945, '机翻': 2946, '显得': 2947, '稀薄': 2948, '.': 2949, '原因': 2950, '保護': 2951, '中午': 2952, '一夜': 2953, '学': 2954, '指示': 2955, '参与者': 2956, '不能': 2957, '阅读': 2958, '很棒': 2959, '錯誤': 2960, '哺乳': 2961, '給': 2962, '假': 2963, '事件': 2964, '洞': 2965, '哥哥': 2966, '屬': 2967, '殺人': 2968, '處理': 2969, '緊': 2970, '意圖': 2971, '蔬菜': 2972, '工廠': 2973, '貼著': 2974, '去電': 2975, '任何人': 2976, '跑步': 2977, '意外': 2978, '還沒來': 2979, '漢字': 2980, '鞋': 2981, '講三種': 2982, '發燒': 2983, '陈述': 2984, '好运': 2985, '有钱': 2986, '的': 2987, '一站': 2988, '以为': 2989, '每': 2990, '刀': 2991, '还有': 2992, '老师': 2993, '羞恥': 2994, '構建': 2995, '装作': 2996, '市政府': 2997, '吃饭': 2998, '再见': 2999, '危险': 3000, '手腕': 3001, '估计': 3002, '修好': 3003, '表達': 3004, '太过': 3005, '医生': 3006, '休息': 3007, '我會': 3008, '出发': 3009, '在': 3010, '来': 3011, '送': 3012, '有個': 3013, '仍然': 3014, '之中': 3015, '野餐': 3016, '开学': 3017, '會不會': 3018, '開車': 3019, '打开': 3020, '光線': 3021, '邻居们': 3022, '查找': 3023, '學期': 3024, '喝醉': 3025, '度假': 3026, '正確': 3027, '大部分': 3028, '接': 3029, '駕駛': 3030, '愉快': 3031, '哪本': 3032, '三分': 3033, '胜利': 3034, '打電話': 3035, '必須': 3036, '那样': 3037, '讀': 3038, '这么': 3039, '不會花': 3040, '正': 3041, '以至于': 3042, '学期': 3043, '水果': 3044, '亲': 3045, '一封信': 3046, '橙子': 3047, '冻死': 3048, '20': 3049, '录像机': 3050, '強壯': 3051, '阅兵式': 3052, '裹起': 3053, '送给': 3054, '弟弟': 3055, '电话簿': 3056, '波士顿': 3057, '所有人': 3058, '果': 3059, '並非': 3060, '高兴': 3061, '每次': 3062, '书桌上': 3063, '做到': 3064, '笔': 3065, '季节': 3066, '漲': 3067, '黑': 3068, '職員': 3069, '十分': 3070, '漂亮': 3071, '我問': 3072, '病': 3073, '白': 3074, '被': 3075, '視線': 3076, '成名': 3077, '損壞': 3078, '女': 3079, '计划': 3080, '取决于': 3081, '真相': 3082, '他面': 3083, '意大利': 3084, '獨自飛': 3085, '墙上': 3086, '身高': 3087, '唔': 3088, '樓裡': 3089, '两点': 3090, '公斤': 3091, '一個': 3092, '知道': 3093, '想一想': 3094, '生命': 3095, '答应': 3096, '洋裝': 3097, '倫敦': 3098, '我試': 3099, '绝不会': 3100, '不來': 3101, '举止': 3102, '小偷': 3103, '年长': 3104, '髒': 3105, '現在': 3106, '裁開': 3107, '他關': 3108, '森林': 3109, '认字': 3110, '舊': 3111, '剩下': 3112, '才': 3113, '挑': 3114, '懒': 3115, '差勁': 3116, '研讀': 3117, '身体': 3118, '做好': 3119, '乘客': 3120, '麼': 3121, '丈夫': 3122, '少': 3123, '我花': 3124, '請': 3125, '家里': 3126, '吃過': 3127, '叫': 3128, '進步': 3129, '遲到': 3130, '輪流': 3131, '身上': 3132, '澳大利亚': 3133, '海滨': 3134, '好久不见': 3135, '可用': 3136, '俱樂部': 3137, '發生': 3138, '教室': 3139, '一窍不通': 3140, '哪': 3141, '車子': 3142, '每隔': 3143, '顧客': 3144, '幸福': 3145, '一整天': 3146, '菜': 3147, '面': 3148, '前離開': 3149, '梯子': 3150, '果树': 3151, '太多': 3152, '爸爸': 3153, '解决': 3154, '英语': 3155, '還沒': 3156, '时': 3157, '留給': 3158, '零錢': 3159, '第二': 3160, '整個': 3161, '圍巾': 3162, '道德': 3163, '国际': 3164, '学习': 3165, '可曲': 3166, '結束': 3167, '活動': 3168, '那天': 3169, '評分': 3170, '累壞': 3171, '唯一': 3172, '全責': 3173, '湯姆平時': 3174, '医师': 3175, '袭击': 3176, '问问': 3177, '道歉': 3178, '露營': 3179, '由于': 3180, '干': 3181, '咖啡店': 3182, '學習': 3183, '朵': 3184, '堂上': 3185, '共': 3186, '沒時間': 3187, '真正': 3188}\n"
     ]
    }
   ],
   "source": [
    "input_token_index = dict(\n",
    "    [(token, i) for i, token in enumerate(input_tokens)])\n",
    "target_token_index = dict(\n",
    "    [(token, i) for i, token in enumerate(target_tokens)])\n",
    "\n",
    "print(\"\\ninput index:\")\n",
    "print(input_token_index)\n",
    "\n",
    "print(\"\\ntarget index:\")\n",
    "print(target_token_index)"
   ]
  },
  {
   "cell_type": "code",
   "execution_count": 3,
   "id": "b17437cf",
   "metadata": {},
   "outputs": [
    {
     "name": "stdout",
     "output_type": "stream",
     "text": [
      "\n",
      "encoder shape:\n",
      "(2000, 19, 2162)\n",
      "\n",
      "decoder input shape:\n",
      "(2000, 24, 3189)\n",
      "\n",
      "decoder target shape:\n",
      "(2000, 24, 3189)\n",
      "\n",
      "encoder data:\n",
      "[[[0. 0. 0. ... 0. 0. 0.]\n",
      "  [0. 0. 0. ... 0. 0. 0.]\n",
      "  [0. 0. 0. ... 0. 0. 0.]\n",
      "  ...\n",
      "  [0. 0. 0. ... 0. 0. 0.]\n",
      "  [0. 0. 0. ... 0. 0. 0.]\n",
      "  [0. 0. 0. ... 0. 0. 0.]]\n",
      "\n",
      " [[0. 0. 0. ... 0. 0. 0.]\n",
      "  [0. 0. 0. ... 0. 0. 0.]\n",
      "  [0. 0. 0. ... 0. 0. 0.]\n",
      "  ...\n",
      "  [0. 0. 0. ... 0. 0. 0.]\n",
      "  [0. 0. 0. ... 0. 0. 0.]\n",
      "  [0. 0. 0. ... 0. 0. 0.]]]\n",
      "\n",
      "decoder input data:\n",
      "[[[0. 0. 0. ... 0. 0. 0.]\n",
      "  [0. 0. 0. ... 0. 0. 0.]\n",
      "  [0. 0. 0. ... 0. 0. 0.]\n",
      "  ...\n",
      "  [0. 0. 0. ... 0. 0. 0.]\n",
      "  [0. 0. 0. ... 0. 0. 0.]\n",
      "  [0. 0. 0. ... 0. 0. 0.]]\n",
      "\n",
      " [[0. 0. 0. ... 0. 0. 0.]\n",
      "  [0. 0. 0. ... 0. 0. 0.]\n",
      "  [0. 0. 0. ... 0. 0. 0.]\n",
      "  ...\n",
      "  [0. 0. 0. ... 0. 0. 0.]\n",
      "  [0. 0. 0. ... 0. 0. 0.]\n",
      "  [0. 0. 0. ... 0. 0. 0.]]]\n",
      "\n",
      "decoder target data:\n",
      "[[[0. 0. 0. ... 0. 0. 0.]\n",
      "  [0. 0. 0. ... 0. 0. 0.]\n",
      "  [0. 0. 0. ... 0. 0. 0.]\n",
      "  ...\n",
      "  [0. 0. 0. ... 0. 0. 0.]\n",
      "  [0. 0. 0. ... 0. 0. 0.]\n",
      "  [0. 0. 0. ... 0. 0. 0.]]\n",
      "\n",
      " [[0. 0. 0. ... 0. 0. 0.]\n",
      "  [0. 0. 0. ... 0. 0. 0.]\n",
      "  [0. 0. 0. ... 0. 0. 0.]\n",
      "  ...\n",
      "  [0. 0. 0. ... 0. 0. 0.]\n",
      "  [0. 0. 0. ... 0. 0. 0.]\n",
      "  [0. 0. 0. ... 0. 0. 0.]]]\n"
     ]
    }
   ],
   "source": [
    "encoder_input_data = np.zeros(\n",
    "    (len(input_texts), max_encoder_seq_length, num_encoder_tokens),\n",
    "    dtype='float32')\n",
    "decoder_input_data = np.zeros(\n",
    "    (len(input_texts), max_decoder_seq_length, num_decoder_tokens),\n",
    "    dtype='float32')\n",
    "decoder_target_data = np.zeros(\n",
    "    (len(input_texts), max_decoder_seq_length, num_decoder_tokens),\n",
    "    dtype='float32')\n",
    "\n",
    "for i, (input_text, target_text) in enumerate(zip(input_texts, target_texts)):\n",
    "    for t, token in enumerate(input_text):\n",
    "        encoder_input_data[i, t, input_token_index[token]] = 1.\n",
    "    for t, token in enumerate(target_text):\n",
    "        # decoder_target_data is ahead of decoder_input_data by one timestep\n",
    "        decoder_input_data[i, t, target_token_index[token]] = 1.\n",
    "        if t > 0:\n",
    "            # decoder_target_data will be ahead by one timestep\n",
    "            # and will not include the start character.\n",
    "            decoder_target_data[i, t - 1, target_token_index[token]] = 1.\n",
    "\n",
    "print(\"\\nencoder shape:\")\n",
    "print(encoder_input_data.shape)\n",
    "print(\"\\ndecoder input shape:\")\n",
    "print(decoder_input_data.shape)\n",
    "print(\"\\ndecoder target shape:\")\n",
    "print(decoder_target_data.shape)\n",
    "            \n",
    "print(\"\\nencoder data:\")\n",
    "print(encoder_input_data[-2:])\n",
    "print(\"\\ndecoder input data:\")\n",
    "print(decoder_input_data[-2:])\n",
    "print(\"\\ndecoder target data:\")\n",
    "print(decoder_target_data[-2:])"
   ]
  },
  {
   "cell_type": "code",
   "execution_count": 4,
   "id": "4a1b2d96",
   "metadata": {},
   "outputs": [
    {
     "name": "stderr",
     "output_type": "stream",
     "text": [
      "2025-06-12 11:22:06.008337: I tensorflow/compiler/jit/xla_cpu_device.cc:41] Not creating XLA devices, tf_xla_enable_xla_devices not set\n",
      "2025-06-12 11:22:06.033294: W tensorflow/stream_executor/platform/default/dso_loader.cc:60] Could not load dynamic library 'libcuda.so.1'; dlerror: libcuda.so.1: cannot open shared object file: No such file or directory\n",
      "2025-06-12 11:22:06.035364: W tensorflow/stream_executor/cuda/cuda_driver.cc:326] failed call to cuInit: UNKNOWN ERROR (303)\n",
      "2025-06-12 11:22:06.039021: I tensorflow/stream_executor/cuda/cuda_diagnostics.cc:156] kernel driver does not appear to be running on this host (eb4c86b6f34a): /proc/driver/nvidia/version does not exist\n",
      "2025-06-12 11:22:06.064500: I tensorflow/core/platform/cpu_feature_guard.cc:142] This TensorFlow binary is optimized with oneAPI Deep Neural Network Library (oneDNN) to use the following CPU instructions in performance-critical operations:  AVX2 FMA\n",
      "To enable them in other operations, rebuild TensorFlow with the appropriate compiler flags.\n",
      "2025-06-12 11:22:06.080587: I tensorflow/compiler/jit/xla_gpu_device.cc:99] Not creating XLA devices, tf_xla_enable_xla_devices not set\n"
     ]
    },
    {
     "name": "stdout",
     "output_type": "stream",
     "text": [
      "(None, 128)\n",
      "(None, 128)\n",
      "[<KerasTensor: shape=(None, 128) dtype=float32 (created by layer 'encoder')>, <KerasTensor: shape=(None, 128) dtype=float32 (created by layer 'encoder')>]\n",
      "(None, None, 128)\n"
     ]
    }
   ],
   "source": [
    "class Encoder(Model):\n",
    "    def __init__(self, vocab_size, latent_dim, batch_sz):\n",
    "        super(Encoder, self).__init__()\n",
    "        self.batch_sz = batch_sz\n",
    "        self.latent_dim = latent_dim\n",
    "        self.lstm = LSTM(self.latent_dim,\n",
    "                        return_sequences=True,\n",
    "                        return_state=True,\n",
    "                        recurrent_initializer='glorot_uniform')\n",
    "\n",
    "    def call(self, x):\n",
    "        output, state_h, state_c = self.lstm(x)\n",
    "        return output, state_h, state_c\n",
    "\n",
    "\n",
    "encoder_inputs = Input(shape=(None, num_encoder_tokens))\n",
    "encoder = Encoder(num_encoder_tokens, latent_dim, batch_size)\n",
    "encoder_outputs, state_h, state_c = encoder(encoder_inputs)\n",
    "encoder_states = [state_h, state_c]\n",
    "\n",
    "print(state_h.shape)\n",
    "print(state_c.shape)\n",
    "print(encoder_states)\n",
    "print(encoder_outputs.shape)"
   ]
  },
  {
   "cell_type": "code",
   "execution_count": 12,
   "id": "dc194d99",
   "metadata": {},
   "outputs": [
    {
     "name": "stdout",
     "output_type": "stream",
     "text": [
      "KerasTensor(type_spec=TensorSpec(shape=(None, None, 3189), dtype=tf.float32, name=None), name='decoder_2/dense_2/BiasAdd:0', description=\"created by layer 'decoder_2'\")\n"
     ]
    }
   ],
   "source": [
    "class Decoder(Model):\n",
    "    def __init__(self, vocab_size, latent_dim, batch_sz):\n",
    "        super(Decoder, self).__init__()\n",
    "        self.batch_sz = batch_sz\n",
    "        self.latent_dim = latent_dim\n",
    "        self.lstm = LSTM(latent_dim,\n",
    "                        return_sequences=True,\n",
    "                        return_state=True,\n",
    "                        recurrent_initializer='glorot_uniform')\n",
    "        self.fc = Dense(vocab_size)\n",
    "\n",
    "    def call(self, x, hidden):\n",
    "        # context_vector, attention_weights = self.attention(hidden, enc_output)\n",
    "        # x = tf.concat([tf.expand_dims(context_vector, 1), x], axis=-1)\n",
    "        output, state_h, state_c = self.lstm(x, initial_state=hidden)\n",
    "        # output = tf.reshape(output, (-1, output.shape[2]))\n",
    "        y = self.fc(output)\n",
    "\n",
    "        return y, state_h, state_c \n",
    "\n",
    "\n",
    "decoder_inputs = Input(shape=(None, num_decoder_tokens))\n",
    "# We set up our decoder to return full output sequences,\n",
    "# and to return internal states as well. We don't use the\n",
    "# return states in the training model, but we will use them in inference.\n",
    "decoder = Decoder(num_decoder_tokens, latent_dim, batch_size)\n",
    "decoder_outputs, _, _ = decoder(decoder_inputs, hidden=encoder_states)\n",
    "\n",
    "print(decoder_outputs)"
   ]
  },
  {
   "cell_type": "code",
   "execution_count": 13,
   "id": "c57d6ca5",
   "metadata": {},
   "outputs": [
    {
     "name": "stdout",
     "output_type": "stream",
     "text": [
      "Model: \"model_2\"\n",
      "__________________________________________________________________________________________________\n",
      "Layer (type)                    Output Shape         Param #     Connected to                     \n",
      "==================================================================================================\n",
      "input_1 (InputLayer)            [(None, None, 2162)] 0                                            \n",
      "__________________________________________________________________________________________________\n",
      "input_4 (InputLayer)            [(None, None, 3189)] 0                                            \n",
      "__________________________________________________________________________________________________\n",
      "encoder (Encoder)               ((None, None, 128),  1172992     input_1[0][0]                    \n",
      "__________________________________________________________________________________________________\n",
      "decoder_2 (Decoder)             ((None, None, 3189), 2110197     input_4[0][0]                    \n",
      "                                                                 encoder[0][1]                    \n",
      "                                                                 encoder[0][2]                    \n",
      "==================================================================================================\n",
      "Total params: 3,283,189\n",
      "Trainable params: 3,283,189\n",
      "Non-trainable params: 0\n",
      "__________________________________________________________________________________________________\n"
     ]
    }
   ],
   "source": [
    "model = Model([encoder_inputs, decoder_inputs], decoder_outputs)\n",
    "\n",
    "model.compile(optimizer='rmsprop', loss='categorical_crossentropy')\n",
    "model.summary()"
   ]
  },
  {
   "cell_type": "code",
   "execution_count": 14,
   "id": "74f6cc9a",
   "metadata": {},
   "outputs": [
    {
     "name": "stdout",
     "output_type": "stream",
     "text": [
      "Epoch 1/15\n",
      "100/100 [==============================] - 91s 807ms/step - loss: 3.3562 - val_loss: 3.1327\n",
      "Epoch 2/15\n",
      "100/100 [==============================] - 106s 1s/step - loss: 3.5979 - val_loss: 3.6821\n",
      "Epoch 3/15\n",
      "100/100 [==============================] - 58s 557ms/step - loss: 3.6269 - val_loss: 3.7599\n",
      "Epoch 4/15\n",
      "100/100 [==============================] - 49s 495ms/step - loss: 3.5727 - val_loss: 2.9630\n",
      "Epoch 5/15\n",
      "100/100 [==============================] - 27s 268ms/step - loss: 3.4254 - val_loss: 3.6227\n",
      "Epoch 6/15\n",
      "100/100 [==============================] - 28s 276ms/step - loss: 3.3534 - val_loss: 3.7910\n",
      "Epoch 7/15\n",
      "100/100 [==============================] - 26s 263ms/step - loss: 3.3272 - val_loss: 3.2324\n",
      "Epoch 8/15\n",
      "100/100 [==============================] - 45s 452ms/step - loss: 3.2567 - val_loss: 3.1741\n",
      "Epoch 9/15\n",
      "100/100 [==============================] - 44s 442ms/step - loss: 3.4258 - val_loss: 2.8289\n",
      "Epoch 10/15\n",
      "100/100 [==============================] - 55s 543ms/step - loss: 3.4510 - val_loss: 3.8002\n",
      "Epoch 11/15\n",
      "100/100 [==============================] - 48s 485ms/step - loss: 3.5751 - val_loss: 3.5968\n",
      "Epoch 12/15\n",
      "100/100 [==============================] - 142s 1s/step - loss: 3.3315 - val_loss: 3.7386\n",
      "Epoch 13/15\n",
      "100/100 [==============================] - 28s 285ms/step - loss: 3.3962 - val_loss: 3.6024\n",
      "Epoch 14/15\n",
      "100/100 [==============================] - 27s 275ms/step - loss: 3.4690 - val_loss: 3.4969\n",
      "Epoch 15/15\n",
      "100/100 [==============================] - 26s 259ms/step - loss: 3.5638 - val_loss: 3.4826\n"
     ]
    },
    {
     "data": {
      "text/plain": [
       "<tensorflow.python.keras.callbacks.History at 0x7f0a8f1f2450>"
      ]
     },
     "execution_count": 14,
     "metadata": {},
     "output_type": "execute_result"
    }
   ],
   "source": [
    "model.fit([encoder_input_data, decoder_input_data], decoder_target_data,\n",
    "        batch_size=batch_size,\n",
    "        epochs=15,\n",
    "        validation_split=0.2)"
   ]
  },
  {
   "cell_type": "code",
   "execution_count": 15,
   "id": "6221f362",
   "metadata": {},
   "outputs": [],
   "source": [
    "# Reverse-lookup token index to decode sequences back to\n",
    "# something readable.\n",
    "reverse_input_char_index = dict(\n",
    "    (i, char) for char, i in input_token_index.items())\n",
    "reverse_target_char_index = dict(\n",
    "    (i, char) for char, i in target_token_index.items())"
   ]
  },
  {
   "cell_type": "code",
   "execution_count": 16,
   "id": "7166850e",
   "metadata": {},
   "outputs": [],
   "source": [
    "encoder_model = Model(encoder_inputs, encoder_states)\n",
    "\n",
    "decoder_state_input_h = Input(shape=(latent_dim,))\n",
    "decoder_state_input_c = Input(shape=(latent_dim,))\n",
    "decoder_states_inputs = [decoder_state_input_h, decoder_state_input_c]\n",
    "decoder_outputs, state_h, state_c = decoder(\n",
    "    decoder_inputs, hidden=decoder_states_inputs)\n",
    "decoder_states = [state_h, state_c]\n",
    "decoder_model = Model(\n",
    "    [decoder_inputs] + decoder_states_inputs,\n",
    "    [decoder_outputs] + decoder_states)"
   ]
  },
  {
   "cell_type": "code",
   "execution_count": 22,
   "id": "9dc7351e",
   "metadata": {},
   "outputs": [
    {
     "name": "stdout",
     "output_type": "stream",
     "text": [
      "-\n",
      "Input sentence: ['a', 'string', 'of', 'disasters', 'struck', 'the', 'region']\n",
      "Decoded sentence: 了了了了了了了了了了了了了了了了了了了了了了了了了\n",
      "-\n",
      "Input sentence: ['people', 'are', 'counting', 'on', 'us']\n",
      "Decoded sentence: 我。。。。。。。。。。。。。。。。。。。。。。。。\n",
      "-\n",
      "Input sentence: ['a', 'person', 'views', 'things', 'differently', 'according', 'to', 'whether', 'they', 'are', 'rich', 'or', 'poor']\n",
      "Decoded sentence: 了了了了了了了了了了了了了了了了了了了了了了了了了\n",
      "-\n",
      "Input sentence: ['i', 'had', 'no', 'choice', 'but', 'to', 'stay', 'in', 'bed', 'all', 'day']\n",
      "Decoded sentence: 我。。。。。。。。。。。。。。。。。。。。。。。。\n",
      "-\n",
      "Input sentence: ['thank', 'you', 'all', 'the', 'same']\n",
      "Decoded sentence: 他了了了了了了了了了了了了了了了了了了了了了了了了\n",
      "-\n",
      "Input sentence: ['i', \"don't\", 'remember', 'mailing', 'the', 'letter']\n",
      "Decoded sentence: 我。。。。。。。。。。。。。。。。。。。。。。。。\n",
      "-\n",
      "Input sentence: ['he', 'is', 'to', 'come', 'to', 'my', 'house', 'tonight']\n",
      "Decoded sentence: 了了了了了了了了了了了了了了了了了了了了了了了了了\n",
      "-\n",
      "Input sentence: [\"i'm\", 'sorry', 'that', 'you', 'are', 'leaving', 'here']\n",
      "Decoded sentence: 我。。。。。。。。。。。。。。。。。。。。。。。。\n",
      "-\n",
      "Input sentence: ['he', 'is', 'no', 'fool']\n",
      "Decoded sentence: 了了了了了了了了了了了了了了了了了了了了了了了了了\n",
      "-\n",
      "Input sentence: ['i', 'envied', 'his', 'new', 'house']\n",
      "Decoded sentence: 我。。。。。。。。。。。。。。。。。。。。。。。。\n"
     ]
    }
   ],
   "source": [
    "def decode_sequence(input_seq):\n",
    "    # Encode the input as state vectors.\n",
    "    states_value = encoder_model.predict(input_seq)\n",
    "\n",
    "    # Generate empty target sequence of length 1.\n",
    "    target_seq = np.zeros((1, 1, num_decoder_tokens))\n",
    "    # Populate the first character of target sequence with the start character.\n",
    "    target_seq[0, 0, target_token_index['\\t']] = 1.\n",
    "\n",
    "    # Sampling loop for a batch of sequences\n",
    "    # (to simplify, here we assume a batch of size 1).\n",
    "    stop_condition = False\n",
    "    decoded_sentence = ''\n",
    "    while not stop_condition:\n",
    "        output_tokens, h, c = decoder_model.predict(\n",
    "            [target_seq] + states_value)\n",
    "\n",
    "        # Sample a token\n",
    "        sampled_token_index = np.argmax(output_tokens[0, -1, :])\n",
    "        sampled_char = reverse_target_char_index[sampled_token_index]\n",
    "        decoded_sentence += sampled_char\n",
    "\n",
    "        # Exit condition: either hit max length\n",
    "        # or find stop character.\n",
    "        if (sampled_char == '\\n' or\n",
    "           len(decoded_sentence) > max_decoder_seq_length):\n",
    "            stop_condition = True\n",
    "\n",
    "        # Update the target sequence (of length 1).\n",
    "        target_seq = np.zeros((1, 1, num_decoder_tokens))\n",
    "        target_seq[0, 0, sampled_token_index] = 1.\n",
    "\n",
    "        # Update states\n",
    "        states_value = [h, c]\n",
    "\n",
    "    return decoded_sentence\n",
    "\n",
    "\n",
    "for seq_index in range(10):\n",
    "    # Take one sequence (part of the training set)\n",
    "    # for trying out decoding.\n",
    "    input_seq = encoder_input_data[seq_index: seq_index + 1]\n",
    "    decoded_sentence = decode_sequence(input_seq)\n",
    "    print('-')\n",
    "    print('Input sentence:', input_texts[seq_index])\n",
    "    print('Decoded sentence:', decoded_sentence)"
   ]
  }
 ],
 "metadata": {
  "kernelspec": {
   "display_name": "Python 3 (ipykernel)",
   "language": "python",
   "name": "python3"
  },
  "language_info": {
   "codemirror_mode": {
    "name": "ipython",
    "version": 3
   },
   "file_extension": ".py",
   "mimetype": "text/x-python",
   "name": "python",
   "nbconvert_exporter": "python",
   "pygments_lexer": "ipython3",
   "version": "3.7.17"
  }
 },
 "nbformat": 4,
 "nbformat_minor": 5
}
