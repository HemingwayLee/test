{
 "cells": [
  {
   "cell_type": "code",
   "execution_count": 1,
   "id": "9980d5f0",
   "metadata": {},
   "outputs": [
    {
     "name": "stdout",
     "output_type": "stream",
     "text": [
      "CrowdFlowerAnnotations.txt  Flickr8k.token.txt\t       machine_translation\r\n",
      "ExpertAnnotations.txt\t    Flickr_8k.devImages.txt    readme.txt\r\n",
      "Flicker8k_smaller\t    Flickr_8k.testImages.txt\r\n",
      "Flickr8k.lemma.token.txt    Flickr_8k.trainImages.txt\r\n"
     ]
    }
   ],
   "source": [
    "! ls ../../data/"
   ]
  },
  {
   "cell_type": "code",
   "execution_count": 3,
   "id": "ce1529ab",
   "metadata": {},
   "outputs": [
    {
     "name": "stdout",
     "output_type": "stream",
     "text": [
      "Collecting jieba\n",
      "  Downloading jieba-0.42.1.tar.gz (19.2 MB)\n",
      "\u001b[2K     \u001b[90m━━━━━━━━━━━━━━━━━━━━━━━━━━━━━━━━━━━━━━━━\u001b[0m \u001b[32m19.2/19.2 MB\u001b[0m \u001b[31m5.9 MB/s\u001b[0m eta \u001b[36m0:00:00\u001b[0m00:01\u001b[0m00:01\u001b[0m\n",
      "\u001b[?25h  Preparing metadata (setup.py) ... \u001b[?25ldone\n",
      "\u001b[?25hBuilding wheels for collected packages: jieba\n",
      "  Building wheel for jieba (setup.py) ... \u001b[?25ldone\n",
      "\u001b[?25h  Created wheel for jieba: filename=jieba-0.42.1-py3-none-any.whl size=19314477 sha256=cbaf4a58ba852d8149ab9fddb79aab77cca091f24d679cc61669769b7f193d43\n",
      "  Stored in directory: /root/.cache/pip/wheels/24/aa/17/5bc7c72e9a37990a9620cc3aad0acad1564dcff6dbc2359de3\n",
      "Successfully built jieba\n",
      "Installing collected packages: jieba\n",
      "Successfully installed jieba-0.42.1\n",
      "\u001b[33mWARNING: Running pip as the 'root' user can result in broken permissions and conflicting behaviour with the system package manager. It is recommended to use a virtual environment instead: https://pip.pypa.io/warnings/venv\u001b[0m\u001b[33m\n",
      "\u001b[0m\u001b[33mWARNING: You are using pip version 22.0.4; however, version 23.0.1 is available.\n",
      "You should consider upgrading via the '/usr/local/bin/python -m pip install --upgrade pip' command.\u001b[0m\u001b[33m\n",
      "\u001b[0m"
     ]
    }
   ],
   "source": [
    "! pip3 install jieba"
   ]
  },
  {
   "cell_type": "code",
   "execution_count": 15,
   "id": "660c7b9a",
   "metadata": {},
   "outputs": [
    {
     "name": "stdout",
     "output_type": "stream",
     "text": [
      "Number of samples: 2000\n",
      "Number of unique input tokens: 2165\n",
      "Number of unique output tokens: 3148\n",
      "Max sequence length for inputs: 25\n",
      "Max sequence length for outputs: 26\n",
      "\n",
      "input data set:\n",
      "[['when', 'does', 'the', 'game', 'begin'], ['i', 'can', 'understand', 'him', 'perfectly'], ['the', 'school', 'is', 'on', 'top', 'of', 'the', 'hill'], [\"i'm\", 'sure', \"you'll\", 'never', 'regret', 'it'], ['who', 'likes', 'beans'], [\"we've\", 'decided', 'not', 'to', 'fire', 'you'], ['the', 'captain', 'is', 'responsible', 'for', 'the', 'safety', 'of', 'passengers'], [\"it's\", 'up', 'to', 'you', 'to', 'decide'], ['they', 'made', 'him', 'do', 'the', 'work', 'again'], ['she', 'lives', 'in', 'a', 'huge', 'house']]\n",
      "\n",
      "target data set:\n",
      "[['\\t', '游戏', '几点', '开始', '？', '\\n'], ['\\t', '我', '十分', '能', '理解', '他', '。', '\\n'], ['\\t', '學校', '在', '山丘', '頂上', '。', '\\n'], ['\\t', '我', '確定', '你', '永不', '後', '悔', '。', '\\n'], ['\\t', '谁', '喜欢', '豆子', '？', '\\n'], ['\\t', '我们', '决定', '不', '开除', '你', '。', '\\n'], ['\\t', '船长', '要', '为', '乘客', '安全', '负责', '。', '\\n'], ['\\t', '由', '你', '來', '決定', '。', '\\n'], ['\\t', '他們', '要', '他', '再', '做', '一次', '這個', '工作', '。', '\\n'], ['\\t', '她', '住', '在', '一個', '很大', '的', '房子', '裡', '。', '\\n']]\n"
     ]
    }
   ],
   "source": [
    "from keras.models import Model\n",
    "from keras.layers import Input, LSTM, Dense\n",
    "import numpy as np\n",
    "import random\n",
    "import jieba\n",
    "\n",
    "batch_size = 16  \n",
    "epochs = 35  \n",
    "latent_dim = 128  # Latent dimensionality of the encoding space.\n",
    "num_samples = 2000  # Number of samples to train on.\n",
    "data_path = '../../data/machine_translation/cmn.txt'\n",
    "\n",
    "input_texts = []\n",
    "target_texts = []\n",
    "input_tokens = set()\n",
    "target_tokens = set()\n",
    "with open(data_path, 'r', encoding='utf-8') as f:\n",
    "    lines = f.read().split('\\n')\n",
    "\n",
    "# for line in lines[: min(num_samples, len(lines) - 1)]:\n",
    "for line in random.sample(lines, num_samples):\n",
    "    input_text, target_text = line.split('\\t')\n",
    "    \n",
    "    # We use \"\\t\" as the \"start sequence\" and \"\\n\" as \"end sequence\"\n",
    "    target_text = '\\t' + target_text + '\\n'\n",
    "    \n",
    "    tmp = []\n",
    "    for token in input_text.split(\" \"):\n",
    "        token = token.replace(\",\", \"\").replace(\".\", \"\").replace(\"?\", \"\").lower()\n",
    "        tmp.append(token)\n",
    "        if token not in input_tokens:\n",
    "            input_tokens.add(token)\n",
    "    input_texts.append(tmp)\n",
    "    \n",
    "    tmp = []\n",
    "    for token in jieba.cut(target_text, cut_all=False):\n",
    "        tmp.append(token)\n",
    "        if token not in target_tokens:\n",
    "            target_tokens.add(token)\n",
    "    target_texts.append(tmp)\n",
    "\n",
    "input_tokens = list(input_tokens)\n",
    "target_tokens = list(target_tokens)\n",
    "num_encoder_tokens = len(input_tokens)\n",
    "num_decoder_tokens = len(target_tokens)\n",
    "max_encoder_seq_length = max([len(txt) for txt in input_texts])\n",
    "max_decoder_seq_length = max([len(txt) for txt in target_texts])\n",
    "\n",
    "print('Number of samples:', len(input_texts))\n",
    "print('Number of unique input tokens:', num_encoder_tokens)\n",
    "print('Number of unique output tokens:', num_decoder_tokens)\n",
    "print('Max sequence length for inputs:', max_encoder_seq_length)\n",
    "print('Max sequence length for outputs:', max_decoder_seq_length)\n",
    "\n",
    "print(\"\\ninput data set:\")\n",
    "print(input_texts[:10])\n",
    "print(\"\\ntarget data set:\")\n",
    "print(target_texts[:10])"
   ]
  },
  {
   "cell_type": "code",
   "execution_count": 16,
   "id": "1c2104d6",
   "metadata": {},
   "outputs": [
    {
     "name": "stdout",
     "output_type": "stream",
     "text": [
      "\n",
      "input index:\n",
      "{'hours': 0, 'liked': 1, 'anywhere': 2, 'learning': 3, 'tall': 4, 'clothes': 5, 'seriously': 6, 'tastes': 7, 'carelessness': 8, 'others': 9, 'ceremony': 10, 'different': 11, 'task': 12, 'sixteenth': 13, 'kyoto': 14, 'another': 15, 'shown': 16, 'independent': 17, \"you've\": 18, 'sofa': 19, 'important': 20, \"friend's\": 21, 'second': 22, 'repeatedly': 23, 'serious': 24, 'lonely': 25, 'back\"': 26, 'appointment': 27, 'cheek': 28, 'own': 29, 'snakes': 30, 'suggested': 31, 'very': 32, 'for': 33, 'wearing': 34, 'belong': 35, 'lot': 36, 'laid': 37, 'questions': 38, 'damaged': 39, 'thirty': 40, 'sleep': 41, 'dinner': 42, 'word': 43, 'quality': 44, 'fool': 45, 'iran': 46, 'sold': 47, 'dallas': 48, 'shadow': 49, 'ambition': 50, 'marie': 51, 'car': 52, 'reached': 53, 'all!': 54, 'buying': 55, 'currently': 56, 'down': 57, 'success': 58, 'puzzled': 59, 'cutest': 60, 'davis': 61, 'ran': 62, \"author's\": 63, 'sock': 64, 'snowed': 65, 'paris': 66, 'short': 67, 'reading': 68, 'apartment': 69, 'heart': 70, 'writes': 71, 'opened': 72, 'oranges': 73, 'came': 74, 'bad': 75, 'and': 76, 'cities': 77, 'public': 78, 'those': 79, 'letter': 80, 'ball': 81, 'looking': 82, 'waste': 83, 'names': 84, 'will\"': 85, 'followed': 86, 'wall': 87, 'river': 88, 'swim': 89, 'brown': 90, 'asking': 91, 'investigation': 92, 'wash': 93, 'comments': 94, 'there': 95, 'huge': 96, 'becomes': 97, 'much': 98, 'big': 99, 'nervous': 100, 'slow': 101, 'happened': 102, 'standing': 103, 'hunting': 104, 'moon': 105, 'final': 106, 'accelerated': 107, 'end': 108, 'loves': 109, 'monster': 110, 'get': 111, 'pollution': 112, 'major': 113, 'might': 114, 'never': 115, \"he'll\": 116, 'yourself': 117, 'occupation': 118, 'like': 119, 'landed': 120, 'absent': 121, 'twelve': 122, 'count': 123, 'italy': 124, 'hung': 125, 'phone': 126, 'he': 127, \"that's\": 128, 'all': 129, 'exhausted': 130, 'facebook': 131, 'cloud': 132, 'sunday': 133, 'extremely': 134, 'restaurants': 135, 'abroad': 136, 'hot': 137, 'america': 138, 'response': 139, 'lend': 140, 'an': 141, 'idea\"': 142, 'theories': 143, 'taught': 144, 'studying': 145, 'classes': 146, 'animals': 147, '\"do': 148, 'humid': 149, 'shot': 150, 'basket': 151, \"tomorrow's\": 152, 'exactly': 153, 'graduated': 154, 'german': 155, 'wrong': 156, 'upcoming': 157, 'unusually': 158, 'recently': 159, 'pepper': 160, 'told': 161, 'cross-country': 162, 'delicious': 163, 'fifth-largest': 164, 'hospital': 165, 'fifth': 166, 'owe': 167, 'model': 168, 'vacation': 169, 'entrance': 170, 'population': 171, 'hurt': 172, 'real': 173, 'sorry': 174, 'sunrise': 175, 'you\"': 176, 'teeth': 177, 'pair': 178, 'traffic': 179, 'pick': 180, 'costs': 181, 'account': 182, 'too': 183, 'learned': 184, 'so': 185, \"world's\": 186, 'board': 187, 'shake': 188, 'boy': 189, 'news': 190, 'problem': 191, 'busy': 192, 'exceptionally': 193, 'life': 194, 'turn': 195, 'concert': 196, 'underestimate': 197, 'advance': 198, 'occasional': 199, 'straight': 200, 'son': 201, 'modesty': 202, 'beach': 203, 'noticed': 204, \"we'll\": 205, 'record': 206, 'rest': 207, 'myself': 208, 'prisoner': 209, 'showed': 210, 'boarding': 211, 'tired': 212, 'based': 213, 'flower!': 214, 'cried': 215, 'prize': 216, 'uncle': 217, 'guess': 218, 'siblings': 219, 'booth': 220, 'choice': 221, 'progress': 222, 'juice': 223, 'am!': 224, 'sweden': 225, 'someday': 226, 'perfectly': 227, 'knife': 228, 'appetite': 229, 'buy': 230, 'worry': 231, 'question': 232, 'lives': 233, 'sang': 234, 'practiced': 235, 'dad': 236, 'waiting': 237, 'sarcastic': 238, 'king': 239, 'coward': 240, 'come': 241, 'brother': 242, 'top': 243, 'meal': 244, 'politician': 245, 'cigarettes': 246, 'hour': 247, 'career': 248, 'form': 249, 'tricks': 250, 'youngest': 251, 'stop': 252, 'my': 253, 'lazy': 254, 'closer': 255, 'resign': 256, 'tongue': 257, 'elephant': 258, \"wasn't\": 259, 'jealous': 260, 'speaker': 261, 'boss': 262, 'voice': 263, 'cross': 264, 'john': 265, 'won': 266, 'locked': 267, 'download': 268, 'mind': 269, 'pencil': 270, 'as': 271, 'high': 272, 'soccer': 273, 'earthquakes': 274, 'such': 275, 'tenor': 276, 'rather': 277, 'shattered': 278, 'in': 279, 'close': 280, 'nonsense': 281, 'knit': 282, 'book': 283, 'reconsider': 284, 'stamps': 285, 'dress': 286, 'german\"': 287, '\"the': 288, 'thread': 289, 'baby': 290, 'package': 291, 'bali': 292, \"won't\": 293, 'works': 294, 'fools': 295, 'married': 296, 'smile': 297, 'bet': 298, 'july': 299, 'scotch': 300, 'breakfast': 301, 'tennis': 302, 'complex': 303, 'american': 304, 'ago': 305, 'man': 306, 'lived': 307, 'should': 308, 'boston': 309, '30': 310, 'seeing': 311, 'sell': 312, 'refuses': 313, 'lecture': 314, 'purse': 315, 'resulted': 316, 'junior': 317, 'stand': 318, 'wore': 319, 'andré-louis': 320, 'poor': 321, \"one's\": 322, 'lift': 323, 'ford': 324, 'service': 325, 'promised': 326, 'visit': 327, 'grateful': 328, 'refuse': 329, 'closed': 330, 'offer': 331, 'pity': 332, 'programmer': 333, 'your': 334, 'following': 335, 'long': 336, 'sentence': 337, 'affected': 338, 'cotton': 339, 'sister': 340, 'drive': 341, 'paint': 342, 'house': 343, 'gave': 344, 'boat': 345, 'this': 346, 'drama': 347, 'meters': 348, 'look': 349, \"you'd\": 350, 'world': 351, 'war': 352, 'without': 353, 'weird': 354, 'someone': 355, 'egypt': 356, 'criticized': 357, 'belts': 358, 'prescription': 359, 'if': 360, 'needs': 361, 'full': 362, 'cheating': 363, 'gone': 364, 'trees': 365, 'room': 366, 'bath': 367, 'running': 368, 'conditioning': 369, 'fish': 370, 'loudly': 371, 'checked': 372, 'safe': 373, 'warm': 374, 'osaka': 375, 'shelter': 376, 'attack': 377, 'playing': 378, 'thanks': 379, 'criticism': 380, 'make': 381, 'reasons': 382, 'wasted': 383, 'goes': 384, 'taste': 385, 'bell': 386, 'has': 387, 'bottles': 388, 'december': 389, 'political': 390, 'class': 391, 'nearest': 392, 'held': 393, 'family': 394, 'weather': 395, 'brush': 396, 'stops': 397, 'few': 398, 'carpet': 399, 'fishing': 400, 'dresses': 401, 'write': 402, \"doesn't\": 403, 'wait': 404, 'envelope': 405, 'grammar': 406, 'worker': 407, 'about': 408, 'scolded': 409, 'lawyer': 410, 'drivers': 411, 'gets': 412, 'used': 413, 'loan': 414, 'polar': 415, 'always': 416, 'horse': 417, '\"it': 418, 'discussing': 419, 'obliged': 420, 'bicycle': 421, 'having': 422, 'takes': 423, 'roommate': 424, 'nerve': 425, 'stay': 426, 'yelling!': 427, 'moment': 428, \"nation's\": 429, 'approaching': 430, 'birth': 431, 'information': 432, 'scarcely': 433, 'feel': 434, 'murder': 435, 'harvard': 436, 'boiled': 437, 'cause': 438, 'lining': 439, 'grades': 440, 'stolen': 441, 'five': 442, 'longer': 443, 'postcard': 444, 'earth': 445, 'easily': 446, 'admit': 447, 'herself': 448, 'century': 449, 'repeat': 450, 'death': 451, 'please': 452, 'strange': 453, 'save': 454, 'wonderful': 455, 'fatal': 456, 'picture': 457, 'assigned': 458, 'luggage': 459, 'mother': 460, 'explain': 461, 'afternoon': 462, 'from': 463, 'spending': 464, 'cook': 465, 'interested': 466, 'sometimes': 467, 'lawyers': 468, 'same': 469, 'caged': 470, 'greater': 471, 'advise': 472, 'composition': 473, 'eaten': 474, 'ancient': 475, 'store': 476, \"can't\": 477, 'soon': 478, 'hamlet': 479, 'let': 480, 'holding': 481, 'dark': 482, 'control': 483, 'near': 484, 'seldom': 485, 'tied': 486, 'meet': 487, 'plenty': 488, 'felt': 489, 'factory': 490, 'office': 491, 'accident': 492, 'woke': 493, 'try': 494, 'continent': 495, 'speak': 496, 'completely': 497, 'i’ve': 498, 'quite': 499, 'pretty': 500, 'lady': 501, 'succeed': 502, \"she's\": 503, 'heavy': 504, 'decided': 505, 'boxes': 506, 'afford': 507, 'died': 508, 'ashamed': 509, 'pay': 510, 'common': 511, 'here': 512, 'mistake': 513, 'dolled': 514, 'out!': 515, 'forgetting': 516, 'daughter': 517, 'need': 518, 'hokkaido': 519, 'sign': 520, 'figure': 521, 'occur': 522, 'kind': 523, 'bank': 524, 'easy': 525, 'swims': 526, 'eyes': 527, 'church': 528, 'softly': 529, 'divorces': 530, 'accustomed': 531, 'bend': 532, 'proud': 533, 'mary': 534, 'jiffy': 535, 'seem': 536, 'facing': 537, 'discussed': 538, 'filled': 539, 'grow': 540, 'trousers': 541, 'fault': 542, 'wrote': 543, 'answer': 544, 'girl': 545, 'exhibits': 546, 'medicine': 547, 'hard': 548, 'found': 549, 'on': 550, 'interesting': 551, 'fun': 552, 'red': 553, 'tested': 554, '20': 555, 'against': 556, 'want': 557, 'giving': 558, 'hardwood': 559, 'students': 560, 'sendai': 561, 'satisfied': 562, 'native': 563, 'hand': 564, 'bookstore': 565, 'prize!': 566, 'bargain': 567, 'lots': 568, '\"can': 569, 'shower': 570, 'foreign': 571, 'already': 572, 'begin': 573, 'brave': 574, 'lid': 575, \"there's\": 576, 'asia': 577, 'tonight': 578, 'coming': 579, 'wonder': 580, 'next': 581, 'began': 582, 'break': 583, 'veterinary': 584, 'post': 585, 'was': 586, 'prove': 587, 'active': 588, 'keep': 589, 'larger': 590, 'blocked': 591, 'experts': 592, 'focus': 593, 'tigers': 594, 'large': 595, 'you': 596, \"something's\": 597, 'charge': 598, 'thin': 599, 'nine': 600, 'pond': 601, 'hurting': 602, 'bankrupt': 603, 'captain': 604, 'russia': 605, 'excused': 606, 'any': 607, 'cake': 608, 'justice': 609, 'goal': 610, 'twenties': 611, 'handsome': 612, 'precise': 613, 'of': 614, 'tenth': 615, 'appear': 616, 'cleaned': 617, 'wish': 618, 'slope': 619, 'than': 620, 'knocked': 621, 'disappeared': 622, 'beginning': 623, 'dangerous': 624, 'week': 625, '6000': 626, 'pox': 627, 'whose': 628, 'whining': 629, 'weather\"': 630, 'change': 631, 'mistook': 632, 'contrary': 633, 'child': 634, 'slowly': 635, \"you'll\": 636, 'will': 637, \"he's\": 638, 'vague': 639, 'movies': 640, 'newspaper': 641, 'most': 642, 'remember': 643, 'sight': 644, 'ringing': 645, 'slightest': 646, 'caught': 647, 'desert': 648, 'them': 649, 'fonder': 650, 'good': 651, 'solid': 652, 'restart': 653, 'heard': 654, 'school': 655, 'angels': 656, 'find': 657, 'panel': 658, 'dash': 659, 'were': 660, 'made': 661, 'author': 662, 'dozens': 663, 'front': 664, 'dating': 665, 'bush': 666, 'dropped': 667, 'somebody': 668, 'know': 669, 'are': 670, 'year': 671, 'pairs': 672, 'disappoint': 673, 'thing': 674, 'dreaming': 675, 'chicken': 676, 'calling': 677, '100': 678, 'hilton': 679, 'outside': 680, 'every': 681, 'rock': 682, 'late': 683, 'calm': 684, 'loser': 685, 'piece': 686, 'liar': 687, 'approve': 688, 'everywhere': 689, 'turned': 690, 'weekend': 691, 'related': 692, 'apples': 693, 'christmas': 694, 'slip': 695, 'worst': 696, 'plan': 697, 'move': 698, 'build': 699, 'four': 700, 'smiled': 701, 'play': 702, 'mail': 703, 'butter': 704, 'consented': 705, 'states': 706, 'home': 707, 'elevator': 708, \"who'd\": 709, 'hearing': 710, 'essentially': 711, 'tree': 712, 'selling': 713, 'older': 714, 'returned': 715, \"mother's\": 716, 'borders': 717, 'battered': 718, 'tuner': 719, 'thick': 720, 'borrow': 721, 'ok': 722, 'happen': 723, 'cricket': 724, 'living': 725, 'economic': 726, \"i'd\": 727, 'disasters': 728, 'apart': 729, 'sons': 730, 'furniture': 731, 'hundred': 732, 'once': 733, 'carefully': 734, 'gained': 735, \"aren't\": 736, 'africa': 737, 'pet': 738, 'wednesday': 739, 'awful': 740, 'language': 741, 'finding': 742, 'depends': 743, 'mistakes': 744, 'up!': 745, 'sky': 746, 'consult': 747, 'arrived': 748, '1789': 749, 'happens': 750, 'program': 751, 'staying': 752, 'healthy': 753, 'admission': 754, 'given': 755, 'doing': 756, 'june': 757, 'sells': 758, 'candy': 759, 'slight': 760, 'zoo': 761, 'relatives': 762, 'small': 763, 'somewhat': 764, 'assumption': 765, 'toy': 766, 'then': 767, 'demand': 768, 'ended': 769, 'concern': 770, 'learn': 771, 'million': 772, 'embraced': 773, 'attributed': 774, 'hakodate': 775, 'go': 776, 'flipped': 777, 'jumped': 778, 'reagan': 779, 'neighbors': 780, 'two': 781, 'consume': 782, 'dance!': 783, 'suggest': 784, 'document': 785, 'eating': 786, 'believes': 787, 'valuables': 788, 'besides': 789, 'bears': 790, 'blushing': 791, 'washed': 792, 'enough': 793, 'often': 794, 'pound': 795, 'calls': 796, 'british': 797, 'blame': 798, 'prevail': 799, 'even': 800, 'these': 801, 'see': 802, 'love': 803, 'classical': 804, 'reserve': 805, \"they'll\": 806, 'deal': 807, 'invented': 808, 'deadline': 809, 'think': 810, 'put': 811, 'less': 812, 'winning': 813, 'possible': 814, 'arrival': 815, 'slid': 816, 'rich': 817, 'glue': 818, 'she': 819, \"who's\": 820, 'goodbye': 821, 'got': 822, 'quick': 823, 'dying': 824, 'yet': 825, 'saxophone': 826, 'mt': 827, 'countryside': 828, 'nations': 829, 'diet': 830, 'fashion': 831, 'month': 832, 'spicy': 833, 'stockholm': 834, '\"i\\'ll': 835, 'economy': 836, 'comfortable': 837, 'tokyo': 838, \"what're\": 839, 'left': 840, 'saying': 841, 'free': 842, 'impatient': 843, 'waves': 844, 'dislike': 845, 'me\"': 846, 'young': 847, 'sewing': 848, 'shining': 849, 'playground': 850, 'airport': 851, 'feelings': 852, 'something': 853, 'convince': 854, 'point': 855, 'likes': 856, 'until': 857, 'discovered': 858, 'leaning': 859, 'ringing\"': 860, 'decide': 861, 'elected': 862, 'stairs': 863, 'thirsty': 864, 'grandmother': 865, \"weren't\": 866, 'chances': 867, 'piano': 868, 'sense': 869, 'group': 870, 'feeling': 871, 'debierne': 872, 'usually': 873, 'played': 874, 'eye': 875, 'glasses': 876, 'recall': 877, 'schools': 878, 'catch': 879, 'knock': 880, 'stewardess': 881, 'steadily': 882, 'pretending': 883, 'bad-looking': 884, 'fasten': 885, 'stayed': 886, 'wise': 887, 'shuttlecock': 888, 'till': 889, 'orchestra': 890, 'private': 891, 'anymore': 892, 'aware': 893, 'case': 894, 'socks': 895, 'plastic': 896, 'cheese': 897, 'landslide': 898, 'famous': 899, 'bleeding': 900, 'classroom': 901, 'price': 902, 'anything': 903, 'wife': 904, 'ask': 905, 'pochi': 906, 'relief': 907, 'matter': 908, 'who': 909, 'town': 910, 'usual': 911, 'blessed': 912, 'hint': 913, 'visiting': 914, 'army': 915, 'green': 916, 'wants': 917, 'tickets': 918, 'fired': 919, 'star': 920, 'shape': 921, 'mandarin': 922, \"shouldn't\": 923, 'drunk': 924, 'tapped': 925, \"where's\": 926, 'stomachache': 927, 'say': 928, 'may': 929, 'greeted': 930, 'thinking': 931, 'mass': 932, \"i'm\": 933, 'lovely': 934, 'impossible': 935, 'difference': 936, 'shock': 937, 'follow': 938, 'send': 939, 'welcomed': 940, \"hadn't\": 941, 'position': 942, 'japanese': 943, 'favor': 944, \"driver's\": 945, \"mary's\": 946, 'expressed': 947, 'modest': 948, 'certain': 949, 'everything': 950, 'plotting': 951, 'called': 952, 'blind': 953, 'north': 954, 'apply': 955, 'wear': 956, 'escaped': 957, 'trash': 958, 'absence': 959, 'happy': 960, 'entire': 961, 'jump': 962, 'comment': 963, 'drove': 964, 'bought': 965, 'knew': 966, 'supplies': 967, 'apple': 968, 'sasayama': 969, 'side': 970, 'me': 971, 'boys': 972, 'discs': 973, 'ruins': 974, 'driest': 975, 'actually': 976, 'hear': 977, 'passion': 978, 'remained': 979, 'homework': 980, 'care': 981, 'sad': 982, \"today's\": 983, 'conversation': 984, 'fever': 985, 'pies': 986, 'text': 987, 'again': 988, 'up': 989, 'doll': 990, 'poisoner': 991, 'consumes': 992, 'where': 993, 'teach': 994, 'writing': 995, 'golf': 996, 'ceiling': 997, 'toothpaste': 998, '$20': 999, 'row': 1000, 'tune': 1001, 'trips': 1002, 'leader': 1003, 'sudden': 1004, 'sale': 1005, 'college': 1006, 'nearly': 1007, 'march': 1008, 'lucky': 1009, 'fire': 1010, 'worked': 1011, 'deals': 1012, 'beer': 1013, 'keys': 1014, 'drinking': 1015, 'science': 1016, 'no': 1017, 'days': 1018, 'least': 1019, 'water': 1020, 'roof': 1021, 'great': 1022, '\"no': 1023, \"we've\": 1024, 'happiness': 1025, 'stuck': 1026, 'except': 1027, 'telephone': 1028, 'amount': 1029, 'shoes': 1030, 'fond': 1031, 'climb': 1032, 'old': 1033, 'alcoholic': 1034, 'executive': 1035, 'inside': 1036, \"tom's\": 1037, 'opinion': 1038, 'philippines': 1039, 'rush': 1040, 'singing': 1041, 'absorbed': 1042, 'letters': 1043, 'milk': 1044, 'similar': 1045, 'around': 1046, 'arguing': 1047, 'fine': 1048, 'background': 1049, 'dead': 1050, 'air': 1051, 'chicago': 1052, 'october': 1053, 'books': 1054, 'park': 1055, 'verge': 1056, 'swiss': 1057, 'yellow': 1058, 'whatever': 1059, 'acted': 1060, 'woods': 1061, 'humor': 1062, 'loose': 1063, 'necessary': 1064, 'liquid': 1065, 'repay': 1066, 'name': 1067, 'entries': 1068, 'plans': 1069, 'desk': 1070, 'solve': 1071, 'depressing': 1072, 'sick': 1073, 'sipped': 1074, 'pictures': 1075, 'eighty': 1076, 'opposed': 1077, 'himself': 1078, 'past': 1079, 'mend': 1080, 'understand': 1081, \"father's\": 1082, 'foreigner': 1083, 'lead': 1084, 'lost': 1085, 'desires': 1086, 'roller': 1087, 'unmarried': 1088, 'zigzagged': 1089, 'flowers': 1090, 'drink': 1091, 'clearly': 1092, 'actions': 1093, 'anyone': 1094, 'still': 1095, 'trusts': 1096, 'game': 1097, 'months': 1098, 'hope': 1099, 'hands': 1100, 'supper': 1101, 'along': 1102, 'bird': 1103, 'right': 1104, 'pressure': 1105, 'politics': 1106, '9': 1107, 'injured': 1108, 'ahead': 1109, 'teacher': 1110, 'deprived': 1111, 'met': 1112, 'spring': 1113, 'smell': 1114, 'double': 1115, 'sulfuric': 1116, 'dozen': 1117, 'radio': 1118, 'hostess': 1119, 'settled': 1120, 'recognize': 1121, 'rainy': 1122, 'passengers': 1123, 'the': 1124, 'french': 1125, 'luck': 1126, 'continued': 1127, 'forgot': 1128, 'per': 1129, 'provide': 1130, 'not': 1131, 'polish': 1132, 'weight': 1133, 'request': 1134, 'forward': 1135, 'discuss': 1136, 'away': 1137, '1947': 1138, 'partially': 1139, 'lies': 1140, 'kept': 1141, 'regrets': 1142, 'men': 1143, 'pleasure': 1144, 'thanked': 1145, 'reach': 1146, 'together': 1147, 'dolphin': 1148, 'unbelievable!': 1149, 'suitable': 1150, 'firemen': 1151, 'endure': 1152, 'advertised': 1153, 'advice': 1154, 'crossed': 1155, 'be': 1156, 'won!': 1157, 'prevented': 1158, 'last': 1159, 'bomb': 1160, 'finished': 1161, 'helps': 1162, 'better': 1163, 'at': 1164, 'box': 1165, 'sundays': 1166, 'location': 1167, 'average': 1168, 'because': 1169, 'august': 1170, 'narita': 1171, 'pain': 1172, 'sort': 1173, 'now\"': 1174, 'appearances': 1175, 'trip': 1176, 'walking': 1177, 'born': 1178, 'chinese': 1179, 'dog': 1180, 'more': 1181, 'paid': 1182, 'smiling': 1183, 'target': 1184, 'morning': 1185, 'badminton': 1186, 'soldier': 1187, 'president': 1188, 'whether': 1189, 'improve': 1190, 'chief': 1191, 'practicing': 1192, 'camel': 1193, 'upstairs': 1194, 'invited': 1195, 'during': 1196, 'singer': 1197, 'meant': 1198, 'bridge': 1199, 'parrot': 1200, 'government': 1201, 'temperate': 1202, 'saves': 1203, 'jacket': 1204, 'hey': 1205, \"wouldn't\": 1206, 'ways': 1207, 'fuji': 1208, 'dentists': 1209, 'ladder': 1210, 'bedroom': 1211, 'agriculture': 1212, '1000': 1213, 'planning': 1214, 'iraq': 1215, 'leave': 1216, 'choose': 1217, 'ate': 1218, 'enjoyed': 1219, 'freezes': 1220, 'depend': 1221, 'said': 1222, 'built': 1223, 'times': 1224, 'changes': 1225, 'test': 1226, 'art': 1227, 'relationship': 1228, 'pass': 1229, 'citizens': 1230, 'cooking': 1231, 'eats': 1232, 'supermarket': 1233, 'valuable': 1234, 'hit': 1235, 'join': 1236, 'tomorrow': 1237, 'quiet': 1238, 'bread': 1239, 'symphony': 1240, 'give': 1241, 'prepared': 1242, 'hungry': 1243, 'just': 1244, 'mathematics': 1245, 'written': 1246, 'hotel': 1247, 'mutual': 1248, 'hire': 1249, 'gifts': 1250, 'tread': 1251, 'honorable': 1252, 'mostly': 1253, 'nagoya': 1254, 'finally': 1255, 'cleaning': 1256, \"they're\": 1257, 'absolutely': 1258, 'attention': 1259, 'truck': 1260, 'burning': 1261, 'depressed': 1262, 'lose': 1263, 'planets': 1264, 'looks': 1265, 'doctor': 1266, 'taking': 1267, 'quietly': 1268, 'really': 1269, 'sport': 1270, 'when': 1271, 'through': 1272, 'rent': 1273, 'rule': 1274, 'boring': 1275, 'rome': 1276, 'prefer': 1277, 'loud': 1278, 'frog': 1279, 'nobody': 1280, 'climbing': 1281, 'floors': 1282, 'flies': 1283, 'named': 1284, 'thirtieth': 1285, 'cold': 1286, 'twenty-five': 1287, 'typical': 1288, 'mayor': 1289, 'noon': 1290, 'supported': 1291, 'kissed': 1292, 'examine': 1293, 'his': 1294, 'return': 1295, 'accepted': 1296, 'storm': 1297, 'copies': 1298, 'latin': 1299, 'cub': 1300, 'mile': 1301, 'other': 1302, 'york': 1303, 'friends': 1304, 'mammal': 1305, 'afraid': 1306, 'decision': 1307, 'receive': 1308, 'boils': 1309, 'rang': 1310, 'club': 1311, 'jerk': 1312, 'it\"': 1313, 'avoid': 1314, 'restaurant': 1315, 'ticket': 1316, 'somewhere': 1317, 'orange': 1318, 'reads': 1319, 'tv': 1320, 'surprised': 1321, 'fence': 1322, 'kitten': 1323, 'modern': 1324, 'secretary': 1325, 'job': 1326, 'hardly': 1327, 'would': 1328, 'deserve': 1329, 'turkey': 1330, 'bombs': 1331, 'wishes': 1332, 'makes': 1333, 'kindness': 1334, 'affect': 1335, 'escape': 1336, 'skirts': 1337, 'enemy': 1338, 'win': 1339, 'bus': 1340, \"i've\": 1341, 'sole': 1342, 'sensitive': 1343, 'balloon': 1344, 'do': 1345, 'toyota': 1346, 'dogs': 1347, 'patient': 1348, 'managed': 1349, 'soup': 1350, 'lunchtime': 1351, 'driving': 1352, \"o'clock\": 1353, 'cheeks': 1354, 'going': 1355, 'father': 1356, 'head': 1357, 'accurate': 1358, 'manufacture': 1359, 'agreeable': 1360, 'clouds': 1361, 'kill': 1362, 'cheap': 1363, 'power': 1364, 'newspapers': 1365, 'rain': 1366, 'went': 1367, 'helping': 1368, 'asleep': 1369, 'helped': 1370, 'cutting': 1371, 'jet': 1372, 'monday': 1373, 'perhaps': 1374, 'tales': 1375, 'throw': 1376, 'watch': 1377, 'hired': 1378, 'invitation': 1379, 'been': 1380, 'take': 1381, \"what's\": 1382, 'worth': 1383, 'although': 1384, 'detective': 1385, 'working': 1386, 'stitch': 1387, 'friend': 1388, 'england': 1389, 'ten': 1390, 'hair': 1391, 'center': 1392, '1899': 1393, 'nodded': 1394, 'table': 1395, 'eat': 1396, 'stream': 1397, 'dances': 1398, 'asap': 1399, 'promises': 1400, 'country': 1401, 'three': 1402, 'mirror': 1403, 'beat': 1404, 'report': 1405, 'football': 1406, 'mountain': 1407, 'riding': 1408, 'missing': 1409, 'down!': 1410, 'subway': 1411, 'raining': 1412, 'harder': 1413, 'traditions': 1414, 'logged': 1415, 'minutes': 1416, 'angry': 1417, 'mexican': 1418, 'map': 1419, 'toys': 1420, 'its': 1421, 'hesitation': 1422, 'hesitate': 1423, 'light': 1424, 'asked': 1425, 'disturb': 1426, 'monkeys': 1427, 'marriage': 1428, 'sailing': 1429, 'latest': 1430, \"what'll\": 1431, 'suddenly': 1432, 'liars': 1433, 'lunch': 1434, 'marvels': 1435, 'wasting': 1436, 'x-rays': 1437, 'sure': 1438, 'movie': 1439, 'offered': 1440, 'india': 1441, 'mistaken': 1442, 'topics': 1443, 'chocolate': 1444, 'esperanto': 1445, 'gift': 1446, 'revolution': 1447, 'what': 1448, 'memory': 1449, 'lights': 1450, \"it's\": 1451, 'judge': 1452, 'address': 1453, 'police': 1454, 'cooked': 1455, 'result': 1456, 'worried': 1457, 'spoon': 1458, 'shirt': 1459, 'worn': 1460, 'joined': 1461, 'discover': 1462, 'lincoln': 1463, 'expectations': 1464, 'writer': 1465, 'racket': 1466, 'accidents': 1467, '\"i': 1468, 'baked': 1469, 'proposal': 1470, 'excellent': 1471, 'ideas': 1472, 'rings': 1473, 'explanation': 1474, 'sunny': 1475, 'style': 1476, 'earlier': 1477, 'pride': 1478, 'run': 1479, 'person': 1480, 'silver': 1481, 'behave': 1482, 'cents': 1483, 'wallet': 1484, 'white': 1485, 'why': 1486, 'consider': 1487, '1972': 1488, \"barber's\": 1489, 'lately': 1490, \"don't\": 1491, 'else': 1492, 'flea': 1493, 'cannot': 1494, 'evening': 1495, 'music': 1496, 'strong': 1497, 'coke': 1498, 'tail': 1499, 'off': 1500, 'sentences': 1501, 'undamaged': 1502, \"we're\": 1503, 'waited': 1504, 'hawaii': 1505, 'maybe': 1506, 'owner': 1507, 'blamed': 1508, 'sat': 1509, 'thunder': 1510, 'that': 1511, 'night': 1512, 'approval': 1513, 'idea': 1514, 'detailed': 1515, 'radium': 1516, 'talks': 1517, 'idiot': 1518, 'a': 1519, 'into': 1520, 'door': 1521, 'passive': 1522, 'to': 1523, 'it': 1524, 'vase': 1525, 'meat': 1526, 'fluent': 1527, \"haven't\": 1528, 'talked': 1529, 'known': 1530, 'britain': 1531, 'problems': 1532, 'mention': 1533, 'several': 1534, 'keeps': 1535, 'one': 1536, 'ever': 1537, 'sing': 1538, 'dictionary': 1539, 'clean': 1540, 'glad': 1541, 'cup': 1542, 'mad': 1543, 'popular': 1544, 'subjects': 1545, 'window': 1546, 'coat': 1547, 'warmly': 1548, 'intention': 1549, 'reduced': 1550, 'health': 1551, 'blue': 1552, \"should've\": 1553, 'teenager': 1554, 'whispered': 1555, 'hoped': 1556, 'floor': 1557, 'only': 1558, 'children': 1559, 'taxi': 1560, 'summer': 1561, 'pencils': 1562, 'type': 1563, 'delete': 1564, 'fell': 1565, 'worthless': 1566, 'wig': 1567, 'page': 1568, 'sooner': 1569, 'eager': 1570, 'eight-year-old': 1571, 'both': 1572, 'worse': 1573, 'spanish': 1574, 'money': 1575, 'best': 1576, 'exam': 1577, 'getting': 1578, 'does': 1579, 'regret': 1580, 'habit': 1581, 'have': 1582, 'confess': 1583, 'opportunity': 1584, 'coal': 1585, 'personal': 1586, 'france': 1587, 'knows': 1588, 'finish': 1589, 'passed': 1590, 'tried': 1591, 'survive': 1592, 'grade': 1593, 'crying': 1594, \"people's\": 1595, 'nothing': 1596, 'skies': 1597, 'thief': 1598, 'train': 1599, 'irritable': 1600, 'lion': 1601, \"i'll\": 1602, 'can': 1603, 'mean': 1604, 'size': 1605, 'variety': 1606, 'dry': 1607, 'must': 1608, 'cry': 1609, 'strike': 1610, 'express': 1611, 'little': 1612, 'united': 1613, 'cars': 1614, 'between': 1615, 'walk': 1616, 'studies': 1617, 'understood': 1618, 'mondays': 1619, 'paper': 1620, 'business': 1621, 'arabic': 1622, 'signed': 1623, 'marry': 1624, 'sammy': 1625, 'pollen': 1626, 'ship': 1627, 'sushi': 1628, 'sitting': 1629, 'live': 1630, 'accompanied': 1631, 'bucket': 1632, 'computer': 1633, 'withered': 1634, '6': 1635, 'people': 1636, 'brothers': 1637, 'half': 1638, 'stars': 1639, 'became': 1640, 'degrees': 1641, 'street': 1642, 'assignment': 1643, 'frightened': 1644, 'novel': 1645, 'english': 1646, 'seen': 1647, 'cost': 1648, 'machine': 1649, 'cleared': 1650, 'countries': 1651, 'climbed': 1652, 'teachers': 1653, 'experience': 1654, 'started': 1655, 'anxious': 1656, 'shut': 1657, 'strawberries': 1658, 'items': 1659, 'spell': 1660, '600': 1661, 'volcano': 1662, 'magazines': 1663, 'cds': 1664, 'severe': 1665, 'rid': 1666, 'puppy': 1667, '10th': 1668, 'answers': 1669, 'rubbish': 1670, 'carry': 1671, 'tidal': 1672, 'truly': 1673, 'across': 1674, 'resembles': 1675, 'mice': 1676, 'taken': 1677, 'later': 1678, 'stronger': 1679, 'friday': 1680, 'teens': 1681, 'breathing': 1682, 'license': 1683, 'over': 1684, 'enjoy': 1685, 'done': 1686, 'possess': 1687, 'agreed': 1688, 'creature': 1689, 'black': 1690, 'thank': 1691, 'agency': 1692, 'mike': 1693, 'bit': 1694, 'true': 1695, 'goals': 1696, 'trying': 1697, 'pacemaker': 1698, 'us': 1699, 'london': 1700, 'guys': 1701, 'place': 1702, 'cat': 1703, 'expected': 1704, 'story': 1705, 'market': 1706, 'with': 1707, 'scar': 1708, 'six': 1709, 'guide': 1710, 'bike': 1711, 'trust': 1712, 'listening': 1713, 'garden': 1714, 'back': 1715, 'products': 1716, 'under': 1717, '$300': 1718, 'sleeping': 1719, 'hole': 1720, 'normal': 1721, 'production': 1722, 'order': 1723, 'differ': 1724, 'upon': 1725, 'trains': 1726, 'resented': 1727, 'stretched': 1728, 'fill': 1729, 'sweater': 1730, 'hill': 1731, 'tell': 1732, 'beans': 1733, 'accept': 1734, 'steep': 1735, 'survivors': 1736, 'help': 1737, 'silent': 1738, 'fries': 1739, 'languages': 1740, 'habits': 1741, 'oysters': 1742, 'main': 1743, 'don\\'t\"': 1744, 'kitchen': 1745, 'weaknesses': 1746, 'abated': 1747, 'immediately': 1748, 'number': 1749, 'expert': 1750, 'armed': 1751, 'funeral': 1752, 'drew': 1753, 'means': 1754, '\"that\\'s': 1755, 'activity': 1756, 'speaking': 1757, \"isn't\": 1758, 'falls': 1759, 'accused': 1760, 'certainly': 1761, 'lake': 1762, 'debt': 1763, 'poker': 1764, 'round': 1765, 'pen': 1766, 'fall': 1767, 'vacuum': 1768, 'engineer': 1769, 'repaired': 1770, 'their': 1771, 'vaguely': 1772, 'new': 1773, 'definitely': 1774, 'him': 1775, 'pretended': 1776, 'forest': 1777, 'rarely': 1778, 'tsunami': 1779, 'irresistible': 1780, 'respecting': 1781, 'rackets': 1782, 'things': 1783, 'squeezed': 1784, 'tea': 1785, \"here's\": 1786, 'hobby': 1787, 'soft': 1788, 'far': 1789, 'soldiers': 1790, 'bed': 1791, 'reason': 1792, 'work': 1793, 'sigh': 1794, 'talking': 1795, 'swimming': 1796, 'cut': 1797, 'stores': 1798, '\"when': 1799, '\"why': 1800, 'am': 1801, 'corrected': 1802, \"couldn't\": 1803, 'plays': 1804, 'food': 1805, 'sit': 1806, 'dangerous!': 1807, 'artist': 1808, 'truth': 1809, 'speech': 1810, 'situation': 1811, 'begging': 1812, 'is': 1813, 'gun': 1814, 'her': 1815, 'had': 1816, 'listen': 1817, 'flows': 1818, 'probably': 1819, 'paying': 1820, 'desirable': 1821, 'out': 1822, 'department': 1823, 'baikal': 1824, 'spoke': 1825, 'handed': 1826, 'unlikely': 1827, 'height': 1828, 'start': 1829, 'policy': 1830, 'some': 1831, 'meaning': 1832, 'scared': 1833, 'fighting': 1834, 'anybody': 1835, 'subscribe': 1836, 'could': 1837, 'cash': 1838, 'tomatoes': 1839, 'refused': 1840, 'doubt': 1841, 'nail': 1842, 'shelf': 1843, 'travel': 1844, 'mom': 1845, 'pirate': 1846, 'foods': 1847, 'drank': 1848, 'extra': 1849, 'minute': 1850, 'seventeenth': 1851, 'tom': 1852, 'wild': 1853, 'yesterday': 1854, 'raising': 1855, 'studied': 1856, 'miss': 1857, 'fresh': 1858, 'they': 1859, 'difficult': 1860, 'independence': 1861, 'nobel': 1862, 'talented': 1863, \"didn't\": 1864, 'expect': 1865, 'lock': 1866, 'none': 1867, 'talk': 1868, 'climate': 1869, 'empty': 1870, 'able': 1871, 'thought': 1872, 'scary': 1873, 'party': 1874, 'ready': 1875, 'loved': 1876, 'correct': 1877, 'complained': 1878, 'unfortunate!': 1879, 'nice': 1880, 'menu': 1881, 'face': 1882, 'each': 1883, 'capital': 1884, 'suitcases': 1885, 'hate': 1886, 'plane': 1887, 'ride': 1888, 'exact': 1889, 'road': 1890, 'leaned': 1891, 'eighty-one': 1892, 'cats': 1893, 'elbows': 1894, 'prices': 1895, 'japan': 1896, 'whisky': 1897, 'parties': 1898, 'mommy': 1899, 'fear': 1900, 'library': 1901, 'baseball': 1902, 'hanging': 1903, 'took': 1904, 'swam': 1905, 'parents': 1906, 'deaths': 1907, 'dance': 1908, 'hide': 1909, 'noise': 1910, 'planes': 1911, 'though': 1912, 'way': 1913, 'deserves': 1914, 'strictly': 1915, 'earned': 1916, 'girls': 1917, 'starts': 1918, 'but': 1919, 'either': 1920, 'everyone': 1921, 'become': 1922, 'history': 1923, 'favorite': 1924, 'winter': 1925, 'timetable': 1926, 'roll': 1927, 'parade': 1928, 'fed': 1929, 'skiing': 1930, 'producer': 1931, 'pounds': 1932, 'expensive': 1933, 'handball': 1934, 'zero': 1935, 'cottage': 1936, 'deepest': 1937, 'before': 1938, 'songs': 1939, 'quickly': 1940, 'secret': 1941, 'knowledge': 1942, 'raw': 1943, 'supposed': 1944, 'spoken': 1945, 'exercise': 1946, 'forever': 1947, 'slept': 1948, 'read': 1949, 'robbery': 1950, 'alive': 1951, 'employees': 1952, 'australia': 1953, 'saw': 1954, 'use': 1955, 'schedule': 1956, 'being': 1957, 'clock': 1958, 'smoke': 1959, 'mine': 1960, 'now': 1961, 'addressed': 1962, 'closes': 1963, 'device': 1964, 'time': 1965, 'progressing': 1966, 'beautiful': 1967, 'hat': 1968, 'familiar': 1969, 'ought': 1970, 'responsible': 1971, 'indeed': 1972, \"you're\": 1973, 'color': 1974, 'while': 1975, 'recommend': 1976, 'or': 1977, 'dust': 1978, 'after': 1979, 'persecuted': 1980, \"doctor's\": 1981, \"hasn't\": 1982, 'care!': 1983, 'pie': 1984, '\"where': 1985, 'keen': 1986, 'trace': 1987, 'stranger': 1988, 'adopt': 1989, 'destroyed': 1990, 'everybody': 1991, 'friendship': 1992, 'believe': 1993, 'search': 1994, 'many': 1995, 'europe': 1996, 'foxes': 1997, 'feels': 1998, 'first': 1999, 'missed': 2000, 'neighbor': 2001, 'bring': 2002, 'years': 2003, 'further': 2004, 'part': 2005, 'seminar': 2006, 'czech': 2007, 'broke': 2008, 'alone': 2009, 'was!': 2010, 'house\"': 2011, 'needed': 2012, 'novels': 2013, 'kick': 2014, 'teaching': 2015, 'brought': 2016, 'day': 2017, 'mood': 2018, '100-meter': 2019, 'vat': 2020, 'curie': 2021, 'tore': 2022, 'bag': 2023, 'study': 2024, 'wears': 2025, 'quit': 2026, \"we'd\": 2027, \"must've\": 2028, 'student': 2029, 'kinds': 2030, 'skates': 2031, 'university': 2032, 'how': 2033, 'south': 2034, 'intent': 2035, 'allergic': 2036, 'safety': 2037, 'quarter': 2038, 'bumped': 2039, 'fast': 2040, 'dollars': 2041, 'frequent': 2042, '40000': 2043, 'architecture': 2044, 'birthday': 2045, 'we': 2046, 'goods': 2047, 'not\"': 2048, 'optimists': 2049, 'camera': 2050, 'holes': 2051, 'agree': 2052, 'touch': 2053, 'liking': 2054, 'bear': 2055, 'passport': 2056, 'chance': 2057, 'meeting': 2058, 'returning': 2059, 'assistant': 2060, 'drives': 2061, 'turns': 2062, 'call': 2063, 'woman': 2064, 'owes': 2065, 'station': 2066, 'confidence': 2067, 'occasionally': 2068, 'fly': 2069, 'path': 2070, 'making': 2071, 'comes': 2072, 'alert': 2073, \"dad's\": 2074, 'snow': 2075, 'rumor': 2076, 'shopping': 2077, 'law': 2078, 'bill': 2079, 'moonlight': 2080, 'sent': 2081, 'data': 2082, 'looked': 2083, 'temperature': 2084, 'seat': 2085, 'acid': 2086, 'also': 2087, 'jeans': 2088, 'comics': 2089, 'eggs': 2090, 'accomplish': 2091, 'clear': 2092, 'arm': 2093, 'fifty': 2094, 'advertising': 2095, 'well': 2096, 'watching': 2097, 'suggestions': 2098, 'apologized': 2099, 'received': 2100, 'die': 2101, 'energy': 2102, 'i': 2103, 'throat': 2104, 'salt': 2105, 'celebrate': 2106, 'actinium': 2107, 'tiger': 2108, 'peg': 2109, 'attend': 2110, 'which': 2111, 'thinks': 2112, 'questioned': 2113, 'ears': 2114, 'motorcycle': 2115, 'leaving': 2116, 'below': 2117, 'coffee': 2118, 'pessimists': 2119, 'strengths': 2120, 'fork': 2121, 'seems': 2122, 'stamp': 2123, 'shoulder': 2124, 'wanted': 2125, 'open': 2126, 'our': 2127, 'show': 2128, 'cleaners': 2129, \"let's\": 2130, 'date': 2131, 'chair': 2132, 'stole': 2133, 'poet': 2134, 'almost': 2135, 'rainbow': 2136, 'approved': 2137, 'city': 2138, 'vegetables': 2139, 'single': 2140, 'fees': 2141, 'ordered': 2142, 'since': 2143, 'cap': 2144, 'mix': 2145, 'did': 2146, 'third': 2147, 'seven': 2148, 'astronomy': 2149, 'opportunities': 2150, 'list': 2151, 'check': 2152, 'popcorn': 2153, 'hated': 2154, 'early': 2155, 'by': 2156, 'implying': 2157, 'season': 2158, 'says': 2159, 'driver': 2160, \"country's\": 2161, 'forget': 2162, 'sales': 2163, 'today': 2164}\n",
      "\n",
      "target index:\n",
      "{'低于': 0, '终于': 1, '跟': 2, '拼命': 3, '短信': 4, '星期三': 5, '許多花': 6, '期望': 7, '架上': 8, '施工': 9, '海豚': 10, '空气': 11, '可惜': 12, '炎热': 13, '”': 14, '侦探小说': 15, '风暴': 16, '父亲': 17, '離家': 18, '雜誌': 19, '幫忙': 20, '不要': 21, '妻子': 22, '表示': 23, '好意': 24, '飽': 25, '去世': 26, '家伙': 27, '聖誕節': 28, '此刻': 29, '豐盛': 30, '如此': 31, '難以': 32, '牛奶': 33, '之中': 34, '收起': 35, '怎麼樣': 36, '湯姆寫': 37, '独自': 38, '无聊': 39, '槍': 40, '晴转': 41, '還多': 42, '真想': 43, '帶': 44, '怎样': 45, '那个': 46, '那儿': 47, '一页': 48, '訂購': 49, '減肥': 50, '方法': 51, '翻譯成': 52, '黄色': 53, '池塘': 54, '明信片': 55, '钢琴': 56, '敌人': 57, '典型': 58, '壓力': 59, '很準': 60, '间': 61, '擋': 62, '干净': 63, '打扑克': 64, '樓': 65, '离开': 66, '小別勝': 67, '信封': 68, '搬': 69, '洋裝': 70, '埃及': 71, '同意': 72, '于': 73, '登出': 74, '是': 75, '底下': 76, '受夠': 77, '心里': 78, '仔細地': 79, '原因': 80, '生氣': 81, '嬰兒': 82, '卧室': 83, '被选为': 84, '关心': 85, '明天': 86, '洗': 87, '人口': 88, '會議': 89, '阅兵式': 90, '意图': 91, '出話': 92, '要安靜': 93, '生產': 94, '完全': 95, '牙医': 96, '渴望': 97, '百米': 98, '衬衫': 99, '英國': 100, '廣告': 101, '溫暖': 102, '明白': 103, '喝下': 104, '山上': 105, '缝纫': 106, '它當': 107, '看漫畫': 108, '响': 109, '短裙': 110, '狐狸': 111, '沒用': 112, '作业': 113, '心意': 114, '放学': 115, '报纸': 116, '反': 117, '街上': 118, '亲自': 119, '實際': 120, '答案': 121, '意思': 122, '家小': 123, '湯姆愛': 124, '减弱': 125, '的': 126, '些': 127, '把帳': 128, '寒冷': 129, '裏': 130, '没凉': 131, '保存': 132, '精心': 133, '远离': 134, '我無法': 135, '懒': 136, '总是': 137, '喝蘋': 138, '我父': 139, '宽松': 140, '過美國': 141, '湯姆想': 142, '无可奉告': 143, '那辆': 144, '一切': 145, '舊手': 146, '三年': 147, '做成': 148, '幫助': 149, '测验': 150, '感到': 151, '因为': 152, '盡': 153, '花園裡': 154, '外出': 155, '拥有': 156, '很遠': 157, '公交车': 158, '都': 159, '車的': 160, '十美元': 161, '不留': 162, '大城市': 163, '错': 164, '做': 165, '屋子': 166, '打電話': 167, '淡': 168, '三份': 169, '買車': 170, '进来': 171, '没有': 172, '走路': 173, '短': 174, '老得': 175, '電腦': 176, '電影': 177, '建議': 178, '谈论': 179, '墨西哥人': 180, '意义': 181, '准时': 182, '们': 183, '剪成': 184, '天文': 185, '天使': 186, '孩子': 187, '久别': 188, '哪个': 189, '獸醫': 190, '收到': 191, '原谅': 192, '古典音乐': 193, '我要': 194, '方式': 195, '女孩': 196, '電話': 197, '右转': 198, '往返': 199, '跳': 200, '灵敏': 201, '我訂': 202, '挖苦': 203, '家门口': 204, '沒人': 205, '相處': 206, '约会': 207, '潮湿': 208, '给': 209, '十六': 210, '人们': 211, '下载': 212, '明智': 213, '機會': 214, '湯姆能': 215, '从': 216, '好看': 217, '额外': 218, '顿饭': 219, '出来': 220, '打來': 221, '挾在': 222, '控制': 223, '什麼': 224, '前进': 225, '挥金如土': 226, '讲座': 227, '之内': 228, '買': 229, '隨時': 230, '看過': 231, '貝加爾湖': 232, '很': 233, '變暗': 234, '区别': 235, '会议': 236, '市中心': 237, '傻瓜': 238, '力量': 239, '家庭': 240, '英文': 241, '下车': 242, '天空': 243, '!': 244, '波士顿': 245, '很大': 246, '玩具兵': 247, '学法语': 248, '閱讀': 249, '今天': 250, '了不起': 251, '學': 252, '及': 253, '天氣': 254, '歌手': 255, '能': 256, '每年': 257, '照相': 258, '归功于': 259, '難': 260, '會': 261, '找個屬': 262, '瑪莉': 263, '写过信': 264, '飲': 265, '最近': 266, '而聞名': 267, '事': 268, '部門': 269, '有点': 270, '恭聽': 271, '科目': 272, '承认': 273, '一口': 274, '踪迹': 275, '道理': 276, '注意力': 277, '坐下': 278, '我病': 279, '意': 280, '指派': 281, '德語': 282, '喜欢': 283, '条': 284, '律師': 285, '已婚': 286, '他怕': 287, '一周': 288, '一位': 289, '一名': 290, '身子': 291, '醫生': 292, '五個': 293, '羽毛球': 294, '刀': 295, '冷': 296, '寄': 297, '闆': 298, '很貴': 299, '正': 300, '早饭': 301, '兩年': 302, '危險': 303, '吃快餐': 304, '取名': 305, '太暗': 306, '盲鄰': 307, '訓斥': 308, '歲': 309, '電台': 310, '想到': 311, '照片': 312, '生日': 313, '年代': 314, '盡疑': 315, '經常去': 316, '考試': 317, '我': 318, '再见': 319, '樂瘋': 320, '3': 321, '声音': 322, '更加': 323, '中音': 324, '準確': 325, '富士山': 326, '導': 327, '可樂': 328, '公尺': 329, '一年': 330, '時光': 331, '遗憾': 332, '行李': 333, '不错': 334, '拍照片': 335, '圓臉': 336, '只給': 337, '人用': 338, '幫點': 339, '圣诞礼物': 340, '但是': 341, '店里': 342, '话题': 343, '鐳': 344, '伸出': 345, '灰尘': 346, '面包': 347, '劇社': 348, '贏了': 349, '开始': 350, '將頭': 351, '女生': 352, '從': 353, '再待': 354, '一场': 355, '父親': 356, '差點': 357, '外遇': 358, '一會兒': 359, '足球': 360, '獲得諾': 361, '震': 362, 'CD': 363, '黑色': 364, '市場': 365, '留': 366, '不太好': 367, '手里': 368, '像': 369, '冻': 370, '地球': 371, '書籍': 372, '尽力而为': 373, '我們': 374, '附近': 375, '看看': 376, '游得': 377, '離開': 378, '繁星点点': 379, '這是': 380, '一下': 381, '從動物園': 382, '時分': 383, '還有': 384, '那個': 385, '意見': 386, '遭殃': 387, '以后': 388, '关于': 389, '此事': 390, '十只': 391, '請問': 392, '該': 393, '摔倒': 394, '忠告': 395, '不可': 396, '射中': 397, '愚人': 398, '茶': 399, '他會來': 400, '工相處': 401, '这': 402, '十元': 403, '动物园': 404, '不怕': 405, '天上': 406, '说谎': 407, '之間': 408, '假': 409, '晚饭': 410, '令人': 411, '湯姆是': 412, '倫敦': 413, '獅尾': 414, '变糟': 415, '通常': 416, '不吃': 417, '期限': 418, '事上': 419, '見面': 420, '起初': 421, '函館': 422, '顯然': 423, '他會': 424, '達': 425, '問題給': 426, '中': 427, '獨自': 428, '一天': 429, '足夠': 430, '失明': 431, '旁边': 432, '時間': 433, '放棄': 434, '谈话': 435, '蘋果': 436, '死人': 437, '助理': 438, '操場': 439, '日期': 440, '喔': 441, '一起': 442, '說': 443, '调音师': 444, '理发店': 445, '新律師': 446, '罵': 447, '漂亮': 448, '学生': 449, '减价': 450, '真相': 451, '车': 452, '母親': 453, '月': 454, '学了': 455, '30': 456, '长期': 457, '上司': 458, '微笑': 459, '前高': 460, '做到': 461, '毫无': 462, '普通': 463, '波士': 464, '燈變': 465, '国外': 466, '大约': 467, '講外語': 468, '开除': 469, '叔叔': 470, '計劃': 471, '大部分': 472, '哪里': 473, '箱子': 474, '我能': 475, '早晨': 476, '赞同': 477, '妈妈': 478, '旧书': 479, '意外': 480, '真走運': 481, '重新启动': 482, '钱': 483, '人谈过': 484, '慢慢': 485, '長': 486, '你们': 487, '七點': 488, '位置': 489, '裤子': 490, '不怕死': 491, '大貓': 492, '河對岸': 493, '云': 494, '被': 495, '棉花': 496, '还好': 497, '老': 498, '写下': 499, '愛': 500, '猶新': 501, '炸彈': 502, '鎖上': 503, '帮': 504, '午饭': 505, '一些': 506, '生产日期': 507, '一杯': 508, '邀': 509, '出去': 510, '把门': 511, '大聲': 512, '列車': 513, '胡椒': 514, '愛我': 515, '丢': 516, '飛機': 517, '兩份': 518, '現金': 519, '感冒': 520, '同一个': 521, '煮': 522, '夜晚': 523, '只能': 524, '男孩': 525, '想要': 526, '這句': 527, '生存': 528, '亚洲': 529, '英语': 530, '早餐': 531, '一台': 532, '所有': 533, '百萬': 534, '爱好': 535, '對面': 536, '這場': 537, '猫': 538, '山崩': 539, '掩盖真相': 540, '拉斯': 541, '父母': 542, '信任': 543, '鸡蛋': 544, '现已': 545, '这药': 546, '不想': 547, '书': 548, '湯姆說': 549, '出國': 550, '鐘': 551, '参': 552, '穿着': 553, '吻': 554, '過世': 555, '法官': 556, '昨天': 557, '马上': 558, '飯': 559, '貓頭': 560, '正密謀要': 561, '成綠色': 562, '不少': 563, '城市': 564, '樂觀者': 565, '再給': 566, '他够': 567, '小时候': 568, '五十': 569, '不必': 570, '圓的': 571, '服務': 572, '骆驼': 573, '不': 574, '善用': 575, '持续': 576, '書店': 577, '抢劫': 578, '总': 579, '生意': 580, '紧张': 581, '医院': 582, '七月': 583, '才华': 584, '体育': 585, '坐': 586, '調': 587, '穩定': 588, '成': 589, '我愛派': 590, '寢': 591, '年轻': 592, '\\n': 593, '麻煩': 594, '經贏': 595, '車站': 596, '五月': 597, '买': 598, '怎么': 599, '不為': 600, '自行': 601, '美麗': 602, '優秀': 603, '教室': 604, '遠': 605, '外形': 606, '三个': 607, '躲雨': 608, '很小': 609, '哈姆雷特': 610, '告訴': 611, '阿拉伯文': 612, '手球': 613, '樂': 614, '公车上': 615, '切': 616, '知': 617, '一邊': 618, '又': 619, '看电视': 620, '學生': 621, '結束': 622, '開燈': 623, '面帶': 624, '刚刚': 625, '停下': 626, 'Tom': 627, '過得': 628, '消耗': 629, '湯姆給': 630, '釘子': 631, '電視關': 632, '生命': 633, '這裡': 634, '男人': 635, '行為': 636, '鸚鵡作': 637, '沒告': 638, '日語': 639, '脸红': 640, '回来': 641, '更长': 642, '車子': 643, '偿还债务': 644, '九点': 645, '為': 646, '婚姻': 647, '看著': 648, '达到': 649, '許多國家': 650, '兩堂': 651, '小偷': 652, '法語': 653, '青少年': 654, '送到': 655, '告诉您': 656, '并': 657, '迷路': 658, '即将': 659, '药方': 660, '法國菜': 661, '車去': 662, '懶': 663, '母亲': 664, '派对': 665, '最好': 666, '五分钟': 667, '跟着': 668, '幸福': 669, '阵雨': 670, '路': 671, '评论': 672, '語言': 673, '生气': 674, '了點': 675, '那里': 676, '闖入': 677, '做梦': 678, '中國菜': 679, '雷泽车': 680, '和': 681, '之前': 682, '铅笔': 683, '主要': 684, '加入': 685, '约翰': 686, '那本': 687, '確是': 688, '一整天': 689, '很會': 690, '演讲': 691, '牙膏': 692, '行星': 693, '留給': 694, '月光': 695, '起來': 696, '干吗': 697, '热爱': 698, '气温': 699, '星期一': 700, '提提': 701, '臭': 702, '公寓': 703, '幸运': 704, '80': 705, '约': 706, '員': 707, '或': 708, '餐馆': 709, '大洞': 710, '學校': 711, '殺害': 712, '人來': 713, '绑': 714, '傷害': 715, '考慮': 716, '一生': 717, '不是': 718, '周末': 719, '仙台': 720, '義': 721, '隔壁': 722, '一封信': 723, '管理': 724, '看新聞': 725, '多長': 726, '电影': 727, '女儿': 728, '好': 729, '吸尘器': 730, '那麼': 731, '經常': 732, '装': 733, '害怕': 734, '口渴': 735, '這輛': 736, '這台': 737, '頂上': 738, '这是': 739, '名单': 740, '眼镜': 741, '下列': 742, '历史课': 743, '說出': 744, '恰巧': 745, '木板': 746, '最后': 747, '痴迷': 748, '伤害': 749, '、': 750, '點吃': 751, '有人': 752, '乡间': 753, '程式': 754, '这会': 755, '涉及': 756, '當老': 757, '偶爾有': 758, '出生': 759, '親自去': 760, '脫下': 761, '這顆': 762, '白天': 763, '開卡車': 764, '太轻': 765, '降落': 766, '永遠': 767, '總算準': 768, '一枝': 769, '睡': 770, '隊員': 771, '字典': 772, '一九七二年': 773, '安靜': 774, '海滩': 775, '消防': 776, '严格': 777, '曾經': 778, '挺': 779, '飯店': 780, '带来': 781, '台前': 782, '我裝': 783, '左边': 784, '接到': 785, '物品': 786, '想不起': 787, '学习': 788, '收音机': 789, '上學': 790, '大房子': 791, '工人': 792, '可以': 793, '举': 794, '晚餐': 795, '感謝': 796, '作業': 797, '偶然': 798, '俄羅斯': 799, '報紙': 800, '情': 801, '湯': 802, '一條魚': 803, '鄉': 804, '客廳': 805, '隨便': 806, '私立学校': 807, '還': 808, '必要': 809, '職位': 810, '接近': 811, '家具': 812, '機': 813, '20': 814, '讀書': 815, '极其': 816, '用': 817, '本地人': 818, '好像': 819, '無照': 820, '保持': 821, '記憶': 822, '只有': 823, '沒': 824, '汽车': 825, '我怕': 826, '瑞士人': 827, '司機': 828, '系上': 829, '辯解': 830, '继': 831, '星星': 832, '一餐': 833, '乾': 834, '太多': 835, '錢': 836, '尽管': 837, '不耐烦': 838, '靠': 839, '必须': 840, '花园里': 841, '破产': 842, '液体': 843, '感受': 844, '收拾': 845, '蔬菜': 846, '？': 847, '爭論': 848, '第三季': 849, '刷': 850, '今晚': 851, '能生': 852, '很多': 853, '十日': 854, '不好': 855, '急': 856, '走来': 857, '巨大': 858, '要求': 859, '当': 860, '獨自去': 861, '承諾': 862, '下毒': 863, '多少': 864, '容易': 865, '見過': 866, '不起': 867, '胡说': 868, '笔': 869, '那家': 870, '家人': 871, '明並': 872, '社': 873, '再也': 874, '頓': 875, '看上去': 876, '你安頓': 877, '暗示': 878, '带些': 879, '可否': 880, '甚麼': 881, 'Facebook': 882, '從倫敦': 883, '着': 884, '呢': 885, '我誤': 886, '地': 887, '領導人': 888, '公共': 889, '太大': 890, '四年': 891, '政策': 892, '地多': 893, '何時': 894, '他会': 895, '不带': 896, '太贵': 897, '逃出': 898, '红绿灯': 899, '有些': 900, '计较': 901, '橋有': 902, '建造': 903, '地震': 904, '填': 905, '毫無價值': 906, '火鸡': 907, '向': 908, '語': 909, '郵票': 910, '起床': 911, '那太': 912, '成功': 913, '多数': 914, '6000': 915, '鋼琴': 916, '站': 917, '蕃茄': 918, '居': 919, '有空': 920, '外国人': 921, '午餐': 922, '应当': 923, '你換': 924, '無論': 925, '恨': 926, '但': 927, '試著': 928, '副': 929, '相反': 930, '后会有期': 931, '我本': 932, '柳橙汁': 933, '摧毀': 934, '跑': 935, '只是': 936, '哪本': 937, '从没': 938, '日出': 939, '读书': 940, '時銷售': 941, '桥': 942, '外语': 943, '如昔': 944, '邀請': 945, '了如指掌': 946, '檢查': 947, '損壞': 948, '册': 949, '基础': 950, '小洞': 951, '无法': 952, '抱怨': 953, '新鲜': 954, '唱片': 955, '对': 956, '彼此': 957, '这事': 958, '满月': 959, '摩托': 960, '號碼': 961, '世纪': 962, '擔任': 963, '飛逝': 964, '第二': 965, '本書': 966, '梯子': 967, '坐到': 968, '搬出去': 969, '主管': 970, '各种各样': 971, '学校': 972, '散步': 973, '大写字母': 974, '手': 975, '這事': 976, '度沸騰': 977, '塑料': 978, '超市': 979, '下定': 980, '回': 981, '這座': 982, '说服': 983, '回家': 984, '想得到': 985, '病倒': 986, '100': 987, '免遭': 988, '咖啡': 989, '既': 990, '今天天气': 991, '只': 992, '销售': 993, '发生': 994, '很早': 995, '計程車': 996, '政治家': 997, '平均水平': 998, '小屋': 999, '解決': 1000, '阻斷': 1001, '建立': 1002, '電視': 1003, '獲得': 1004, '頓住過': 1005, '习惯': 1006, '个情': 1007, '传统': 1008, '提供': 1009, '浪费时间': 1010, '困死': 1011, '遛狗': 1012, '幫個': 1013, '不論': 1014, '地毯': 1015, '爆米花': 1016, '且': 1017, '胶水': 1018, '湯姆還': 1019, '非常': 1020, '烤': 1021, '纽约': 1022, '滑雪': 1023, '这尽够': 1024, '週去還': 1025, '支持': 1026, '口误': 1027, '去年': 1028, '讀過': 1029, '談論': 1030, '機場': 1031, '顏色': 1032, '好久': 1033, '打电话': 1034, '聚会': 1035, '搭公車': 1036, '树林': 1037, '模糊': 1038, '做什麼': 1039, '褐色': 1040, '伊拉克': 1041, '每首歌': 1042, '比较': 1043, '死': 1044, '當我到': 1045, '成為': 1046, '英国': 1047, '死去': 1048, '問題': 1049, '！': 1050, '长时间': 1051, '打電話給': 1052, '睡著': 1053, '最终': 1054, '結婚': 1055, '拿': 1056, '有長頭': 1057, '友谊': 1058, '老師': 1059, '帽子': 1060, '新車': 1061, '下午': 1062, '會住': 1063, '惊讶': 1064, '让': 1065, '正忙': 1066, '母语': 1067, '恢': 1068, '一張': 1069, '我刚': 1070, '吃過': 1071, '硫酸': 1072, '零在': 1073, '贵': 1074, '剩下': 1075, '南部': 1076, '做飯': 1077, '她給': 1078, '市长': 1079, '設法': 1080, '起': 1081, '玩得': 1082, '確切': 1083, '一份': 1084, '所知': 1085, '减肥': 1086, '部分': 1087, '鐘聲響': 1088, '不會': 1089, '工作': 1090, '伊朗': 1091, '理化': 1092, '房间': 1093, '律师': 1094, '盗版': 1095, '天公': 1096, '給湯姆': 1097, '照耀': 1098, '要命': 1099, '该': 1100, '1789': 1101, '湯姆將': 1102, '取得': 1103, '時補': 1104, '車': 1105, '指望': 1106, '記別': 1107, '軍隊': 1108, '周五': 1109, '犬': 1110, '进': 1111, '之一': 1112, '完書': 1113, '叫': 1114, '樓上': 1115, '25': 1116, '地以': 1117, '不應': 1118, '地图': 1119, '亮': 1120, '適合': 1121, '不成器': 1122, '柳橙': 1123, '常常': 1124, '入场费': 1125, '還能': 1126, '閱了': 1127, '这条': 1128, '被動': 1129, '不停': 1130, '打開': 1131, '工程': 1132, '羅': 1133, '难': 1134, '自己': 1135, '用功': 1136, '前面': 1137, '暑假': 1138, '戰時': 1139, '一瓶': 1140, '湯姆': 1141, '奶油': 1142, '跳蚤': 1143, '下雪': 1144, '髮': 1145, '英俊': 1146, '乾旱': 1147, '課': 1148, '喝酒': 1149, '出去玩': 1150, '迷茫': 1151, '唯一': 1152, '話': 1153, '哪份': 1154, '還不結婚': 1155, '降低': 1156, '夏威夷': 1157, '先下手为强': 1158, '诡计': 1159, '生菜': 1160, '驾车': 1161, '全是': 1162, '复杂': 1163, '奇怪': 1164, '收下': 1165, '願望': 1166, '接': 1167, '山窮水': 1168, '周日': 1169, '我吹次': 1170, '打扮': 1171, '澡': 1172, '树': 1173, '就是': 1174, '摇滚乐': 1175, '胜利': 1176, '警察': 1177, '努力学习': 1178, '任教': 1179, '哺乳': 1180, '致命': 1181, '鹽': 1182, '采用': 1183, '十七': 1184, '親切': 1185, '功課': 1186, '单身': 1187, '时间表': 1188, '我載': 1189, '野生': 1190, '身上': 1191, '这里': 1192, '词': 1193, '風': 1194, '哈佛': 1195, '快乐': 1196, '鐘前': 1197, '湯姆為': 1198, '大衣': 1199, '现在': 1200, '心情': 1201, '小': 1202, '等待': 1203, '郵局': 1204, '午后': 1205, '而是': 1206, '汤': 1207, '關門': 1208, '推薦': 1209, '超过': 1210, '大庭广众': 1211, '哭': 1212, '球': 1213, '悲觀者': 1214, '自信': 1215, '頁面': 1216, '大學': 1217, '真的': 1218, '認': 1219, '这样': 1220, '冬天': 1221, '父親給': 1222, '售價': 1223, '也许': 1224, '比': 1225, '床上': 1226, '好运': 1227, '欢迎': 1228, '清朗': 1229, '理论': 1230, '赚': 1231, '榨汁': 1232, '這些': 1233, '考虑': 1234, '责备': 1235, '我累': 1236, '活着': 1237, '一家': 1238, '希尔顿': 1239, '他彈': 1240, '钱包': 1241, '加水': 1242, '售票': 1243, '提到': 1244, '直接': 1245, '点': 1246, '陪': 1247, '軟': 1248, '密友': 1249, '同等': 1250, '是不是': 1251, '以前': 1252, '的话': 1253, '晴朗': 1254, '负责': 1255, '一輛車': 1256, '出': 1257, '没关系': 1258, '安心': 1259, '鳥': 1260, '骄傲': 1261, '时候': 1262, '話題': 1263, '參加戲': 1264, '上次': 1265, '首都': 1266, '問問題': 1267, '雨': 1268, '死亡': 1269, '经常': 1270, '柳暗花明又一村': 1271, '抽烟': 1272, '雞肉': 1273, '我来': 1274, '選擇': 1275, '十月十日': 1276, '小孩子': 1277, '一': 1278, '早': 1279, '不介意': 1280, '右': 1281, '搭乘': 1282, '本人': 1283, '警告': 1284, '流行': 1285, '低': 1286, '失踪': 1287, '女人': 1288, '十年': 1289, '精力': 1290, '很想': 1291, '你': 1292, '製': 1293, '作美': 1294, '三天': 1295, '外文': 1296, '太久': 1297, '總': 1298, '任何': 1299, '万个': 1300, '似乎': 1301, '以及': 1302, '类似': 1303, '與': 1304, '下去': 1305, '东西': 1306, '沒空': 1307, '证明': 1308, '打算': 1309, '准备': 1310, '更好': 1311, '更改': 1312, '歷史': 1313, '搶': 1314, '感兴趣': 1315, '二手': 1316, '流利': 1317, '這張': 1318, '駕駛': 1319, '飯館': 1320, '伦敦': 1321, '薩': 1322, '錶': 1323, '打开门': 1324, '花园': 1325, '很無聊': 1326, '舞': 1327, '试着': 1328, '这么': 1329, '彈鋼琴': 1330, '駕駛證': 1331, '洋娃娃': 1332, '這東西': 1333, '畢業': 1334, '賺': 1335, '很快': 1336, '沉默寡言': 1337, '任何人': 1338, '我會給': 1339, '忘': 1340, '舒服': 1341, '兩種': 1342, '皮鞋': 1343, '周一': 1344, '憂鬱': 1345, '這本書': 1346, '回答': 1347, '\"': 1348, '感激': 1349, '他家': 1350, '二十多': 1351, '分手': 1352, '拉丁': 1353, '窗戶': 1354, '告密': 1355, '波奇': 1356, '籃子': 1357, '小看': 1358, '點': 1359, '清楚': 1360, '这儿': 1361, '起搏器': 1362, '批評': 1363, '已经': 1364, '騎': 1365, '護照': 1366, '作家': 1367, '門都': 1368, '頬': 1369, '两次': 1370, '蜿蜒': 1371, '抵達': 1372, '见到': 1373, '居里夫人': 1374, '有效期': 1375, '國王': 1376, '累': 1377, '胃口': 1378, '出門': 1379, '船长': 1380, '妹妹': 1381, '摸黑': 1382, '一樣': 1383, '车祸': 1384, '而': 1385, '誰': 1386, '大象': 1387, '缺少': 1388, '親要': 1389, '外套': 1390, '试图': 1391, '我该': 1392, '很晚': 1393, '放學': 1394, '300': 1395, '预兆': 1396, '无法解释': 1397, '一點': 1398, '茶勝過': 1399, '這支筆': 1400, '拒絕': 1401, '河': 1402, '書': 1403, '更让人': 1404, '整个': 1405, '印度': 1406, '参加': 1407, '回事': 1408, '形式': 1409, '湯姆什麼': 1410, '下岸邊': 1411, '其實': 1412, '有个': 1413, '当然': 1414, '指導': 1415, '避免': 1416, '我試': 1417, '移动': 1418, '能比': 1419, '裡裝滿': 1420, '哪個': 1421, '食物': 1422, '讨厌': 1423, '两种': 1424, '乘': 1425, '參加會議': 1426, '過敏': 1427, '进步': 1428, '幚': 1429, '他弹': 1430, '开心': 1431, '掃': 1432, '警方': 1433, '惰': 1434, '裡': 1435, '瘦': 1436, '逃': 1437, '糟透了': 1438, '派': 1439, '兄弟姐妹': 1440, '緊張': 1441, '穿著': 1442, '很少': 1443, '前去': 1444, '全都': 1445, '蛋': 1446, '值得尊敬': 1447, '做点事': 1448, '污染': 1449, '不常': 1450, '二十': 1451, '第三个': 1452, '穿过': 1453, '话': 1454, '表現': 1455, '中心': 1456, '规矩': 1457, '尽快': 1458, '改善': 1459, '還壞': 1460, '問他': 1461, '準備': 1462, '打碎': 1463, '应该': 1464, '我的車': 1465, '辦喪事': 1466, '碰到': 1467, '約翰': 1468, '湯姆告': 1469, '回來': 1470, '最深': 1471, '爬树': 1472, '褲': 1473, '開車': 1474, '发现': 1475, '密切注意': 1476, '那樣': 1477, '週末': 1478, '晚': 1479, '国家': 1480, '抽': 1481, '发明': 1482, '报价': 1483, '要': 1484, '玛丽': 1485, '起来': 1486, '即将来临': 1487, '下': 1488, '精確': 1489, '满意': 1490, '禁止': 1491, '這張票': 1492, '暴風雨': 1493, '不穷': 1494, '戴著': 1495, '我前': 1496, '没意思': 1497, '哪儿': 1498, '誰畫': 1499, '炸弹': 1500, '没指望': 1501, '独处': 1502, '摔': 1503, '衫': 1504, '昨晚': 1505, '稍微': 1506, '慶祝聖': 1507, '保住': 1508, '湖里': 1509, '发': 1510, '六': 1511, '抱負': 1512, '我们': 1513, '班上': 1514, '您': 1515, '购物': 1516, '人': 1517, '取回': 1518, '她聘': 1519, '給你': 1520, '接受': 1521, '帶著': 1522, '決心': 1523, '亲戚': 1524, '切中要害': 1525, '山坡': 1526, '何不': 1527, '門關': 1528, '路直': 1529, '芝加哥': 1530, '紀錄': 1531, '电脑': 1532, '大概': 1533, '相当': 1534, '想念': 1535, '發燒': 1536, '弟弟': 1537, '房間裡': 1538, '職業': 1539, '怀疑': 1540, '创造': 1541, '之下': 1542, '置信': 1543, '迟到': 1544, '睡觉时': 1545, '比瑪麗': 1546, '關起': 1547, '点头': 1548, '。': 1549, '薯條': 1550, '完': 1551, '克斯': 1552, '看着': 1553, '安全': 1554, '做點': 1555, '這塊': 1556, '雇': 1557, '有点像': 1558, '手举': 1559, '到底': 1560, '词条': 1561, '三月份': 1562, '立刻': 1563, '一双': 1564, '丰田': 1565, '洗耳': 1566, '掉头发': 1567, '疲力': 1568, '面子': 1569, '筆': 1570, '排成': 1571, '我留': 1572, '借': 1573, '肯定': 1574, '红线': 1575, '语法': 1576, '開心': 1577, '冷静下来': 1578, '遠遠': 1579, '更深': 1580, '詳細': 1581, '一样': 1582, '機聽': 1583, '帮忙': 1584, '甚至': 1585, '正午': 1586, '厌倦': 1587, '我緊': 1588, '每個': 1589, '不该': 1590, '也許': 1591, '“': 1592, '出租车': 1593, '價格': 1594, '上樓': 1595, '打招呼': 1596, '依靠': 1597, '讨论一下': 1598, '预期': 1599, '清潔': 1600, '不如': 1601, '反感': 1602, '封信': 1603, '热情': 1604, '10': 1605, '母爱': 1606, '产物': 1607, '这本': 1608, '出门': 1609, '强': 1610, '攜帶': 1611, '肩膀': 1612, '经过': 1613, '偷': 1614, '本意': 1615, '语言': 1616, '分钟': 1617, '搭': 1618, '貓嗎': 1619, '办公室': 1620, '囚犯': 1621, '地上': 1622, '吃點': 1623, '9': 1624, '最後一場': 1625, '頁': 1626, '研讀': 1627, '汽車': 1628, '湯姆談': 1629, '他们': 1630, '长处': 1631, '使用': 1632, '全部都是': 1633, '輕': 1634, '辦': 1635, '名古屋': 1636, '還沒有': 1637, '鬆': 1638, '收音': 1639, '上': 1640, '攻击': 1641, '將離開': 1642, '充分': 1643, '游泳': 1644, '生蛋': 1645, '坐車': 1646, '传给': 1647, '学': 1648, '許多': 1649, '休息': 1650, '牛仔': 1651, '里': 1652, '嚮': 1653, '努力': 1654, '放在': 1655, '真': 1656, '你現': 1657, '问题': 1658, '愿意': 1659, '彩虹': 1660, '點前': 1661, '这种': 1662, '太烈': 1663, '写': 1664, '幽默感': 1665, '他問': 1666, '母語': 1667, '謙遜': 1668, '年齡': 1669, '缺錢': 1670, '旧鞋': 1671, '網球': 1672, '提前': 1673, '开个': 1674, '谈谈': 1675, '把': 1676, '么': 1677, '来自': 1678, '这项': 1679, '抗拒': 1680, '办法': 1681, '這': 1682, '特別': 1683, '地快': 1684, '立即': 1685, '懦夫': 1686, '是非不分': 1687, '室友': 1688, '將抵': 1689, '后退': 1690, '油漆': 1691, '一件': 1692, '開始': 1693, '一頓': 1694, '1947': 1695, '奇妙': 1696, '起得': 1697, '到牙齒': 1698, '衣服': 1699, 'X光': 1700, '行动': 1701, '空姐': 1702, '前别': 1703, '张': 1704, '有着': 1705, '包含': 1706, '草莓': 1707, '借給': 1708, '樹絆': 1709, '沒來': 1710, '跑步': 1711, '不能': 1712, '能否': 1713, '敢': 1714, '后悔': 1715, '這條': 1716, '頭': 1717, '背景': 1718, '待': 1719, '洽商': 1720, '認識': 1721, '旅馆': 1722, '流血': 1723, '瑪麗絕': 1724, '下雨': 1725, '舉行': 1726, '消息': 1727, '休息日': 1728, '沒有': 1729, '無法': 1730, '太': 1731, '投入': 1732, '还': 1733, '他謀': 1734, '高兴': 1735, '掉': 1736, '試圖': 1737, '月亮': 1738, '感情': 1739, '大方': 1740, '怎么样': 1741, '竟敢': 1742, '在读': 1743, '東西': 1744, '那事': 1745, '一英里': 1746, '睡眠不足': 1747, '爬': 1748, '我現': 1749, '正义': 1750, '雨点': 1751, '落向': 1752, '指示': 1753, '嚴格來': 1754, '以至于': 1755, '盘问': 1756, '海啸': 1757, '改變': 1758, '溜冰鞋': 1759, '貧窮': 1760, '常去': 1761, '耐心': 1762, '遺囑': 1763, '沙漠': 1764, '展开讨论': 1765, '他們': 1766, '听到': 1767, '阅读': 1768, '時': 1769, '洗手': 1770, '三名': 1771, '這襯': 1772, '著牆': 1773, '風暴困': 1774, '喊叫': 1775, '小声': 1776, '长': 1777, '在我看来': 1778, '響': 1779, '因病': 1780, '想象': 1781, '送給': 1782, '一輛': 1783, '里根': 1784, '這樣': 1785, '汤姆': 1786, '飲食': 1787, '免費': 1788, '親太忙': 1789, '1000': 1790, '接手': 1791, '這個': 1792, '難題': 1793, '道歉': 1794, '成績': 1795, '放學後會': 1796, '辭職': 1797, '愛得': 1798, '邮件': 1799, '湯姆不會': 1800, '足够': 1801, '牆': 1802, '這把': 1803, '歡迎': 1804, '動物': 1805, '账单': 1806, '有個': 1807, '学新': 1808, '湯姆要': 1809, '達成': 1810, '几乎': 1811, '北极熊': 1812, '沉迷于': 1813, '路上': 1814, '其他': 1815, '多': 1816, '往': 1817, '瑪麗': 1818, '这句': 1819, '樓梯': 1820, '你別': 1821, '这场': 1822, '還給': 1823, '澳洲': 1824, '新': 1825, '以來': 1826, '磅': 1827, '更': 1828, '中受': 1829, '而言': 1830, '嫁給': 1831, '一部分': 1832, '許多人': 1833, '可愛的': 1834, '项目': 1835, '辣': 1836, '饭店': 1837, '嗎': 1838, '你求': 1839, '个': 1840, '師': 1841, '查查': 1842, '有时': 1843, '还有': 1844, '树下': 1845, '经验': 1846, '看書': 1847, '关上': 1848, '妨碍': 1849, '大学': 1850, '情況': 1851, '兩點鐘': 1852, '菲律宾': 1853, '成为': 1854, '小狗': 1855, '货物': 1856, '愉快': 1857, '勺子': 1858, '永远': 1859, '仍謙虛': 1860, '反應': 1861, '出現': 1862, '因為': 1863, '你屬': 1864, '豆子': 1865, '心臟': 1866, '趴下': 1867, '得': 1868, '流進': 1869, '經離開': 1870, '食用': 1871, '开': 1872, '打仗': 1873, '喝茶': 1874, '個': 1875, '一會': 1876, '有用': 1877, '對': 1878, '爱劳动': 1879, '受到': 1880, '留给': 1881, '打高爾夫球': 1882, '小路': 1883, '再次': 1884, '了解': 1885, '牙齿': 1886, '菜': 1887, '間': 1888, '公司': 1889, '如果': 1890, '鋼琴彈': 1891, '藝術家': 1892, '睡覺': 1893, '社團': 1894, '自甘堕落': 1895, '擺脫': 1896, '入學': 1897, '独自一人': 1898, '三': 1899, '唱歌': 1900, '大': 1901, '扔': 1902, '照顾': 1903, '英語': 1904, '触犯': 1905, '老太太': 1906, '糟糕': 1907, '同': 1908, '包被': 1909, '彎曲': 1910, '美分': 1911, '這對': 1912, '祝': 1913, '法文': 1914, '一步': 1915, '藝術': 1916, '医生': 1917, '在家': 1918, '迫害': 1919, '那裡': 1920, '正在': 1921, '一個': 1922, '每': 1923, '日本料理': 1924, '找到': 1925, '给予': 1926, '兩': 1927, '幸存者': 1928, '曾经': 1929, '花瓶': 1930, '籠子裡': 1931, '飲熱': 1932, '认为': 1933, '显得': 1934, '湯姆繼續': 1935, '便宜': 1936, '沙灘': 1937, '一條': 1938, '直行': 1939, '我承認': 1940, '這麼': 1941, '或许': 1942, '綻放': 1943, '孤獨': 1944, '裝滿': 1945, '年': 1946, '无国界': 1947, '大革命': 1948, '復': 1949, '晚上': 1950, '包': 1951, '修理': 1952, '半小時': 1953, '交响乐团': 1954, '湖泊': 1955, '這位': 1956, '不太高興': 1957, '自': 1958, '所欲': 1959, '高爾夫球': 1960, '胃痛': 1961, '大家': 1962, '一群': 1963, '座位': 1964, '会': 1965, '縫紉機': 1966, '溪水': 1967, '億': 1968, '勇敢': 1969, '並不總是': 1970, '完蛋': 1971, '等': 1972, '记得': 1973, '鄰居': 1974, '过敏': 1975, '帆船': 1976, '交了': 1977, '教堂': 1978, '经济': 1979, '貝爾獎': 1980, '看起': 1981, '补给': 1982, '登機': 1983, '木地板': 1984, '內': 1985, '丧气': 1986, '養': 1987, '第': 1988, '下着雨': 1989, '向往': 1990, '那么': 1991, '即使': 1992, '睡觉': 1993, '帳號': 1994, '感興趣': 1995, '整天': 1996, '嚇到': 1997, ' ': 1998, '找个': 1999, '一个': 2000, '藥物': 2001, '不難': 2002, '這本': 2003, '東西給': 2004, '啜': 2005, '留灯': 2006, '當時': 2007, '保留': 2008, '著': 2009, '固体': 2010, '美': 2011, '她': 2012, '地圖': 2013, '蓋': 2014, '逹': 2015, '想法': 2016, '時候': 2017, '途': 2018, '北海道': 2019, '答应': 2020, '桌子': 2021, '我到': 2022, '信守': 2023, '笑': 2024, '大阪': 2025, '困難': 2026, '许多': 2027, '滿足': 2028, '為榮': 2029, '建议': 2030, '誕節': 2031, '現在': 2032, '八十一': 2033, '老师': 2034, '1899': 2035, '回复': 2036, '难过': 2037, '见过': 2038, '数十': 2039, '症状': 2040, '球拍': 2041, '取決': 2042, '希望': 2043, '玩耍': 2044, '俱乐部': 2045, '火熱': 2046, '卖': 2047, '一本': 2048, '我建議': 2049, '法律': 2050, '快': 2051, '前': 2052, '外國': 2053, '教': 2054, '日文': 2055, '岁': 2056, '怎麼': 2057, '毫不犹豫': 2058, '活動': 2059, '我國': 2060, '賣': 2061, '侦探': 2062, '五樓': 2063, '從橋': 2064, '真怪': 2065, '我下': 2066, '愛的': 2067, '讓': 2068, '清晨': 2069, '目標': 2070, '完成': 2071, '啊': 2072, '季节': 2073, '商品': 2074, '預定': 2075, '火山': 2076, '菸': 2077, '奇迹': 2078, '援手': 2079, '決定': 2080, '拿給': 2081, '半小时': 2082, '攀升': 2083, '天色': 2084, '週要': 2085, '猶豫去': 2086, '留在': 2087, '收費': 2088, '谁': 2089, '慢': 2090, '怎樣': 2091, '干脆': 2092, '女士': 2093, '音樂': 2094, '故障': 2095, '擔心': 2096, '有益健康': 2097, '語了': 2098, '火': 2099, '公園裡': 2100, '筆嗎': 2101, '骑车去': 2102, '當這位': 2103, '乘客': 2104, '枯萎': 2105, '听懂': 2106, '批评': 2107, '了': 2108, '照顧': 2109, '洗澡': 2110, '舉起': 2111, '果汁': 2112, '哥哥': 2113, '交谈': 2114, '扇': 2115, '一辆': 2116, '勝過': 2117, '想': 2118, '需要': 2119, '別': 2120, '睡着': 2121, '煤炭': 2122, '一頭': 2123, '坐在': 2124, '事故': 2125, '晚一點': 2126, '訴過': 2127, '讲': 2128, '嘿': 2129, '穿': 2130, '吵': 2131, '它们': 2132, '照相机': 2133, '伸长': 2134, '水痘': 2135, '我愛蘋': 2136, '有部': 2137, '還早': 2138, '赢': 2139, '這兒': 2140, '戴維斯': 2141, '犯': 2142, '把手': 2143, '寄給': 2144, '傻子': 2145, '寫': 2146, '她現': 2147, '出錯': 2148, '的關': 2149, '較': 2150, '粗心': 2151, '花': 2152, '合適': 2153, '來給': 2154, '最新型': 2155, '一遍': 2156, '一點熱': 2157, '垃圾': 2158, '大多': 2159, '永不': 2160, '忍受': 2161, '集中': 2162, '一次': 2163, '鏡': 2164, '學遲': 2165, '還在贏': 2166, '滑': 2167, '朋友家': 2168, '考试': 2169, '贏得': 2170, '作者': 2171, '不得不': 2172, '总统': 2173, '林肯': 2174, '滿意': 2175, '後': 2176, '一週': 2177, '信息': 2178, '不敢相信': 2179, '物价上涨': 2180, '災禍': 2181, '影子': 2182, '亭': 2183, '杀死': 2184, '聽': 2185, '来': 2186, '中文': 2187, '吧': 2188, '這讓': 2189, '已': 2190, '接下': 2191, '那天': 2192, '读': 2193, '羽毛球拍': 2194, '那不夠': 2195, '真实': 2196, '白线': 2197, '山有': 2198, '门口': 2199, '真是': 2200, '聊起来': 2201, '發生': 2202, '消失': 2203, '世界': 2204, '个人': 2205, '房里': 2206, '編織': 2207, '提高': 2208, '断绝来往': 2209, '低估': 2210, '兄长': 2211, '詞': 2212, '读过': 2213, '者': 2214, '裡的': 2215, '雨天': 2216, '早點': 2217, '为什么': 2218, '擅長': 2219, '宾馆': 2220, '生涯': 2221, '交通': 2222, '六月': 2223, '玩': 2224, '放學後打': 2225, '想见': 2226, '见': 2227, '听': 2228, '之外': 2229, '光榮': 2230, '检查': 2231, '教師': 2232, '电话': 2233, '看見': 2234, '打給': 2235, '正向': 2236, '給我': 2237, '第一次': 2238, '支': 2239, '其': 2240, '安静': 2241, '美元': 2242, '不见': 2243, '音乐': 2244, '混在': 2245, '他': 2246, '为': 2247, '罢工': 2248, '本书': 2249, '吃': 2250, '野生动物': 2251, '弄掉': 2252, '調查': 2253, '公園': 2254, '我們還': 2255, '抓住': 2256, '評論': 2257, '爱': 2258, '直到': 2259, '望出去': 2260, '森林': 2261, '車齡': 2262, '登廣告': 2263, '宝宝': 2264, '留疤': 2265, '黑暗': 2266, '餡餅': 2267, '灯': 2268, '單給': 2269, '坏': 2270, '為生': 2271, '軍': 2272, '書桌': 2273, '那种': 2274, '桌上': 2275, '下降': 2276, '互相': 2277, '近': 2278, '叫做': 2279, '期待': 2280, '健康': 2281, '餐館': 2282, '張': 2283, '經驗': 2284, '我問': 2285, '馬': 2286, '重': 2287, '八年': 2288, '包裹': 2289, '看起来': 2290, '仍然': 2291, '練習': 2292, '看來': 2293, '看见': 2294, '這首': 2295, '街': 2296, '疼痛': 2297, '得不到': 2298, '停留': 2299, '离婚': 2300, '扔掉': 2301, '脫鞋': 2302, '房間': 2303, '氣': 2304, '抱歉': 2305, '认真': 2306, '你学': 2307, '看': 2308, '天黑': 2309, '報告': 2310, '公車': 2311, '高興': 2312, '出來': 2313, '入會費': 2314, '图书': 2315, '有时候': 2316, '貓從桌': 2317, '夾克': 2318, '時到': 2319, '既然': 2320, '女長': 2321, '讀': 2322, '注意': 2323, '后': 2324, '這項': 2325, '很熱': 2326, '树上': 2327, '東京': 2328, '威士忌': 2329, '正是': 2330, '演奏会': 2331, '决定': 2332, '到': 2333, '訴瑪麗': 2334, '撞': 2335, '怪物': 2336, '遲到': 2337, '喝醉': 2338, '租金': 2339, '記憶力': 2340, '鳥勝過': 2341, '感谢': 2342, '采取': 2343, '紅色': 2344, '蟋蟀': 2345, '装作': 2346, '玩具': 2347, '刷新': 2348, '忘记': 2349, '不嫉妒': 2350, '一支': 2351, '事情': 2352, '娶': 2353, '經常上': 2354, '小老虎': 2355, '激情': 2356, '工廠': 2357, '寿司': 2358, '寧為': 2359, '金钱': 2360, '一點兒': 2361, '國外': 2362, '看到': 2363, '於': 2364, '麥克風': 2365, '意圖': 2366, '下車': 2367, '悔': 2368, '通過': 2369, '钓鱼': 2370, '幾乎': 2371, '钥匙': 2372, '你好': 2373, '解雇': 2374, '可能': 2375, '掛在': 2376, '男孩子': 2377, '幾個': 2378, '我讀': 2379, '苦': 2380, '狗': 2381, '仲介公司': 2382, '另': 2383, '一把': 2384, '一无所知': 2385, '媽咪': 2386, '他来': 2387, '根本': 2388, '解释': 2389, '守': 2390, '游戏': 2391, '問了': 2392, '回電': 2393, '贊成': 2394, '到达': 2395, '學到': 2396, '叮嘱': 2397, '但願': 2398, '尽情': 2399, '法案': 2400, '过': 2401, '文件': 2402, '不同': 2403, '6': 2404, '翻番': 2405, '武装': 2406, '目标': 2407, '部份': 2408, '表格': 2409, '實話': 2410, '生活': 2411, '多久': 2412, '偶尔': 2413, '破旧': 2414, '篱笆': 2415, '上班': 2416, '停课': 2417, '恆星': 2418, '巧克力': 2419, '胳膊': 2420, '留著': 2421, '稠': 2422, '缺': 2423, '使': 2424, '我寧願': 2425, '瑞典': 2426, '數據': 2427, '越': 2428, '幹嘛': 2429, '演出': 2430, '护照': 2431, '有意思': 2432, '重新': 2433, '见面': 2434, '尾声': 2435, '他会来': 2436, '翘课': 2437, '银行': 2438, '杯子': 2439, '能來': 2440, '白痴': 2441, '熟悉': 2442, '别胡说': 2443, '畏懼': 2444, '相機': 2445, '儿子': 2446, '号': 2447, '表': 2448, '單': 2449, '，': 2450, '旅行': 2451, '戰爭': 2452, '沒穿': 2453, '现代': 2454, '几个': 2455, '輸': 2456, '做菜': 2457, '主修': 2458, '棒球': 2459, '捷克语': 2460, '讨论': 2461, '打击': 2462, '抓': 2463, '這次': 2464, '兄弟': 2465, '动物': 2466, '研究会': 2467, '乘车': 2468, '得知': 2469, '乳酪': 2470, '假裝': 2471, '良好': 2472, '最美': 2473, '喝': 2474, '至少': 2475, '三十年': 2476, '有家': 2477, '下星期': 2478, '將永遠': 2479, '爸爸': 2480, '偶发事件': 2481, '初中生': 2482, '那本書': 2483, '失败': 2484, '秘密': 2485, '真正': 2486, '部下': 2487, '三十': 2488, '镇上': 2489, '感觉': 2490, '畫掛': 2491, '久': 2492, '早上': 2493, '辦法': 2494, '值钱': 2495, '书桌上': 2496, '建成': 2497, '吗': 2498, '鉛筆': 2499, '?': 2500, '不住': 2501, '聯絡': 2502, '彻夜': 2503, '嗨': 2504, '失去': 2505, '隨心': 2506, '一場': 2507, '水': 2508, '通用': 2509, '換火車': 2510, '生了': 2511, '眼鏡': 2512, '戒': 2513, '之': 2514, '住': 2515, '舊聞': 2516, '盖子': 2517, '出席会议': 2518, '因公': 2519, '由': 2520, '情况': 2521, '列车': 2522, '錯誤': 2523, '撕破': 2524, '向左转': 2525, '架子': 2526, '見': 2527, '请': 2528, '说': 2529, '美國': 2530, '自行车': 2531, '沿着': 2532, '这周': 2533, '比賽': 2534, '電梯': 2535, '赶上': 2536, '還是': 2537, '立下': 2538, '好心': 2539, '發現': 2540, '是从': 2541, '电视': 2542, '之處': 2543, '計畫': 2544, '有點': 2545, '逃跑': 2546, '拿定主意': 2547, '拼': 2548, '两条': 2549, '离': 2550, '计划': 2551, '美味': 2552, '火车': 2553, '我將': 2554, '节食': 2555, '電話給': 2556, '兩個': 2557, '稱': 2558, '西班牙文': 2559, '团': 2560, '賭': 2561, '责任': 2562, '月份': 2563, '要说': 2564, '陌生人': 2565, '去过': 2566, '满': 2567, '埋怨': 2568, '为了': 2569, '之后': 2570, '所在': 2571, '第一名': 2572, '硬': 2573, '八月份': 2574, '喝一杯': 2575, '噪音': 2576, '拥抱': 2577, '外面': 2578, '火撲滅': 2579, '拍了拍': 2580, '所以': 2581, '屋頂': 2582, '每天': 2583, '明確': 2584, '写错': 2585, '處': 2586, '5': 2587, '想起': 2588, '损坏': 2589, '我用': 2590, '美國人': 2591, '湯姆餓': 2592, '下手': 2593, '認為': 2594, '鞋': 2595, '认识': 2596, '擦亮': 2597, '這架': 2598, '是屬': 2599, 'Mary': 2600, '工厂': 2601, '一站': 2602, '羞愧': 2603, '雷聲': 2604, '一個專': 2605, '牙': 2606, '姊姊': 2607, '受': 2608, '星期天': 2609, '親': 2610, '其中': 2611, '银行贷款': 2612, '强健': 2613, '不再': 2614, '將在': 2615, '眼睛': 2616, '喜歡': 2617, '这顶': 2618, '繼續': 2619, '據': 2620, '兒子': 2621, '醉無法': 2622, '記得': 2623, '暴躁': 2624, '春天': 2625, '吃魚': 2626, '天气': 2627, '当上': 2628, '商店': 2629, '花園': 2630, '走不動': 2631, '懂德語': 2632, '好人': 2633, '一打': 2634, '边上': 2635, '如何': 2636, '春假': 2637, '提示': 2638, '相關': 2639, '沒給': 2640, '不会': 2641, '一間': 2642, '忙': 2643, '詩人': 2644, '世紀時': 2645, '乐事': 2646, '廚房裡': 2647, '來': 2648, '以': 2649, '起立': 2650, '电话响': 2651, '古代': 2652, '不久': 2653, '随': 2654, '確定': 2655, '贝尔': 2656, '爬過': 2657, '理解': 2658, '听过': 2659, '那样': 2660, '刪除': 2661, '备受': 2662, '展览会': 2663, '结果': 2664, '帐号': 2665, '值得': 2666, '变': 2667, '点儿': 2668, '日本': 2669, '故事': 2670, '将要': 2671, '京都': 2672, '欠': 2673, '水在': 2674, '建築': 2675, '记忆': 2676, '手臂': 2677, '十分': 2678, '舞会': 2679, '恐怖': 2680, '休假': 2681, '正确': 2682, '握手': 2683, '覺得': 2684, '糖机': 2685, '担心': 2686, '我來': 2687, '說明': 2688, '隻': 2689, '就要': 2690, '上午': 2691, '踢足球': 2692, '\\t': 2693, '運氣會': 2694, '們': 2695, '守住': 2696, '等會兒': 2697, '輕人': 2698, '上面': 2699, '突然': 2700, '放': 2701, '设想': 2702, '點給': 2703, '老实': 2704, '老虎': 2705, '进入': 2706, ',': 2707, '应得': 2708, '祖母': 2709, '無路': 2710, '礼物': 2711, '花粉': 2712, '公园': 2713, '关门': 2714, '帮助': 2715, '女兒': 2716, '罗马不是': 2717, '昨天上午': 2718, '穿破': 2719, '没': 2720, '震撼': 2721, '觉得': 2722, '桌前': 2723, '棕色': 2724, '时': 2725, '猴子': 2726, '一排': 2727, '怪': 2728, '盡力': 2729, '指控': 2730, '他教': 2731, '老到': 2732, '才': 2733, '桶子': 2734, '动怒': 2735, '你們': 2736, '法语': 2737, '可憐': 2738, '昨天晚上': 2739, '車開': 2740, '習慣': 2741, '这个': 2742, '廚師': 2743, '胖': 2744, '错过': 2745, '福特': 2746, '天': 2747, '迟早会': 2748, '跌': 2749, '充满': 2750, '农业': 2751, '找': 2752, '富裕': 2753, '了傷': 2754, '攝氏': 2755, '说话': 2756, '重要': 2757, '味道': 2758, '那件事': 2759, '安全带': 2760, '开端': 2761, '學習': 2762, '頂': 2763, '船': 2764, '其他人': 2765, '几点': 2766, '一頂': 2767, '紅了': 2768, '套衫': 2769, '学会': 2770, '留下': 2771, '换种': 2772, '大雨': 2773, '它': 2774, '尺寸': 2775, '士兵': 2776, '政府': 2777, '家': 2778, '信': 2779, '戴': 2780, '的車': 2781, '理由': 2782, '驾驶员': 2783, '地址': 2784, '赶到': 2785, '多糖': 2786, '我犯': 2787, '讲话': 2788, '为止': 2789, '模型': 2790, '就': 2791, '巴黎': 2792, '六點鐘': 2793, '張得': 2794, '當個': 2795, '开着': 2796, '小说': 2797, '老板': 2798, '不太可能': 2799, '结婚': 2800, '拿到': 2801, '对不起': 2802, '我想': 2803, '短处': 2804, '六個': 2805, '最壞': 2806, '等到': 2807, '度假': 2808, '早就': 2809, '靠近': 2810, '傳聞後來': 2811, '长大': 2812, '打败': 2813, '這家': 2814, '組討論': 2815, '美国': 2816, '快要': 2817, '删除': 2818, '小时': 2819, '幫': 2820, '中午': 2821, '晚飯': 2822, '趁汤': 2823, '知道': 2824, '𡡡': 2825, '寵物': 2826, '地筋': 2827, '牡蠣': 2828, '懂': 2829, '客機': 2830, '經教': 2831, '購物': 2832, '学得': 2833, '接下来': 2834, '看電視': 2835, '陡坡': 2836, '地方': 2837, '主意': 2838, '秘书': 2839, '火車': 2840, '作文': 2841, '4': 2842, '一只': 2843, '一知半解': 2844, '一定': 2845, '曲子': 2846, '一百年': 2847, '别跟我': 2848, '一桶': 2849, '拋錨': 2850, '訊息': 2851, '煮肉': 2852, '哪裡': 2853, '本質': 2854, '能游': 2855, '當心': 2856, '得到': 2857, '下來': 2858, '前練習': 2859, '謝謝': 2860, '多一点': 2861, '我会': 2862, '輪流': 2863, '椅子': 2864, '别人': 2865, '那': 2866, '放弃': 2867, '别': 2868, '除了': 2869, '几天': 2870, '我学': 2871, '最': 2872, '筱山': 2873, '今年': 2874, '装置': 2875, '倒下': 2876, '詞源': 2877, '幾天': 2878, '脫離': 2879, '送': 2880, '左右': 2881, '能活': 2882, '地板': 2883, '房子': 2884, '唸': 2885, '这画': 2886, '速度': 2887, '該信': 2888, '脸颊': 2889, '清掃': 2890, '风格': 2891, '獨立': 2892, '主人': 2893, '打扰': 2894, '事是': 2895, '不會問': 2896, '终将': 2897, '给我发': 2898, '还是': 2899, '當你過': 2900, '個班裡': 2901, '产品质量': 2902, '差勁': 2903, '謝意': 2904, '什么': 2905, '人有': 2906, '所': 2907, '12': 2908, '宝貴': 2909, '一扇': 2910, '媽': 2911, '一種': 2912, '怕': 2913, '世界各地': 2914, '政治': 2915, '时间': 2916, '老百姓': 2917, '美金': 2918, '老師訂': 2919, '简短': 2920, '每天晚上': 2921, '三瓶': 2922, '談': 2923, '和玛丽': 2924, '要六歲': 2925, '购物单': 2926, '公室': 2927, '车票': 2928, '旅游': 2929, '袋子': 2930, '中间': 2931, '睡得': 2932, '大量': 2933, '袜子': 2934, '確': 2935, '假装': 2936, '掛鉤': 2937, '斯德哥爾摩': 2938, '城裡': 2939, '跳舞': 2940, '作': 2941, '出差': 2942, '襪子': 2943, '鸟会': 2944, '打': 2945, '班级': 2946, '非常少': 2947, '来说': 2948, '氣球': 2949, '炸': 2950, '一丝': 2951, '哪': 2952, '蛇': 2953, '還要': 2954, '假如': 2955, '依稀': 2956, '认出': 2957, '比起': 2958, '成田': 2959, '山米': 2960, '也': 2961, '這車': 2962, '贫穷': 2963, '人力': 2964, '數學': 2965, '太阳': 2966, '行程': 2967, '歐洲': 2968, '湖': 2969, '个价': 2970, '查找': 2971, '鞋子': 2972, '同一': 2973, '确定': 2974, '通过': 2975, '旅館': 2976, '通到': 2977, '美圓': 2978, '去': 2979, '氣候': 2980, '报酬': 2981, '我會': 2982, '瞎': 2983, '水是': 2984, '天花板': 2985, '山丘': 2986, '太小': 2987, '羞耻': 2988, '一句': 2989, '外語': 2990, '结束': 2991, '锕': 2992, '腋下': 2993, '他給': 2994, '表達': 2995, '醫院': 2996, '相信': 2997, '應該': 2998, '敏感': 2999, '這套': 3000, '短跑': 3001, '一点': 3002, '菜肴': 3003, '有趣': 3004, '蛋糕': 3005, '叉子': 3006, '干什么': 3007, '經過': 3008, '一顆': 3009, '一磅': 3010, '巴厘岛': 3011, '在電': 3012, '係': 3013, '起飛': 3014, '溫帶': 3015, '在': 3016, '两年': 3017, '飞': 3018, '圖書館': 3019, '脾气': 3020, '失望': 3021, '哪裡換': 3022, '骗子': 3023, '證明': 3024, '邀请': 3025, 'T': 3026, '因': 3027, '少': 3028, '告诉': 3029, '那该': 3030, '從國外': 3031, '湯姆應': 3032, '山': 3033, '面對': 3034, '问': 3035, '活动': 3036, '赠与': 3037, '轻轻地': 3038, '他點': 3039, '五分': 3040, '釣魚': 3041, '驚': 3042, '花朵': 3043, '大利': 3044, '錯': 3045, '一雙': 3046, '沙發': 3047, '这些': 3048, '訓練': 3049, '选择': 3050, '沒關': 3051, '布什': 3052, '每个': 3053, '呼吸': 3054, '殺': 3055, '仪式': 3056, '旅遊': 3057, '北方': 3058, '走': 3059, '遞給': 3060, '远': 3061, '街道': 3062, '看来': 3063, '朋友': 3064, '想贏': 3065, '产地': 3066, '我花': 3067, '敲門': 3068, '請求': 3069, '新婚': 3070, '句子': 3071, '往常': 3072, '法国': 3073, '一间': 3074, '很多年': 3075, '遲早': 3076, '各國': 3077, '错误': 3078, '这件': 3079, '我家': 3080, '访问': 3081, '利用': 3082, '影響': 3083, '高尔夫': 3084, '明年': 3085, '补好': 3086, '麻煩給': 3087, '太重': 3088, '啤酒': 3089, '地點': 3090, '正確': 3091, '面前': 3092, '夏天': 3093, '敲门': 3094, '騎車': 3095, '大約': 3096, '一直': 3097, '喝點': 3098, '非洲': 3099, '程序': 3100, '蒼蠅': 3101, '經去': 3102, '大陸': 3103, '是否': 3104, '成人': 3105, '早起': 3106, '复印': 3107, '天裡': 3108, '有': 3109, '車禍': 3110, '已經': 3111, '必須': 3112, '很能': 3113, '星期日': 3114, '澳大利亚': 3115, '第五': 3116, '拒绝': 3117, '總是': 3118, '不見': 3119, '提速': 3120, '設計師': 3121, '體重': 3122, '站牌': 3123, '热': 3124, '下来': 3125, '请教': 3126, '一条': 3127, '再': 3128, '的雙': 3129, '继续': 3130, '我簽': 3131, '高': 3132, '答應': 3133, '名字': 3134, '各種': 3135, '酒鬼': 3136, '‘': 3137, '請': 3138, '不覺': 3139, '老人': 3140, '參加': 3141, '爆發': 3142, '以为': 3143, '嗅觉': 3144, '造成': 3145, '給了': 3146, '空': 3147}\n"
     ]
    }
   ],
   "source": [
    "input_token_index = dict(\n",
    "    [(token, i) for i, token in enumerate(input_tokens)])\n",
    "target_token_index = dict(\n",
    "    [(token, i) for i, token in enumerate(target_tokens)])\n",
    "\n",
    "print(\"\\ninput index:\")\n",
    "print(input_token_index)\n",
    "\n",
    "print(\"\\ntarget index:\")\n",
    "print(target_token_index)"
   ]
  },
  {
   "cell_type": "code",
   "execution_count": 20,
   "id": "219ee454",
   "metadata": {},
   "outputs": [
    {
     "name": "stdout",
     "output_type": "stream",
     "text": [
      "\n",
      "encoder shape:\n",
      "(2000, 25, 2165)\n",
      "\n",
      "decoder input shape:\n",
      "(2000, 26, 3148)\n",
      "\n",
      "decoder target shape:\n",
      "(2000, 26, 3148)\n",
      "\n",
      "encoder data:\n",
      "[[[0. 0. 0. ... 0. 0. 0.]\n",
      "  [0. 0. 0. ... 0. 0. 0.]\n",
      "  [0. 0. 0. ... 0. 0. 0.]\n",
      "  ...\n",
      "  [0. 0. 0. ... 0. 0. 0.]\n",
      "  [0. 0. 0. ... 0. 0. 0.]\n",
      "  [0. 0. 0. ... 0. 0. 0.]]\n",
      "\n",
      " [[0. 0. 0. ... 0. 0. 0.]\n",
      "  [0. 0. 0. ... 0. 0. 0.]\n",
      "  [0. 0. 0. ... 0. 0. 0.]\n",
      "  ...\n",
      "  [0. 0. 0. ... 0. 0. 0.]\n",
      "  [0. 0. 0. ... 0. 0. 0.]\n",
      "  [0. 0. 0. ... 0. 0. 0.]]]\n",
      "\n",
      "decoder input data:\n",
      "[[[0. 0. 0. ... 0. 0. 0.]\n",
      "  [0. 0. 0. ... 0. 0. 0.]\n",
      "  [0. 0. 0. ... 0. 0. 0.]\n",
      "  ...\n",
      "  [0. 0. 0. ... 0. 0. 0.]\n",
      "  [0. 0. 0. ... 0. 0. 0.]\n",
      "  [0. 0. 0. ... 0. 0. 0.]]\n",
      "\n",
      " [[0. 0. 0. ... 0. 0. 0.]\n",
      "  [0. 0. 0. ... 0. 0. 0.]\n",
      "  [0. 0. 0. ... 0. 0. 0.]\n",
      "  ...\n",
      "  [0. 0. 0. ... 0. 0. 0.]\n",
      "  [0. 0. 0. ... 0. 0. 0.]\n",
      "  [0. 0. 0. ... 0. 0. 0.]]]\n",
      "\n",
      "decoder target data:\n",
      "[[[0. 0. 0. ... 0. 0. 0.]\n",
      "  [0. 0. 0. ... 0. 0. 0.]\n",
      "  [0. 0. 0. ... 0. 0. 0.]\n",
      "  ...\n",
      "  [0. 0. 0. ... 0. 0. 0.]\n",
      "  [0. 0. 0. ... 0. 0. 0.]\n",
      "  [0. 0. 0. ... 0. 0. 0.]]\n",
      "\n",
      " [[0. 0. 0. ... 0. 0. 0.]\n",
      "  [0. 0. 0. ... 0. 0. 0.]\n",
      "  [0. 0. 0. ... 0. 0. 0.]\n",
      "  ...\n",
      "  [0. 0. 0. ... 0. 0. 0.]\n",
      "  [0. 0. 0. ... 0. 0. 0.]\n",
      "  [0. 0. 0. ... 0. 0. 0.]]]\n"
     ]
    }
   ],
   "source": [
    "encoder_input_data = np.zeros(\n",
    "    (len(input_texts), max_encoder_seq_length, num_encoder_tokens),\n",
    "    dtype='float32')\n",
    "decoder_input_data = np.zeros(\n",
    "    (len(input_texts), max_decoder_seq_length, num_decoder_tokens),\n",
    "    dtype='float32')\n",
    "decoder_target_data = np.zeros(\n",
    "    (len(input_texts), max_decoder_seq_length, num_decoder_tokens),\n",
    "    dtype='float32')\n",
    "\n",
    "for i, (input_text, target_text) in enumerate(zip(input_texts, target_texts)):\n",
    "    for t, token in enumerate(input_text):\n",
    "        encoder_input_data[i, t, input_token_index[token]] = 1.\n",
    "    for t, token in enumerate(target_text):\n",
    "        # decoder_target_data is ahead of decoder_input_data by one timestep\n",
    "        decoder_input_data[i, t, target_token_index[token]] = 1.\n",
    "        if t > 0:\n",
    "            # decoder_target_data will be ahead by one timestep\n",
    "            # and will not include the start character.\n",
    "            decoder_target_data[i, t - 1, target_token_index[token]] = 1.\n",
    "\n",
    "print(\"\\nencoder shape:\")\n",
    "print(encoder_input_data.shape)\n",
    "print(\"\\ndecoder input shape:\")\n",
    "print(decoder_input_data.shape)\n",
    "print(\"\\ndecoder target shape:\")\n",
    "print(decoder_target_data.shape)\n",
    "            \n",
    "print(\"\\nencoder data:\")\n",
    "print(encoder_input_data[-2:])\n",
    "print(\"\\ndecoder input data:\")\n",
    "print(decoder_input_data[-2:])\n",
    "print(\"\\ndecoder target data:\")\n",
    "print(decoder_target_data[-2:])"
   ]
  },
  {
   "cell_type": "code",
   "execution_count": 21,
   "id": "60135567",
   "metadata": {},
   "outputs": [
    {
     "name": "stderr",
     "output_type": "stream",
     "text": [
      "2023-03-18 06:08:01.399773: W tensorflow/compiler/xla/stream_executor/platform/default/dso_loader.cc:64] Could not load dynamic library 'libcuda.so.1'; dlerror: libcuda.so.1: cannot open shared object file: No such file or directory\n",
      "2023-03-18 06:08:01.417940: W tensorflow/compiler/xla/stream_executor/cuda/cuda_driver.cc:265] failed call to cuInit: UNKNOWN ERROR (303)\n",
      "2023-03-18 06:08:01.448592: I tensorflow/compiler/xla/stream_executor/cuda/cuda_diagnostics.cc:156] kernel driver does not appear to be running on this host (7ecf76a70477): /proc/driver/nvidia/version does not exist\n",
      "2023-03-18 06:08:01.495043: I tensorflow/core/platform/cpu_feature_guard.cc:193] This TensorFlow binary is optimized with oneAPI Deep Neural Network Library (oneDNN) to use the following CPU instructions in performance-critical operations:  AVX2 FMA\n",
      "To enable them in other operations, rebuild TensorFlow with the appropriate compiler flags.\n"
     ]
    },
    {
     "name": "stdout",
     "output_type": "stream",
     "text": [
      "KerasTensor(type_spec=TensorSpec(shape=(None, 128), dtype=tf.float32, name=None), name='lstm/PartitionedCall:2', description=\"created by layer 'lstm'\")\n",
      "KerasTensor(type_spec=TensorSpec(shape=(None, 128), dtype=tf.float32, name=None), name='lstm/PartitionedCall:3', description=\"created by layer 'lstm'\")\n"
     ]
    }
   ],
   "source": [
    "# Define an input sequence and process it.\n",
    "encoder_inputs = Input(shape=(None, num_encoder_tokens))\n",
    "encoder = LSTM(latent_dim, return_state=True)\n",
    "encoder_outputs, state_h, state_c = encoder(encoder_inputs)\n",
    "encoder_states = [state_h, state_c]\n",
    "\n",
    "print(state_h)\n",
    "print(state_c)"
   ]
  },
  {
   "cell_type": "code",
   "execution_count": 22,
   "id": "b23dbce3",
   "metadata": {},
   "outputs": [
    {
     "name": "stdout",
     "output_type": "stream",
     "text": [
      "KerasTensor(type_spec=TensorSpec(shape=(None, None, 3148), dtype=tf.float32, name=None), name='dense/Softmax:0', description=\"created by layer 'dense'\")\n"
     ]
    }
   ],
   "source": [
    "decoder_inputs = Input(shape=(None, num_decoder_tokens))\n",
    "# We set up our decoder to return full output sequences,\n",
    "# and to return internal states as well. We don't use the\n",
    "# return states in the training model, but we will use them in inference.\n",
    "decoder_lstm = LSTM(latent_dim, return_sequences=True, return_state=True)\n",
    "decoder_outputs, _, _ = decoder_lstm(decoder_inputs,\n",
    "                                     initial_state=encoder_states)\n",
    "decoder_dense = Dense(num_decoder_tokens, activation='softmax')\n",
    "decoder_outputs = decoder_dense(decoder_outputs)\n",
    "\n",
    "print(decoder_outputs)"
   ]
  },
  {
   "cell_type": "code",
   "execution_count": 23,
   "id": "69d63724",
   "metadata": {},
   "outputs": [
    {
     "name": "stdout",
     "output_type": "stream",
     "text": [
      "Model: \"model\"\n",
      "__________________________________________________________________________________________________\n",
      " Layer (type)                   Output Shape         Param #     Connected to                     \n",
      "==================================================================================================\n",
      " input_1 (InputLayer)           [(None, None, 2165)  0           []                               \n",
      "                                ]                                                                 \n",
      "                                                                                                  \n",
      " input_2 (InputLayer)           [(None, None, 3148)  0           []                               \n",
      "                                ]                                                                 \n",
      "                                                                                                  \n",
      " lstm (LSTM)                    [(None, 128),        1174528     ['input_1[0][0]']                \n",
      "                                 (None, 128),                                                     \n",
      "                                 (None, 128)]                                                     \n",
      "                                                                                                  \n",
      " lstm_1 (LSTM)                  [(None, None, 128),  1677824     ['input_2[0][0]',                \n",
      "                                 (None, 128),                     'lstm[0][1]',                   \n",
      "                                 (None, 128)]                     'lstm[0][2]']                   \n",
      "                                                                                                  \n",
      " dense (Dense)                  (None, None, 3148)   406092      ['lstm_1[0][0]']                 \n",
      "                                                                                                  \n",
      "==================================================================================================\n",
      "Total params: 3,258,444\n",
      "Trainable params: 3,258,444\n",
      "Non-trainable params: 0\n",
      "__________________________________________________________________________________________________\n"
     ]
    }
   ],
   "source": [
    "# `encoder_input_data` & `decoder_input_data` into `decoder_target_data`\n",
    "model = Model([encoder_inputs, decoder_inputs], decoder_outputs)\n",
    "\n",
    "model.compile(optimizer='rmsprop', loss='categorical_crossentropy')\n",
    "model.summary()"
   ]
  },
  {
   "cell_type": "code",
   "execution_count": null,
   "id": "69d86426",
   "metadata": {},
   "outputs": [
    {
     "name": "stderr",
     "output_type": "stream",
     "text": [
      "2023-03-18 06:08:28.087880: W tensorflow/tsl/framework/cpu_allocator_impl.cc:82] Allocation of 346400000 exceeds 10% of free system memory.\n",
      "2023-03-18 06:08:29.646787: W tensorflow/tsl/framework/cpu_allocator_impl.cc:82] Allocation of 523827200 exceeds 10% of free system memory.\n",
      "2023-03-18 06:08:36.201194: W tensorflow/tsl/framework/cpu_allocator_impl.cc:82] Allocation of 523827200 exceeds 10% of free system memory.\n"
     ]
    },
    {
     "name": "stdout",
     "output_type": "stream",
     "text": [
      "Epoch 1/35\n",
      "100/100 [==============================] - ETA: 0s - loss: 1.9694"
     ]
    },
    {
     "name": "stderr",
     "output_type": "stream",
     "text": [
      "2023-03-18 06:09:12.226443: W tensorflow/tsl/framework/cpu_allocator_impl.cc:82] Allocation of 86600000 exceeds 10% of free system memory.\n",
      "2023-03-18 06:09:12.272447: W tensorflow/tsl/framework/cpu_allocator_impl.cc:82] Allocation of 130956800 exceeds 10% of free system memory.\n"
     ]
    },
    {
     "name": "stdout",
     "output_type": "stream",
     "text": [
      "100/100 [==============================] - 36s 294ms/step - loss: 1.9694 - val_loss: 1.7832\n",
      "Epoch 2/35\n",
      "100/100 [==============================] - 28s 279ms/step - loss: 1.7194 - val_loss: 1.7465\n",
      "Epoch 3/35\n",
      "100/100 [==============================] - 27s 273ms/step - loss: 1.6930 - val_loss: 1.7449\n",
      "Epoch 4/35\n",
      "100/100 [==============================] - 29s 287ms/step - loss: 1.6784 - val_loss: 1.7378\n",
      "Epoch 5/35\n",
      "100/100 [==============================] - 29s 286ms/step - loss: 1.6669 - val_loss: 1.7205\n",
      "Epoch 6/35\n",
      "100/100 [==============================] - 31s 310ms/step - loss: 1.6540 - val_loss: 1.7247\n",
      "Epoch 7/35\n",
      "100/100 [==============================] - 29s 285ms/step - loss: 1.6447 - val_loss: 1.7254\n",
      "Epoch 8/35\n",
      "100/100 [==============================] - 30s 296ms/step - loss: 1.6361 - val_loss: 1.7131\n",
      "Epoch 9/35\n",
      "100/100 [==============================] - 30s 297ms/step - loss: 1.6274 - val_loss: 1.7188\n",
      "Epoch 10/35\n",
      "100/100 [==============================] - 28s 284ms/step - loss: 1.6184 - val_loss: 1.7135\n",
      "Epoch 11/35\n",
      "100/100 [==============================] - 29s 294ms/step - loss: 1.6102 - val_loss: 1.7143\n",
      "Epoch 12/35\n",
      "100/100 [==============================] - 29s 285ms/step - loss: 1.6031 - val_loss: 1.7109\n",
      "Epoch 13/35\n",
      "100/100 [==============================] - 32s 317ms/step - loss: 1.5947 - val_loss: 1.7135\n",
      "Epoch 14/35\n",
      "100/100 [==============================] - 30s 301ms/step - loss: 1.5899 - val_loss: 1.7115\n",
      "Epoch 15/35\n",
      "100/100 [==============================] - 31s 311ms/step - loss: 1.5815 - val_loss: 1.7115\n",
      "Epoch 16/35\n",
      "100/100 [==============================] - 30s 297ms/step - loss: 1.5739 - val_loss: 1.6976\n",
      "Epoch 17/35\n",
      " 35/100 [=========>....................] - ETA: 1:46 - loss: 1.5787"
     ]
    }
   ],
   "source": [
    "model.fit([encoder_input_data, decoder_input_data], decoder_target_data,\n",
    "          batch_size=batch_size,\n",
    "          epochs=epochs,\n",
    "          validation_split=0.2)"
   ]
  },
  {
   "cell_type": "code",
   "execution_count": null,
   "id": "ab191897",
   "metadata": {},
   "outputs": [],
   "source": []
  }
 ],
 "metadata": {
  "kernelspec": {
   "display_name": "Python 3 (ipykernel)",
   "language": "python",
   "name": "python3"
  },
  "language_info": {
   "codemirror_mode": {
    "name": "ipython",
    "version": 3
   },
   "file_extension": ".py",
   "mimetype": "text/x-python",
   "name": "python",
   "nbconvert_exporter": "python",
   "pygments_lexer": "ipython3",
   "version": "3.7.16"
  }
 },
 "nbformat": 4,
 "nbformat_minor": 5
}
